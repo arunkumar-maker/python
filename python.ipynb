{
 "cells": [
  {
   "cell_type": "code",
   "execution_count": 37,
   "id": "1191ac2e-84f0-4740-98d1-87445ca693e9",
   "metadata": {},
   "outputs": [
    {
     "name": "stdout",
     "output_type": "stream",
     "text": [
      "Hello world\n"
     ]
    }
   ],
   "source": [
    "print (\"Hello world\")\n",
    "\n",
    "#print statement automatically appends a new line, so explicitly no need to give a new line character in python.\n",
    "# If you are using ubuntu to program the python programs, then we need to use $python3 file_name.py to compile the file and see the output."
   ]
  },
  {
   "cell_type": "code",
   "execution_count": 38,
   "id": "ef1c22c0-8674-48c0-a9e5-057a2c29cd64",
   "metadata": {},
   "outputs": [
    {
     "name": "stdout",
     "output_type": "stream",
     "text": [
      "100\n"
     ]
    }
   ],
   "source": [
    "x = 100\n",
    "print(x)"
   ]
  },
  {
   "cell_type": "code",
   "execution_count": 39,
   "id": "78c3647d-52f9-4517-85b7-43e923417871",
   "metadata": {},
   "outputs": [
    {
     "name": "stdout",
     "output_type": "stream",
     "text": [
      "110\n"
     ]
    }
   ],
   "source": [
    "y = 10\n",
    "print(x+y)"
   ]
  },
  {
   "cell_type": "code",
   "execution_count": 40,
   "id": "82c38673-417d-4c9c-962a-8fcd2f9a8528",
   "metadata": {},
   "outputs": [
    {
     "name": "stdout",
     "output_type": "stream",
     "text": [
      "<class 'int'>\n",
      "<class 'float'>\n",
      "<class 'str'>\n",
      "<class 'str'>\n",
      "<class 'float'>\n",
      "<class 'str'>\n"
     ]
    }
   ],
   "source": [
    "# type of a variable\n",
    "\n",
    "x = 20\n",
    "print(type(x))\n",
    "\n",
    "y = 2.3\n",
    "print(type(y))\n",
    "\n",
    "z = \"Hello\"\n",
    "print(type(z))\n",
    "\n",
    "w = 'hello'\n",
    "print(type(w))\n",
    "\n",
    "q = 1E10\n",
    "print(type(q))\n",
    "\n",
    "p = 'a'\n",
    "print(type(p))\n",
    "\n",
    "# In python, everything is considered as an object, so only we are seeing class for every type. \n",
    "# Eg: x is a class of integer \n",
    "# ..."
   ]
  },
  {
   "cell_type": "code",
   "execution_count": 41,
   "id": "7cfa87ee-9ba8-43e7-939c-18a257207702",
   "metadata": {},
   "outputs": [
    {
     "name": "stdout",
     "output_type": "stream",
     "text": [
      "Hallo leute \n",
      "Hallo Leute,   Wie gehts dir?\n",
      "Mir-Gehts-es-gut\n"
     ]
    }
   ],
   "source": [
    "print(\"Hallo leute \")\n",
    "\n",
    "print(\"Hallo Leute, \", end = \"  \")\n",
    "print(\"Wie gehts dir?\")\n",
    "\n",
    "print(\"Mir\", \"Gehts\", \"es\", \"gut\", sep = \"-\")\n",
    "\n",
    "# In python, by default the print statement will go to next line, to avoud it, we can use end = \" \" to keep the control to stay in the same line."
   ]
  },
  {
   "cell_type": "code",
   "execution_count": 42,
   "id": "9f6cacb4-7e6b-44ef-9574-2d813bf30a86",
   "metadata": {},
   "outputs": [
    {
     "name": "stdin",
     "output_type": "stream",
     "text": [
      "Ore number mattum enter pannu, please:  5\n",
      "Seri, innoru number enter pannu, avlodha:  6\n"
     ]
    },
    {
     "name": "stdout",
     "output_type": "stream",
     "text": [
      "\n",
      "OK pa, unakaaga naa rendium add panre: \n",
      "Addition 5 + 6  =  11\n",
      "Ok sure, sir like that only I have added\n"
     ]
    }
   ],
   "source": [
    "m = int(input(\"Ore number mattum enter pannu, please: \"))\n",
    "n = int(input(\"Seri, innoru number enter pannu, avlodha: \"))\n",
    "\n",
    "print()\n",
    "print(\"OK pa, unakaaga naa rendium add panre: \")\n",
    "\n",
    "print(f\"Addition {m} + {n}  = \",m+n)\n",
    "print(\"Ok sure, sir like that only I have added\")"
   ]
  },
  {
   "cell_type": "markdown",
   "id": "96f44b62-7e89-46b0-ad56-0ab17aefe10e",
   "metadata": {},
   "source": [
    "#### name = input(\"Un peru sollu pa: \")\n",
    "print(f\"Un peru:{name} \")\n",
    "\n",
    "age = input(\"vayasu: \")\n",
    "print(f\"Vayasu: {age}\")\n",
    "\n",
    "print(\"Sorry, eppo purandha: \")\n",
    "date = input()\n",
    "print(f\"Date = {date}\")"
   ]
  },
  {
   "cell_type": "code",
   "execution_count": 44,
   "id": "52c26984-c7fc-4907-811b-0ab18e34a48e",
   "metadata": {},
   "outputs": [
    {
     "name": "stdout",
     "output_type": "stream",
     "text": [
      "10 20 30\n"
     ]
    }
   ],
   "source": [
    "x = 10\n",
    "y = 20\n",
    "z = 30\n",
    "print(x,y,z)"
   ]
  },
  {
   "cell_type": "code",
   "execution_count": 45,
   "id": "f152b420-1aef-40e5-9ea8-2b2b1509b92c",
   "metadata": {},
   "outputs": [
    {
     "name": "stdout",
     "output_type": "stream",
     "text": [
      "Hello World \n"
     ]
    }
   ],
   "source": [
    "print(\"Hello \" + \"World \")"
   ]
  },
  {
   "cell_type": "code",
   "execution_count": 46,
   "id": "0d10053b-36f8-4c6c-8052-319c395669e8",
   "metadata": {},
   "outputs": [
    {
     "name": "stdout",
     "output_type": "stream",
     "text": [
      "Hello Arun Kumar\n"
     ]
    }
   ],
   "source": [
    "name = \"Arun Kumar\"\n",
    "print(\"Hello \" + name)"
   ]
  },
  {
   "cell_type": "markdown",
   "id": "12f865c5-05eb-45a1-b7ed-19c10d2ec41a",
   "metadata": {},
   "source": [
    "### Follow the same logic that we have used in C programming to print patterns."
   ]
  },
  {
   "cell_type": "code",
   "execution_count": 47,
   "id": "ba719c12-25cf-4a63-8df7-15b0effd82ef",
   "metadata": {},
   "outputs": [
    {
     "name": "stdin",
     "output_type": "stream",
     "text": [
      "Enter a number:  5\n"
     ]
    },
    {
     "name": "stdout",
     "output_type": "stream",
     "text": [
      "*  \n",
      "*  *  \n",
      "*  *  *  \n",
      "*  *  *  *  \n",
      "*  *  *  *  *  \n"
     ]
    }
   ],
   "source": [
    "\n",
    "n = int(input(\"Enter a number: \"))\n",
    "for i in range(1,n+1):\n",
    "    for j in range(1,i+1):\n",
    "        print(\"* \", end = \" \")\n",
    "    print()"
   ]
  },
  {
   "cell_type": "code",
   "execution_count": 48,
   "id": "ee27604a-8126-4abe-ad48-c75f924ede80",
   "metadata": {},
   "outputs": [
    {
     "name": "stdin",
     "output_type": "stream",
     "text": [
      "Enter the value of n:  7\n"
     ]
    },
    {
     "name": "stdout",
     "output_type": "stream",
     "text": [
      "*  *  *  *  *  *  *  \n",
      "*  *  *  *  *  *  \n",
      "*  *  *  *  *  \n",
      "*  *  *  *  \n",
      "*  *  *  \n",
      "*  *  \n",
      "*  \n"
     ]
    }
   ],
   "source": [
    "n = int(input(\"Enter the value of n: \"))\n",
    "for i in range(1,n+1):\n",
    "    for j in range(i,n+1):\n",
    "        print(\"* \", end = \" \")\n",
    "    print()"
   ]
  },
  {
   "cell_type": "code",
   "execution_count": 49,
   "id": "697ee6ec-910a-486f-93c1-e38b596e34b2",
   "metadata": {},
   "outputs": [
    {
     "name": "stdin",
     "output_type": "stream",
     "text": [
      "Enter the value of n:  5\n"
     ]
    },
    {
     "name": "stdout",
     "output_type": "stream",
     "text": [
      "*                          *  \n",
      "*  *                    *  *  \n",
      "*  *  *              *  *  *  \n",
      "*  *  *  *        *  *  *  *  \n",
      "*  *  *  *  *  *  *  *  *  *  \n"
     ]
    }
   ],
   "source": [
    "n = int(input(\"Enter the value of n: \"))\n",
    "for i in range(1,n+1):\n",
    "    for j in range(1,i+1):\n",
    "        print(\"* \", end = \" \")\n",
    "    for j in range(i,n):\n",
    "        print(\"  \", end = \" \")\n",
    "    for j in range(i,n):\n",
    "        print(\"  \", end = \" \")\n",
    "    for j in range(1,i+1):\n",
    "        print(\"* \", end = \" \")\n",
    "    print()"
   ]
  },
  {
   "cell_type": "code",
   "execution_count": 50,
   "id": "d47e8af9-a8f7-4854-a841-0d10a9a5c005",
   "metadata": {},
   "outputs": [
    {
     "name": "stdout",
     "output_type": "stream",
     "text": [
      "Hello \n",
      "World\n",
      "Hello --World\n",
      "Hello ++World\n",
      "Hello \\\\\\\\World\n"
     ]
    }
   ],
   "source": [
    "print(\"Hello \", \"World\", sep = \"\\n\")\n",
    "\n",
    "print(\"Hello \", \"World\", sep = \"--\")\n",
    "\n",
    "print(\"Hello \", \"World\", sep = \"++\")\n",
    "\n",
    "print(\"Hello \", \"World\", sep = \"\\\\\\\\\\\\\\\\\")"
   ]
  },
  {
   "cell_type": "code",
   "execution_count": 51,
   "id": "7a5e4087-a2e6-491d-8e9b-f3177d8b50d5",
   "metadata": {},
   "outputs": [
    {
     "name": "stdout",
     "output_type": "stream",
     "text": [
      "My name is Arun Kumar and I am 22 years old\n"
     ]
    }
   ],
   "source": [
    "name = \"Arun Kumar\"\n",
    "age = 22\n",
    "\n",
    "print(f\"My name is {name} and I am {age} years old\")"
   ]
  },
  {
   "cell_type": "code",
   "execution_count": 52,
   "id": "4ca98a58-42a4-4256-b34c-d21538daef8f",
   "metadata": {},
   "outputs": [
    {
     "name": "stdout",
     "output_type": "stream",
     "text": [
      "10 + 20 = 30\n",
      "\n",
      "10 + 20 = 30\n"
     ]
    }
   ],
   "source": [
    "x = 10\n",
    "y = 20\n",
    "\n",
    "z = x + y\n",
    "\n",
    "print(\"{} + {} = {}\".format(x,y,x+y))\n",
    "print()\n",
    "print(\"%d + %d = %d\"%(x,y,x+y))"
   ]
  },
  {
   "cell_type": "code",
   "execution_count": 53,
   "id": "1ee03d5e-4804-4ae2-a513-6d30b118bdd0",
   "metadata": {},
   "outputs": [
    {
     "name": "stdin",
     "output_type": "stream",
     "text": [
      "Enter a number 1 :  5\n",
      "Enter a number 2 :  6\n"
     ]
    },
    {
     "name": "stdout",
     "output_type": "stream",
     "text": [
      "Numbers before swapping: 5 , 6\n",
      "Numbers after swapping: 6, 5\n"
     ]
    }
   ],
   "source": [
    "m = int(input(\"Enter a number 1 : \"))\n",
    "n = int(input(\"Enter a number 2 : \"))\n",
    "\n",
    "print(f\"Numbers before swapping: {m} , {n}\")\n",
    "\n",
    "m,n = n,m\n",
    "\n",
    "print(f\"Numbers after swapping: {m}, {n}\")"
   ]
  },
  {
   "cell_type": "code",
   "execution_count": 54,
   "id": "eaf2a01a-3352-4c51-b95a-e633b42d266f",
   "metadata": {},
   "outputs": [
    {
     "name": "stdout",
     "output_type": "stream",
     "text": [
      "Address of 10 is 140732691084360\n"
     ]
    }
   ],
   "source": [
    "# Get the address of the variable\n",
    "\n",
    "x = 10\n",
    "print(f\"Address of {x} is {id(x)}\")\n",
    "\n",
    "# id(), this function will give the address of the variable mentioned in that function."
   ]
  },
  {
   "cell_type": "markdown",
   "id": "4b73b167-6470-46ab-b207-b7a591f85308",
   "metadata": {},
   "source": [
    "# Data Structures\n",
    "## Mutable (can change)\n",
    "### 1. List\n",
    "### 2. Dictionary\n",
    "\n",
    "## Immutable (Cannot change)\n",
    "### 1. String\n",
    "### 2. Tuple"
   ]
  },
  {
   "cell_type": "code",
   "execution_count": 55,
   "id": "4270e9ac-5a98-46c7-a248-7bd524daf509",
   "metadata": {},
   "outputs": [
    {
     "name": "stdout",
     "output_type": "stream",
     "text": [
      "hi\n"
     ]
    }
   ],
   "source": [
    "print(\"hi\")"
   ]
  },
  {
   "cell_type": "code",
   "execution_count": 56,
   "id": "41575f32-02e6-41b7-80f4-ea4cfe3766c0",
   "metadata": {},
   "outputs": [
    {
     "name": "stdout",
     "output_type": "stream",
     "text": [
      "1 2 3\n"
     ]
    }
   ],
   "source": [
    "# In python we can do multiple variable initialization.\n",
    "x,y,z = 1,2,3\n",
    "\n",
    "print(x,y,z)"
   ]
  },
  {
   "cell_type": "code",
   "execution_count": 57,
   "id": "1fcf2ab6-15be-464d-8509-24422276d480",
   "metadata": {},
   "outputs": [
    {
     "ename": "ValueError",
     "evalue": "too many values to unpack (expected 2)",
     "output_type": "error",
     "traceback": [
      "\u001b[1;31m---------------------------------------------------------------------------\u001b[0m",
      "\u001b[1;31mValueError\u001b[0m                                Traceback (most recent call last)",
      "Cell \u001b[1;32mIn[57], line 3\u001b[0m\n\u001b[0;32m      1\u001b[0m \u001b[38;5;66;03m# When we have more values on the right side and less variables on the left side to hold, it will throw an error\u001b[39;00m\n\u001b[1;32m----> 3\u001b[0m a,b \u001b[38;5;241m=\u001b[39m \u001b[38;5;241m1\u001b[39m,\u001b[38;5;241m2\u001b[39m,\u001b[38;5;241m3\u001b[39m\n",
      "\u001b[1;31mValueError\u001b[0m: too many values to unpack (expected 2)"
     ]
    }
   ],
   "source": [
    "# When we have more values on the right side and less variables on the left side to hold, it will throw an error\n",
    "\n",
    "a,b = 1,2,3"
   ]
  },
  {
   "cell_type": "code",
   "execution_count": 58,
   "id": "e35bbcef-5615-4387-844b-eea9fa4949f4",
   "metadata": {},
   "outputs": [
    {
     "name": "stdout",
     "output_type": "stream",
     "text": [
      "1 2 3\n"
     ]
    }
   ],
   "source": [
    "# To avoid the above scenario, we have to use underscore (\"_\").\n",
    "# This underscore will act as a placeholder\n",
    "\n",
    "a,b,_ = 1,2,3\n",
    "print(a,b,_)"
   ]
  },
  {
   "cell_type": "code",
   "execution_count": 59,
   "id": "3cb544f1-0add-4bc3-9a99-26ff7c857fe4",
   "metadata": {},
   "outputs": [
    {
     "name": "stdout",
     "output_type": "stream",
     "text": [
      "List of keywords are :  ['False', 'None', 'True', 'and', 'as', 'assert', 'async', 'await', 'break', 'class', 'continue', 'def', 'del', 'elif', 'else', 'except', 'finally', 'for', 'from', 'global', 'if', 'import', 'in', 'is', 'lambda', 'nonlocal', 'not', 'or', 'pass', 'raise', 'return', 'try', 'while', 'with', 'yield']\n"
     ]
    }
   ],
   "source": [
    "# To see the list of keywords\n",
    "\n",
    "import keyword\n",
    "print(\"List of keywords are : \",keyword.kwlist)"
   ]
  },
  {
   "cell_type": "code",
   "execution_count": 60,
   "id": "bf1a17ce-ef90-4158-a5f7-3abba265c6e2",
   "metadata": {},
   "outputs": [
    {
     "name": "stdout",
     "output_type": "stream",
     "text": [
      "100 100 100\n"
     ]
    }
   ],
   "source": [
    "a=b=c=100\n",
    "print(a,b,c)"
   ]
  },
  {
   "cell_type": "markdown",
   "id": "4846e62d-83ea-428b-9e44-1b063f5be295",
   "metadata": {},
   "source": [
    "## Datatypes"
   ]
  },
  {
   "cell_type": "markdown",
   "id": "0e27ae47-0f44-4bfd-b637-56f9e04d9579",
   "metadata": {},
   "source": [
    "## Integers"
   ]
  },
  {
   "cell_type": "code",
   "execution_count": 61,
   "id": "96b54d96-1b29-450e-973d-c05dcc663429",
   "metadata": {},
   "outputs": [
    {
     "name": "stdout",
     "output_type": "stream",
     "text": [
      "<class 'int'>\n",
      "<class 'float'>\n",
      "(3+5j)\n",
      "<class 'complex'>\n"
     ]
    }
   ],
   "source": [
    "\n",
    "\n",
    "x = 10\n",
    "print(type(x))\n",
    "\n",
    "# In python, there is no concept of double. Irrespective of precession, it is considered as a float.\n",
    "y = 10.5\n",
    "print(type(y))\n",
    "\n",
    "z = complex(3,5)\n",
    "print(z)\n",
    "print(type(z))\n",
    "\n",
    "# Here we don't say signed and unsigned"
   ]
  },
  {
   "cell_type": "markdown",
   "id": "782a27e2-8526-4997-bca1-f47508736106",
   "metadata": {},
   "source": [
    "## Strings"
   ]
  },
  {
   "cell_type": "code",
   "execution_count": 121,
   "id": "5d412350-f9db-4471-9ba7-99b31a2802ac",
   "metadata": {},
   "outputs": [
    {
     "name": "stdout",
     "output_type": "stream",
     "text": [
      "<class 'str'>\n",
      "<class 'str'>\n",
      "<class 'str'>\n"
     ]
    }
   ],
   "source": [
    "\n",
    "\n",
    "# Here we donot have the concept of char. Everything is considered as a string.\n",
    "\n",
    "a = 'Arun'\n",
    "b = \"Arun\"\n",
    "c = '''Arun'''\n",
    "\n",
    "# All the above are considered as strings\n",
    "\n",
    "print(type(a), type(b), type(c), sep = \"\\n\")"
   ]
  },
  {
   "cell_type": "markdown",
   "id": "5ff0d020-b58e-4bcb-90c3-0c036e5b6eab",
   "metadata": {},
   "source": [
    "## Lists"
   ]
  },
  {
   "cell_type": "code",
   "execution_count": 122,
   "id": "03a94975-8883-40d9-b3c1-a01bb84e0f30",
   "metadata": {},
   "outputs": [
    {
     "name": "stdout",
     "output_type": "stream",
     "text": [
      "[1, 2, 3, 4]\n",
      "[1, 2, 'Hello', 12.44, (2+3j)]\n",
      "2026184318528\n",
      "1\n"
     ]
    }
   ],
   "source": [
    "\n",
    "\n",
    "# List is a collection of data and this should be enclosed in square brackets. []\n",
    "# This list can hold data of different datatypes unlike array in C.\n",
    "\n",
    "l1 = [1,2,3,4]\n",
    "print(l1)\n",
    "\n",
    "l2 = [1,2,\"Hello\", 12.44,2+3j]\n",
    "print(l2)\n",
    "\n",
    "# If we use id(<list_variable>) will give the base address of the list.\n",
    "print(id(l2))\n",
    "\n",
    "print(l1[0])"
   ]
  },
  {
   "cell_type": "code",
   "execution_count": 126,
   "id": "862ab7e7-3699-45ab-be75-8744827f6d23",
   "metadata": {},
   "outputs": [
    {
     "name": "stdout",
     "output_type": "stream",
     "text": [
      "[2, 3, 4, 5, 6, 7, 8, 9]\n"
     ]
    }
   ],
   "source": [
    "l1 = [1,2,3,4,5,6,7,8,9]\n",
    "print(l1[1:])"
   ]
  },
  {
   "cell_type": "code",
   "execution_count": 127,
   "id": "b0fcb274-521c-404c-9250-567f5e1cea20",
   "metadata": {},
   "outputs": [
    {
     "data": {
      "text/plain": [
       "[0, 2, 3, 4, 5, 6, 7, 8, 9]"
      ]
     },
     "execution_count": 127,
     "metadata": {},
     "output_type": "execute_result"
    }
   ],
   "source": [
    "l1[0] = 0 # changeble\n",
    "l1"
   ]
  },
  {
   "cell_type": "code",
   "execution_count": 65,
   "id": "5c0962bb-327d-4bcd-8865-3c9ec2d2ef91",
   "metadata": {},
   "outputs": [
    {
     "name": "stdout",
     "output_type": "stream",
     "text": [
      "9\n"
     ]
    }
   ],
   "source": [
    "print(l1[-1])"
   ]
  },
  {
   "cell_type": "code",
   "execution_count": 66,
   "id": "1ab73612-139c-41ab-95dd-00767462dbb7",
   "metadata": {},
   "outputs": [
    {
     "name": "stdout",
     "output_type": "stream",
     "text": [
      "[5, 6, 7, 8, 9]\n"
     ]
    }
   ],
   "source": [
    "print(l1[4:15])"
   ]
  },
  {
   "cell_type": "code",
   "execution_count": 67,
   "id": "8af17187-1472-4a54-a749-b8b668e7d517",
   "metadata": {},
   "outputs": [
    {
     "name": "stdout",
     "output_type": "stream",
     "text": [
      "[8, 9]\n"
     ]
    }
   ],
   "source": [
    "print(l1[-2:]) # it is printing from -2 till the end."
   ]
  },
  {
   "cell_type": "code",
   "execution_count": 68,
   "id": "162c72f7-3ba1-46bb-8ee7-a1b27686cd55",
   "metadata": {},
   "outputs": [
    {
     "name": "stdout",
     "output_type": "stream",
     "text": [
      "[5, 6, 7, 8]\n"
     ]
    },
    {
     "data": {
      "text/plain": [
       "'\\nIf we try giving -1:-5 then this is not possible, it seems like we are telling the control to move from right (from -1)to left (to -5), \\nthis is not allowed.\\n\\n'"
      ]
     },
     "execution_count": 68,
     "metadata": {},
     "output_type": "execute_result"
    }
   ],
   "source": [
    "print(l1[-5:-1]) # The control always move from left to right so we are getting 5,6,7,8 for this input.\n",
    "'''\n",
    "If we try giving -1:-5 then this is not possible, it seems like we are telling the control to move from right (from -1)to left (to -5), \n",
    "this is not allowed.\n",
    "\n",
    "'''"
   ]
  },
  {
   "cell_type": "code",
   "execution_count": 109,
   "id": "2bfda98e-ae96-436f-a4d4-aec5c90987f7",
   "metadata": {},
   "outputs": [
    {
     "data": {
      "text/plain": [
       "[[1, 2, 3, 4, 5], ['Arun', 9.3, 'Kumar', 23]]"
      ]
     },
     "execution_count": 109,
     "metadata": {},
     "output_type": "execute_result"
    }
   ],
   "source": [
    "p1 = [1,2,3,4,5]\n",
    "p2 = [\"Arun\",9.3,\"Kumar\", 23]\n",
    "p3 = [p1,p2]\n",
    "p3"
   ]
  },
  {
   "cell_type": "code",
   "execution_count": 70,
   "id": "8847870a-2b3f-4108-8658-14f3d080366c",
   "metadata": {},
   "outputs": [
    {
     "data": {
      "text/plain": [
       "[1, 2, 3, 4, 5]"
      ]
     },
     "execution_count": 70,
     "metadata": {},
     "output_type": "execute_result"
    }
   ],
   "source": [
    "p3[0]"
   ]
  },
  {
   "cell_type": "code",
   "execution_count": 71,
   "id": "afbc27e0-b92d-4983-b609-cbb69fbca3c9",
   "metadata": {},
   "outputs": [
    {
     "data": {
      "text/plain": [
       "5"
      ]
     },
     "execution_count": 71,
     "metadata": {},
     "output_type": "execute_result"
    }
   ],
   "source": [
    "p3[0][4]"
   ]
  },
  {
   "cell_type": "code",
   "execution_count": 72,
   "id": "981e3231-534a-4ae2-bfcd-2d813f47eb2e",
   "metadata": {},
   "outputs": [
    {
     "data": {
      "text/plain": [
       "'Kumar'"
      ]
     },
     "execution_count": 72,
     "metadata": {},
     "output_type": "execute_result"
    }
   ],
   "source": [
    "p3[1][2]"
   ]
  },
  {
   "cell_type": "code",
   "execution_count": 106,
   "id": "c4a5633c-bcec-4094-a378-1e16c0280fb8",
   "metadata": {},
   "outputs": [
    {
     "data": {
      "text/plain": [
       "[1, 2, 3, 4, 5, 15, 15]"
      ]
     },
     "execution_count": 106,
     "metadata": {},
     "output_type": "execute_result"
    }
   ],
   "source": [
    "# Every time when we use these functions, we need to provide the data not the index. \n",
    "# Only for the insert, we do give the index to tell the control to insert that data \n",
    "# in that particular location only.\n",
    "\n",
    "p1.append(15)\n",
    "p1"
   ]
  },
  {
   "cell_type": "code",
   "execution_count": 74,
   "id": "35bde4b8-e77e-43f4-93fc-6ca04075e5a4",
   "metadata": {},
   "outputs": [
    {
     "data": {
      "text/plain": [
       "['Arun', 9.3, 'Kumar', 23]"
      ]
     },
     "execution_count": 74,
     "metadata": {},
     "output_type": "execute_result"
    }
   ],
   "source": [
    "p2"
   ]
  },
  {
   "cell_type": "code",
   "execution_count": 75,
   "id": "66c975de-1d2d-4bbd-92ce-14cad4667192",
   "metadata": {},
   "outputs": [
    {
     "data": {
      "text/plain": [
       "['Arun', 9.3, 'Hello', 'Kumar', 23]"
      ]
     },
     "execution_count": 75,
     "metadata": {},
     "output_type": "execute_result"
    }
   ],
   "source": [
    "p2.insert(2,\"Hello\")\n",
    "p2"
   ]
  },
  {
   "cell_type": "code",
   "execution_count": 104,
   "id": "6f71ea15-8888-44ad-8488-9f82c013484f",
   "metadata": {},
   "outputs": [
    {
     "data": {
      "text/plain": [
       "['Arun', 9.3, 'Hello', 'Kumar', 23]"
      ]
     },
     "execution_count": 104,
     "metadata": {},
     "output_type": "execute_result"
    }
   ],
   "source": [
    "p2.insert(0,\"Arun\")\n",
    "p2"
   ]
  },
  {
   "cell_type": "code",
   "execution_count": 105,
   "id": "1e8086e5-3d5c-4fe3-981b-08641de79fa8",
   "metadata": {},
   "outputs": [
    {
     "data": {
      "text/plain": [
       "[9.3, 'Hello', 'Kumar', 23]"
      ]
     },
     "execution_count": 105,
     "metadata": {},
     "output_type": "execute_result"
    }
   ],
   "source": [
    "# If you want to remove anything using data, use remove function\n",
    "p2.remove(\"Arun\")\n",
    "p2"
   ]
  },
  {
   "cell_type": "code",
   "execution_count": 110,
   "id": "b7b0fa3e-de9b-4d21-9c1d-ce31a22fff0c",
   "metadata": {},
   "outputs": [
    {
     "data": {
      "text/plain": [
       "23"
      ]
     },
     "execution_count": 110,
     "metadata": {},
     "output_type": "execute_result"
    }
   ],
   "source": [
    "# To remove something using the index, then use pop function.\n",
    "\n",
    "p2.pop(2)\n",
    "p2\n",
    "\n",
    "# when you don't mention the index in pop function, it will remove the last element.\n",
    "p2.pop()"
   ]
  },
  {
   "cell_type": "code",
   "execution_count": 111,
   "id": "19534e4a-cd18-4960-aab7-f703c8c10ea6",
   "metadata": {},
   "outputs": [
    {
     "data": {
      "text/plain": [
       "[1, 2, 3, 'Hello', 'People', 'Arun', 6.43]"
      ]
     },
     "execution_count": 111,
     "metadata": {},
     "output_type": "execute_result"
    }
   ],
   "source": [
    "h1 = [1,2,3,\"Hello\",\"People\",\"Arun\",6.43]\n",
    "h1"
   ]
  },
  {
   "cell_type": "code",
   "execution_count": 112,
   "id": "acdc7429-f16e-4bc9-b8e5-1fe46acb6525",
   "metadata": {},
   "outputs": [
    {
     "data": {
      "text/plain": [
       "[1, 2, 3, 'Hello', 6.43]"
      ]
     },
     "execution_count": 112,
     "metadata": {},
     "output_type": "execute_result"
    }
   ],
   "source": [
    "# to delete the elements, we have to specify the range\n",
    "del h1[4:6] # in python, we always don't consider the upper bound.\n",
    "h1"
   ]
  },
  {
   "cell_type": "code",
   "execution_count": 113,
   "id": "f25ea4cf-2bfd-4fd8-b060-99ade8f50c9c",
   "metadata": {},
   "outputs": [],
   "source": [
    "'''\n",
    "If you want to add a single element, we use append and it adds that element at the end\n",
    "if you use insert, we can insert at a particular location only, but we can add only one element\n",
    "if we want to add multiple elements, then use extend function as shown below.\n",
    "'''\n",
    "\n",
    "h1.extend([\"Hyd\",\"Banglore\",234,324.345])"
   ]
  },
  {
   "cell_type": "code",
   "execution_count": 114,
   "id": "bac5c228-3b54-4046-afa8-dced9075e795",
   "metadata": {},
   "outputs": [
    {
     "data": {
      "text/plain": [
       "[1, 2, 3, 'Hello', 6.43, 'Hyd', 'Banglore', 234, 324.345]"
      ]
     },
     "execution_count": 114,
     "metadata": {},
     "output_type": "execute_result"
    }
   ],
   "source": [
    "h1"
   ]
  },
  {
   "cell_type": "code",
   "execution_count": 119,
   "id": "f1d815cf-83b4-47e6-a840-d392093d4171",
   "metadata": {},
   "outputs": [
    {
     "name": "stdout",
     "output_type": "stream",
     "text": [
      "75\n",
      "2\n",
      "114\n"
     ]
    },
    {
     "data": {
      "text/plain": [
       "[2, 3, 4, 4, 4, 6, 7, 9, 75]"
      ]
     },
     "execution_count": 119,
     "metadata": {},
     "output_type": "execute_result"
    }
   ],
   "source": [
    "# few mathematic shortcuts\n",
    "d1 = [9,3,4,2,4,6,7,75,4]\n",
    "print(max(d1))\n",
    "print(min(d1))\n",
    "print(sum(d1))\n",
    "d1.sort()\n",
    "d1"
   ]
  },
  {
   "cell_type": "markdown",
   "id": "4b8dcf6d-89ac-4714-b9b3-318dd041b53a",
   "metadata": {},
   "source": [
    "## Tuple"
   ]
  },
  {
   "cell_type": "code",
   "execution_count": 76,
   "id": "078528a5-aec8-40ed-a2d5-d57646b147af",
   "metadata": {},
   "outputs": [
    {
     "data": {
      "text/plain": [
       "(1, 2, 3, 4)"
      ]
     },
     "execution_count": 76,
     "metadata": {},
     "output_type": "execute_result"
    }
   ],
   "source": [
    "# This tuple is almost all same like list, but it is not changeble once we make a tuple.\n",
    "# This should be represented in round brackets()\n",
    "# We cannot change the values in the tuple.\n",
    "\n",
    "# we have to use this tuple, when we have a list and we don't want to change the elements in that\n",
    "# list, then we can go for the tuple, as the rest of the features are same as list.\n",
    "\n",
    "# Iterations in the tuple are faster compared to list as it does not allow us to modify.\n",
    "t1 = (1,2,3,4)\n",
    "t1"
   ]
  },
  {
   "cell_type": "code",
   "execution_count": 77,
   "id": "2f9c1c3b-ea0b-43bf-9d35-984cc327579d",
   "metadata": {},
   "outputs": [
    {
     "ename": "TypeError",
     "evalue": "'tuple' object does not support item assignment",
     "output_type": "error",
     "traceback": [
      "\u001b[1;31m---------------------------------------------------------------------------\u001b[0m",
      "\u001b[1;31mTypeError\u001b[0m                                 Traceback (most recent call last)",
      "Cell \u001b[1;32mIn[77], line 1\u001b[0m\n\u001b[1;32m----> 1\u001b[0m \u001b[43mt1\u001b[49m\u001b[43m[\u001b[49m\u001b[38;5;241;43m0\u001b[39;49m\u001b[43m]\u001b[49m \u001b[38;5;241m=\u001b[39m \u001b[38;5;241m6\u001b[39m \u001b[38;5;66;03m# not changeble\u001b[39;00m\n\u001b[0;32m      2\u001b[0m t1 \n",
      "\u001b[1;31mTypeError\u001b[0m: 'tuple' object does not support item assignment"
     ]
    }
   ],
   "source": [
    "t1[0] = 6 # not changeble\n",
    "t1 "
   ]
  },
  {
   "cell_type": "code",
   "execution_count": 78,
   "id": "b19940b0-efb7-4dd9-983e-e26aedb5271d",
   "metadata": {},
   "outputs": [
    {
     "data": {
      "text/plain": [
       "3"
      ]
     },
     "execution_count": 78,
     "metadata": {},
     "output_type": "execute_result"
    }
   ],
   "source": [
    "t1[2] # we can access the tuple, but cannot change it.\n"
   ]
  },
  {
   "cell_type": "code",
   "execution_count": 124,
   "id": "d197801a-8874-4be0-8c39-f9babe8506b4",
   "metadata": {},
   "outputs": [
    {
     "data": {
      "text/plain": [
       "(1, 2.5, 'Arun', (2+7j))"
      ]
     },
     "execution_count": 124,
     "metadata": {},
     "output_type": "execute_result"
    }
   ],
   "source": [
    "t2 = (1,2.5, \"Arun\", 2+7j)\n",
    "t2"
   ]
  },
  {
   "cell_type": "code",
   "execution_count": 130,
   "id": "81010970-0e92-4d9a-a10c-e31ddb7a61a9",
   "metadata": {},
   "outputs": [
    {
     "data": {
      "text/plain": [
       "(1, 2, 3, 'Arun', 4.435, 4435)"
      ]
     },
     "execution_count": 130,
     "metadata": {},
     "output_type": "execute_result"
    }
   ],
   "source": [
    "tup = (1,2,3,\"Arun\",4.435,4435)\n",
    "tup"
   ]
  },
  {
   "cell_type": "code",
   "execution_count": 136,
   "id": "fd106332-3880-4a09-9a98-3cbcc9515b6b",
   "metadata": {},
   "outputs": [
    {
     "data": {
      "text/plain": [
       "3"
      ]
     },
     "execution_count": 136,
     "metadata": {},
     "output_type": "execute_result"
    }
   ],
   "source": [
    "tup.index(\"Arun\") # Just gives the index"
   ]
  },
  {
   "cell_type": "code",
   "execution_count": 135,
   "id": "e9419c6c-aff6-4bce-8c6c-a8187432f831",
   "metadata": {},
   "outputs": [
    {
     "data": {
      "text/plain": [
       "1"
      ]
     },
     "execution_count": 135,
     "metadata": {},
     "output_type": "execute_result"
    }
   ],
   "source": [
    "tup.count(3) # it will give the count of the element present in that tuple."
   ]
  },
  {
   "cell_type": "markdown",
   "id": "0cfd1c9e-dd04-4a8d-9916-11ad746a4cf5",
   "metadata": {},
   "source": [
    "## Set"
   ]
  },
  {
   "cell_type": "code",
   "execution_count": 137,
   "id": "2237c236-ac68-48b5-b3ac-7ea5c6c3986f",
   "metadata": {},
   "outputs": [
    {
     "data": {
      "text/plain": [
       "{1, 2, 3, 4, 5, 6, 7, 8}"
      ]
     },
     "execution_count": 137,
     "metadata": {},
     "output_type": "execute_result"
    }
   ],
   "source": [
    "# Set is a collection of unique elements. It does not allow duplicates.\n",
    "# It is represented using flower brackets {}\n",
    "# Set never follows a sequence.\n",
    "# Indexing is not allowed as it doesn't follows a sequence.\n",
    "# we can add and remove the elements in the set.\n",
    "\n",
    "s = {1,2,2,3,4,5,6,4,5,5,7,8,7}\n",
    "s"
   ]
  },
  {
   "cell_type": "code",
   "execution_count": 10,
   "id": "b4fbbd58-1906-411e-86c3-1a20f1ffc325",
   "metadata": {},
   "outputs": [
    {
     "ename": "NameError",
     "evalue": "name 's' is not defined",
     "output_type": "error",
     "traceback": [
      "\u001b[1;31m---------------------------------------------------------------------------\u001b[0m",
      "\u001b[1;31mNameError\u001b[0m                                 Traceback (most recent call last)",
      "Cell \u001b[1;32mIn[10], line 1\u001b[0m\n\u001b[1;32m----> 1\u001b[0m \u001b[43ms\u001b[49m[\u001b[38;5;241m2\u001b[39m] \u001b[38;5;66;03m# We cannot access elements in set as they do not have indexing.\u001b[39;00m\n",
      "\u001b[1;31mNameError\u001b[0m: name 's' is not defined"
     ]
    }
   ],
   "source": [
    "s[2] # We cannot access elements in set as they do not have indexing."
   ]
  },
  {
   "cell_type": "code",
   "execution_count": 139,
   "id": "0899fff3-a0ca-4c0b-83c3-a850700350a6",
   "metadata": {},
   "outputs": [
    {
     "name": "stdout",
     "output_type": "stream",
     "text": [
      "Union : {0, 1, 2, 3, 4, 5, 6, 8}\n",
      "Intersection : {2, 4}\n",
      "Difference : {0, 8, 6}\n",
      "Symmetric difference : {0, 1, 3, 5, 6, 8}\n"
     ]
    }
   ],
   "source": [
    "# Program to perform different set operations \n",
    "# as we do in mathematics \n",
    "\n",
    "# sets are define \n",
    "A = {0, 2, 4, 6, 8}; \n",
    "B = {1, 2, 3, 4, 5}; \n",
    "\n",
    "# union \n",
    "print(\"Union :\", A | B) \n",
    "\n",
    "# intersection \n",
    "print(\"Intersection :\", A & B) \n",
    "\n",
    "# difference \n",
    "print(\"Difference :\", A - B) \n",
    "\n",
    "# symmetric difference : It excludes the common elements and print rest of the elements.\n",
    "# A ^ B = (A u B) - (A n B)\n",
    "print(\"Symmetric difference :\", A ^ B) \n"
   ]
  },
  {
   "cell_type": "code",
   "execution_count": 31,
   "id": "3b24cced-dba8-4479-9297-84d7c102ee65",
   "metadata": {},
   "outputs": [
    {
     "name": "stdout",
     "output_type": "stream",
     "text": [
      "Set after adding: {'f', 's', 'k', 'e', 'g'}\n",
      "\n",
      "Set after discarding: {'f', 's', 'k', 'e'}\n",
      "\n",
      "Set after removing: {'f', 's', 'k'}\n",
      "\n",
      "Popped element f\n",
      "Set after popping the element: {'s', 'k'}\n",
      "\n",
      "Set after clearing: set()\n"
     ]
    }
   ],
   "source": [
    "# set of letters\n",
    "s = {'g', 'e', 'k', 's'}\n",
    "\n",
    "# adding 's'\n",
    "s.add('f')\n",
    "print('Set after adding:', s)\n",
    "\n",
    "# Discarding element from the set\n",
    "# The discard method is lenient and quietly ignores the operation if the element does not exist.\n",
    "s.discard('g')\n",
    "print('\\nSet after discarding:', s)\n",
    "\n",
    "# Removing element from the set\n",
    "# The remove method is strict and expects the element to exist in the set; otherwise, it raises an error.\n",
    "s.remove('e')\n",
    "print('\\nSet after removing:', s)\n",
    "\n",
    "# Popping elements from the set\n",
    "# pop method removes the random element in the set.\n",
    "print('\\nPopped element', s.pop())\n",
    "print('Set after popping the element:', s)\n",
    "\n",
    "s.clear()\n",
    "print('\\nSet after clearing:', s)\n"
   ]
  },
  {
   "cell_type": "code",
   "execution_count": 29,
   "id": "b72cb421-5ef1-4a4f-bb0e-84504c349e81",
   "metadata": {},
   "outputs": [
    {
     "name": "stdout",
     "output_type": "stream",
     "text": [
      "{'mango', 'apple', 'pineapple', 'cherry', 'banana', 'papaya'}\n"
     ]
    }
   ],
   "source": [
    "thisset = {\"apple\", \"banana\", \"cherry\"}\n",
    "tropical = {\"pineapple\", \"mango\", \"papaya\"}\n",
    "\n",
    "thisset.update(tropical) # this menthod just concatenate the two sets.\n",
    "\n",
    "print(thisset)\n"
   ]
  },
  {
   "cell_type": "code",
   "execution_count": 30,
   "id": "6cb555ac-46ff-4ecf-8516-5ffd357aad78",
   "metadata": {},
   "outputs": [
    {
     "name": "stdout",
     "output_type": "stream",
     "text": [
      "{'apple', 'kiwi', 'orange', 'banana', 'cherry'}\n"
     ]
    }
   ],
   "source": [
    "# The object in the update() method does not have to be a set, it can be any iterable object (tuples, lists, dictionaries etc.).\n",
    "\n",
    "thisset = {\"apple\", \"banana\", \"cherry\"}\n",
    "mylist = [\"kiwi\", \"orange\"]\n",
    "\n",
    "thisset.update(mylist)\n",
    "\n",
    "print(thisset)"
   ]
  },
  {
   "cell_type": "code",
   "execution_count": 1,
   "id": "91c0e90b-4faf-4e1b-94b3-6557a70695f3",
   "metadata": {},
   "outputs": [
    {
     "data": {
      "text/plain": [
       "{1, 2, 3, 34.34, 4, 4535.556, 5, 5.54, 6, 'Hello', 'People', 'arun', 'kumar'}"
      ]
     },
     "execution_count": 1,
     "metadata": {},
     "output_type": "execute_result"
    }
   ],
   "source": [
    "set1 = {1,2,3,4,\"arun\",\"kumar\",5.54,4535.556}\n",
    "set2 = {3,5,6,6,\"Hello\",\"People\",34.34}\n",
    "\n",
    "set3 = set1.union(set2)\n",
    "set3"
   ]
  },
  {
   "cell_type": "code",
   "execution_count": 9,
   "id": "5d8a5603-92e0-4650-b941-bf762146fab6",
   "metadata": {},
   "outputs": [
    {
     "data": {
      "text/plain": [
       "{1, 2, 3, 34.34, 4, 4535.556, 5, 5.54, 6, 'Hello', 'People', 'arun', 'kumar'}"
      ]
     },
     "execution_count": 9,
     "metadata": {},
     "output_type": "execute_result"
    }
   ],
   "source": [
    "set1 = {1,2,3,4,\"arun\",\"kumar\",5.54,4535.556}\n",
    "set2 = {3,5,6,6,\"Hello\",\"People\",34.34}\n",
    "\n",
    "set1.union(set2) # if we use this, then the updated set will not be assigned to set1, it just prints the result.\n"
   ]
  },
  {
   "cell_type": "code",
   "execution_count": 34,
   "id": "163e73fb-8556-43a1-885c-fffe3f4757e0",
   "metadata": {},
   "outputs": [
    {
     "data": {
      "text/plain": [
       "{3, 5, 6}"
      ]
     },
     "execution_count": 34,
     "metadata": {},
     "output_type": "execute_result"
    }
   ],
   "source": [
    "set1 = {1,2,3,5,6,4,\"arun\",\"kumar\",5.54,4535.556}\n",
    "set2 = {3,5,6,6,\"Hello\",\"People\",34.34}\n",
    "\n",
    "set3 = set1.intersection(set2)\n",
    "set3"
   ]
  },
  {
   "cell_type": "code",
   "execution_count": 35,
   "id": "2d074869-cfbf-48ea-9a20-7374ac1c3d9c",
   "metadata": {},
   "outputs": [
    {
     "data": {
      "text/plain": [
       "{1, 2, 4, 4535.556, 5.54, 'arun', 'kumar'}"
      ]
     },
     "execution_count": 35,
     "metadata": {},
     "output_type": "execute_result"
    }
   ],
   "source": [
    "set1 = {1,2,3,5,6,4,\"arun\",\"kumar\",5.54,4535.556}\n",
    "set2 = {3,5,6,6,\"Hello\",\"People\",34.34}\n",
    "\n",
    "set3 = set1.difference(set2)\n",
    "set3"
   ]
  },
  {
   "cell_type": "code",
   "execution_count": 36,
   "id": "9256ed95-b5e4-4a66-be0f-500c73e518ed",
   "metadata": {},
   "outputs": [
    {
     "data": {
      "text/plain": [
       "{1, 2, 4, 4535.556, 5.54, 'arun', 'kumar'}"
      ]
     },
     "execution_count": 36,
     "metadata": {},
     "output_type": "execute_result"
    }
   ],
   "source": [
    "# The difference_update() method will also keep the items from the first set that are not in the other set, but it will change the \n",
    "# original set instead of returning a new set.\n",
    "\n",
    "set1 = {1,2,3,5,6,4,\"arun\",\"kumar\",5.54,4535.556}\n",
    "set2 = {3,5,6,6,\"Hello\",\"People\",34.34}\n",
    "\n",
    "set1.difference_update(set2)\n",
    "set3"
   ]
  },
  {
   "cell_type": "code",
   "execution_count": null,
   "id": "48cba0ed-31b5-4dbf-b1bf-1decb6dd94ee",
   "metadata": {},
   "outputs": [],
   "source": []
  },
  {
   "cell_type": "code",
   "execution_count": null,
   "id": "4f5be5c6-3f86-4a28-a3e4-25e87f5c2add",
   "metadata": {},
   "outputs": [],
   "source": []
  },
  {
   "cell_type": "markdown",
   "id": "74a9de35-d2d4-4702-b72e-89d12f4adde1",
   "metadata": {},
   "source": [
    "## Dictionaries"
   ]
  },
  {
   "cell_type": "code",
   "execution_count": 80,
   "id": "b6dab68e-d9d0-4517-af79-0ca45cd4c6e1",
   "metadata": {},
   "outputs": [
    {
     "name": "stdout",
     "output_type": "stream",
     "text": [
      "{1: 'one', 2: 'Two', 3: 'Three'}\n",
      "one\n",
      "Three\n"
     ]
    }
   ],
   "source": [
    "# Here we represent the data in key and value format in flower brackets. {}\n",
    "\n",
    "d1 = {1:\"one\", 2:\"Two\", 3:\"Three\"}\n",
    "print(d1)\n",
    "print(d1[1])\n",
    "print(d1[3])"
   ]
  },
  {
   "cell_type": "code",
   "execution_count": 1,
   "id": "4b372c3f-db8c-45fd-ad55-0630707a20a6",
   "metadata": {},
   "outputs": [
    {
     "data": {
      "text/plain": [
       "{1: 'three', 2: 'two'}"
      ]
     },
     "execution_count": 1,
     "metadata": {},
     "output_type": "execute_result"
    }
   ],
   "source": [
    "# If there are duplicates in the dictionary then, only the latest values are considered\n",
    "\n",
    "d2 = {1: \"one\", 2: \"two\", 1:\"three\"}\n",
    "d2\n",
    "# The dictionary keys haves to be unique, they do not allow duplicates.\n",
    "# We can have same values for different keys, but cannot have same keys for different values"
   ]
  },
  {
   "cell_type": "code",
   "execution_count": 5,
   "id": "ac5894c6-bd35-4829-b019-955d3268a17f",
   "metadata": {},
   "outputs": [],
   "source": [
    "dict1 = {1:\"one\",2:\"two\",3:\"three\",\"name\":\"arun\",}"
   ]
  },
  {
   "cell_type": "code",
   "execution_count": 6,
   "id": "a9d51112-57c3-4878-a280-f4f77cb6ec8f",
   "metadata": {},
   "outputs": [
    {
     "data": {
      "text/plain": [
       "'one'"
      ]
     },
     "execution_count": 6,
     "metadata": {},
     "output_type": "execute_result"
    }
   ],
   "source": [
    "dict1[1]"
   ]
  },
  {
   "cell_type": "code",
   "execution_count": 8,
   "id": "69e3e1ff-4fc8-4361-9486-3e2ade02a853",
   "metadata": {},
   "outputs": [
    {
     "data": {
      "text/plain": [
       "'one'"
      ]
     },
     "execution_count": 8,
     "metadata": {},
     "output_type": "execute_result"
    }
   ],
   "source": [
    "dict1.get(1)"
   ]
  },
  {
   "cell_type": "code",
   "execution_count": 9,
   "id": "26687a70-ef6b-423a-9e83-027b525226a9",
   "metadata": {},
   "outputs": [
    {
     "data": {
      "text/plain": [
       "'No data found'"
      ]
     },
     "execution_count": 9,
     "metadata": {},
     "output_type": "execute_result"
    }
   ],
   "source": [
    "# When we specify a key, if there is a value then it will print a value for that key\n",
    "# if there is no value for a key, then we can customize what to get as an output.\n",
    "\n",
    "dict1.get(4,\"No data found\")"
   ]
  },
  {
   "cell_type": "code",
   "execution_count": 11,
   "id": "c0d5be62-3d7b-4341-b9c5-a79c7cd08fc1",
   "metadata": {},
   "outputs": [],
   "source": [
    "dict1.get(5) # if we do not specify anything, it will remain idle"
   ]
  },
  {
   "cell_type": "code",
   "execution_count": 13,
   "id": "7e5a163c-4282-4f49-bf00-1ce288c12a89",
   "metadata": {},
   "outputs": [
    {
     "data": {
      "text/plain": [
       "'three'"
      ]
     },
     "execution_count": 13,
     "metadata": {},
     "output_type": "execute_result"
    }
   ],
   "source": [
    "dict1.get(3,\"No data found\") # as we have data, we are not getting that backup data."
   ]
  },
  {
   "cell_type": "code",
   "execution_count": 21,
   "id": "516dc365-f47c-4dd3-bc92-31a8007638cf",
   "metadata": {},
   "outputs": [
    {
     "data": {
      "text/plain": [
       "{1: 'Sun', 2: 'Mon', 3: 'Tue', 4: 'Wed', 5: 'Thurs', 6: 'Fri', 7: 'Sat'}"
      ]
     },
     "execution_count": 21,
     "metadata": {},
     "output_type": "execute_result"
    }
   ],
   "source": [
    "'''\n",
    "There is a possibility to create a dectionary with the help of two lists\n",
    "To do that we need to zip them and then by using the dict() function we can convert it into a\n",
    "dictionary as shown below\n",
    "\n",
    "'''\n",
    "\n",
    "keys = [1,2,3,4,5,6,7]\n",
    "values = [\"Sun\",\"Mon\",\"Tue\",\"Wed\",\"Thurs\",\"Fri\",\"Sat\"]\n",
    "\n",
    "# we have weekdays and the associated intergers which signifies that day number.\n",
    "\n",
    "data = dict(zip(keys,values))\n",
    "\n",
    "data"
   ]
  },
  {
   "cell_type": "code",
   "execution_count": 22,
   "id": "757a8034-bfb8-4628-9b45-ef7918086487",
   "metadata": {},
   "outputs": [
    {
     "data": {
      "text/plain": [
       "{1: 'Sun',\n",
       " 2: 'Mon',\n",
       " 3: 'Tue',\n",
       " 4: 'Wed',\n",
       " 5: 'Thurs',\n",
       " 6: 'Fri',\n",
       " 7: 'Sat',\n",
       " '01': 'Jan'}"
      ]
     },
     "execution_count": 22,
     "metadata": {},
     "output_type": "execute_result"
    }
   ],
   "source": [
    "# we can directly add the data like this if it doesn't exist.\n",
    "# But we need to be careful about the key values. They should not be same.\n",
    "\n",
    "data[\"01\"] = \"Jan\"\n",
    "data"
   ]
  },
  {
   "cell_type": "code",
   "execution_count": 23,
   "id": "b7ac9ba2-870a-4bf6-b5d8-d4a2ff029c85",
   "metadata": {},
   "outputs": [
    {
     "data": {
      "text/plain": [
       "{2: 'Mon', 3: 'Tue', 4: 'Wed', 5: 'Thurs', 6: 'Fri', 7: 'Sat', '01': 'Jan'}"
      ]
     },
     "execution_count": 23,
     "metadata": {},
     "output_type": "execute_result"
    }
   ],
   "source": [
    "# to delete, just mention the key.\n",
    "\n",
    "del data[1]\n",
    "data"
   ]
  },
  {
   "cell_type": "code",
   "execution_count": 25,
   "id": "4a0f9fac-6d75-43b5-bcf0-76a2a816b26a",
   "metadata": {},
   "outputs": [
    {
     "data": {
      "text/plain": [
       "{'JS': 'Atom',\n",
       " 'CS': 'VScode',\n",
       " 'Python': ['Pycharm', 'sublime'],\n",
       " 'Java': {'JSE': 'Netbeans', 'JEE': 'Eclipse'}}"
      ]
     },
     "execution_count": 25,
     "metadata": {},
     "output_type": "execute_result"
    }
   ],
   "source": [
    "'''\n",
    "We can have a list in a dictionary and a dictionary in a dictionary. It is absolutely fine.\n",
    "'''\n",
    "# this dictionary just tells, which ide can be used for which languae.\n",
    "prog = {'JS':'Atom','CS':'VScode','Python':['Pycharm','sublime'],'Java':{'JSE':'Netbeans','JEE':'Eclipse'}}\n",
    "prog"
   ]
  },
  {
   "cell_type": "code",
   "execution_count": 34,
   "id": "3acf6e26-0817-4126-8775-2ff63bef980b",
   "metadata": {},
   "outputs": [
    {
     "data": {
      "text/plain": [
       "'Atom'"
      ]
     },
     "execution_count": 34,
     "metadata": {},
     "output_type": "execute_result"
    }
   ],
   "source": [
    "# These are the ways where we can access this dictionary.\n",
    "\n",
    "prog[\"JS\"]"
   ]
  },
  {
   "cell_type": "code",
   "execution_count": 29,
   "id": "3beb5d94-4329-4fcd-8ba1-6a8cddee5d2b",
   "metadata": {},
   "outputs": [
    {
     "data": {
      "text/plain": [
       "'VScode'"
      ]
     },
     "execution_count": 29,
     "metadata": {},
     "output_type": "execute_result"
    }
   ],
   "source": [
    "prog['CS']"
   ]
  },
  {
   "cell_type": "code",
   "execution_count": 30,
   "id": "09082fa6-252c-498a-8d87-9fad5de599b0",
   "metadata": {},
   "outputs": [
    {
     "data": {
      "text/plain": [
       "['Pycharm', 'sublime']"
      ]
     },
     "execution_count": 30,
     "metadata": {},
     "output_type": "execute_result"
    }
   ],
   "source": [
    "prog['Python']"
   ]
  },
  {
   "cell_type": "code",
   "execution_count": 31,
   "id": "68352798-851c-4de3-b32d-9860702c028d",
   "metadata": {},
   "outputs": [
    {
     "data": {
      "text/plain": [
       "'sublime'"
      ]
     },
     "execution_count": 31,
     "metadata": {},
     "output_type": "execute_result"
    }
   ],
   "source": [
    "prog['Python'][1]"
   ]
  },
  {
   "cell_type": "code",
   "execution_count": 32,
   "id": "faf04148-6f4d-4f2d-bab6-d3045eb3a380",
   "metadata": {},
   "outputs": [
    {
     "data": {
      "text/plain": [
       "{'JSE': 'Netbeans', 'JEE': 'Eclipse'}"
      ]
     },
     "execution_count": 32,
     "metadata": {},
     "output_type": "execute_result"
    }
   ],
   "source": [
    "prog['Java']"
   ]
  },
  {
   "cell_type": "code",
   "execution_count": 33,
   "id": "125c9ec7-8a11-4b9b-a2ec-bedd168bf076",
   "metadata": {},
   "outputs": [
    {
     "data": {
      "text/plain": [
       "'Eclipse'"
      ]
     },
     "execution_count": 33,
     "metadata": {},
     "output_type": "execute_result"
    }
   ],
   "source": [
    "prog['Java']['JEE']"
   ]
  },
  {
   "cell_type": "code",
   "execution_count": null,
   "id": "516ee19a-6640-4ad4-ba39-ea43dee5025c",
   "metadata": {},
   "outputs": [],
   "source": []
  },
  {
   "cell_type": "markdown",
   "id": "a904f432-6f9b-4f5f-881e-dd472d8a4c68",
   "metadata": {},
   "source": [
    "# Operators"
   ]
  },
  {
   "cell_type": "markdown",
   "id": "8d78ebe1-4ba8-47f5-8b46-f42518779557",
   "metadata": {},
   "source": [
    "## Arithmetic operators +,-,/,*,//,**"
   ]
  },
  {
   "cell_type": "code",
   "execution_count": 82,
   "id": "e60c3f5c-77a3-4ac4-b945-5f90ea40c964",
   "metadata": {},
   "outputs": [
    {
     "name": "stdin",
     "output_type": "stream",
     "text": [
      "Enter a number:  4\n",
      "Enter a number:  5\n"
     ]
    },
    {
     "name": "stdout",
     "output_type": "stream",
     "text": [
      "Addition: 4 + 5 = 9\n",
      "Subtraction: 4 - 5 = -1\n",
      "Multiplication: 4 * 5 = 20\n",
      "Division: 4 / 5 = 0.8\n",
      "Power: 4 ** 5 = 1024\n",
      "Floor division: 4 // 5 = 0\n"
     ]
    }
   ],
   "source": [
    "n = int(input(\"Enter a number: \"))\n",
    "m = int(input(\"Enter a number: \"))\n",
    "\n",
    "print(f\"Addition: {n} + {m} = {n+m}\")\n",
    "print(f\"Subtraction: {n} - {m} = {n-m}\")\n",
    "print(f\"Multiplication: {n} * {m} = {n*m}\")\n",
    "print(f\"Division: {n} / {m} = {n/m}\")\n",
    "print(f\"Power: {n} ** {m} = {n**m}\")\n",
    "print(f\"Floor division: {n} // {m} = {n//m}\")\n",
    "\n"
   ]
  },
  {
   "cell_type": "code",
   "execution_count": 83,
   "id": "015fb5af-b12b-40fb-b558-5ac839361dd5",
   "metadata": {},
   "outputs": [
    {
     "name": "stdout",
     "output_type": "stream",
     "text": [
      "Arun Kumar.\n"
     ]
    }
   ],
   "source": [
    "s1 = \"Arun \"\n",
    "s2 = \"Kumar.\"\n",
    "\n",
    "s3 = s1+s2\n",
    "print(s3)"
   ]
  },
  {
   "cell_type": "code",
   "execution_count": 84,
   "id": "27c5eccb-40d3-4d1d-9dd7-8b73083ac24f",
   "metadata": {},
   "outputs": [
    {
     "name": "stdout",
     "output_type": "stream",
     "text": [
      "[2, 3, 4, 5, 3, 5, 4, 8, 9]\n"
     ]
    }
   ],
   "source": [
    "l1 = [2,3,4,5]\n",
    "l2 = [3,5,4,8,9]\n",
    "\n",
    "print(l1+l2)\n",
    "# This will not add the two lists, it just appends the lists"
   ]
  },
  {
   "cell_type": "code",
   "execution_count": 85,
   "id": "220d77de-3267-4bf7-91eb-11c16e08e829",
   "metadata": {},
   "outputs": [
    {
     "name": "stdout",
     "output_type": "stream",
     "text": [
      "(1, 2, 3, 4, 5, 'Hello', 'Hyd', 'People')\n"
     ]
    }
   ],
   "source": [
    "t1 = (1,2,3,4,5)\n",
    "t2 = (\"Hello\",\"Hyd\",\"People\")\n",
    "\n",
    "print(t1+t2)"
   ]
  },
  {
   "cell_type": "code",
   "execution_count": 86,
   "id": "d1e08287-1741-464d-a5fc-7fc5e14f888a",
   "metadata": {},
   "outputs": [
    {
     "data": {
      "text/plain": [
       "(2.3+5j)"
      ]
     },
     "execution_count": 86,
     "metadata": {},
     "output_type": "execute_result"
    }
   ],
   "source": [
    "p = 5j\n",
    "q = 2.3\n",
    "\n",
    "p+q"
   ]
  },
  {
   "cell_type": "code",
   "execution_count": 87,
   "id": "097d6a28-df34-4328-8e42-a63bf1cba16c",
   "metadata": {},
   "outputs": [],
   "source": [
    "## We cannot subtract two lists, tuples, strings"
   ]
  },
  {
   "cell_type": "code",
   "execution_count": 88,
   "id": "6dd797d6-b1a8-4f15-9e21-7d51b7fd75b8",
   "metadata": {},
   "outputs": [
    {
     "data": {
      "text/plain": [
       "[2, 3, 4, 5, 2, 3, 4, 5]"
      ]
     },
     "execution_count": 88,
     "metadata": {},
     "output_type": "execute_result"
    }
   ],
   "source": [
    "l1*2\n",
    "# This list multiplication will append the same list in the list with mentioned number of times."
   ]
  },
  {
   "cell_type": "code",
   "execution_count": 89,
   "id": "10279a9f-5d2b-42e3-89e5-195cbd4a70b8",
   "metadata": {},
   "outputs": [
    {
     "data": {
      "text/plain": [
       "(1, 2, 3, 4, 5, 1, 2, 3, 4, 5, 1, 2, 3, 4, 5)"
      ]
     },
     "execution_count": 89,
     "metadata": {},
     "output_type": "execute_result"
    }
   ],
   "source": [
    "t1*3"
   ]
  },
  {
   "cell_type": "code",
   "execution_count": 90,
   "id": "18cc8e58-1776-4521-afe5-9b9091a59ad6",
   "metadata": {},
   "outputs": [],
   "source": [
    "# The result of 22/7 in python 2 is same as 22//7 in python3"
   ]
  },
  {
   "cell_type": "markdown",
   "id": "bdb1331c-6324-4422-a9a3-7d4e87a40ddc",
   "metadata": {},
   "source": [
    "## Relational Operators: >,<,>=,<=,!=,=="
   ]
  },
  {
   "cell_type": "code",
   "execution_count": 91,
   "id": "9cd32586-4b85-47ce-a8b3-5b9fbfd0188b",
   "metadata": {},
   "outputs": [
    {
     "name": "stdout",
     "output_type": "stream",
     "text": [
      "False\n",
      "True\n",
      "False\n",
      "True\n",
      "True\n",
      "False\n"
     ]
    }
   ],
   "source": [
    "\n",
    "\n",
    "print(2>5)\n",
    "print(2<5)\n",
    "print(2>=5)\n",
    "print(2<=5)\n",
    "print(2!=5)\n",
    "print(2==5)\n",
    "\n"
   ]
  },
  {
   "cell_type": "markdown",
   "id": "65f562b6-3f44-4b48-be8a-75e1b713e24a",
   "metadata": {},
   "source": [
    "## Logical Operators: and, or"
   ]
  },
  {
   "cell_type": "code",
   "execution_count": 92,
   "id": "2b327f49-73d2-445f-82e9-19615452d5af",
   "metadata": {},
   "outputs": [
    {
     "name": "stdout",
     "output_type": "stream",
     "text": [
      "False\n",
      "True\n",
      "False\n",
      "True\n",
      "False\n"
     ]
    }
   ],
   "source": [
    "\n",
    "\n",
    "print(12> 5 and 12< 5)\n",
    "print(12>5 or 12<5) # same like c programming, it is not checking the other condition, compile time optimization.\n",
    "\n",
    "# non zero value will be considered as true and zero is considered as false.\n",
    "\n",
    "print(not 12)\n",
    "print(not 0)\n",
    "print(not -12)"
   ]
  },
  {
   "cell_type": "markdown",
   "id": "0cc77410-120e-465b-b31d-f3b8dfc48783",
   "metadata": {},
   "source": [
    "## Bitwise operators: &,|,^,"
   ]
  },
  {
   "cell_type": "code",
   "execution_count": 93,
   "id": "74591d72-6854-4a13-8206-da2222a95461",
   "metadata": {},
   "outputs": [
    {
     "name": "stdout",
     "output_type": "stream",
     "text": [
      "0\n",
      "15\n",
      "15\n",
      "-13\n",
      "12\n",
      "6\n",
      "24\n"
     ]
    },
    {
     "data": {
      "text/plain": [
       "'\\n    ~x = -(x+1)\\n    eg: ~12 = -(12+1) = -13\\n'"
      ]
     },
     "execution_count": 93,
     "metadata": {},
     "output_type": "execute_result"
    }
   ],
   "source": [
    "\n",
    "\n",
    "# 12  = 1100\n",
    "# 3   = 0011\n",
    "\n",
    "print(12&3) # 0000\n",
    "print(12|3) # 1111\n",
    "print(12^3) # 1111\n",
    "print(~12)               \n",
    "print(~-13)\n",
    "\n",
    "print(12>>1) # right shift will divide the number\n",
    "print(12<<1) # left shift will multiply the number\n",
    "'''\n",
    "    ~x = -(x+1)\n",
    "    eg: ~12 = -(12+1) = -13\n",
    "'''"
   ]
  },
  {
   "cell_type": "markdown",
   "id": "1422794b-2273-4807-9980-18600c43d091",
   "metadata": {},
   "source": [
    "## Equality Operator: +=, -=, *=, /="
   ]
  },
  {
   "cell_type": "code",
   "execution_count": 94,
   "id": "dc5fe302-1df4-43bc-9989-78f7c597922b",
   "metadata": {},
   "outputs": [
    {
     "name": "stdout",
     "output_type": "stream",
     "text": [
      "x = 15\n",
      "p = 10\n",
      "z = 90\n",
      "q = 3.0\n"
     ]
    }
   ],
   "source": [
    "x = 10\n",
    "x+=5\n",
    "print(f\"x = {x}\")\n",
    "\n",
    "p = 20\n",
    "p-=10\n",
    "print(f\"p = {p}\")\n",
    "\n",
    "z = 30\n",
    "z*=3\n",
    "print(f\"z = {z}\")\n",
    "\n",
    "q = 15\n",
    "q/=5\n",
    "print(f\"q = {q}\")"
   ]
  },
  {
   "cell_type": "markdown",
   "id": "4c5579f9-fb40-4e0f-84e2-79fec03f2ad2",
   "metadata": {},
   "source": [
    "## Identity operators : is and is not"
   ]
  },
  {
   "cell_type": "code",
   "execution_count": 95,
   "id": "4aa61545-c1c0-48a4-a7ee-66c096c7b6f1",
   "metadata": {},
   "outputs": [
    {
     "name": "stderr",
     "output_type": "stream",
     "text": [
      "<>:3: SyntaxWarning: \"is\" with a literal. Did you mean \"==\"?\n",
      "<>:3: SyntaxWarning: \"is\" with a literal. Did you mean \"==\"?\n",
      "C:\\Users\\bala_arun_kumar\\AppData\\Local\\Temp\\ipykernel_13308\\2811400926.py:3: SyntaxWarning: \"is\" with a literal. Did you mean \"==\"?\n",
      "  10 is 10\n"
     ]
    },
    {
     "data": {
      "text/plain": [
       "True"
      ]
     },
     "execution_count": 95,
     "metadata": {},
     "output_type": "execute_result"
    }
   ],
   "source": [
    "10 is 10"
   ]
  },
  {
   "cell_type": "code",
   "execution_count": 96,
   "id": "7ef1136a-88d1-4b4b-964e-1278ce8a9e83",
   "metadata": {},
   "outputs": [
    {
     "name": "stderr",
     "output_type": "stream",
     "text": [
      "<>:1: SyntaxWarning: \"is\" with a literal. Did you mean \"==\"?\n",
      "<>:1: SyntaxWarning: \"is\" with a literal. Did you mean \"==\"?\n",
      "C:\\Users\\bala_arun_kumar\\AppData\\Local\\Temp\\ipykernel_13308\\2425154922.py:1: SyntaxWarning: \"is\" with a literal. Did you mean \"==\"?\n",
      "  \"Arun\" is \"Arun\"\n"
     ]
    },
    {
     "data": {
      "text/plain": [
       "True"
      ]
     },
     "execution_count": 96,
     "metadata": {},
     "output_type": "execute_result"
    }
   ],
   "source": [
    "\"Arun\" is \"Arun\""
   ]
  },
  {
   "cell_type": "code",
   "execution_count": 97,
   "id": "a3529530-a4fe-4ef2-a81b-b553a6c680f9",
   "metadata": {},
   "outputs": [
    {
     "name": "stderr",
     "output_type": "stream",
     "text": [
      "<>:1: SyntaxWarning: \"is\" with a literal. Did you mean \"==\"?\n",
      "<>:1: SyntaxWarning: \"is\" with a literal. Did you mean \"==\"?\n",
      "C:\\Users\\bala_arun_kumar\\AppData\\Local\\Temp\\ipykernel_13308\\3084269383.py:1: SyntaxWarning: \"is\" with a literal. Did you mean \"==\"?\n",
      "  \"Arun\" is \"kumar\"\n"
     ]
    },
    {
     "data": {
      "text/plain": [
       "False"
      ]
     },
     "execution_count": 97,
     "metadata": {},
     "output_type": "execute_result"
    }
   ],
   "source": [
    "\"Arun\" is \"kumar\""
   ]
  },
  {
   "cell_type": "code",
   "execution_count": 98,
   "id": "762a7114-d553-44a7-91d6-6bb11740006a",
   "metadata": {},
   "outputs": [
    {
     "name": "stderr",
     "output_type": "stream",
     "text": [
      "<>:1: SyntaxWarning: \"is not\" with a literal. Did you mean \"!=\"?\n",
      "<>:1: SyntaxWarning: \"is not\" with a literal. Did you mean \"!=\"?\n",
      "C:\\Users\\bala_arun_kumar\\AppData\\Local\\Temp\\ipykernel_13308\\2388115820.py:1: SyntaxWarning: \"is not\" with a literal. Did you mean \"!=\"?\n",
      "  \"Arun\" is not \"Kumar\"\n"
     ]
    },
    {
     "data": {
      "text/plain": [
       "True"
      ]
     },
     "execution_count": 98,
     "metadata": {},
     "output_type": "execute_result"
    }
   ],
   "source": [
    "\"Arun\" is not \"Kumar\""
   ]
  },
  {
   "cell_type": "code",
   "execution_count": 99,
   "id": "65dfdc01-36be-4d09-b2ba-0fb21a8d33cc",
   "metadata": {},
   "outputs": [],
   "source": [
    "# sizeof() operator does not exist as we are dealing with objects not with variables\n",
    "# We also not have increment and decrement operators\n",
    "# Does not have conditional operators\n",
    "\n",
    "# Here x++ is not possible, but we can do x+=1"
   ]
  },
  {
   "cell_type": "markdown",
   "id": "9627319e-a93a-43af-9b43-a08d1183429a",
   "metadata": {},
   "source": [
    "## Membership operator: in, not in "
   ]
  },
  {
   "cell_type": "code",
   "execution_count": 100,
   "id": "c151d8f4-caa4-4cb3-910d-fb4b58480837",
   "metadata": {},
   "outputs": [
    {
     "data": {
      "text/plain": [
       "False"
      ]
     },
     "execution_count": 100,
     "metadata": {},
     "output_type": "execute_result"
    }
   ],
   "source": [
    "l = [1,2,3,4,5]\n",
    "20 in l"
   ]
  },
  {
   "cell_type": "code",
   "execution_count": 101,
   "id": "d7cdb3bb-7cf5-4609-ab5c-fb03068b9432",
   "metadata": {},
   "outputs": [
    {
     "data": {
      "text/plain": [
       "True"
      ]
     },
     "execution_count": 101,
     "metadata": {},
     "output_type": "execute_result"
    }
   ],
   "source": [
    "20 not in l"
   ]
  },
  {
   "cell_type": "code",
   "execution_count": 20,
   "id": "3a2e64d0-f572-4c68-8e8a-fcb65c1a6ec7",
   "metadata": {},
   "outputs": [
    {
     "name": "stdout",
     "output_type": "stream",
     "text": [
      "Address of a is 140733222450248\n",
      "Address of b is 140733222450248\n",
      "Address of value 10 is 140733222450248\n",
      "Address of k in 140733222450248\n"
     ]
    },
    {
     "data": {
      "text/plain": [
       "'\\nSuddenly, if all the variables are pointing to different memory locations, then there will be no one to point to the value 10 (in this case), so\\nthis will remain as a garbage as none of the variables are using this memory. This is called trash / garbage collection.\\n'"
      ]
     },
     "execution_count": 20,
     "metadata": {},
     "output_type": "execute_result"
    }
   ],
   "source": [
    "'''\n",
    "Important point on variables.\n",
    "\n",
    "If we have two variables and both are having same value, then two blocks of memory will not be created. Both values will be pointing to the same memory\n",
    "location and if we find the address of these two variables, we get the same address. This is why python language is memory efficient.\n",
    "\n",
    "So, all the variables which are pointing to a particular value will have same address.\n",
    "'''\n",
    "\n",
    "a = 10\n",
    "b = a\n",
    "print(f\"Address of a is {id(a)}\")\n",
    "print(f\"Address of b is {id(b)}\")\n",
    "print(f\"Address of value 10 is {id(10)}\")\n",
    "\n",
    "k = 10\n",
    "print(f\"Address of k in {id(k)}\")\n",
    "\n",
    "'''\n",
    "Suddenly, if all the variables are pointing to different memory locations, then there will be no one to point to the value 10 (in this case), so\n",
    "this will remain as a garbage as none of the variables are using this memory. This is called trash / garbage collection.\n",
    "'''"
   ]
  },
  {
   "cell_type": "code",
   "execution_count": 2,
   "id": "7b5136c6-5b62-4a92-966d-14163bec278a",
   "metadata": {},
   "outputs": [
    {
     "data": {
      "text/plain": [
       "range(0, 10)"
      ]
     },
     "execution_count": 2,
     "metadata": {},
     "output_type": "execute_result"
    }
   ],
   "source": [
    "range(10)"
   ]
  },
  {
   "cell_type": "code",
   "execution_count": 4,
   "id": "eb297280-f952-4f60-b5bc-63b92e1432f6",
   "metadata": {},
   "outputs": [
    {
     "data": {
      "text/plain": [
       "[0, 1, 2, 3, 4, 5, 6, 7, 8, 9]"
      ]
     },
     "execution_count": 4,
     "metadata": {},
     "output_type": "execute_result"
    }
   ],
   "source": [
    "list(range(10))"
   ]
  },
  {
   "cell_type": "code",
   "execution_count": 10,
   "id": "1ff8d201-333b-41d3-a388-16a72d60e552",
   "metadata": {},
   "outputs": [
    {
     "data": {
      "text/plain": [
       "[2, 6, 10, 14, 18, 22, 26, 30, 34, 38, 42, 46]"
      ]
     },
     "execution_count": 10,
     "metadata": {},
     "output_type": "execute_result"
    }
   ],
   "source": [
    "list(range(2,50,4)) # here third field in the range function is step"
   ]
  },
  {
   "cell_type": "markdown",
   "id": "b762dc2e-58c2-4b26-b2ef-9dc1c33e4088",
   "metadata": {},
   "source": [
    "## Numbers System"
   ]
  },
  {
   "cell_type": "code",
   "execution_count": 11,
   "id": "270b4921-4b46-490e-930e-7c90c448f700",
   "metadata": {},
   "outputs": [
    {
     "data": {
      "text/plain": [
       "int"
      ]
     },
     "execution_count": 11,
     "metadata": {},
     "output_type": "execute_result"
    }
   ],
   "source": [
    "## Intergers\n",
    "\n",
    "num = 10\n",
    "type(num)"
   ]
  },
  {
   "cell_type": "code",
   "execution_count": 12,
   "id": "57876868-a500-4d7a-b35f-9bfb81bd388f",
   "metadata": {},
   "outputs": [
    {
     "data": {
      "text/plain": [
       "'0b10100'"
      ]
     },
     "execution_count": 12,
     "metadata": {},
     "output_type": "execute_result"
    }
   ],
   "source": [
    "## Binary\n",
    "\n",
    "num = 20\n",
    "bin(num)"
   ]
  },
  {
   "cell_type": "code",
   "execution_count": 13,
   "id": "f152c0c7-61eb-446d-bb10-44092fb37984",
   "metadata": {},
   "outputs": [
    {
     "data": {
      "text/plain": [
       "5"
      ]
     },
     "execution_count": 13,
     "metadata": {},
     "output_type": "execute_result"
    }
   ],
   "source": [
    "0b0101"
   ]
  },
  {
   "cell_type": "code",
   "execution_count": 14,
   "id": "e848fe0e-d4dd-476d-8c3c-a3bbbb7f0907",
   "metadata": {},
   "outputs": [
    {
     "data": {
      "text/plain": [
       "'0o43'"
      ]
     },
     "execution_count": 14,
     "metadata": {},
     "output_type": "execute_result"
    }
   ],
   "source": [
    "## Octal\n",
    "\n",
    "num  = 35\n",
    "oct(num)"
   ]
  },
  {
   "cell_type": "code",
   "execution_count": 15,
   "id": "b7222cd8-43a3-4e3a-ab7c-a28b6f0bd796",
   "metadata": {},
   "outputs": [
    {
     "data": {
      "text/plain": [
       "35"
      ]
     },
     "execution_count": 15,
     "metadata": {},
     "output_type": "execute_result"
    }
   ],
   "source": [
    "0o43"
   ]
  },
  {
   "cell_type": "code",
   "execution_count": 16,
   "id": "dc7f0e2d-1845-4d1c-aa9f-73accc56445c",
   "metadata": {},
   "outputs": [
    {
     "data": {
      "text/plain": [
       "'0x16'"
      ]
     },
     "execution_count": 16,
     "metadata": {},
     "output_type": "execute_result"
    }
   ],
   "source": [
    "## Hexadecimal\n",
    "\n",
    "num = 22\n",
    "hex(num)"
   ]
  },
  {
   "cell_type": "code",
   "execution_count": 18,
   "id": "ebe0d669-4d6f-4645-9ace-192ea3ab73e9",
   "metadata": {},
   "outputs": [
    {
     "data": {
      "text/plain": [
       "15"
      ]
     },
     "execution_count": 18,
     "metadata": {},
     "output_type": "execute_result"
    }
   ],
   "source": [
    "0xf"
   ]
  },
  {
   "cell_type": "markdown",
   "id": "35056f36-db1d-4404-9d64-f498dc2fb5e8",
   "metadata": {},
   "source": [
    "## Mathematical functions"
   ]
  },
  {
   "cell_type": "code",
   "execution_count": 20,
   "id": "5a80e959-6487-4a1c-b075-8959d7ae4086",
   "metadata": {},
   "outputs": [
    {
     "ename": "NameError",
     "evalue": "name 'srqt' is not defined",
     "output_type": "error",
     "traceback": [
      "\u001b[1;31m---------------------------------------------------------------------------\u001b[0m",
      "\u001b[1;31mNameError\u001b[0m                                 Traceback (most recent call last)",
      "Cell \u001b[1;32mIn[20], line 1\u001b[0m\n\u001b[1;32m----> 1\u001b[0m x \u001b[38;5;241m=\u001b[39m \u001b[43msrqt\u001b[49m(\u001b[38;5;241m25\u001b[39m)\n\u001b[0;32m      2\u001b[0m x\n",
      "\u001b[1;31mNameError\u001b[0m: name 'srqt' is not defined"
     ]
    }
   ],
   "source": [
    "\n",
    "x = srqt(25)\n",
    "x"
   ]
  },
  {
   "cell_type": "code",
   "execution_count": 21,
   "id": "b021d249-16b6-46c8-9df2-d090175898fa",
   "metadata": {},
   "outputs": [
    {
     "data": {
      "text/plain": [
       "5.0"
      ]
     },
     "execution_count": 21,
     "metadata": {},
     "output_type": "execute_result"
    }
   ],
   "source": [
    "import math\n",
    "x = math.sqrt(25)\n",
    "x"
   ]
  },
  {
   "cell_type": "code",
   "execution_count": 25,
   "id": "f3955c3e-71be-4c06-8aff-31b62e223c71",
   "metadata": {},
   "outputs": [
    {
     "data": {
      "text/plain": [
       "3"
      ]
     },
     "execution_count": 25,
     "metadata": {},
     "output_type": "execute_result"
    }
   ],
   "source": [
    "p = 2.543\n",
    "math.ceil(p)"
   ]
  },
  {
   "cell_type": "code",
   "execution_count": 26,
   "id": "096aec8d-a9ca-4d44-bb32-5f46e4df5a14",
   "metadata": {},
   "outputs": [
    {
     "data": {
      "text/plain": [
       "2"
      ]
     },
     "execution_count": 26,
     "metadata": {},
     "output_type": "execute_result"
    }
   ],
   "source": [
    "math.floor(p)"
   ]
  },
  {
   "cell_type": "code",
   "execution_count": 28,
   "id": "2b38e160-0f13-4612-a4ac-aea647b3d582",
   "metadata": {},
   "outputs": [
    {
     "data": {
      "text/plain": [
       "6.466849000000001"
      ]
     },
     "execution_count": 28,
     "metadata": {},
     "output_type": "execute_result"
    }
   ],
   "source": [
    "math.pow(p,2)"
   ]
  },
  {
   "cell_type": "code",
   "execution_count": 29,
   "id": "12949944-0cdb-4ca6-a1ee-28e7217bebaf",
   "metadata": {},
   "outputs": [
    {
     "data": {
      "text/plain": [
       "3.141592653589793"
      ]
     },
     "execution_count": 29,
     "metadata": {},
     "output_type": "execute_result"
    }
   ],
   "source": [
    "math.pi"
   ]
  },
  {
   "cell_type": "code",
   "execution_count": 31,
   "id": "edb3dd1d-4290-429d-9e13-14170115b826",
   "metadata": {},
   "outputs": [
    {
     "data": {
      "text/plain": [
       "2.718281828459045"
      ]
     },
     "execution_count": 31,
     "metadata": {},
     "output_type": "execute_result"
    }
   ],
   "source": [
    "math.e # epsilon"
   ]
  },
  {
   "cell_type": "code",
   "execution_count": 33,
   "id": "14d2afd6-7116-48fb-93fd-15dd7ce60ea2",
   "metadata": {},
   "outputs": [
    {
     "name": "stdout",
     "output_type": "stream",
     "text": [
      "4.0\n",
      "256.0\n"
     ]
    }
   ],
   "source": [
    "# we can import specific things from the library, if we don't need all\n",
    "\n",
    "from math import sqrt, pow\n",
    "n = 16\n",
    "\n",
    "print(sqrt(16)) # as we have imported the direct functions itself, we don't need to use math while using them.\n",
    "print(pow(16,2))"
   ]
  },
  {
   "cell_type": "markdown",
   "id": "008f7645-9adb-484f-9276-016adf924dcb",
   "metadata": {},
   "source": [
    "## user input"
   ]
  },
  {
   "cell_type": "code",
   "execution_count": 34,
   "id": "c6f1e90b-d804-4626-bf56-3362b9484ac9",
   "metadata": {},
   "outputs": [
    {
     "name": "stdin",
     "output_type": "stream",
     "text": [
      "Enter a number for n   4\n",
      "Enter a number for m   3\n"
     ]
    },
    {
     "name": "stdout",
     "output_type": "stream",
     "text": [
      "Sum of nums is 7\n"
     ]
    }
   ],
   "source": [
    "n = int(input(\"Enter a number for n  \"))\n",
    "m = int(input(\"Enter a number for m  \"))\n",
    "\n",
    "p = n+m\n",
    "\n",
    "print(f\"Sum of nums is {p}\")\n"
   ]
  },
  {
   "cell_type": "code",
   "execution_count": 38,
   "id": "9db07a8a-1288-4acc-82dd-57e41526e5f8",
   "metadata": {},
   "outputs": [
    {
     "name": "stdin",
     "output_type": "stream",
     "text": [
      "Enter something:  r4wrff\n"
     ]
    },
    {
     "name": "stdout",
     "output_type": "stream",
     "text": [
      "r4wrff\n"
     ]
    }
   ],
   "source": [
    "ch = input(\"Enter something: \") # though we are expecting character, if you give a string, it will accept.\n",
    "# To avoid that follow the process present in next cell.\n",
    "print(ch)"
   ]
  },
  {
   "cell_type": "code",
   "execution_count": 40,
   "id": "f079a30b-c11c-4051-9c05-4b430b8e8272",
   "metadata": {},
   "outputs": [
    {
     "name": "stdin",
     "output_type": "stream",
     "text": [
      "Enter a character:  fref\n"
     ]
    },
    {
     "name": "stdout",
     "output_type": "stream",
     "text": [
      "f\n"
     ]
    }
   ],
   "source": [
    "ch = input(\"Enter a character: \")[0]\n",
    "# Here, we are restricting the ch to take only one character from the input, that too only the first character.\n",
    "print(ch)"
   ]
  },
  {
   "cell_type": "code",
   "execution_count": 41,
   "id": "24668466-cada-41d0-a445-93a208c12111",
   "metadata": {},
   "outputs": [
    {
     "name": "stdin",
     "output_type": "stream",
     "text": [
      "Enter a string:  arun\n"
     ]
    },
    {
     "name": "stdout",
     "output_type": "stream",
     "text": [
      "n\n"
     ]
    }
   ],
   "source": [
    "ch = input(\"Enter a string: \")[3]\n",
    "print(ch)"
   ]
  },
  {
   "cell_type": "code",
   "execution_count": 43,
   "id": "21d6712b-b333-4651-b21e-7baea4fcdb6e",
   "metadata": {},
   "outputs": [
    {
     "name": "stdin",
     "output_type": "stream",
     "text": [
      "Enter an expression to compute:  2+3+4-1-2\n"
     ]
    },
    {
     "name": "stdout",
     "output_type": "stream",
     "text": [
      "6\n"
     ]
    }
   ],
   "source": [
    "'''\n",
    "When we try to give an expression as an input and ask it to evaluate it, then the input thing\n",
    "may not know like what we are giving.\n",
    "\n",
    "the expression which we are gonna give will consists of numbers and operators which are nothing\n",
    "but characters. \n",
    "\n",
    "So to evaluate this we can use \"eval\" function.\n",
    "'''\n",
    "\n",
    "res = eval(input(\"Enter an expression to compute: \"))\n",
    "\n",
    "print(res)\n"
   ]
  },
  {
   "cell_type": "code",
   "execution_count": 46,
   "id": "56015b23-0a0b-4668-90e7-ff41e9e17121",
   "metadata": {},
   "outputs": [
    {
     "ename": "ValueError",
     "evalue": "invalid literal for int() with base 10: '-f'",
     "output_type": "error",
     "traceback": [
      "\u001b[1;31m---------------------------------------------------------------------------\u001b[0m",
      "\u001b[1;31mValueError\u001b[0m                                Traceback (most recent call last)",
      "Cell \u001b[1;32mIn[46], line 4\u001b[0m\n\u001b[0;32m      1\u001b[0m \u001b[38;5;66;03m# we can take inputs from command line too, using argv \u001b[39;00m\n\u001b[0;32m      3\u001b[0m \u001b[38;5;28;01mimport\u001b[39;00m \u001b[38;5;21;01msys\u001b[39;00m\n\u001b[1;32m----> 4\u001b[0m x \u001b[38;5;241m=\u001b[39m \u001b[38;5;28;43mint\u001b[39;49m\u001b[43m(\u001b[49m\u001b[43msys\u001b[49m\u001b[38;5;241;43m.\u001b[39;49m\u001b[43margv\u001b[49m\u001b[43m[\u001b[49m\u001b[38;5;241;43m1\u001b[39;49m\u001b[43m]\u001b[49m\u001b[43m)\u001b[49m\n\u001b[0;32m      5\u001b[0m y \u001b[38;5;241m=\u001b[39m \u001b[38;5;28mint\u001b[39m(sys\u001b[38;5;241m.\u001b[39margv[\u001b[38;5;241m2\u001b[39m])\n\u001b[0;32m      7\u001b[0m z \u001b[38;5;241m=\u001b[39m x\u001b[38;5;241m+\u001b[39my\n",
      "\u001b[1;31mValueError\u001b[0m: invalid literal for int() with base 10: '-f'"
     ]
    }
   ],
   "source": [
    "# we can take inputs from command line too, using argv \n",
    "\n",
    "import sys\n",
    "x = int(sys.argv[1])\n",
    "y = int(sys.argv[2])\n",
    "\n",
    "z = x+y\n",
    "print(z)\n",
    "\n",
    "# This is possible if you run through cmd line only\n",
    "# as we are running through jupyter notebook and we do run directly, we cannot do this here. "
   ]
  },
  {
   "cell_type": "markdown",
   "id": "a3213b33-b68e-4bdf-893e-58f7cce8bab2",
   "metadata": {},
   "source": [
    "## if elif else"
   ]
  },
  {
   "cell_type": "code",
   "execution_count": 5,
   "id": "20bae5b2-24f2-4897-b6f8-70c1f5aa72c4",
   "metadata": {},
   "outputs": [
    {
     "name": "stdin",
     "output_type": "stream",
     "text": [
      "Enter a number:  4\n"
     ]
    },
    {
     "name": "stdout",
     "output_type": "stream",
     "text": [
      "Even number\n"
     ]
    }
   ],
   "source": [
    "n = int(input(\"Enter a number: \"))\n",
    "if(n%2 == 0):\n",
    "    print(\"Even number\")\n",
    "else:\n",
    "    print(\"odd number\")"
   ]
  },
  {
   "cell_type": "code",
   "execution_count": 11,
   "id": "f56a5877-8299-4e62-9577-a5373b3a38fe",
   "metadata": {},
   "outputs": [
    {
     "name": "stdin",
     "output_type": "stream",
     "text": [
      "Enter a number:  15\n"
     ]
    },
    {
     "name": "stdout",
     "output_type": "stream",
     "text": [
      "Not a prime number\n"
     ]
    }
   ],
   "source": [
    "## Prime number.\n",
    "\n",
    "n = int(input(\"Enter a number: \"))\n",
    "flag = 0\n",
    "for i in range(2,n):\n",
    "    if(n%i == 0):\n",
    "        flag = 1\n",
    "        break\n",
    "if(flag):\n",
    "    print(\"Not a prime number\")\n",
    "else:\n",
    "    print(\"prime number\")"
   ]
  },
  {
   "cell_type": "code",
   "execution_count": 12,
   "id": "6898ec6d-e4dc-4f3d-9a71-b995b09fad11",
   "metadata": {},
   "outputs": [
    {
     "name": "stdin",
     "output_type": "stream",
     "text": [
      "Enter a number 10\n"
     ]
    },
    {
     "name": "stdout",
     "output_type": "stream",
     "text": [
      "2 is a prime number\n",
      "3 is a prime number\n",
      "4 is not a prime number\n",
      "5 is a prime number\n",
      "6 is not a prime number\n",
      "7 is a prime number\n",
      "8 is not a prime number\n",
      "9 is not a prime number\n",
      "10 is not a prime number\n"
     ]
    }
   ],
   "source": [
    "## List of prime numbers\n",
    "\n",
    "n = int(input(\"Enter a number\"))\n",
    "\n",
    "for i in range(2,n+1):\n",
    "    flag = 0\n",
    "    for j in range(2,i):\n",
    "        if(i%j == 0):\n",
    "            flag = 1\n",
    "            break\n",
    "    if(flag):\n",
    "        print(f\"{i} is not a prime number\")\n",
    "    else:\n",
    "        print(f\"{i} is a prime number\")\n",
    "        "
   ]
  },
  {
   "cell_type": "markdown",
   "id": "625d0d37-4eb3-40b9-8c41-414e2a182dd8",
   "metadata": {},
   "source": [
    "## while"
   ]
  },
  {
   "cell_type": "code",
   "execution_count": 3,
   "id": "a4ce57b0-ce3e-466c-993c-9d518f59edd9",
   "metadata": {},
   "outputs": [
    {
     "name": "stdout",
     "output_type": "stream",
     "text": [
      "1.Hello\n",
      "2.Hello\n",
      "3.Hello\n",
      "4.Hello\n",
      "5.Hello\n",
      "6.Hello\n",
      "7.Hello\n",
      "8.Hello\n",
      "9.Hello\n",
      "10.Hello\n"
     ]
    }
   ],
   "source": [
    "n = 1\n",
    "\n",
    "while(n <= 10):\n",
    "    print(f\"{n}.Hello\")\n",
    "    n+=1"
   ]
  },
  {
   "cell_type": "code",
   "execution_count": 9,
   "id": "fb0cd161-1ed6-4f4d-8e01-c3f422703661",
   "metadata": {},
   "outputs": [
    {
     "name": "stdout",
     "output_type": "stream",
     "text": [
      "Arun Rocks Rocks Rocks Rocks \n",
      "Arun Rocks Rocks Rocks Rocks \n",
      "Arun Rocks Rocks Rocks Rocks \n",
      "Arun Rocks Rocks Rocks Rocks \n",
      "Arun Rocks Rocks Rocks Rocks \n"
     ]
    }
   ],
   "source": [
    "i = 1\n",
    "j = 1\n",
    "\n",
    "while(i<=5):\n",
    "    print(\"Arun\",end = \" \")\n",
    "    j = 0\n",
    "    while(j<4):\n",
    "        j+=1\n",
    "        print(\"Rocks\",end = \" \")\n",
    "    print()   \n",
    "    i+=1"
   ]
  },
  {
   "cell_type": "markdown",
   "id": "264472c9-c894-4a75-8ba3-b971f92f8afc",
   "metadata": {},
   "source": [
    "## for loop"
   ]
  },
  {
   "cell_type": "code",
   "execution_count": 12,
   "id": "4b4d7bfb-29f6-41c3-902e-a8be8fd891d4",
   "metadata": {},
   "outputs": [
    {
     "name": "stdout",
     "output_type": "stream",
     "text": [
      "1\n",
      "2\n",
      "3\n",
      "Arun\n",
      "Kumar\n",
      "345.34\n"
     ]
    }
   ],
   "source": [
    "l1 = [1,2,3,\"Arun\",\"Kumar\",345.34]\n",
    "\n",
    "for i in l1:\n",
    "    print (i)"
   ]
  },
  {
   "cell_type": "code",
   "execution_count": 13,
   "id": "aa1fd03f-660a-4d8b-ad18-2cb3805302c6",
   "metadata": {},
   "outputs": [
    {
     "name": "stdout",
     "output_type": "stream",
     "text": [
      "A\n",
      "r\n",
      "u\n",
      "n\n",
      " \n",
      "K\n",
      "u\n",
      "m\n",
      "a\n",
      "r\n"
     ]
    }
   ],
   "source": [
    "p = \"Arun Kumar\"\n",
    "\n",
    "for i in p:\n",
    "    print(i)"
   ]
  },
  {
   "cell_type": "code",
   "execution_count": 14,
   "id": "77254143-4aae-42ee-947c-359906451b55",
   "metadata": {},
   "outputs": [
    {
     "name": "stdout",
     "output_type": "stream",
     "text": [
      "1\n",
      "4\n",
      "7\n",
      "10\n",
      "13\n",
      "16\n",
      "19\n",
      "22\n",
      "25\n",
      "28\n",
      "31\n",
      "34\n",
      "37\n",
      "40\n",
      "43\n",
      "46\n",
      "49\n"
     ]
    }
   ],
   "source": [
    "for i in range(1,50,3):\n",
    "    print(i)"
   ]
  },
  {
   "cell_type": "code",
   "execution_count": 17,
   "id": "dc2ddb1e-3e12-4759-a65e-1ab8cd901a4e",
   "metadata": {},
   "outputs": [
    {
     "name": "stdout",
     "output_type": "stream",
     "text": [
      "20\n",
      "19\n",
      "18\n",
      "17\n",
      "16\n",
      "15\n",
      "14\n",
      "13\n",
      "12\n",
      "11\n"
     ]
    }
   ],
   "source": [
    "for i in range(20,10,-1): # 10 is not included\n",
    "    print(i)"
   ]
  },
  {
   "cell_type": "markdown",
   "id": "327867a6-4ede-414a-9fff-be0829a26604",
   "metadata": {},
   "source": [
    "## break, continue, and pass"
   ]
  },
  {
   "cell_type": "code",
   "execution_count": 27,
   "id": "c27b77e9-f44b-4436-8d20-0ea2d495d5d4",
   "metadata": {},
   "outputs": [
    {
     "name": "stdin",
     "output_type": "stream",
     "text": [
      "Enter a number:  2\n",
      "Enter a number till which you want the multiplication table:  11\n"
     ]
    },
    {
     "name": "stdout",
     "output_type": "stream",
     "text": [
      "2*1 = 2\n",
      "2*2 = 4\n",
      "2*3 = 6\n",
      "2*4 = 8\n",
      "2*5 = 10\n",
      "2*6 = 12\n",
      "2*7 = 14\n",
      "2*8 = 16\n",
      "2*9 = 18\n",
      "2*10 = 20\n"
     ]
    }
   ],
   "source": [
    "## break\n",
    "\n",
    "n = int(input(\"Enter a number: \"))\n",
    "\n",
    "m = int(input(\"Enter a number till which you want the multiplication table: \"))\n",
    "i = 1\n",
    "while(1):\n",
    "    if(m!=i):\n",
    "        print(f\"{n}*{i} = {n*i}\")\n",
    "        i+=1\n",
    "    else:\n",
    "        break"
   ]
  },
  {
   "cell_type": "code",
   "execution_count": 30,
   "id": "90e0d6c6-5cd4-4015-86ec-3ab16103c3d9",
   "metadata": {},
   "outputs": [
    {
     "name": "stdin",
     "output_type": "stream",
     "text": [
      "Enter a number:  20\n"
     ]
    },
    {
     "name": "stdout",
     "output_type": "stream",
     "text": [
      "1\n",
      "3\n",
      "5\n",
      "7\n",
      "9\n",
      "11\n",
      "13\n",
      "15\n",
      "17\n",
      "19\n"
     ]
    }
   ],
   "source": [
    "## Continue\n",
    "\n",
    "## printing the numbers in the given range which are not divisible by 2.\n",
    "\n",
    "n = int(input(\"Enter a number: \"))\n",
    "\n",
    "for i in range(n+1):\n",
    "    if(i%2 == 0):\n",
    "        continue # it will just skip the iteration and does nothing for that iteration.\n",
    "    else:\n",
    "        print(i)"
   ]
  },
  {
   "cell_type": "code",
   "execution_count": 31,
   "id": "47604371-0e55-45e6-be69-6fdf85494a96",
   "metadata": {},
   "outputs": [
    {
     "name": "stdout",
     "output_type": "stream",
     "text": [
      "1\n",
      "3\n",
      "5\n",
      "7\n",
      "9\n",
      "11\n",
      "13\n",
      "15\n",
      "17\n",
      "19\n",
      "21\n",
      "23\n",
      "25\n",
      "27\n",
      "29\n",
      "31\n",
      "33\n",
      "35\n",
      "37\n",
      "39\n",
      "41\n",
      "43\n",
      "45\n",
      "47\n",
      "49\n",
      "51\n",
      "53\n",
      "55\n",
      "57\n",
      "59\n",
      "61\n",
      "63\n",
      "65\n",
      "67\n",
      "69\n",
      "71\n",
      "73\n",
      "75\n",
      "77\n",
      "79\n",
      "81\n",
      "83\n",
      "85\n",
      "87\n",
      "89\n",
      "91\n",
      "93\n",
      "95\n",
      "97\n",
      "99\n"
     ]
    }
   ],
   "source": [
    "## pass\n",
    "\n",
    "## This can be used when you have to check the condition and dont want to do anything and keep\n",
    "## it empty.\n",
    "\n",
    "for i in range(1,101):\n",
    "    if(i%2 == 0):\n",
    "        pass\n",
    "    else:\n",
    "        print(i)"
   ]
  },
  {
   "cell_type": "markdown",
   "id": "dee051aa-cbda-486a-9656-2ec1f114204f",
   "metadata": {},
   "source": [
    "## For else"
   ]
  },
  {
   "cell_type": "code",
   "execution_count": 34,
   "id": "1b1c6ca4-bf2b-45fc-a369-5eb404f8db07",
   "metadata": {},
   "outputs": [
    {
     "name": "stdout",
     "output_type": "stream",
     "text": [
      "not found\n"
     ]
    }
   ],
   "source": [
    "nums = [12,11,18,21,26]\n",
    "\n",
    "for i in range(len(nums)):\n",
    "    if nums[i]%5 == 0:\n",
    "        print(\"Found\")\n",
    "else:\n",
    "    print(\"not found\")"
   ]
  },
  {
   "cell_type": "markdown",
   "id": "7ce59b52-708b-40b8-a114-bef48ca1e5c6",
   "metadata": {},
   "source": [
    "## Arrays"
   ]
  },
  {
   "cell_type": "code",
   "execution_count": 40,
   "id": "a4447455-fa6a-46f3-8587-072c76a0f1d8",
   "metadata": {},
   "outputs": [
    {
     "name": "stdout",
     "output_type": "stream",
     "text": [
      "array('i', [1, 2, 3, 9, 8, 7, 6])\n"
     ]
    }
   ],
   "source": [
    "# Arrays in python does not have specific size.\n",
    "\n",
    "from array import array as a\n",
    "vals = a('i',[1,2,3,9,8,7,6])\n",
    "\n",
    "print(vals)"
   ]
  },
  {
   "cell_type": "code",
   "execution_count": 41,
   "id": "3915cdc6-752b-4a2d-8b9d-c2f02ea7eacd",
   "metadata": {},
   "outputs": [
    {
     "data": {
      "text/plain": [
       "array('i', [6, 7, 8, 9, 3, 2, 1])"
      ]
     },
     "execution_count": 41,
     "metadata": {},
     "output_type": "execute_result"
    }
   ],
   "source": [
    "vals.reverse()\n",
    "vals"
   ]
  },
  {
   "cell_type": "code",
   "execution_count": 47,
   "id": "0ddae7b5-2e63-4497-bbc9-7d6d046d7654",
   "metadata": {},
   "outputs": [
    {
     "data": {
      "text/plain": [
       "(1793474982576, 7)"
      ]
     },
     "execution_count": 47,
     "metadata": {},
     "output_type": "execute_result"
    }
   ],
   "source": [
    "vals.buffer_info()\n",
    "# this method gives the size of the array and the base address"
   ]
  },
  {
   "cell_type": "code",
   "execution_count": 48,
   "id": "3a96190c-cd14-42e1-b10b-2ed1d1e7b05a",
   "metadata": {},
   "outputs": [
    {
     "data": {
      "text/plain": [
       "6"
      ]
     },
     "execution_count": 48,
     "metadata": {},
     "output_type": "execute_result"
    }
   ],
   "source": [
    "vals[0]"
   ]
  },
  {
   "cell_type": "code",
   "execution_count": 50,
   "id": "b3524ea8-490b-4d91-99f4-b7c5a2a6b967",
   "metadata": {},
   "outputs": [
    {
     "name": "stdout",
     "output_type": "stream",
     "text": [
      "6\n",
      "7\n",
      "8\n",
      "9\n",
      "3\n",
      "2\n",
      "1\n"
     ]
    }
   ],
   "source": [
    "for i in range(len(vals)):\n",
    "    print(vals[i])"
   ]
  },
  {
   "cell_type": "code",
   "execution_count": 51,
   "id": "3661739b-116f-4d0f-9c82-aba26a6d8025",
   "metadata": {},
   "outputs": [
    {
     "name": "stdout",
     "output_type": "stream",
     "text": [
      "a\n",
      "e\n",
      "i\n",
      "o\n",
      "u\n"
     ]
    }
   ],
   "source": [
    "from array import *\n",
    "\n",
    "arrc = array('u',['a','e','i','o','u'])\n",
    "\n",
    "for i in range(len(arrc)):\n",
    "    print(arrc[i])"
   ]
  },
  {
   "cell_type": "code",
   "execution_count": 2,
   "id": "ec9e7b69-1d69-4701-9046-56514fc45405",
   "metadata": {},
   "outputs": [
    {
     "name": "stdout",
     "output_type": "stream",
     "text": [
      "1\n",
      "4\n",
      "16\n",
      "4\n",
      "36\n"
     ]
    }
   ],
   "source": [
    "from array import *\n",
    "\n",
    "vals = array('i',[1,2,4,2,6])\n",
    "\n",
    "newarr = array(vals.typecode,(a*a for a in vals))\n",
    "# Instead of  mentioning the typecode specifically, we can take the typecode from the other array using typecode.\n",
    "\n",
    "for i in newarr:\n",
    "    print(i)"
   ]
  },
  {
   "cell_type": "code",
   "execution_count": 6,
   "id": "fe8df03a-b7b6-44d7-a67c-f742369b267b",
   "metadata": {},
   "outputs": [
    {
     "name": "stdin",
     "output_type": "stream",
     "text": [
      "Enter the number of values:  5\n",
      " 2\n",
      " 3\n",
      " 4\n",
      " 5\n",
      " 1\n"
     ]
    },
    {
     "name": "stdout",
     "output_type": "stream",
     "text": [
      "array('i', [2, 3, 4, 5, 1])\n"
     ]
    }
   ],
   "source": [
    "from array import *\n",
    "a=array('i',[]) # since we are expecting integer values from user, we have used 'i' while declaring\n",
    "\n",
    "n = int(input(\"Enter the number of values: \"))\n",
    "\n",
    "for i in range(n):\n",
    "    p = int(input())\n",
    "    a.append(p)\n",
    "print(a)"
   ]
  },
  {
   "cell_type": "code",
   "execution_count": 12,
   "id": "c1fb14e3-4548-4e0b-9700-db19ab14d028",
   "metadata": {},
   "outputs": [
    {
     "name": "stdin",
     "output_type": "stream",
     "text": [
      "Enter the no.of elements:  6\n"
     ]
    },
    {
     "name": "stdout",
     "output_type": "stream",
     "text": [
      "enter elements: \n"
     ]
    },
    {
     "name": "stdin",
     "output_type": "stream",
     "text": [
      " 1\n",
      " 2\n",
      " 3\n",
      " 4\n",
      " 5\n",
      " 6\n"
     ]
    },
    {
     "name": "stdout",
     "output_type": "stream",
     "text": [
      "Enter the element to find: \n"
     ]
    },
    {
     "name": "stdin",
     "output_type": "stream",
     "text": [
      " 7\n"
     ]
    },
    {
     "name": "stdout",
     "output_type": "stream",
     "text": [
      "Not present\n"
     ]
    }
   ],
   "source": [
    "# element search in array\n",
    "\n",
    "from array import *\n",
    "a = array('i',[])\n",
    "\n",
    "n = int(input(\"Enter the no.of elements: \"))\n",
    "\n",
    "print(\"enter elements: \")\n",
    "for i in range(n):\n",
    "    p = int(input())\n",
    "    a.append(p)\n",
    "\n",
    "print(\"Enter the element to find: \")\n",
    "ele = int(input())\n",
    "count =0\n",
    "for i in a:\n",
    "    if ele in a:\n",
    "        print(\"Present\")\n",
    "        print(i)\n",
    "        break\n",
    "    else:\n",
    "        count+=1\n",
    "        \n",
    "if(count == n):\n",
    "    print(\"Not present\")"
   ]
  },
  {
   "cell_type": "code",
   "execution_count": 13,
   "id": "dedb2b3b-8e06-451b-85ca-6b9639bab723",
   "metadata": {},
   "outputs": [
    {
     "ename": "TypeError",
     "evalue": "array() takes at most 2 arguments (3 given)",
     "output_type": "error",
     "traceback": [
      "\u001b[1;31m---------------------------------------------------------------------------\u001b[0m",
      "\u001b[1;31mTypeError\u001b[0m                                 Traceback (most recent call last)",
      "Cell \u001b[1;32mIn[13], line 12\u001b[0m\n\u001b[0;32m      3\u001b[0m \u001b[38;5;124;03m'''\u001b[39;00m\n\u001b[0;32m      4\u001b[0m \u001b[38;5;124;03mWith the usual pyton libraries, we cannot implement multi-dimensional arrays.\u001b[39;00m\n\u001b[0;32m      5\u001b[0m \u001b[38;5;124;03mTo implement them we need to include numpy libraries.\u001b[39;00m\n\u001b[0;32m      6\u001b[0m \n\u001b[0;32m      7\u001b[0m \n\u001b[0;32m      8\u001b[0m \u001b[38;5;124;03m'''\u001b[39;00m\n\u001b[0;32m     10\u001b[0m \u001b[38;5;28;01mfrom\u001b[39;00m \u001b[38;5;21;01marray\u001b[39;00m \u001b[38;5;28;01mimport\u001b[39;00m \u001b[38;5;241m*\u001b[39m\n\u001b[1;32m---> 12\u001b[0m a \u001b[38;5;241m=\u001b[39m \u001b[43marray\u001b[49m\u001b[43m(\u001b[49m\u001b[38;5;124;43m'\u001b[39;49m\u001b[38;5;124;43mi\u001b[39;49m\u001b[38;5;124;43m'\u001b[39;49m\u001b[43m,\u001b[49m\u001b[43m[\u001b[49m\u001b[38;5;241;43m1\u001b[39;49m\u001b[43m,\u001b[49m\u001b[38;5;241;43m2\u001b[39;49m\u001b[43m,\u001b[49m\u001b[38;5;241;43m3\u001b[39;49m\u001b[43m]\u001b[49m\u001b[43m,\u001b[49m\u001b[43m[\u001b[49m\u001b[38;5;241;43m4\u001b[39;49m\u001b[43m,\u001b[49m\u001b[38;5;241;43m5\u001b[39;49m\u001b[43m,\u001b[49m\u001b[38;5;241;43m6\u001b[39;49m\u001b[43m]\u001b[49m\u001b[43m)\u001b[49m\n\u001b[0;32m     14\u001b[0m \u001b[38;5;28mprint\u001b[39m(a)\n",
      "\u001b[1;31mTypeError\u001b[0m: array() takes at most 2 arguments (3 given)"
     ]
    }
   ],
   "source": [
    "# What is Numpy?\n",
    "\n",
    "'''\n",
    "With the usual pyton libraries, we cannot implement multi-dimensional arrays.\n",
    "To implement them we need to include numpy libraries.\n",
    "\n",
    "\n",
    "'''\n",
    "\n",
    "from array import *\n",
    "\n",
    "a = array('i',[1,2,3],[4,5,6])\n",
    "\n",
    "print(a)"
   ]
  },
  {
   "cell_type": "code",
   "execution_count": 22,
   "id": "3ca9d9cc-69a3-4958-9b89-c8817f684c99",
   "metadata": {},
   "outputs": [
    {
     "name": "stdout",
     "output_type": "stream",
     "text": [
      "[[1 2 3]\n",
      " [4 5 6]]\n"
     ]
    }
   ],
   "source": [
    "# if you don't have numpy libraries, use pip install numpy to install the libraries.\n",
    "# When we are using numpy libraries to create arrays, we don't need to mention the typecode.\n",
    "from numpy import *\n",
    "a = array([[1,2,3],[4,5,6]])\n",
    "print(a)\n"
   ]
  },
  {
   "cell_type": "code",
   "execution_count": 32,
   "id": "e5de2afe-bb49-45ba-97e8-641180c1ddca",
   "metadata": {},
   "outputs": [
    {
     "name": "stdout",
     "output_type": "stream",
     "text": [
      "[1 2 3 4 5]\n",
      "int64\n",
      "\n",
      "[1. 2. 3. 4. 5.]\n",
      "float64\n"
     ]
    }
   ],
   "source": [
    "# There are 6 ways to create an array using numpy libraries.\n",
    "\n",
    "'''\n",
    "1. array()\n",
    "2. linspace()\n",
    "3. logspace()\n",
    "4. arange()\n",
    "5. zeros()\n",
    "6. ones()\n",
    "\n",
    "'''\n",
    "\n",
    "from numpy import *\n",
    "\n",
    "arr = array([1,2,3,4,5],int) # here the datatype is optional.\n",
    "print(arr)\n",
    "print(arr.dtype)\n",
    "print()\n",
    "\n",
    "# According to the array definition, we need to have all the elements of same datatype\n",
    "# If there is any different datatype like float, then all the values will be converted to float.\n",
    "# and we get the datatype also as float.\n",
    "# as we are not mentioning the datatype explicity, the implicit conversion will be done by the interpreter.\n",
    "from numpy import *\n",
    "\n",
    "arr = array([1,2,3,4,5.0])\n",
    "\n",
    "print(arr)\n",
    "print(arr.dtype)"
   ]
  },
  {
   "cell_type": "code",
   "execution_count": 42,
   "id": "572081b7-f3dd-4b28-acc5-5532cecd90f5",
   "metadata": {},
   "outputs": [
    {
     "name": "stdout",
     "output_type": "stream",
     "text": [
      "[ 0.          0.78947368  1.57894737  2.36842105  3.15789474  3.94736842\n",
      "  4.73684211  5.52631579  6.31578947  7.10526316  7.89473684  8.68421053\n",
      "  9.47368421 10.26315789 11.05263158 11.84210526 12.63157895 13.42105263\n",
      " 14.21052632 15.        ]\n"
     ]
    }
   ],
   "source": [
    "# linspace(), using this we can create an array.\n",
    "# linspace(,,) - Here 1st field is START\n",
    "#              - 2nd field is STOP\n",
    "#              - 3rd field is no.of parts we need to divide the given range.\n",
    "\n",
    "# Here start and stop values are inclusive.\n",
    "# If we don't specify 3rd field, then by default the range will be divided into 50 parts.\n",
    "from numpy import *\n",
    "\n",
    "arr = linspace(0,15,20)\n",
    "print(arr)"
   ]
  },
  {
   "cell_type": "code",
   "execution_count": 41,
   "id": "46c5158a-2cee-4d1c-9b3a-cd408e869724",
   "metadata": {},
   "outputs": [
    {
     "data": {
      "text/plain": [
       "array([ 1.        ,  1.30612245,  1.6122449 ,  1.91836735,  2.2244898 ,\n",
       "        2.53061224,  2.83673469,  3.14285714,  3.44897959,  3.75510204,\n",
       "        4.06122449,  4.36734694,  4.67346939,  4.97959184,  5.28571429,\n",
       "        5.59183673,  5.89795918,  6.20408163,  6.51020408,  6.81632653,\n",
       "        7.12244898,  7.42857143,  7.73469388,  8.04081633,  8.34693878,\n",
       "        8.65306122,  8.95918367,  9.26530612,  9.57142857,  9.87755102,\n",
       "       10.18367347, 10.48979592, 10.79591837, 11.10204082, 11.40816327,\n",
       "       11.71428571, 12.02040816, 12.32653061, 12.63265306, 12.93877551,\n",
       "       13.24489796, 13.55102041, 13.85714286, 14.16326531, 14.46938776,\n",
       "       14.7755102 , 15.08163265, 15.3877551 , 15.69387755, 16.        ])"
      ]
     },
     "execution_count": 41,
     "metadata": {},
     "output_type": "execute_result"
    }
   ],
   "source": [
    "# 50 parts.\n",
    "\n",
    "arr1 = linspace(1,16)\n",
    "arr1"
   ]
  },
  {
   "cell_type": "code",
   "execution_count": 45,
   "id": "5b01010a-0317-4a6a-949a-c46f055d3c9b",
   "metadata": {},
   "outputs": [
    {
     "data": {
      "text/plain": [
       "array([ 1,  3,  5,  7,  9, 11, 13, 15, 17, 19])"
      ]
     },
     "execution_count": 45,
     "metadata": {},
     "output_type": "execute_result"
    }
   ],
   "source": [
    "## arange() - using this we can acreate an array\n",
    "## arange(,,) - 1st and 2nd fields are start and stop values resp.\n",
    "#             - 3rd field is the STEP value.\n",
    "\n",
    "from numpy import *\n",
    "\n",
    "a = arange(1,20,2)\n",
    "a"
   ]
  },
  {
   "cell_type": "code",
   "execution_count": 50,
   "id": "a88ae993-2e39-471b-92a6-b37fb1157e5a",
   "metadata": {},
   "outputs": [
    {
     "data": {
      "text/plain": [
       "array([ 100.        ,  158.48931925,  251.18864315,  398.10717055,\n",
       "        630.95734448, 1000.        ])"
      ]
     },
     "execution_count": 50,
     "metadata": {},
     "output_type": "execute_result"
    }
   ],
   "source": [
    "## logspace()\n",
    "## logspace(,,) - 1st and 2nd are start and stop values resp.\n",
    "# the range will ve 10**start and 10**stop\n",
    "# 3rd field is Number of samples to generate.\n",
    "# the default value of 3rd field will be 50.\n",
    "\n",
    "# eg: 10**2 and 10**3 are the start and stop values and this range will ve divided into 6 parts\n",
    "\n",
    "from numpy import *\n",
    "\n",
    "arr = logspace(2,3,6)\n",
    "arr"
   ]
  },
  {
   "cell_type": "code",
   "execution_count": 53,
   "id": "dcbc7797-6623-4959-9552-8457a3ffb564",
   "metadata": {},
   "outputs": [
    {
     "data": {
      "text/plain": [
       "array([1, 1, 1, 1, 1])"
      ]
     },
     "execution_count": 53,
     "metadata": {},
     "output_type": "execute_result"
    }
   ],
   "source": [
    "## ones() - it creates an array of ones\n",
    "\n",
    "from numpy import *\n",
    "\n",
    "arr = ones(5,int)\n",
    "arr"
   ]
  },
  {
   "cell_type": "code",
   "execution_count": 54,
   "id": "a8331de6-8cba-4114-94cf-ab3d762727c3",
   "metadata": {},
   "outputs": [
    {
     "data": {
      "text/plain": [
       "array([0, 0, 0, 0, 0, 0, 0, 0, 0, 0])"
      ]
     },
     "execution_count": 54,
     "metadata": {},
     "output_type": "execute_result"
    }
   ],
   "source": [
    "## zeros() - it creates an array of zeros\n",
    "\n",
    "from numpy import *\n",
    "\n",
    "arr = zeros(10,int)\n",
    "arr"
   ]
  },
  {
   "cell_type": "code",
   "execution_count": 1,
   "id": "1d779d8c-0bad-4910-82b5-57cd3bc70255",
   "metadata": {},
   "outputs": [
    {
     "data": {
      "text/plain": [
       "array([0, 0, 0, 0, 0, 0, 0, 0, 0, 0])"
      ]
     },
     "execution_count": 1,
     "metadata": {},
     "output_type": "execute_result"
    }
   ],
   "source": [
    "import numpy as np\n",
    "\n",
    "arr = np.zeros(10,int)\n",
    "arr"
   ]
  },
  {
   "cell_type": "code",
   "execution_count": 2,
   "id": "6cefa632-a29d-470b-8b5e-dfa7808b376e",
   "metadata": {},
   "outputs": [
    {
     "name": "stdout",
     "output_type": "stream",
     "text": [
      "[10 10 10 10 10]\n"
     ]
    }
   ],
   "source": [
    "## operations on arrays\n",
    "\n",
    "import numpy as np\n",
    "arr1 = np.array([1,2,3,4,5])\n",
    "arr2 = np.array([9,8,7,6,5])\n",
    "\n",
    "arr3 = arr1+arr2\n",
    "print(arr3)"
   ]
  },
  {
   "cell_type": "code",
   "execution_count": 3,
   "id": "c10f3d68-55ce-46e1-945a-d4d09331bc11",
   "metadata": {},
   "outputs": [
    {
     "data": {
      "text/plain": [
       "array([ 6,  7,  8,  9, 10])"
      ]
     },
     "execution_count": 3,
     "metadata": {},
     "output_type": "execute_result"
    }
   ],
   "source": [
    "arr1+5"
   ]
  },
  {
   "cell_type": "code",
   "execution_count": 5,
   "id": "32149e3d-c7e2-4ff9-ad52-3b4b5cb65121",
   "metadata": {},
   "outputs": [
    {
     "name": "stdout",
     "output_type": "stream",
     "text": [
      "[-0.54402111  0.91294525 -0.98803162 -0.30481062  0.89399666 -0.80115264]\n"
     ]
    }
   ],
   "source": [
    "import numpy as np\n",
    "\n",
    "arr1 = np.array([10,20,30,60,90,180])\n",
    "p = np.sin(arr1)\n",
    "\n",
    "print(p)"
   ]
  },
  {
   "cell_type": "code",
   "execution_count": 12,
   "id": "9471c57b-1cf4-47d0-88c5-b55702833249",
   "metadata": {},
   "outputs": [
    {
     "name": "stdout",
     "output_type": "stream",
     "text": [
      "sum = 38\n",
      "max = 9\n",
      "min = 2\n",
      "sqrt = [2.         1.41421356 2.23606798 2.44948974 1.41421356 2.\n",
      " 2.44948974 3.        ]\n",
      "sort = [2 2 4 4 5 6 6 9]\n"
     ]
    }
   ],
   "source": [
    "import numpy as np\n",
    "\n",
    "arr1 = np.array([4,2,5,6,2,4,6,9])\n",
    "\n",
    "print(f\"sum = {sum(arr1)}\")\n",
    "print(f\"max = {max(arr1)}\")\n",
    "print(f\"min = {min(arr1)}\")\n",
    "print(f\"sqrt = {np.sqrt(arr1)}\")\n",
    "print(f\"sort = {np.sort(arr1)}\")"
   ]
  },
  {
   "cell_type": "code",
   "execution_count": 25,
   "id": "e011cfd9-8fe9-468b-80c7-06e7dfc6f4fe",
   "metadata": {},
   "outputs": [
    {
     "name": "stdout",
     "output_type": "stream",
     "text": [
      "[1 2 3 4 1 2 3 4]\n",
      "Address =  2585929822832\n",
      "Address =  2585929822832\n"
     ]
    }
   ],
   "source": [
    "'''\n",
    "Here we are copying two arrays, just using the equality operator, this means that we are just doing\n",
    "the aliasing of the old array.\n",
    "So only we are getting the same address.\n",
    "Now the modifications can be done by using arr1 and arr2.\n",
    "'''\n",
    "\n",
    "import numpy as np\n",
    "arr1 = np.array([1,2,3,4])\n",
    "arr2 = arr1\n",
    "\n",
    "print(np.concatenate([arr1,arr2]))\n",
    "\n",
    "print(\"Address = \",id(arr1))\n",
    "print(\"Address = \",id(arr2))\n",
    "\n"
   ]
  },
  {
   "cell_type": "code",
   "execution_count": 34,
   "id": "4169917e-bf10-4f9c-abc8-78a2ac20960d",
   "metadata": {},
   "outputs": [
    {
     "name": "stdout",
     "output_type": "stream",
     "text": [
      "[1 2 3 4]\n",
      "[1 2 3 4]\n",
      "Address =  2585808236784\n",
      "Address =  2585929823504\n"
     ]
    }
   ],
   "source": [
    "'''\n",
    "Here we are copying the array using a special function called view()\n",
    "This will copy the array but with a different memory location.\n",
    "'''\n",
    "\n",
    "import numpy as np\n",
    "arr1 = np.array([1,2,3,4])\n",
    "arr2 = arr1.view()\n",
    "print(arr1)\n",
    "print(arr2)\n",
    "print(\"Address = \",id(arr1))\n",
    "print(\"Address = \",id(arr2))\n"
   ]
  },
  {
   "cell_type": "code",
   "execution_count": 1,
   "id": "c96b6c03-4b2d-48d5-9bb6-d719e523dfa0",
   "metadata": {},
   "outputs": [
    {
     "name": "stdout",
     "output_type": "stream",
     "text": [
      "[1 2 5 4]\n",
      "[1 2 5 4]\n",
      "Address =  2868396356304\n",
      "Address =  2868396357456\n"
     ]
    }
   ],
   "source": [
    "# There are three kinds of copy\n",
    "# Shallow copy\n",
    "\n",
    "'''\n",
    "1. Assigning one array to other array.\n",
    "2. Using view function - (a.k.a. Shallow copy)\n",
    "Shallow copy copies the elements of an array in two different memory locations, but changes made in one array will reflect in other array too.\n",
    "3. Using copy function - (a.k.a. Deep copy)\n",
    "Deep copy copies the elements of an array in two different memory locations, but chnages will NOT be reflected in the other array.\n",
    "'''\n",
    "\n",
    "import numpy as np\n",
    "arr1 = np.array([1,2,3,4])\n",
    "\n",
    "arr2 = arr1.view()\n",
    "arr1[2] = 5\n",
    "print(arr1)\n",
    "print(arr2)\n",
    "print(\"Address = \",id(arr1))\n",
    "print(\"Address = \",id(arr2))\n"
   ]
  },
  {
   "cell_type": "code",
   "execution_count": 37,
   "id": "6aca4100-e6f1-4347-b10e-8a159bc53fbb",
   "metadata": {},
   "outputs": [
    {
     "name": "stdout",
     "output_type": "stream",
     "text": [
      "[1 2 5 4]\n",
      "[1 2 3 4]\n",
      "Address =  2585929823216\n",
      "Address =  2585929823504\n"
     ]
    }
   ],
   "source": [
    "# Deep copy\n",
    "\n",
    "import numpy as np\n",
    "arr1 = np.array([1,2,3,4])\n",
    "arr2 = arr1.copy()\n",
    "arr1[2] = 5\n",
    "print(arr1)\n",
    "print(arr2)\n",
    "print(\"Address = \",id(arr1))\n",
    "print(\"Address = \",id(arr2))"
   ]
  },
  {
   "cell_type": "code",
   "execution_count": 48,
   "id": "966fc82d-63eb-4a0d-9a9c-886e90dddc07",
   "metadata": {},
   "outputs": [
    {
     "name": "stdout",
     "output_type": "stream",
     "text": [
      "[[ 1  2  3  4]\n",
      " [ 5  6  7  8]\n",
      " [10 20 30 40]]\n",
      "\n",
      "int64\n",
      "\n",
      "2\n",
      "\n",
      "(3, 4)\n",
      "\n",
      "[ 1  2  3  4  5  6  7  8 10 20 30 40]\n",
      "\n",
      "[[ 1  2]\n",
      " [ 3  4]\n",
      " [ 5  6]\n",
      " [ 7  8]\n",
      " [10 20]\n",
      " [30 40]]\n",
      "\n",
      "[[[ 1  2  3]\n",
      "  [ 4  5  6]]\n",
      "\n",
      " [[ 7  8 10]\n",
      "  [20 30 40]]]\n"
     ]
    }
   ],
   "source": [
    "# multi-dimentional arrays\n",
    "import numpy as np\n",
    "\n",
    "arr1 = np.array([\n",
    "    [1,2,3,4],\n",
    "    [5,6,7,8],\n",
    "    [10,20,30,40]\n",
    "])\n",
    "\n",
    "print(arr1)\n",
    "print()\n",
    "print(arr1.dtype)   # Gives the data type of the data \n",
    "print()\n",
    "print(arr1.ndim)    # Gives the dimension of the data\n",
    "print()\n",
    "print(arr1.shape)   # Gives the order of the matrix. Here 2*4\n",
    "print()\n",
    "print(arr1.flatten()) # Will convert the multi-dimensional data to a single dimension data.\n",
    "print()\n",
    "print(arr1.reshape(6,2)) # Will convert the data into a required ordered matrix.\n",
    "print()\n",
    "print(arr1.reshape(2,2,3)) # Will get two 2D arrays and each array will be ther order of (2,3)"
   ]
  },
  {
   "cell_type": "code",
   "execution_count": 54,
   "id": "3f5ed46a-6166-4be5-a5d1-fac6df0b7359",
   "metadata": {},
   "outputs": [
    {
     "name": "stdout",
     "output_type": "stream",
     "text": [
      "Matrix: [[1 2 3]\n",
      " [4 5 6]\n",
      " [7 8 9]]\n",
      "Diagonal matrix: [1 5 9]\n",
      "Minimum value: 1\n"
     ]
    }
   ],
   "source": [
    "import numpy as np\n",
    "\n",
    "m = np.matrix('1 2 3; 4 5 6 ; 7 8 9')\n",
    "print(f\"Matrix: {m}\")\n",
    "print(f\"Diagonal matrix: {np.diagonal(m)}\")\n",
    "print(f\"Minimum value: {m.min()}\")"
   ]
  },
  {
   "cell_type": "markdown",
   "id": "20da8301-eaae-448b-b200-e9a713d50b83",
   "metadata": {},
   "source": [
    "## Functions"
   ]
  },
  {
   "cell_type": "code",
   "execution_count": 55,
   "id": "47eb7220-8a87-4573-a7fc-a3b319d96fdd",
   "metadata": {},
   "outputs": [
    {
     "name": "stdout",
     "output_type": "stream",
     "text": [
      "Hello all\n",
      "Welcome to the party\n"
     ]
    }
   ],
   "source": [
    "# Functions are used to reduce the number of lines of code.\n",
    "# A certain task can be written as a function and whenever there is a need of that function, then we can call that function.\n",
    "\n",
    "def greet():\n",
    "    print(\"Hello all\")\n",
    "    print(\"Welcome to the party\")\n",
    "\n",
    "greet()"
   ]
  },
  {
   "cell_type": "code",
   "execution_count": 57,
   "id": "d698032b-f73b-41ee-93bc-8617b5a937ac",
   "metadata": {},
   "outputs": [
    {
     "name": "stdin",
     "output_type": "stream",
     "text": [
      "Enter a number:  5\n",
      "Enter a number:  4\n"
     ]
    },
    {
     "name": "stdout",
     "output_type": "stream",
     "text": [
      "Addition:  9\n"
     ]
    }
   ],
   "source": [
    "def add(x,y):\n",
    "    c = x+y\n",
    "    return c\n",
    "\n",
    "x = int(input(\"Enter a number: \"))\n",
    "y = int(input(\"Enter a number: \"))\n",
    "\n",
    "res = add(x,y)\n",
    "print(\"Addition: \",res)"
   ]
  },
  {
   "cell_type": "code",
   "execution_count": 60,
   "id": "f4b1108a-1bf3-4f15-89f4-d641c3adb734",
   "metadata": {},
   "outputs": [
    {
     "name": "stdin",
     "output_type": "stream",
     "text": [
      "Enter a number:  6\n",
      "Enter a number:  5\n"
     ]
    },
    {
     "name": "stdout",
     "output_type": "stream",
     "text": [
      "Addition: 11     Subtraction: 1\n"
     ]
    }
   ],
   "source": [
    "'''\n",
    "Can return multiple values.\n",
    "'''\n",
    "def add_sub(x,y):\n",
    "    c = x+y\n",
    "    d = x-y\n",
    "    return c,d\n",
    "\n",
    "x = int(input(\"Enter a number: \"))\n",
    "y = int(input(\"Enter a number: \"))\n",
    "\n",
    "res1,res2 = add_sub(x,y)\n",
    "print(f\"Addition: {res1}     Subtraction: {res2}\")"
   ]
  },
  {
   "cell_type": "code",
   "execution_count": 3,
   "id": "b1dd44ce-2be8-4aee-9685-9648bd915cf0",
   "metadata": {},
   "outputs": [
    {
     "name": "stdout",
     "output_type": "stream",
     "text": [
      "ID of a is : 140732894835784\n",
      "ID of x before change: 140732894835784\n",
      "ID of x after change: 140732894835720\n",
      "x =  8\n",
      "a =  10\n"
     ]
    }
   ],
   "source": [
    "# In python we doesn't have pass by value or pass by reference.\n",
    "'''\n",
    "For immutable objects (like integers, strings, tuples), changes made inside the function result in a new object being created, \n",
    "and the original object remains unchanged.\n",
    "\n",
    "'''\n",
    "def update(x):\n",
    "    print(f\"ID of x before change: {id(x)}\")\n",
    "    x=8\n",
    "    print(f\"ID of x after change: {id(x)}\")\n",
    "    print(\"x = \",x)\n",
    "\n",
    "a = 10\n",
    "print(f\"ID of a is : {id(a)}\")\n",
    "update(a)\n",
    "\n",
    "print(\"a = \",a)"
   ]
  },
  {
   "cell_type": "code",
   "execution_count": 2,
   "id": "ea554e73-7389-4311-8629-e26304dc8b9c",
   "metadata": {},
   "outputs": [
    {
     "name": "stdout",
     "output_type": "stream",
     "text": [
      "ID of lst is : 2868398345216\n",
      "ID of lst before change: 2868398345216\n",
      "ID of lst after change: 2868398345216\n",
      "x =  [10, 25, 30]\n",
      "lst =  [10, 25, 30]\n"
     ]
    }
   ],
   "source": [
    "# In python we doesn't have pass by value or pass by reference.\n",
    "'''\n",
    "In Python, function arguments are passed by object reference. For mutable objects (like lists, dictionaries), \n",
    "the function can modify the contents of the object because both the caller and the function share the same reference.\n",
    "'''\n",
    "def update(lst):\n",
    "    print(f\"ID of lst before change: {id(lst)}\")\n",
    "    lst[1] = 25\n",
    "    print(f\"ID of lst after change: {id(lst)}\")\n",
    "    print(\"x = \",lst)\n",
    "\n",
    "p = [10,20,30]\n",
    "print(f\"ID of lst is : {id(p)}\")\n",
    "update(p)\n",
    "\n",
    "print(\"lst = \",p)"
   ]
  },
  {
   "cell_type": "code",
   "execution_count": 4,
   "id": "027d6edd-483c-4986-996b-5f40a6e08138",
   "metadata": {},
   "outputs": [
    {
     "name": "stdout",
     "output_type": "stream",
     "text": [
      "Final sum = 15\n"
     ]
    }
   ],
   "source": [
    "## Variable length arguments\n",
    "## When we are not sure about the number of arguments, then we need to pass * and an variable as a formal parameter. \n",
    "def sum(*b):\n",
    "    c = 0\n",
    "    for i in b:\n",
    "        c = c+i\n",
    "    print(f\"Final sum = {c}\")\n",
    "\n",
    "sum(1,2,3,4,5)"
   ]
  },
  {
   "cell_type": "code",
   "execution_count": 4,
   "id": "df7ee7fc-16d4-4648-b432-939d823ff2c4",
   "metadata": {},
   "outputs": [
    {
     "name": "stdin",
     "output_type": "stream",
     "text": [
      "Enter num of rows:  2\n",
      "Enter num of cols:  2\n",
      "Enter a val:  1\n",
      "Enter a val:  2\n",
      "Enter a val:  3\n",
      "Enter a val:  2\n"
     ]
    },
    {
     "name": "stdout",
     "output_type": "stream",
     "text": [
      "Final array is\n",
      "[[1, 2], [3, 2]]\n",
      "<class 'list'>\n"
     ]
    }
   ],
   "source": [
    "rows = int(input(\"Enter num of rows: \"))\n",
    "cols = int(input(\"Enter num of cols: \"))\n",
    "\n",
    "array = []\n",
    "\n",
    "for i in range(rows):\n",
    "    row = []\n",
    "    for j in range(cols):\n",
    "        val = int(input(\"Enter a val: \"))\n",
    "        row.append(val)\n",
    "    array.append(row)\n",
    "\n",
    "print(\"Final array is\")\n",
    "print(array)\n",
    "'''\n",
    "for i in range (rows):\n",
    "    for j in range (cols):\n",
    "        print(array[i][j], end = \" \")\n",
    "    print()\n",
    "'''\n",
    "\n",
    "print(type(array))"
   ]
  },
  {
   "cell_type": "code",
   "execution_count": 17,
   "id": "c1132840-955a-499a-aa15-fde3af670c67",
   "metadata": {},
   "outputs": [
    {
     "name": "stdin",
     "output_type": "stream",
     "text": [
      "Enter rows:  3\n",
      "Enter cols:  3\n"
     ]
    },
    {
     "name": "stdout",
     "output_type": "stream",
     "text": [
      "Enter the elements in the proper order: \n"
     ]
    },
    {
     "name": "stdin",
     "output_type": "stream",
     "text": [
      "Enter (0,0) element:  1\n",
      "Enter (0,1) element:  2\n",
      "Enter (0,2) element:  3\n",
      "Enter (1,0) element:  4\n",
      "Enter (1,1) element:  5\n",
      "Enter (1,2) element:  6\n",
      "Enter (2,0) element:  7\n",
      "Enter (2,1) element:  2\n",
      "Enter (2,2) element:  1\n"
     ]
    },
    {
     "name": "stdout",
     "output_type": "stream",
     "text": [
      "[[1 2 3]\n",
      " [4 5 6]\n",
      " [7 2 1]]\n",
      "<class 'numpy.ndarray'>\n"
     ]
    }
   ],
   "source": [
    "'''\n",
    "Creation of 2D array using numpy libraries without the concept of lists.\n",
    "'''\n",
    "import numpy as np\n",
    "\n",
    "n=int(input(\"Enter rows: \"))\n",
    "m=int(input(\"Enter cols: \"))\n",
    "# Initialize an empty 2D array of the specified size\n",
    "arr = np.empty((n,m),dtype=int)\n",
    "\n",
    "print(\"Enter the elements in the proper order: \")\n",
    "# Populate the array with user input\n",
    "for i in range(n):\n",
    "    for j in range(m):\n",
    "        arr[i][j] = int(input(f\"Enter ({i},{j}) element: \"))\n",
    "\n",
    "print(arr)\n",
    "print(type(arr))("
   ]
  },
  {
   "cell_type": "code",
   "execution_count": 11,
   "id": "b1b2ad60-6d39-4f97-a1d7-35dacf2e4208",
   "metadata": {},
   "outputs": [
    {
     "name": "stdin",
     "output_type": "stream",
     "text": [
      "Enter no.of elements:  2\n"
     ]
    },
    {
     "name": "stdout",
     "output_type": "stream",
     "text": [
      "Enter the elements in the proper order: \n"
     ]
    },
    {
     "name": "stdin",
     "output_type": "stream",
     "text": [
      "Enter (0) element:  2\n",
      "Enter (1) element:  1\n"
     ]
    },
    {
     "name": "stdout",
     "output_type": "stream",
     "text": [
      "[2 1]\n",
      "<class 'numpy.ndarray'>\n"
     ]
    }
   ],
   "source": [
    "'''\n",
    "Creation of 1D array using numpy libraries without the concept of lists.\n",
    "'''\n",
    "import numpy as np\n",
    "\n",
    "n=int(input(\"Enter no.of elements: \"))\n",
    "\n",
    "\n",
    "arr = np.empty((n),dtype=int)\n",
    "\n",
    "print(\"Enter the elements in the proper order: \")\n",
    "\n",
    "for i in range(n):\n",
    "        arr[i] = int(input(f\"Enter ({i}) element: \"))\n",
    "\n",
    "print(arr)\n",
    "print(type(arr))"
   ]
  },
  {
   "cell_type": "markdown",
   "id": "a64ba227-9f92-46d7-9686-f190166a95e0",
   "metadata": {},
   "source": [
    "## Global vs Local variable"
   ]
  },
  {
   "cell_type": "code",
   "execution_count": 21,
   "id": "1f128df0-b39e-4664-9c9a-23031b9f4038",
   "metadata": {},
   "outputs": [
    {
     "name": "stdout",
     "output_type": "stream",
     "text": [
      "Inside fun: 15\n",
      "Outside fun: 10\n"
     ]
    }
   ],
   "source": [
    "'''\n",
    "Global vs Local variable\n",
    "------------------------\n",
    "'''\n",
    "\n",
    "a=10 # The scope of this a is for all funs and operations in the full code.\n",
    "\n",
    "def something():\n",
    "    a = 15   # The scope of this a is restricted to this fun alone\n",
    "    # Inside the function, the preference will always be given to its local vars.\n",
    "    print(f\"Inside fun: {a}\")\n",
    "\n",
    "something()\n",
    "print(f\"Outside fun: {a}\")"
   ]
  },
  {
   "cell_type": "code",
   "execution_count": 38,
   "id": "7a63154e-e5f7-428a-aab2-0b6c9e3d31da",
   "metadata": {},
   "outputs": [
    {
     "name": "stdout",
     "output_type": "stream",
     "text": [
      "inside fun: 10\n",
      "outside fun: 10\n"
     ]
    }
   ],
   "source": [
    "a=10\n",
    "def something():\n",
    "    # When there is no variable defined inside the function, then the control will search for the same var in global and take that value.\n",
    "    print(f\"inside fun: {a}\")\n",
    "\n",
    "something()\n",
    "\n",
    "print(f\"outside fun: {a}\")"
   ]
  },
  {
   "cell_type": "code",
   "execution_count": 39,
   "id": "21651ae2-0972-4588-b3e0-fba1c5fa076d",
   "metadata": {},
   "outputs": [
    {
     "name": "stdout",
     "output_type": "stream",
     "text": [
      "Inside fun: 15\n",
      "Outside fun: 15\n"
     ]
    }
   ],
   "source": [
    "a=10\n",
    "# here we are trying to make the local var as a global var.\n",
    "# Whenever we do this, we will loose the access of local 'a' and it will no longer be a local var\n",
    "def fun():\n",
    "    global a\n",
    "    a=15\n",
    "    # Actually, this variable 'a' is a local var, and when we change this var, it should not effect the global var. But we are \n",
    "    # telling the compiler that this 'a' var is no longer a local var and we are making it as a global var by using the keyword global. \n",
    "    # The moment we make it global, the same var in the global will be overwritten with the mentioned val.\n",
    "    print(f\"Inside fun: {a}\")\n",
    "\n",
    "    # Again, we cannot make the same variable as a local variable as it already became the global.\n",
    "\n",
    "fun()\n",
    "print(f\"Outside fun: {a}\")"
   ]
  },
  {
   "cell_type": "code",
   "execution_count": 40,
   "id": "7afc6425-5b6d-410d-a0dc-572c9a3d9b30",
   "metadata": {},
   "outputs": [
    {
     "name": "stdout",
     "output_type": "stream",
     "text": [
      "Id of a is 140733165106248\n",
      "Id of x inside fun is 140733165106248\n",
      "x = 10\n",
      "In function: 9\n",
      "Outside fun a =  10\n"
     ]
    }
   ],
   "source": [
    "# So to avoid the discrepency caused in the above cell can be overcommed by using a function called \"globals()\"\n",
    "# Here we are using a global variable inside a function and using it for the purposes in the function.\n",
    "# here we are trying to make the global var as a local var using globals() function.\n",
    "a = 10\n",
    "print(f\"Id of a is {id(a)}\") \n",
    "def fun():\n",
    "    a = 9\n",
    "    x = globals()['a']\n",
    "    print(f\"Id of x inside fun is {id(x)}\")\n",
    "    print(f\"x = {x}\")\n",
    "    print(f\"In function: {a}\")\n",
    "\n",
    "fun()\n",
    "print(\"Outside fun a = \",a)\n",
    "\n",
    "# Here the id s of x and global 'a' are same as they are pointing to the same memory location."
   ]
  },
  {
   "cell_type": "code",
   "execution_count": 34,
   "id": "259ac213-e9db-4d55-9e49-d7bab2b849a3",
   "metadata": {},
   "outputs": [
    {
     "name": "stdout",
     "output_type": "stream",
     "text": [
      "Id of a is 140733165106248\n",
      "Id of x inside fun is 140733165106248\n",
      "x = 10\n",
      "In function: 9\n",
      "Outside fun a =  20\n"
     ]
    }
   ],
   "source": [
    "# Here we are using a global variable inside a function and using it for the purposes in the function.\n",
    "\n",
    "a = 10\n",
    "print(f\"Id of a is {id(a)}\") \n",
    "def fun():\n",
    "    a = 9\n",
    "    x = globals()['a']\n",
    "    print(f\"Id of x inside fun is {id(x)}\")\n",
    "    print(f\"x = {x}\")\n",
    "    print(f\"In function: {a}\")\n",
    "    # when you want to change the global value, dont change the value of x, instead do this.\n",
    "    # If we try to chnage the value using x, then we are just changing the value of x not the global variable 'a'\n",
    "    globals()['a'] = 20\n",
    "fun()\n",
    "print(\"Outside fun a = \",a)\n",
    "\n",
    "# Here the id s of x and global 'a' are same as they are pointing to the same memory location."
   ]
  },
  {
   "cell_type": "markdown",
   "id": "4c4a847a-af33-4bd1-8c22-36fd36b7ec5e",
   "metadata": {},
   "source": [
    "## Passing a list to a function"
   ]
  },
  {
   "cell_type": "code",
   "execution_count": 43,
   "id": "8b923064-a39b-4fc7-92ef-b890c975cf96",
   "metadata": {},
   "outputs": [
    {
     "name": "stdin",
     "output_type": "stream",
     "text": [
      "Enter the no.of eles:  5\n",
      "Enter num:  1\n",
      "Enter num:  2\n",
      "Enter num:  3\n",
      "Enter num:  4\n",
      "Enter num:  5\n"
     ]
    },
    {
     "name": "stdout",
     "output_type": "stream",
     "text": [
      "Even nums count = 2 Odd nums count = 3\n"
     ]
    }
   ],
   "source": [
    "def evod(lst):\n",
    "    ev=0\n",
    "    od=0\n",
    "    for i in lst:\n",
    "        if(i%2 == 0):\n",
    "            ev+=1\n",
    "        else:\n",
    "            od+=1\n",
    "    return ev,od\n",
    "\n",
    "n = int(input(\"Enter the no.of eles: \"))\n",
    "\n",
    "lst=[]\n",
    "\n",
    "for i in range(n):\n",
    "    p = int(input(\"Enter num: \"))\n",
    "    lst.append(p)\n",
    "\n",
    "ev,od = evod(lst)\n",
    "\n",
    "print(f\"Even nums count = {ev} Odd nums count = {od}\")"
   ]
  },
  {
   "cell_type": "code",
   "execution_count": 45,
   "id": "8832a6a5-8bd3-4121-9c69-47b0432f530f",
   "metadata": {},
   "outputs": [
    {
     "name": "stdin",
     "output_type": "stream",
     "text": [
      "Enter the number of fibonacci nums required:  10\n"
     ]
    },
    {
     "name": "stdout",
     "output_type": "stream",
     "text": [
      "0\n",
      "1\n",
      "1\n",
      "2\n",
      "3\n",
      "5\n",
      "8\n",
      "13\n",
      "21\n",
      "34\n",
      "55\n",
      "89\n"
     ]
    }
   ],
   "source": [
    "# Fibonacci sequence\n",
    "\n",
    "a=0\n",
    "b=1\n",
    "n=int(input(\"Enter the number of fibonacci nums required: \"))\n",
    "print(a)\n",
    "print(b)\n",
    "\n",
    "for i in range(n):\n",
    "    c=a+b\n",
    "    a=b\n",
    "    b=c\n",
    "    print(c)\n",
    "    "
   ]
  },
  {
   "cell_type": "code",
   "execution_count": 48,
   "id": "3ca33fea-9b66-4f51-bda2-dcb55bdc98a2",
   "metadata": {},
   "outputs": [
    {
     "name": "stdin",
     "output_type": "stream",
     "text": [
      "Enter a num to get factorial of it:  5\n"
     ]
    },
    {
     "name": "stdout",
     "output_type": "stream",
     "text": [
      "fact(5) = 120\n"
     ]
    }
   ],
   "source": [
    "## factorial\n",
    "\n",
    "n = int(input(\"Enter a num to get factorial of it: \"))\n",
    "p=1\n",
    "for i in range(1,n+1):\n",
    "    p=p*i\n",
    "print(f\"fact({n}) = {p}\")"
   ]
  },
  {
   "cell_type": "markdown",
   "id": "6896fc54-91ce-4489-ae0d-9bf9b7cd2214",
   "metadata": {},
   "source": [
    "## Recursion"
   ]
  },
  {
   "cell_type": "code",
   "execution_count": 71,
   "id": "23c84535-62dd-4716-a9b0-c7a088eed75b",
   "metadata": {},
   "outputs": [
    {
     "name": "stdout",
     "output_type": "stream",
     "text": [
      "Recurssion limit: 3000\n"
     ]
    }
   ],
   "source": [
    "import sys\n",
    "print(f\"Recurssion limit: {sys.getrecursionlimit()}\")\n",
    "\n",
    "# When the program goes into infinite recurssion, the python does not allow it to happen\n",
    "# Instead it just loop in for 3000 (default value) times and then it stops\n",
    "\n"
   ]
  },
  {
   "cell_type": "code",
   "execution_count": 72,
   "id": "461afa98-9a54-44c6-afa4-ceaec09256a3",
   "metadata": {},
   "outputs": [
    {
     "name": "stdout",
     "output_type": "stream",
     "text": [
      "Recurssion limit: 5000\n"
     ]
    }
   ],
   "source": [
    "import sys\n",
    "# There is a provision to change the limit of recurssion iterations.\n",
    "sys.setrecursionlimit(5000)\n",
    "print(f\"Recurssion limit: {sys.getrecursionlimit()}\")"
   ]
  },
  {
   "cell_type": "code",
   "execution_count": 65,
   "id": "0521096c-6e90-4f2c-812b-eb8269bf1c50",
   "metadata": {},
   "outputs": [
    {
     "name": "stdout",
     "output_type": "stream",
     "text": [
      "Hello all\n",
      "Hello all\n",
      "Hello all\n",
      "Hello all\n",
      "Hello all\n",
      "Hello all\n",
      "Hello all\n",
      "Hello all\n",
      "Hello all\n",
      "Hello all\n"
     ]
    }
   ],
   "source": [
    "n=0\n",
    "def greet():\n",
    "    global n\n",
    "    while n<10:\n",
    "        print(\"Hello all\")\n",
    "        n+=1\n",
    "        greet()\n",
    "\n",
    "greet()"
   ]
  },
  {
   "cell_type": "code",
   "execution_count": 73,
   "id": "a40b45e8-4b68-48cb-a0b2-b56f07c887b8",
   "metadata": {},
   "outputs": [
    {
     "name": "stdin",
     "output_type": "stream",
     "text": [
      "Enter a number:  5\n"
     ]
    },
    {
     "data": {
      "text/plain": [
       "120"
      ]
     },
     "execution_count": 73,
     "metadata": {},
     "output_type": "execute_result"
    }
   ],
   "source": [
    "# Factorial using recursion\n",
    "\n",
    "def fact(n):\n",
    "    if n==0:\n",
    "        return 1\n",
    "    else:\n",
    "        return n*fact(n-1)\n",
    "n = int(input(\"Enter a number: \"))\n",
    "fact(n)"
   ]
  },
  {
   "cell_type": "code",
   "execution_count": 75,
   "id": "6a59069d-dd9b-4bd1-b139-02b948dc11bb",
   "metadata": {},
   "outputs": [
    {
     "name": "stdout",
     "output_type": "stream",
     "text": [
      "Result = 25\n"
     ]
    }
   ],
   "source": [
    "## Lambda function\n",
    "## usually every function have a name but a function with no name are called lambda function\n",
    "\n",
    "# The main use case of this anonymous function is, when there is a requirement of evaluation of only one expression.\n",
    "# We can pass any number of arguments into this function.\n",
    "\n",
    "\n",
    "f = lambda a:a*a\n",
    "\n",
    "res = f(5)\n",
    "print(f\"Result = {res}\")\n"
   ]
  },
  {
   "cell_type": "code",
   "execution_count": 76,
   "id": "f6480bd2-9bbd-4ee7-9a4a-d7f02572fccd",
   "metadata": {},
   "outputs": [
    {
     "name": "stdout",
     "output_type": "stream",
     "text": [
      "Sum = 5\n"
     ]
    }
   ],
   "source": [
    "summ = lambda a,b:a+b\n",
    "res = summ(2,3)\n",
    "print(f\"Sum = {res}\")"
   ]
  },
  {
   "cell_type": "markdown",
   "id": "591f1922-a8ae-44d0-83ae-9772c453b105",
   "metadata": {},
   "source": [
    "## Filter Map Reduce"
   ]
  },
  {
   "cell_type": "code",
   "execution_count": 77,
   "id": "2ae9371d-9c34-40b7-a520-4d526819aedf",
   "metadata": {},
   "outputs": [
    {
     "name": "stdout",
     "output_type": "stream",
     "text": [
      "[2, 4, 6, 8, 10]\n"
     ]
    }
   ],
   "source": [
    "## Let say we have a list of numbers and we need to separate even number s from that list and pust those values in a list.\n",
    "## To do this we have a separate function, where it will filter the values.\n",
    "\n",
    "nums = [1,2,3,4,5,6,7,8,9,10]\n",
    "# Filter function takes two arguments\n",
    "# 1st argument is a function - we have used an anonymus function\n",
    "# 2nd argument takes the iteratable\n",
    "# It is just simple like on what basis we have to filter and from what we have to filter.\n",
    "evens = list(filter(lambda n:n%2==0 ,nums))\n",
    "print(evens)\n"
   ]
  },
  {
   "cell_type": "code",
   "execution_count": 78,
   "id": "94af76c8-5dc9-4bdb-8d12-34943c1908e5",
   "metadata": {},
   "outputs": [
    {
     "data": {
      "text/plain": [
       "[1, 3, 5, 7, 9]"
      ]
     },
     "execution_count": 78,
     "metadata": {},
     "output_type": "execute_result"
    }
   ],
   "source": [
    "odds = list(filter(lambda n:n%2!=0,nums))\n",
    "odds"
   ]
  },
  {
   "cell_type": "code",
   "execution_count": 79,
   "id": "988ee9f8-6929-470e-97ec-9af48a025026",
   "metadata": {},
   "outputs": [
    {
     "data": {
      "text/plain": [
       "[4, 8, 12, 16, 20]"
      ]
     },
     "execution_count": 79,
     "metadata": {},
     "output_type": "execute_result"
    }
   ],
   "source": [
    "## Map\n",
    "\n",
    "## This function also accepts two arguments - function and an iterable respectively.\n",
    "\n",
    "## We try to double the elements in evens list\n",
    "\n",
    "doubles = list(map(lambda p:p*2, evens))\n",
    "doubles"
   ]
  },
  {
   "cell_type": "code",
   "execution_count": 81,
   "id": "820ea600-d0f5-4c31-a6fb-3db58fd74fe2",
   "metadata": {},
   "outputs": [
    {
     "name": "stdout",
     "output_type": "stream",
     "text": [
      "Sum of all the elements in the doubles list is 60\n"
     ]
    }
   ],
   "source": [
    "## Reduce\n",
    "\n",
    "## We can use this function to reduce the entire list and find sum or something\n",
    "## To use this function, we need functools\n",
    "\n",
    "from functools import reduce\n",
    "\n",
    "summ = reduce(lambda a,b:a+b,doubles)\n",
    "print(f\"Sum of all the elements in the doubles list is {summ}\")"
   ]
  },
  {
   "cell_type": "markdown",
   "id": "7a336b04-c7ea-4ac5-b42a-349ae3a29795",
   "metadata": {},
   "source": [
    "## Decorators"
   ]
  },
  {
   "cell_type": "code",
   "execution_count": 88,
   "id": "82b7c6e5-600c-41c8-bdf2-ecf4ef5fc4c2",
   "metadata": {},
   "outputs": [
    {
     "name": "stdout",
     "output_type": "stream",
     "text": [
      "2.0\n"
     ]
    }
   ],
   "source": [
    "## Using the decorators, we can add the extra feature with out disturbing the existing function during the compile time itself.\n",
    "\n",
    "'''\n",
    "We can divide two nums using a simple division operator. But we need a mechanism to swap the variables if the numerator is lessthan the denominator.\n",
    "We can do this in the div function itself, but when we donot have access to that function then we have to call that function indirectly\n",
    "after doing the modifications to the data. \n",
    "\n",
    "Here before doing the division operation, we are swapping the values.\n",
    "\n",
    "'''\n",
    "\n",
    "\n",
    "def smart_div(func):\n",
    "    def inner(a,b):\n",
    "        if(a<b):\n",
    "            a,b = b,a\n",
    "        return func(a,b)\n",
    "    return inner\n",
    "\n",
    "@smart_div\n",
    "def div(a,b):\n",
    "    print(a/b)\n",
    "\n",
    "\n",
    "div(2,4)"
   ]
  },
  {
   "cell_type": "code",
   "execution_count": 105,
   "id": "bf82efdc-389f-4bd4-8ab5-d635d0dd04e0",
   "metadata": {},
   "outputs": [
    {
     "name": "stdin",
     "output_type": "stream",
     "text": [
      "Enter a number:  7\n"
     ]
    },
    {
     "name": "stdout",
     "output_type": "stream",
     "text": [
      "Multiplication =  28\n"
     ]
    }
   ],
   "source": [
    "# I want to multiply the given number with 4 and tell the answer iff the given number is a prime number.\n",
    "# I check the number is prime or not using a decorator and based on the result I will give the answer.\n",
    "\n",
    "# func should be returned by the inner function and inner should be returned by primeprime_check function.\n",
    "# Inner function always do the checks\n",
    "\n",
    "def prime_check(func):\n",
    "    def inner(n,flag):\n",
    "        flag = 0\n",
    "        for i in range(2,n):\n",
    "            if(n%i == 0):\n",
    "                flag = 1\n",
    "                break\n",
    "        return func(n,flag)\n",
    "    return inner\n",
    "\n",
    "@prime_check\n",
    "def mul(n,flag):\n",
    "    if(flag == 1):\n",
    "        return \"sorry\"\n",
    "    else:\n",
    "        return n*4\n",
    "\n",
    "\n",
    "n = int(input(\"Enter a number: \"))\n",
    "p = mul(n,flag)\n",
    "print(\"Multiplication = \",p)"
   ]
  },
  {
   "cell_type": "markdown",
   "id": "f6dc5420-8ab8-4d59-9fab-033befe1fc21",
   "metadata": {},
   "source": [
    "## Keypoints\n",
    "#### - The len() function returns the number of elements in a list. For an empty list ([]), it returns 0.\n",
    "#### - The range() function returns a range object, not a list. To get a list, you need to explicitly convert it using list(range(5)).\n",
    "#### Eg: range(5) returns range(0,5) not the list\n",
    "#### - The get() method returns the value for the specified key. If the key is not found, it returns the default value provided - For eg. check below cells\n",
    "#### - The function calls overrides the default value of the variable. That means the formal argument values will be overridden by the actual arguments.\n",
    "#### - Only strings and tuples are immutable, list, set, and dictionaries are mutable.\n",
    "#### - The strip() method removes only leading and trailing whitespace, not all whitespace characters.\n",
    "#### - The pop() method removes and returns the last element of the list, does not return the entire list.\n",
    "#### - The 'is' keyword checks whether the two objects refer to the same memory location, not their values.\n",
    "#### - The add() method is used to add the elements to a set in python.\n",
    "#### - When you use copy() function to copy the list, different memory will be created and there will be NO relation between the two lists too. But if you copy using view() function, then there will be a relation between these two lists and changes made in one list will REFLECT in the other list too."
   ]
  },
  {
   "cell_type": "code",
   "execution_count": 1,
   "id": "c39dcf76-0890-4d35-9171-31c532ec702d",
   "metadata": {},
   "outputs": [
    {
     "name": "stdout",
     "output_type": "stream",
     "text": [
      "3\n"
     ]
    }
   ],
   "source": [
    "x = {\"a\": 1, \"b\": 2}\n",
    "print(x.get(\"c\", 3))\n"
   ]
  },
  {
   "cell_type": "code",
   "execution_count": 2,
   "id": "c22fe2d6-20cc-423c-aa5f-123db8fad042",
   "metadata": {},
   "outputs": [
    {
     "name": "stdout",
     "output_type": "stream",
     "text": [
      "26\n"
     ]
    }
   ],
   "source": [
    "def func(a, b=5, c=10):\n",
    "    return a + b + c\n",
    "\n",
    "print(func(1, c=20))\n"
   ]
  },
  {
   "cell_type": "code",
   "execution_count": 3,
   "id": "8bbde811-9b91-4fd2-9108-f551739e4070",
   "metadata": {},
   "outputs": [
    {
     "name": "stdout",
     "output_type": "stream",
     "text": [
      "4\n"
     ]
    }
   ],
   "source": [
    "x = [1, 2, 3, 4]\n",
    "print(x.pop())\n"
   ]
  },
  {
   "cell_type": "code",
   "execution_count": 4,
   "id": "ac9d6267-e5ed-4565-9b60-a1caa723f611",
   "metadata": {},
   "outputs": [
    {
     "data": {
      "text/plain": [
       "True"
      ]
     },
     "execution_count": 4,
     "metadata": {},
     "output_type": "execute_result"
    }
   ],
   "source": [
    "a = 5\n",
    "b = a\n",
    "\n",
    "a is b"
   ]
  },
  {
   "cell_type": "code",
   "execution_count": 5,
   "id": "eb155954-4473-4b7a-a588-c2ea7906ea40",
   "metadata": {},
   "outputs": [
    {
     "name": "stdout",
     "output_type": "stream",
     "text": [
      "False True True False\n"
     ]
    }
   ],
   "source": [
    "print(bool(0), bool(3), bool(-1), bool([]))\n"
   ]
  },
  {
   "cell_type": "code",
   "execution_count": 6,
   "id": "b8b9b1dc-0ccb-4f8e-9bfe-cf2f0dcc3005",
   "metadata": {},
   "outputs": [
    {
     "name": "stdout",
     "output_type": "stream",
     "text": [
      "[1, 2, 3] [10, 2, 3]\n"
     ]
    }
   ],
   "source": [
    "x = [1, 2, 3]\n",
    "y = x.copy()\n",
    "y[0] = 10\n",
    "print(x, y)\n"
   ]
  },
  {
   "cell_type": "code",
   "execution_count": 13,
   "id": "85d4d7c8-5df5-435e-b602-a896b9f70ecc",
   "metadata": {},
   "outputs": [
    {
     "name": "stdout",
     "output_type": "stream",
     "text": [
      "Hello All, How are you doing\n"
     ]
    }
   ],
   "source": [
    "'''\n",
    "The strip() function in Python is a string method that removes any leading (spaces at the beginning) and trailing (spaces at the end) \n",
    "whitespace characters from a string. \n",
    "By default, it removes whitespace, but you can specify a set of characters to be removed.\n",
    "\n",
    "'''\n",
    "\n",
    "s = \"    Hello All, How are you doing        \"\n",
    "print(s.strip())"
   ]
  },
  {
   "cell_type": "code",
   "execution_count": 16,
   "id": "b4276ef8-5638-4105-8198-e51477724540",
   "metadata": {},
   "outputs": [
    {
     "name": "stdout",
     "output_type": "stream",
     "text": [
      "Hello All, How are you doing        \n"
     ]
    }
   ],
   "source": [
    "print(s.lstrip()) # lstrip() removes only on the left side."
   ]
  },
  {
   "cell_type": "code",
   "execution_count": 17,
   "id": "3fc33e1d-e832-44ea-a0e4-e5a2817185cc",
   "metadata": {},
   "outputs": [
    {
     "name": "stdout",
     "output_type": "stream",
     "text": [
      "    Hello All, How are you doing\n"
     ]
    }
   ],
   "source": [
    "print(s.rstrip()) # rstrip() removes only on the right side."
   ]
  },
  {
   "cell_type": "code",
   "execution_count": 18,
   "id": "a516f991-b198-4e96-b96b-decbf2b4cc82",
   "metadata": {},
   "outputs": [
    {
     "name": "stdout",
     "output_type": "stream",
     "text": [
      " Hello people \n"
     ]
    }
   ],
   "source": [
    "p=\"!@!!@@@# Hello people %%$$@$\"\n",
    "print(p.strip(\"!@#%$\"))"
   ]
  },
  {
   "cell_type": "code",
   "execution_count": 20,
   "id": "14aa1cd9-1a3e-4531-9d16-8291eb32d985",
   "metadata": {},
   "outputs": [
    {
     "name": "stdout",
     "output_type": "stream",
     "text": [
      " hello \n"
     ]
    }
   ],
   "source": [
    "p = \"### hello ###\"\n",
    "print(p.strip(\"#\"))"
   ]
  },
  {
   "cell_type": "code",
   "execution_count": 23,
   "id": "fb20c81c-1bf7-42b9-b44d-55ac1646b062",
   "metadata": {},
   "outputs": [
    {
     "name": "stdout",
     "output_type": "stream",
     "text": [
      " hello ##$\n"
     ]
    }
   ],
   "source": [
    "## p = \"### hello ##$#\"     # It just removes the left most and right most specified characters only.\n",
    "print(p.strip(\"#\"))"
   ]
  },
  {
   "cell_type": "code",
   "execution_count": 38,
   "id": "599045e9-a8c7-4d86-9398-adf00a2a0d78",
   "metadata": {},
   "outputs": [
    {
     "name": "stdin",
     "output_type": "stream",
     "text": [
      "Enter Mat 1 rows:  2\n",
      "Enter Mat 1 cols:  2\n",
      "Enter Mat 2 rows:  2\n",
      "Enter Mat 2 cols:  3\n",
      "Enter [0][0] element:  1\n",
      "Enter [0][1] element:  2\n",
      "Enter [1][0] element:  3\n",
      "Enter [1][1] element:  4\n",
      "Enter [0][0] element:  5\n",
      "Enter [0][1] element:  4\n",
      "Enter [0][2] element:  3\n",
      "Enter [1][0] element:  2\n",
      "Enter [1][1] element:  1\n",
      "Enter [1][2] element:  6\n"
     ]
    },
    {
     "name": "stdout",
     "output_type": "stream",
     "text": [
      "Matrix 1:\n",
      " [[1 2]\n",
      " [3 4]]\n",
      "\n",
      "Matrix 2:\n",
      " [[5 4 3]\n",
      " [2 1 6]]\n",
      "\n",
      "Resultant matrix  \n",
      "= [[ 9  6 15]\n",
      " [23 16 33]]\n"
     ]
    }
   ],
   "source": [
    "import numpy as np\n",
    "\n",
    "r1 = int(input(\"Enter Mat 1 rows: \"))\n",
    "c1 = int(input(\"Enter Mat 1 cols: \"))\n",
    "\n",
    "r2 = int(input(\"Enter Mat 2 rows: \"))\n",
    "c2 = int(input(\"Enter Mat 2 cols: \"))\n",
    "\n",
    "mat1 = np.empty((r1,c1), dtype = int)\n",
    "\n",
    "for i in range(r1):\n",
    "    for j in range(c1):\n",
    "        mat1[i][j] = int(input(f\"Enter {[i]}{[j]} element: \"))\n",
    "\n",
    "\n",
    "mat2 = np.empty((r2,c2),dtype = int)\n",
    "\n",
    "for i in range(r2):\n",
    "    for j in range(c2):\n",
    "        mat2[i][j] = int(input(f\"Enter {[i]}{[j]} element: \"))\n",
    "\n",
    "\n",
    "#res = np.empty((r1,c2),dtype = int)\n",
    "\n",
    "#res = [[0 for _ in range(c2)] for _ in range(r1)]\n",
    "res = np.zeros((r1,c2),dtype = int)\n",
    "\n",
    "if (c1 == r2):\n",
    "    for i in range(r1):\n",
    "        for j in range(c2):\n",
    "            val = 0\n",
    "            for k in range(r2):\n",
    "                val = val + (mat1[i][k]*mat2[k][j])\n",
    "            res[i][j] = val\n",
    "else:\n",
    "    print(\"matrix multiplication is not possible\")\n",
    "print(f\"Matrix 1:\\n {mat1}\")\n",
    "print()\n",
    "print(f\"Matrix 2:\\n {mat2}\")\n",
    "print()\n",
    "print(f\"Resultant matrix  \\n= {res}\")"
   ]
  },
  {
   "cell_type": "code",
   "execution_count": 36,
   "id": "ed81472a-24ee-4ed6-b063-f4886bf39586",
   "metadata": {},
   "outputs": [
    {
     "data": {
      "text/plain": [
       "array([[0, 0, 0],\n",
       "       [0, 0, 0]])"
      ]
     },
     "execution_count": 36,
     "metadata": {},
     "output_type": "execute_result"
    }
   ],
   "source": [
    "res = np.zeros((r1,c2),dtype = int)\n",
    "res"
   ]
  },
  {
   "cell_type": "code",
   "execution_count": 37,
   "id": "defcda8e-115a-4370-9129-5ecc1f894751",
   "metadata": {},
   "outputs": [
    {
     "data": {
      "text/plain": [
       "numpy.ndarray"
      ]
     },
     "execution_count": 37,
     "metadata": {},
     "output_type": "execute_result"
    }
   ],
   "source": [
    "type(res)"
   ]
  },
  {
   "cell_type": "code",
   "execution_count": 43,
   "id": "3015c6bc-f41b-4542-892d-96471eee3288",
   "metadata": {},
   "outputs": [
    {
     "data": {
      "text/plain": [
       "'\\nWhenever we are working on a big project then there might be few functions where we use them almost in all the files in that project.\\nBut we dont really want to write that function definition in all files and make use of that function.\\n\\nInstead, in python we can create modules for all those functions and can use those functions defined in another file by importing them.\\n\\nEg:- we can create a separate .py file for mathematical operations and import that file as a package in the required file as how we import numpy and \\nmake use of array. We can import that module using import keyword and use the functions in it directly in any file or for any function.\\n\\nWe create add, mul, div, sub, pow functions in cal.py file and import them.\\n\\nfrom calc import *\\n\\n'"
      ]
     },
     "execution_count": 43,
     "metadata": {},
     "output_type": "execute_result"
    }
   ],
   "source": [
    "## Modules\n",
    "\n",
    "'''\n",
    "Whenever we are working on a big project then there might be few functions where we use them almost in all the files in that project.\n",
    "But we dont really want to write that function definition in all files and make use of that function.\n",
    "\n",
    "Instead, in python we can create modules for all those functions and can use those functions defined in another file by importing them.\n",
    "\n",
    "Eg:- we can create a separate .py file for mathematical operations and import that file as a package in the required file as how we import numpy and \n",
    "make use of array. We can import that module using import keyword and use the functions in it directly in any file or for any function.\n",
    "\n",
    "We create add, mul, div, sub, pow functions in cal.py file and import them.\n",
    "\n",
    "from calc import *\n",
    "\n",
    "'''\n"
   ]
  },
  {
   "cell_type": "code",
   "execution_count": 44,
   "id": "83b6deee-69f6-4422-9d09-e76a81afca50",
   "metadata": {},
   "outputs": [
    {
     "name": "stdout",
     "output_type": "stream",
     "text": [
      "__main__\n"
     ]
    }
   ],
   "source": [
    "print(__name__)"
   ]
  },
  {
   "cell_type": "code",
   "execution_count": 47,
   "id": "7b61ef8c-0d3e-436c-bd14-22317a304b84",
   "metadata": {},
   "outputs": [
    {
     "name": "stdout",
     "output_type": "stream",
     "text": [
      "Hello __main__\n"
     ]
    }
   ],
   "source": [
    "print(\"Hello \" + __name__)"
   ]
  },
  {
   "cell_type": "code",
   "execution_count": 2,
   "id": "966fdb99-81e1-41e8-b940-339f513e5a12",
   "metadata": {},
   "outputs": [
    {
     "data": {
      "text/plain": [
       "'\\nThe general process that we follow is a procedural oriented programming, here the data is not secured, all functions in the code can access the \\nglobal data and any function can modify the data at any time without any notice. This is the main drawback of this approach.\\n\\nThis drawback can be overcommed in the Object oriented programming.\\n\\nIn python everything is considered as objects. Here in this type of programming, we mainly concentrate on objects.\\n\\n\\nObject-oriented programming (OOP) in Python is essential for managing complex projects, enhancing data security, and organizing code through \\nclasses and objects. This approach allows for better scalability and maintainability compared to procedural programming, which struggles with \\nlarger projects due to global variable management and lack of data protection.\\n\\nUnderstanding the distinction between classes and objects is crucial in object-oriented programming. A class serves as a blueprint for creating \\nmultiple objects, each representing specific instances.\\n\\nUsing a single class allows for the generation of numerous objects, showcasing the efficiency of object-oriented programming in managing complex \\nsystems. This promotes code reusability and organization.\\n\\nIn OOP, variables are called as Attributes and functions are called as Methods.\\n\\nClass is a blueprint of a house, then with the help of the blueprint(class) we can build many houses(objects or instances).\\n'"
      ]
     },
     "execution_count": 2,
     "metadata": {},
     "output_type": "execute_result"
    }
   ],
   "source": [
    "# Object Oriented Programming\n",
    "\n",
    "'''\n",
    "The general process that we follow is a procedural oriented programming, here the data is not secured, all functions in the code can access the \n",
    "global data and any function can modify the data at any time without any notice. This is the main drawback of this approach.\n",
    "\n",
    "This drawback can be overcommed in the Object oriented programming.\n",
    "\n",
    "In python everything is considered as objects. Here in this type of programming, we mainly concentrate on objects.\n",
    "\n",
    "\n",
    "Object-oriented programming (OOP) in Python is essential for managing complex projects, enhancing data security, and organizing code through \n",
    "classes and objects. This approach allows for better scalability and maintainability compared to procedural programming, which struggles with \n",
    "larger projects due to global variable management and lack of data protection.\n",
    "\n",
    "Understanding the distinction between classes and objects is crucial in object-oriented programming. A class serves as a blueprint for creating \n",
    "multiple objects, each representing specific instances.\n",
    "\n",
    "Using a single class allows for the generation of numerous objects, showcasing the efficiency of object-oriented programming in managing complex \n",
    "systems. This promotes code reusability and organization.\n",
    "\n",
    "In OOP, variables are called as Attributes and functions are called as Methods.\n",
    "\n",
    "Class is a blueprint of a house, then with the help of the blueprint(class) we can build many houses(objects or instances).\n",
    "'''"
   ]
  },
  {
   "cell_type": "code",
   "execution_count": 4,
   "id": "ea7e53e2-d511-4e86-9d6b-d2db88fcc6df",
   "metadata": {},
   "outputs": [
    {
     "name": "stdout",
     "output_type": "stream",
     "text": [
      "<class 'int'>\n"
     ]
    }
   ],
   "source": [
    "x=5\n",
    "print(type(x))\n",
    "\n",
    "# Here x is an object of class int"
   ]
  },
  {
   "cell_type": "code",
   "execution_count": 10,
   "id": "ef717359-ee05-4cb3-85b7-c7efbfb1f426",
   "metadata": {},
   "outputs": [
    {
     "name": "stdout",
     "output_type": "stream",
     "text": [
      "<class '__main__.Instructor'>\n"
     ]
    }
   ],
   "source": [
    "class Instructor:\n",
    "    pass\n",
    "instructor_1 = Instructor()\n",
    "\n",
    "print(type(instructor_1))\n",
    "\n",
    "# Here instructor_1 is an object of class Instructor\n",
    "# Now we have created a user defined datatype, so we can tell class is a user defined datatype."
   ]
  },
  {
   "cell_type": "code",
   "execution_count": 8,
   "id": "d77569ea-666f-4c75-abf1-cb0de7aae88c",
   "metadata": {},
   "outputs": [
    {
     "name": "stdout",
     "output_type": "stream",
     "text": [
      "<class '__main__.car_design'>\n",
      "<class '__main__.car_design'>\n"
     ]
    }
   ],
   "source": [
    "class car_design:\n",
    "    pass\n",
    "\n",
    "car1 = car_design()\n",
    "car2 = car_design()\n",
    "\n",
    "print(type(car1))\n",
    "print(type(car2))\n",
    "\n",
    "# car1 and car2 are objects of class car_design"
   ]
  },
  {
   "cell_type": "code",
   "execution_count": 12,
   "id": "155ed50e-06db-4d6c-aaf5-99267c266b86",
   "metadata": {},
   "outputs": [
    {
     "name": "stdout",
     "output_type": "stream",
     "text": [
      "Arun\n",
      "Kumar\n"
     ]
    }
   ],
   "source": [
    "class Instructor:\n",
    "    pass\n",
    "\n",
    "instructor_1 = Instructor()\n",
    "instructor_1.name = \"Arun\"   # name and address are the attributes of the class instructor class.\n",
    "instructor_1.address = \"PDRL\"\n",
    "print(instructor_1.name)\n",
    "\n",
    "instructor_2 = Instructor()\n",
    "instructor_2.name = \"Kumar\"\n",
    "instructor_2.address = \"HYD\"\n",
    "print(instructor_2.name)"
   ]
  },
  {
   "cell_type": "code",
   "execution_count": null,
   "id": "1df13d26-23d2-4243-81ba-2700ca8aef1f",
   "metadata": {},
   "outputs": [],
   "source": [
    "# Constructor\n",
    "\n",
    "'''\n",
    "The task of the constructor is to initialize the data members of the class when an object is created.\n",
    "We don't need to initialize the members separately.\n",
    "\n",
    "We have an init function which will automate the initialization of data members in the class when the object is created.\n",
    "Everytime this init function will be called by the python interpreter when an object is created.\n",
    "'''"
   ]
  },
  {
   "cell_type": "code",
   "execution_count": 16,
   "id": "d02edb1c-024f-4ff9-b68e-84dd136885a7",
   "metadata": {},
   "outputs": [
    {
     "name": "stdout",
     "output_type": "stream",
     "text": [
      "Creating a new object so I got called\n",
      "Arun\n",
      "PDRL\n",
      "Creating a new object so I got called\n",
      "Kumar\n"
     ]
    }
   ],
   "source": [
    "class Instructor:\n",
    "    def __init__(self):\n",
    "        print(\"Creating a new object so I got called\")\n",
    "\n",
    "instructor_1 = Instructor()\n",
    "instructor_1.name = \"Arun\"   # name and address are the attributes of the class Instructor.\n",
    "instructor_1.address = \"PDRL\"\n",
    "print(instructor_1.name)\n",
    "print(instructor_1.address)\n",
    "\n",
    "instructor_2 = Instructor()\n",
    "instructor_2.name = \"Kumar\"\n",
    "instructor_2.address = \"HYD\"\n",
    "print(instructor_2.name)"
   ]
  },
  {
   "cell_type": "code",
   "execution_count": 54,
   "id": "0c5a44c5-47e1-46f7-8558-6d44bde0d02f",
   "metadata": {},
   "outputs": [
    {
     "name": "stdout",
     "output_type": "stream",
     "text": [
      "Name_1 = Arun\n",
      "Address_1 = PDRL\n",
      "Instagram followers = 0\n",
      "\n",
      "Name_2 = Kumar\n",
      "Address_2 = HYD\n",
      "Instagram followers = 0\n"
     ]
    }
   ],
   "source": [
    "class Instructor:\n",
    "    def __init__(self,ins_name,ins_addr):\n",
    "        self.name = ins_name\n",
    "        self.address = ins_addr\n",
    "        self.insta_followers = 0\n",
    "# self is a keyword to bind the attributes to the arguments recieved.\n",
    "\n",
    "instructor_1 = Instructor(\"Arun\",\"PDRL\")\n",
    "print(f\"Name_1 = {instructor_1.name}\")\n",
    "print(f\"Address_1 = {instructor_1.address}\")\n",
    "print(f\"Instagram followers = {instructor_1.insta_followers}\")\n",
    "\n",
    "print()\n",
    "\n",
    "instructor_2 = Instructor(\"Kumar\",\"HYD\")\n",
    "print(f\"Name_2 = {instructor_2.name}\")\n",
    "print(f\"Address_2 = {instructor_2.address}\")\n",
    "print(f\"Instagram followers = {instructor_2.insta_followers}\")\n",
    "\n",
    "# If we don't want to pass the values as arguments to the init method through the objects, then we can assign values directly in th init methos itself."
   ]
  },
  {
   "cell_type": "code",
   "execution_count": 55,
   "id": "43fc323c-2bc6-46cf-9b55-a4841792ef99",
   "metadata": {},
   "outputs": [],
   "source": [
    "# Attributes are the things that the objects has, where as methods are the things that the objects does.\n",
    "# In our case, instructor_1 and instructor_2 are the objects and they have name, address and followers count.\n",
    "# Methods are the things that what does these objects do."
   ]
  },
  {
   "cell_type": "code",
   "execution_count": 59,
   "id": "46421258-17f3-462f-96b6-2c4749ca8f01",
   "metadata": {},
   "outputs": [
    {
     "name": "stdout",
     "output_type": "stream",
     "text": [
      "Name_1 = Arun\n",
      "Address_1 = PDRL\n",
      "Instagram followers = 0\n",
      "\n",
      "Name_2 = Kumar\n",
      "Address_2 = HYD\n",
      "Instagram followers = 0\n"
     ]
    }
   ],
   "source": [
    "class Instructor:\n",
    "    insta_followers = 0\n",
    "    def __init__(self,ins_name,ins_addr):\n",
    "        self.name = ins_name\n",
    "        self.address = ins_addr\n",
    "        #self.insta_followers = 0\n",
    "# Instead of writing the insta_followers =0 inside the __init__ method, we can initialize the same above the __init__ method and it is called CLASS OBJECT VARIABLE\n",
    "# and this class object variable is applicable to all the objects.\n",
    "# self is a keyword to bind the attributes to the arguments recieved.\n",
    "\n",
    "instructor_1 = Instructor(\"Arun\",\"PDRL\")\n",
    "print(f\"Name_1 = {instructor_1.name}\")\n",
    "print(f\"Address_1 = {instructor_1.address}\")\n",
    "print(f\"Instagram followers = {instructor_1.insta_followers}\")\n",
    "\n",
    "print()\n",
    "\n",
    "\n",
    "instructor_2 = Instructor(\"Kumar\",\"HYD\")\n",
    "print(f\"Name_2 = {instructor_2.name}\")\n",
    "print(f\"Address_2 = {instructor_2.address}\")\n",
    "print(f\"Instagram followers = {instructor_2.insta_followers}\")"
   ]
  },
  {
   "cell_type": "code",
   "execution_count": 60,
   "id": "419ceb03-e19e-4cd8-924d-952932d50751",
   "metadata": {},
   "outputs": [
    {
     "name": "stdout",
     "output_type": "stream",
     "text": [
      "Name_1 = Arun\n",
      "Address_1 = PDRL\n",
      "Hello all meet Arun he will teach you Programming\n",
      "Instagram followers = 1\n",
      "\n",
      "Name_2 = Kumar\n",
      "Address_2 = HYD\n",
      "Instagram followers = 1\n"
     ]
    }
   ],
   "source": [
    "class Instructor:\n",
    "    \n",
    "    def __init__(self,ins_name,ins_addr):\n",
    "        self.name = ins_name\n",
    "        self.address = ins_addr\n",
    "        self.insta_followers = 0\n",
    "        # self is a keyword to bind the attributes to the arguments recieved.\n",
    "\n",
    "    # Methods\n",
    "    \n",
    "    def display(self,subject_name):\n",
    "        print(f\"Hello all meet {instructor_1.name} he will teach you {subject_name}\")\n",
    "\n",
    "    def update_followers(self,follower_name):\n",
    "        self.insta_followers+=1\n",
    "    \n",
    "\n",
    "instructor_1 = Instructor(\"Arun\",\"PDRL\")\n",
    "print(f\"Name_1 = {instructor_1.name}\")\n",
    "print(f\"Address_1 = {instructor_1.address}\")\n",
    "\n",
    "\n",
    "# We usually call a function using its name, since it is a method and only the instructor_1 wants to use this method, we are calling it this way.\n",
    "instructor_1.display(\"Programming\")\n",
    "instructor_1.update_followers(\"Kumar\")\n",
    "# kumar is following Arun(instructor_1)\n",
    "\n",
    "print(f\"Instagram followers = {instructor_1.insta_followers}\")\n",
    "print()\n",
    "\n",
    "instructor_2 = Instructor(\"Kumar\",\"HYD\")\n",
    "print(f\"Name_2 = {instructor_2.name}\")\n",
    "print(f\"Address_2 = {instructor_2.address}\")\n",
    "instructor_2.update_followers(\"Arun\")\n",
    "# Arun is following kumar\n",
    "\n",
    "print(f\"Instagram followers = {instructor_2.insta_followers}\")\n",
    "\n",
    "# A normal function will become a method, when it is attached with an object"
   ]
  },
  {
   "cell_type": "code",
   "execution_count": 61,
   "id": "63f0153b-7ca2-4dda-8529-477502eb26fa",
   "metadata": {},
   "outputs": [
    {
     "name": "stdin",
     "output_type": "stream",
     "text": [
      "Enter radius:  2\n"
     ]
    },
    {
     "name": "stdout",
     "output_type": "stream",
     "text": [
      "Area of circle: 12.56\n",
      "Circumference of a circle: 12.56\n"
     ]
    }
   ],
   "source": [
    "# Find area and circumference of a circle usinf OOP concept\n",
    "\n",
    "r = float(input(\"Enter radius: \"))\n",
    "\n",
    "class Calculation:\n",
    "    pi = 3.14\n",
    "    def __init__(self):\n",
    "        pass\n",
    "\n",
    "    def area_of_circle(self,r):\n",
    "        area = self.pi*r*r\n",
    "        print(f\"Area of circle: {area}\")\n",
    "\n",
    "    def circum_of_circle(self,r):\n",
    "        circum = 2*self.pi*r\n",
    "        print(f\"Circumference of a circle: {circum}\")\n",
    "        \n",
    "\n",
    "\n",
    "area = Calculation()\n",
    "circum = Calculation()\n",
    "\n",
    "area.area_of_circle(r)\n",
    "circum.circum_of_circle(r)"
   ]
  },
  {
   "cell_type": "code",
   "execution_count": 62,
   "id": "e346f808-b34c-4c52-a575-41b0e5ab6e30",
   "metadata": {},
   "outputs": [
    {
     "name": "stdin",
     "output_type": "stream",
     "text": [
      "Enter radius:  3\n"
     ]
    },
    {
     "name": "stdout",
     "output_type": "stream",
     "text": [
      "Area of circle: 28.259999999999998\n",
      "Circumference of a circle: 18.84\n"
     ]
    }
   ],
   "source": [
    "# Find area and circumference of a circle usinf OOP concept\n",
    "\n",
    "rad = float(input(\"Enter radius: \"))\n",
    "\n",
    "class Calculation:\n",
    "    pi = 3.14\n",
    "    def __init__(self,rad):\n",
    "        self.r = rad\n",
    "\n",
    "    def area_of_circle(self):\n",
    "        area = self.pi*self.r*self.r\n",
    "        print(f\"Area of circle: {area}\")\n",
    "\n",
    "    def circum_of_circle(self):\n",
    "        circum = 2*self.pi*self.r\n",
    "        print(f\"Circumference of a circle: {circum}\")\n",
    "        \n",
    "\n",
    "\n",
    "area = Calculation(rad)\n",
    "circum = Calculation(rad)\n",
    "\n",
    "area.area_of_circle()\n",
    "circum.circum_of_circle()"
   ]
  },
  {
   "cell_type": "code",
   "execution_count": 63,
   "id": "c116e13c-0571-4baa-a73f-7586a91297f0",
   "metadata": {},
   "outputs": [
    {
     "name": "stdin",
     "output_type": "stream",
     "text": [
      "Enter length:  2\n",
      "Enter breadth:  6\n"
     ]
    },
    {
     "name": "stdout",
     "output_type": "stream",
     "text": [
      "Area of rectangle = 12\n",
      "Perrimeter of rectangle = 16\n"
     ]
    }
   ],
   "source": [
    "# Find the area of rectangle\n",
    "\n",
    "l = int(input(\"Enter length: \"))\n",
    "b = int(input(\"Enter breadth: \"))\n",
    "\n",
    "class Calculation:\n",
    "\n",
    "    def __init__(self,l,b):\n",
    "        self.length = l\n",
    "        self.breadth = b\n",
    "\n",
    "    # methods\n",
    "    def area_of_rect(self):\n",
    "        a = self.length* self.breadth\n",
    "        print(f\"Area of rectangle = {a}\")\n",
    "\n",
    "    def perri_of_rect(self):\n",
    "        p = 2*(self.length + self.breadth)\n",
    "        print(f\"Perrimeter of rectangle = {p}\")\n",
    "        \n",
    "\n",
    "# Object creation.\n",
    "area = Calculation(l,b)\n",
    "perri = Calculation(l,b)\n",
    "\n",
    "# Calling methods in Calculation class using objects.\n",
    "area.area_of_rect()\n",
    "perri.perri_of_rect()"
   ]
  },
  {
   "cell_type": "code",
   "execution_count": 64,
   "id": "19410f61-d759-4e84-ab57-74494a2eba03",
   "metadata": {},
   "outputs": [
    {
     "name": "stdout",
     "output_type": "stream",
     "text": [
      "Hello\n"
     ]
    }
   ],
   "source": [
    "print(\"Hello\")"
   ]
  },
  {
   "cell_type": "code",
   "execution_count": 65,
   "id": "9c3c36b8-119f-49d4-bc19-fd2f45bebff1",
   "metadata": {},
   "outputs": [
    {
     "name": "stdout",
     "output_type": "stream",
     "text": [
      "World\n"
     ]
    }
   ],
   "source": [
    "print(\"World\")"
   ]
  },
  {
   "cell_type": "code",
   "execution_count": 4,
   "id": "e426e0ac-e643-499d-8fbd-306e7d73e019",
   "metadata": {},
   "outputs": [
    {
     "data": {
      "text/plain": [
       "array([[0, 0, 0],\n",
       "       [0, 0, 0]])"
      ]
     },
     "execution_count": 4,
     "metadata": {},
     "output_type": "execute_result"
    }
   ],
   "source": [
    "import numpy as np\n",
    "\n",
    "arr = np.zeros((2,3),dtype = int)\n",
    "arr"
   ]
  },
  {
   "cell_type": "code",
   "execution_count": 8,
   "id": "cbbf0f6b-59e3-4d5d-b3b9-764d78bb4de5",
   "metadata": {},
   "outputs": [
    {
     "name": "stdin",
     "output_type": "stream",
     "text": [
      "Enter rows:  3\n",
      "Enter cols:  4\n"
     ]
    },
    {
     "name": "stdout",
     "output_type": "stream",
     "text": [
      "[[0, 0, 0, 0], [0, 0, 0, 0], [0, 0, 0, 0]]\n",
      "<class 'list'>\n"
     ]
    }
   ],
   "source": [
    "r = int(input(\"Enter rows: \"))\n",
    "c = int(input(\"Enter cols: \"))\n",
    "\n",
    "arr = [[0 for _ in range(c)] for _ in range(r)]\n",
    "print(arr)\n",
    "\n",
    "print(type(arr))\n"
   ]
  },
  {
   "cell_type": "code",
   "execution_count": 14,
   "id": "eda38f07-a17b-42e3-a5c4-fca7dbedcec8",
   "metadata": {},
   "outputs": [
    {
     "name": "stdin",
     "output_type": "stream",
     "text": [
      "Enter no of elements:  5\n",
      " 5\n",
      " 4\n",
      " 3\n",
      " 2\n",
      " 1\n"
     ]
    },
    {
     "name": "stdout",
     "output_type": "stream",
     "text": [
      "array('i', [1, 2, 3, 4, 5])\n",
      "Second larget number is 4\n"
     ]
    }
   ],
   "source": [
    "# Finding second largest in an array.\n",
    "\n",
    "from array import *\n",
    "\n",
    "n = int(input(\"Enter no of elements: \"))\n",
    "\n",
    "arr = array('i',[])\n",
    "\n",
    "for i in range(n):\n",
    "    p = int(input())\n",
    "    arr.append(p)\n",
    "\n",
    "for i in range(n):\n",
    "    for j in range(n-1-i):\n",
    "        if(arr[j] > arr[j+1]):\n",
    "            temp = arr[j]\n",
    "            arr[j] = arr[j+1]\n",
    "            arr[j+1] = temp\n",
    "print(arr)\n",
    "print(f\"Second larget number is {arr[n-2]}\")"
   ]
  },
  {
   "cell_type": "markdown",
   "id": "14d3333d-1456-46fe-9fd9-74c50053066e",
   "metadata": {},
   "source": [
    "## Inheritance"
   ]
  },
  {
   "cell_type": "code",
   "execution_count": null,
   "id": "07b7d0c6-9969-4131-b46b-d16c58d37dbb",
   "metadata": {},
   "outputs": [],
   "source": [
    "## Why this Inheritance\n",
    "\n",
    "'''\n",
    "To increase the reusability of code.\n",
    "\n",
    "'''\n",
    "\n",
    "## What is this inheritance\n",
    "\n",
    "'''\n",
    "\n",
    "It is a fundamental concept in Object Oriented Programming (OOP) that allows a class (called as chile or derived class) to inherit attributes\n",
    "and methods from another class (called as parent or base class). This promotes code reuse, modularity, and a hierarchical class structure\n",
    "'''"
   ]
  },
  {
   "cell_type": "code",
   "execution_count": 3,
   "id": "884d6568-b25a-41bd-9c54-459881331292",
   "metadata": {},
   "outputs": [
    {
     "name": "stdout",
     "output_type": "stream",
     "text": [
      "I can eat\n"
     ]
    }
   ],
   "source": [
    "'''\n",
    "Here, when we closly observe the following two classes, both are using the same methods. This indirectly means that\n",
    "the Male class want to use all the methods of class Human. So we can inherit the methods and attributes of one class\n",
    "in other class.\n",
    "\n",
    "This inheritance will reduce the no.of lines in the code and provides feasibility to the programmer.\n",
    "\n",
    "To inherit the methods and attributes of one class in other class, we just need to pass the name of the mail class to the desired\n",
    "class.\n",
    "'''\n",
    "\n",
    "class Human:\n",
    "    def __init__(self):\n",
    "        pass\n",
    "    def eat(self):\n",
    "        print(\"I can eat\")\n",
    "    def work(self):\n",
    "        print(\"I can work\")\n",
    "\n",
    "class Male:\n",
    "    def eat(self):\n",
    "        print(\"I can eat\")\n",
    "    def work(self):\n",
    "        print(\"I can work\")\n",
    "\n",
    "male_1 = Male()\n",
    "male_1.eat()"
   ]
  },
  {
   "cell_type": "code",
   "execution_count": 8,
   "id": "2c92fe8b-df00-4780-a21a-1dcaeb5fbbbd",
   "metadata": {},
   "outputs": [
    {
     "name": "stdout",
     "output_type": "stream",
     "text": [
      "I can dance well\n",
      "I can eat\n",
      "I can code and debug\n"
     ]
    }
   ],
   "source": [
    "# parent class\n",
    "\n",
    "class Human:\n",
    "    def __init__(self):\n",
    "        pass\n",
    "    def eat(self):\n",
    "        print(\"I can eat\")\n",
    "    def work(self):\n",
    "        print(\"I can work\")\n",
    "\n",
    "# child class\n",
    "\n",
    "\n",
    "# The child class or the derived class can also have their own behaviour (own methods, attributes)\n",
    "class Male(Human):\n",
    "    def dance(self):\n",
    "        print(\"I can dance well\")\n",
    "    \n",
    "    # We can access the methods that are defined in the parent class and modify them according to our need. This is called METHOD OVERRIDING.\n",
    "    \n",
    "    def work(self):\n",
    "        print(\"I can code and debug\")\n",
    "    \n",
    "male_1 = Male()\n",
    "male_1.dance()\n",
    "male_1.eat()\n",
    "male_1.work()"
   ]
  },
  {
   "cell_type": "code",
   "execution_count": 29,
   "id": "c797e3b7-805f-45d2-986d-b9c46a637c6e",
   "metadata": {},
   "outputs": [
    {
     "name": "stdout",
     "output_type": "stream",
     "text": [
      "I can dance well\n",
      "I can eat\n",
      "I can work\n",
      "I can code and debug\n",
      "2\n",
      "Name =  Arun\n"
     ]
    },
    {
     "data": {
      "text/plain": [
       "'\\n\\nWhen there is no __init__ function defined in the child class, then we can access the attributes of parent class directly using the object and attribute.\\nBut if the __init__ function is defined in the child class, then we have to use super() function in the __init__ method of child class to access the parent class attributes.\\n'"
      ]
     },
     "execution_count": 29,
     "metadata": {},
     "output_type": "execute_result"
    }
   ],
   "source": [
    "# parent class\n",
    "\n",
    "class Human:\n",
    "    def __init__(self):\n",
    "        self.num_eyes = 2\n",
    "        self.num_nose = 1\n",
    "    def eat(self):\n",
    "        print(\"I can eat\")\n",
    "    def work(self):\n",
    "        print(\"I can work\")\n",
    "\n",
    "# child class\n",
    "\n",
    "\n",
    "# The child class or the derived class can also have their own behaviour (own methods, attributes)\n",
    "class Male(Human):\n",
    "    \n",
    "    def __init__(self,name):\n",
    "        self.name = name\n",
    "        super().__init__()     # same as methods, we need to use super() function to access the attributes present in the parent class.\n",
    "    \n",
    "    def dance(self):\n",
    "        print(\"I can dance well\")\n",
    "    \n",
    "    # We can access the methods that are defined in the parent class and modify them according to our need. This is called METHOD OVERRIDING.\n",
    "    # If we want to use the existing functionality of the method which is present in the parent class and also we want to add some extra functionalities in that method of child class. then use super() function.\n",
    "    def work(self):\n",
    "        super().work()\n",
    "        print(\"I can code and debug\")\n",
    "    \n",
    "male_1 = Male(\"Arun\")\n",
    "\n",
    "# The way of accessing methods\n",
    "male_1.dance()\n",
    "male_1.eat()\n",
    "male_1.work()\n",
    "\n",
    "\n",
    "# The way of accessing attributes\n",
    "print(male_1.num_eyes)                # We can access the attributes of parent class from child class.\n",
    "print(\"Name = \",male_1.name)\n",
    "\n",
    "\n",
    "'''\n",
    "\n",
    "When there is no __init__ function defined in the child class, then we can access the attributes of parent class directly using the object and attribute.\n",
    "But if the __init__ function is defined in the child class, then we have to use super() function in the __init__ method of child class to access the parent class attributes.\n",
    "'''\n",
    "\n"
   ]
  },
  {
   "cell_type": "code",
   "execution_count": 31,
   "id": "505fdfb2-7ed9-4bdb-99b3-5d8848d9dad7",
   "metadata": {},
   "outputs": [
    {
     "name": "stdout",
     "output_type": "stream",
     "text": [
      "I can dance well\n",
      "I can eat\n",
      "I can work\n",
      "I can code and debug\n",
      "2\n",
      "Name =  Arun\n",
      "My name is Arun and I have 1 heart, 2 eyes and 1 nose\n"
     ]
    },
    {
     "data": {
      "text/plain": [
       "'\\n\\nWhen there is no __init__ function defined in the child class, then we can access the attributes of parent class directly using the object and attribute.\\nBut if the __init__ function is defined in the child class, then we have to use super() function in the __init__ method of child class to access the parent class attributes.\\n'"
      ]
     },
     "execution_count": 31,
     "metadata": {},
     "output_type": "execute_result"
    }
   ],
   "source": [
    "# parent class\n",
    "\n",
    "class Human:\n",
    "    def __init__(self,num_heart):\n",
    "        self.num_eyes = 2\n",
    "        self.num_nose = 1\n",
    "        self.num_heart = num_heart\n",
    "    def eat(self):\n",
    "        print(\"I can eat\")\n",
    "    def work(self):\n",
    "        print(\"I can work\")\n",
    "\n",
    "# child class\n",
    "\n",
    "\n",
    "# The child class or the derived class can also have their own behaviour (own methods, attributes)\n",
    "class Male(Human):\n",
    "    \n",
    "    def __init__(self,name,heart):\n",
    "        self.name = name\n",
    "        super().__init__(heart)     # same as methods, we need to use super() function to access the attributes present in the parent class.\n",
    "    \n",
    "    def dance(self):\n",
    "        print(\"I can dance well\")\n",
    "    \n",
    "    # We can access the methods that are defined in the parent class and modify them according to our need. This is called METHOD OVERRIDING.\n",
    "    # If we want to use the existing functionality of the method which is present in the parent class and also we want to add some extra functionalities in that method of child class. then use super() function.\n",
    "    def work(self):\n",
    "        super().work()\n",
    "        print(\"I can code and debug\")\n",
    "\n",
    "    def display(self):\n",
    "        print(f\"My name is {self.name} and I have {self.num_heart} heart, {self.num_eyes} eyes and {self.num_nose} nose\")\n",
    "    \n",
    "male_1 = Male(\"Arun\",1)\n",
    "\n",
    "# The way of accessing methods\n",
    "male_1.dance()\n",
    "male_1.eat()\n",
    "male_1.work()\n",
    "\n",
    "\n",
    "# The way of accessing attributes\n",
    "print(male_1.num_eyes)                # We can access the attributes of parent class from child class.\n",
    "print(\"Name = \",male_1.name)\n",
    "\n",
    "male_1.display()\n",
    "'''\n",
    "\n",
    "When there is no __init__ function defined in the child class, then we can access the attributes of parent class directly using the object and attribute.\n",
    "But if the __init__ function is defined in the child class, then we have to use super() function in the __init__ method of child class to access the parent class attributes.\n",
    "'''\n",
    "\n"
   ]
  },
  {
   "cell_type": "markdown",
   "id": "f35b75ea-6022-4df0-9c7c-ba2d6ae656c2",
   "metadata": {},
   "source": [
    "## Multiple inheritance"
   ]
  },
  {
   "cell_type": "code",
   "execution_count": null,
   "id": "c16cc5cb-59b8-4eac-a07b-d510ffb78061",
   "metadata": {},
   "outputs": [],
   "source": [
    "# Here we have only one child class and multiple parent classes.\n",
    "# So the child class can access all the attributes and methods from both the parent classes.\n"
   ]
  },
  {
   "cell_type": "code",
   "execution_count": 34,
   "id": "aa4362df-4cd3-42bb-a53a-117f5d676162",
   "metadata": {},
   "outputs": [
    {
     "name": "stdout",
     "output_type": "stream",
     "text": [
      "I can read well\n",
      "I can write well\n",
      "I can code well\n"
     ]
    }
   ],
   "source": [
    "# parent classes\n",
    "\n",
    "class Father:\n",
    "    def read(self):\n",
    "        print(\"I can read well\")\n",
    "\n",
    "    def work(self):\n",
    "        print(\"I can code well\")\n",
    "        \n",
    "class Mother:\n",
    "    def write(self):\n",
    "        print(\"I can write well\")\n",
    "\n",
    "    def work(self):\n",
    "        print(\"I can debug well\")\n",
    "\n",
    "\n",
    "# Child classes\n",
    "\n",
    "# If both the parent classes have the same methods with same name, then the interpreter consider methods based on the order of arguments we mention in the child class.\n",
    "class Boy(Father, Mother):\n",
    "    pass\n",
    "\n",
    "boy_1 = Boy()  # Creating an object\n",
    "boy_1.read()\n",
    "boy_1.write()\n",
    "boy_1.work()  # Since we mention the Father class first in the child class, we are seeing the statement from work method written in Father class."
   ]
  },
  {
   "cell_type": "code",
   "execution_count": 18,
   "id": "e6a88c64-d582-4b20-b798-eac821f4b36f",
   "metadata": {},
   "outputs": [
    {
     "name": "stdout",
     "output_type": "stream",
     "text": [
      "I can read well\n",
      "I can sleep well\n",
      "I can test the code\n",
      "I can debug well\n"
     ]
    }
   ],
   "source": [
    "## But if we want to access the method from a particular class, then do this\n",
    "\n",
    "class Father:\n",
    "    def read(self):\n",
    "        print(\"I can read well\")\n",
    "\n",
    "    def work(self):\n",
    "        print(\"I can code well\")\n",
    "\n",
    "class Mother:\n",
    "    def write(self):\n",
    "        print(\"I can write well\")\n",
    "\n",
    "    def work(self):\n",
    "        print(\"I can debug well\")\n",
    "\n",
    "class Boy(Father,Mother):\n",
    "    def sleep(self):\n",
    "        print(\"I can sleep well\")\n",
    "\n",
    "    def work(self):\n",
    "        print(\"I can test the code\")\n",
    "\n",
    "boy_1 = Boy()\n",
    "\n",
    "boy_1.read()\n",
    "\n",
    "boy_1.sleep()\n",
    "\n",
    "boy_1.work() \n",
    "''' If all the classes have the same method, then the order of accessing the methods will be like, the intrepreter will check itself, if \n",
    "it doesn't find then it will go in the order that we have mentioned in the brackets of child class '''\n",
    "# In brackets, you need to mention on which object you want to call this method \n",
    "\n",
    "\n",
    "Mother.work(boy_1)   # use this syntax to access the method from a particular class\n",
    "\n",
    "\n"
   ]
  },
  {
   "cell_type": "code",
   "execution_count": 46,
   "id": "85d540da-bf0f-498c-b894-793435b7a09f",
   "metadata": {},
   "outputs": [
    {
     "name": "stdout",
     "output_type": "stream",
     "text": [
      "I can read well\n",
      "I can sleep well\n",
      "I can debug well\n"
     ]
    }
   ],
   "source": [
    "class Father:\n",
    "    def read(self):\n",
    "        print(\"I can read well\")\n",
    "\n",
    "   # def work(self):\n",
    "   #     print(\"I can code well\")\n",
    "\n",
    "class Mother:\n",
    "    def write(self):\n",
    "        print(\"I can write well\")\n",
    "\n",
    "    def work(self):\n",
    "        print(\"I can debug well\")\n",
    "\n",
    "class Boy(Father,Mother):\n",
    "    def sleep(self):\n",
    "        print(\"I can sleep well\")\n",
    "\n",
    "   # def work(self):\n",
    "    #    print(\"I can test the code\")\n",
    "\n",
    "boy_1 = Boy()\n",
    "\n",
    "boy_1.read()\n",
    "\n",
    "boy_1.sleep()\n",
    "\n",
    "boy_1.work()"
   ]
  },
  {
   "cell_type": "code",
   "execution_count": 17,
   "id": "adef62a0-3eb1-4790-bf6d-958195e892b0",
   "metadata": {},
   "outputs": [
    {
     "name": "stdout",
     "output_type": "stream",
     "text": [
      "Init method called from Mother class\n",
      "Init method called from Father class\n",
      "No.of nose = 1\n",
      "Name of the boy = Arun\n"
     ]
    }
   ],
   "source": [
    "class Father:\n",
    "    def __init__(self):\n",
    "        print(\"Init method called from Father class\")\n",
    "        self.num_eyes = 2\n",
    "        self.num_nose = 1\n",
    "        \n",
    "    def read(self):\n",
    "        print(\"I can read well\")\n",
    "\n",
    "    def work(self):\n",
    "        print(\"I can code well\")\n",
    "\n",
    "class Mother:\n",
    "    def __init__(self,name):\n",
    "        print(\"Init method called from Mother class\")\n",
    "        self.name = name\n",
    "        \n",
    "    def write(self):\n",
    "        print(\"I can write well\")\n",
    "\n",
    "    def work(self):\n",
    "        print(\"I can debug well\")\n",
    "\n",
    "class Boy(Father,Mother):\n",
    "    def __init__(self,name):\n",
    "        Mother.__init__(self,name)  # written this to access the name attribute to take only from the Mother class.\n",
    "        #super().__init__()   # written this to access the attributes from the available classes\n",
    "        Father.__init__(self)   # we can use this too, to get the num_nose attribute from the Father class explicitly \n",
    "    def sleep(self):\n",
    "        print(\"I can sleep well\")\n",
    "\n",
    "    def work(self):\n",
    "        print(\"I can test the code\")\n",
    "\n",
    "boy_1 = Boy(\"Arun\")\n",
    "'''\n",
    "Same as methods, for arguments also if we do not mention that we need the attributes from particular class only, then it will take the order\n",
    "that we have mentioned in the arguments of child class. So to tell the child class to take attributes only from particular parent class then \n",
    "do as shown in the Boy class init method.\n",
    "'''\n",
    "\n",
    "print(f\"No.of nose = {boy_1.num_nose}\") # to print this, we call init method of Father class\n",
    "\n",
    "print(f\"Name of the boy = {boy_1.name}\") # to print this, we call init method of Mother class (we did this explicitly.)\n"
   ]
  },
  {
   "cell_type": "code",
   "execution_count": 29,
   "id": "a7145658-5730-4163-9c8c-1e6f0b87067b",
   "metadata": {},
   "outputs": [
    {
     "name": "stdout",
     "output_type": "stream",
     "text": [
      "Init method called from Mother class\n",
      "Init method called from Father class\n",
      "No.of nose = 1\n",
      "Name of the boy = Arun\n",
      "Language = Python\n",
      "Num of hearts = 1\n",
      "I am from display method in Boy class, my name is Arun and I have 1 heart, 2 eyes and I do Python programming\n"
     ]
    }
   ],
   "source": [
    "class Father:\n",
    "    def __init__(self,num_heart):\n",
    "        print(\"Init method called from Father class\")\n",
    "        self.num_eyes = 2  # these 2 arguments are created and assigned here itself\n",
    "        self.num_nose = 1\n",
    "\n",
    "        self.num_heart = num_heart   # Father class's own varible, value taken from object boy_1 while creating\n",
    "        \n",
    "    def read(self):\n",
    "        print(\"I can read well\")\n",
    "\n",
    "    def work(self):\n",
    "        print(\"I can code well\")\n",
    "\n",
    "class Mother:\n",
    "    def __init__(self,name):\n",
    "        print(\"Init method called from Mother class\")\n",
    "        self.name = name\n",
    "        \n",
    "    def write(self):\n",
    "        print(\"I can write well\")\n",
    "\n",
    "    def work(self):\n",
    "        print(\"I can debug well\")\n",
    "\n",
    "class Boy(Father,Mother):\n",
    "    def __init__(self,name,num_heart,language):\n",
    "        Mother.__init__(self,name)  # written this to access the name attribute to take only from the Mother class.\n",
    "        \n",
    "        #super().__init__()   # written this to access the attributes from the available classes\n",
    "        \n",
    "        Father.__init__(self,num_heart)   # we can use this too, to get the num_nose attribute from the Father class explicitly \n",
    "        \n",
    "        self.language = language  # This child class can have its own attributes.\n",
    "        \n",
    "    def sleep(self):\n",
    "        print(\"I can sleep well\")\n",
    "\n",
    "    def work(self):\n",
    "        print(\"I can test the code\")\n",
    "\n",
    "    def display(self):\n",
    "        print(f\"I am from display method in Boy class, my name is {self.name} and I have {self.num_heart} heart, {self.num_eyes} eyes and I do {self.language} programming\")\n",
    "\n",
    "boy_1 = Boy(\"Arun\",1,\"Python\")\n",
    "'''\n",
    "Same as methods, for arguments also if we do not mention that we need the attributes from particular class only, then it will take the order\n",
    "that we have mentioned in the arguments of child class. So to tell the child class to take attributes only from particular parent class then \n",
    "do as shown in the Boy class init method.\n",
    "'''\n",
    "\n",
    "print(f\"No.of nose = {boy_1.num_nose}\") # to print this, we call init method of Father class\n",
    "\n",
    "print(f\"Name of the boy = {boy_1.name}\") # to print this, we call init method of Mother class (we did this explicitly.)\n",
    "\n",
    "print(f\"Language = {boy_1.language}\")\n",
    "\n",
    "print(f\"Num of hearts = {boy_1.num_heart}\")  # this is the way to access attributes\n",
    "\n",
    "boy_1.display()   # this is the way to access methods"
   ]
  },
  {
   "cell_type": "code",
   "execution_count": null,
   "id": "91261d5f-f85d-41c8-8415-00b7201ce533",
   "metadata": {},
   "outputs": [],
   "source": []
  }
 ],
 "metadata": {
  "kernelspec": {
   "display_name": "Python 3 (ipykernel)",
   "language": "python",
   "name": "python3"
  },
  "language_info": {
   "codemirror_mode": {
    "name": "ipython",
    "version": 3
   },
   "file_extension": ".py",
   "mimetype": "text/x-python",
   "name": "python",
   "nbconvert_exporter": "python",
   "pygments_lexer": "ipython3",
   "version": "3.11.9"
  }
 },
 "nbformat": 4,
 "nbformat_minor": 5
}
