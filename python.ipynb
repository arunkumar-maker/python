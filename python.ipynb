{
 "cells": [
  {
   "cell_type": "code",
   "execution_count": 37,
   "id": "1191ac2e-84f0-4740-98d1-87445ca693e9",
   "metadata": {},
   "outputs": [
    {
     "name": "stdout",
     "output_type": "stream",
     "text": [
      "Hello world\n"
     ]
    }
   ],
   "source": [
    "print (\"Hello world\")\n",
    "\n",
    "#print statement automatically appends a new line, so explicitly no need to give a new line character in python.\n",
    "# If you are using ubuntu to program the python programs, then we need to use $python3 file_name.py to compile the file and see the output."
   ]
  },
  {
   "cell_type": "code",
   "execution_count": 38,
   "id": "ef1c22c0-8674-48c0-a9e5-057a2c29cd64",
   "metadata": {},
   "outputs": [
    {
     "name": "stdout",
     "output_type": "stream",
     "text": [
      "100\n"
     ]
    }
   ],
   "source": [
    "x = 100\n",
    "print(x)"
   ]
  },
  {
   "cell_type": "code",
   "execution_count": 39,
   "id": "78c3647d-52f9-4517-85b7-43e923417871",
   "metadata": {},
   "outputs": [
    {
     "name": "stdout",
     "output_type": "stream",
     "text": [
      "110\n"
     ]
    }
   ],
   "source": [
    "y = 10\n",
    "print(x+y)"
   ]
  },
  {
   "cell_type": "code",
   "execution_count": 40,
   "id": "82c38673-417d-4c9c-962a-8fcd2f9a8528",
   "metadata": {},
   "outputs": [
    {
     "name": "stdout",
     "output_type": "stream",
     "text": [
      "<class 'int'>\n",
      "<class 'float'>\n",
      "<class 'str'>\n",
      "<class 'str'>\n",
      "<class 'float'>\n",
      "<class 'str'>\n"
     ]
    }
   ],
   "source": [
    "# type of a variable\n",
    "\n",
    "x = 20\n",
    "print(type(x))\n",
    "\n",
    "y = 2.3\n",
    "print(type(y))\n",
    "\n",
    "z = \"Hello\"\n",
    "print(type(z))\n",
    "\n",
    "w = 'hello'\n",
    "print(type(w))\n",
    "\n",
    "q = 1E10\n",
    "print(type(q))\n",
    "\n",
    "p = 'a'\n",
    "print(type(p))\n",
    "\n",
    "# In python, everything is considered as an object, so only we are seeing class for every type. \n",
    "# Eg: x is a class of integer \n",
    "# ..."
   ]
  },
  {
   "cell_type": "code",
   "execution_count": 41,
   "id": "7cfa87ee-9ba8-43e7-939c-18a257207702",
   "metadata": {},
   "outputs": [
    {
     "name": "stdout",
     "output_type": "stream",
     "text": [
      "Hallo leute \n",
      "Hallo Leute,   Wie gehts dir?\n",
      "Mir-Gehts-es-gut\n"
     ]
    }
   ],
   "source": [
    "print(\"Hallo leute \")\n",
    "\n",
    "print(\"Hallo Leute, \", end = \"  \")\n",
    "print(\"Wie gehts dir?\")\n",
    "\n",
    "print(\"Mir\", \"Gehts\", \"es\", \"gut\", sep = \"-\")\n",
    "\n",
    "# In python, by default the print statement will go to next line, to avoud it, we can use end = \" \" to keep the control to stay in the same line."
   ]
  },
  {
   "cell_type": "code",
   "execution_count": 42,
   "id": "9f6cacb4-7e6b-44ef-9574-2d813bf30a86",
   "metadata": {},
   "outputs": [
    {
     "name": "stdin",
     "output_type": "stream",
     "text": [
      "Ore number mattum enter pannu, please:  5\n",
      "Seri, innoru number enter pannu, avlodha:  6\n"
     ]
    },
    {
     "name": "stdout",
     "output_type": "stream",
     "text": [
      "\n",
      "OK pa, unakaaga naa rendium add panre: \n",
      "Addition 5 + 6  =  11\n",
      "Ok sure, sir like that only I have added\n"
     ]
    }
   ],
   "source": [
    "m = int(input(\"Ore number mattum enter pannu, please: \"))\n",
    "n = int(input(\"Seri, innoru number enter pannu, avlodha: \"))\n",
    "\n",
    "print()\n",
    "print(\"OK pa, unakaaga naa rendium add panre: \")\n",
    "\n",
    "print(f\"Addition {m} + {n}  = \",m+n)\n",
    "print(\"Ok sure, sir like that only I have added\")"
   ]
  },
  {
   "cell_type": "markdown",
   "id": "96f44b62-7e89-46b0-ad56-0ab17aefe10e",
   "metadata": {},
   "source": [
    "#### name = input(\"Un peru sollu pa: \")\n",
    "print(f\"Un peru:{name} \")\n",
    "\n",
    "age = input(\"vayasu: \")\n",
    "print(f\"Vayasu: {age}\")\n",
    "\n",
    "print(\"Sorry, eppo purandha: \")\n",
    "date = input()\n",
    "print(f\"Date = {date}\")"
   ]
  },
  {
   "cell_type": "code",
   "execution_count": 44,
   "id": "52c26984-c7fc-4907-811b-0ab18e34a48e",
   "metadata": {},
   "outputs": [
    {
     "name": "stdout",
     "output_type": "stream",
     "text": [
      "10 20 30\n"
     ]
    }
   ],
   "source": [
    "x = 10\n",
    "y = 20\n",
    "z = 30\n",
    "print(x,y,z)"
   ]
  },
  {
   "cell_type": "code",
   "execution_count": 45,
   "id": "f152b420-1aef-40e5-9ea8-2b2b1509b92c",
   "metadata": {},
   "outputs": [
    {
     "name": "stdout",
     "output_type": "stream",
     "text": [
      "Hello World \n"
     ]
    }
   ],
   "source": [
    "print(\"Hello \" + \"World \")"
   ]
  },
  {
   "cell_type": "code",
   "execution_count": 46,
   "id": "0d10053b-36f8-4c6c-8052-319c395669e8",
   "metadata": {},
   "outputs": [
    {
     "name": "stdout",
     "output_type": "stream",
     "text": [
      "Hello Arun Kumar\n"
     ]
    }
   ],
   "source": [
    "name = \"Arun Kumar\"\n",
    "print(\"Hello \" + name)"
   ]
  },
  {
   "cell_type": "markdown",
   "id": "12f865c5-05eb-45a1-b7ed-19c10d2ec41a",
   "metadata": {},
   "source": [
    "### Follow the same logic that we have used in C programming to print patterns."
   ]
  },
  {
   "cell_type": "code",
   "execution_count": 47,
   "id": "ba719c12-25cf-4a63-8df7-15b0effd82ef",
   "metadata": {},
   "outputs": [
    {
     "name": "stdin",
     "output_type": "stream",
     "text": [
      "Enter a number:  5\n"
     ]
    },
    {
     "name": "stdout",
     "output_type": "stream",
     "text": [
      "*  \n",
      "*  *  \n",
      "*  *  *  \n",
      "*  *  *  *  \n",
      "*  *  *  *  *  \n"
     ]
    }
   ],
   "source": [
    "\n",
    "n = int(input(\"Enter a number: \"))\n",
    "for i in range(1,n+1):\n",
    "    for j in range(1,i+1):\n",
    "        print(\"* \", end = \" \")\n",
    "    print()"
   ]
  },
  {
   "cell_type": "code",
   "execution_count": 48,
   "id": "ee27604a-8126-4abe-ad48-c75f924ede80",
   "metadata": {},
   "outputs": [
    {
     "name": "stdin",
     "output_type": "stream",
     "text": [
      "Enter the value of n:  7\n"
     ]
    },
    {
     "name": "stdout",
     "output_type": "stream",
     "text": [
      "*  *  *  *  *  *  *  \n",
      "*  *  *  *  *  *  \n",
      "*  *  *  *  *  \n",
      "*  *  *  *  \n",
      "*  *  *  \n",
      "*  *  \n",
      "*  \n"
     ]
    }
   ],
   "source": [
    "n = int(input(\"Enter the value of n: \"))\n",
    "for i in range(1,n+1):\n",
    "    for j in range(i,n+1):\n",
    "        print(\"* \", end = \" \")\n",
    "    print()"
   ]
  },
  {
   "cell_type": "code",
   "execution_count": 49,
   "id": "697ee6ec-910a-486f-93c1-e38b596e34b2",
   "metadata": {},
   "outputs": [
    {
     "name": "stdin",
     "output_type": "stream",
     "text": [
      "Enter the value of n:  5\n"
     ]
    },
    {
     "name": "stdout",
     "output_type": "stream",
     "text": [
      "*                          *  \n",
      "*  *                    *  *  \n",
      "*  *  *              *  *  *  \n",
      "*  *  *  *        *  *  *  *  \n",
      "*  *  *  *  *  *  *  *  *  *  \n"
     ]
    }
   ],
   "source": [
    "n = int(input(\"Enter the value of n: \"))\n",
    "for i in range(1,n+1):\n",
    "    for j in range(1,i+1):\n",
    "        print(\"* \", end = \" \")\n",
    "    for j in range(i,n):\n",
    "        print(\"  \", end = \" \")\n",
    "    for j in range(i,n):\n",
    "        print(\"  \", end = \" \")\n",
    "    for j in range(1,i+1):\n",
    "        print(\"* \", end = \" \")\n",
    "    print()"
   ]
  },
  {
   "cell_type": "code",
   "execution_count": 50,
   "id": "d47e8af9-a8f7-4854-a841-0d10a9a5c005",
   "metadata": {},
   "outputs": [
    {
     "name": "stdout",
     "output_type": "stream",
     "text": [
      "Hello \n",
      "World\n",
      "Hello --World\n",
      "Hello ++World\n",
      "Hello \\\\\\\\World\n"
     ]
    }
   ],
   "source": [
    "print(\"Hello \", \"World\", sep = \"\\n\")\n",
    "\n",
    "print(\"Hello \", \"World\", sep = \"--\")\n",
    "\n",
    "print(\"Hello \", \"World\", sep = \"++\")\n",
    "\n",
    "print(\"Hello \", \"World\", sep = \"\\\\\\\\\\\\\\\\\")"
   ]
  },
  {
   "cell_type": "code",
   "execution_count": 51,
   "id": "7a5e4087-a2e6-491d-8e9b-f3177d8b50d5",
   "metadata": {},
   "outputs": [
    {
     "name": "stdout",
     "output_type": "stream",
     "text": [
      "My name is Arun Kumar and I am 22 years old\n"
     ]
    }
   ],
   "source": [
    "name = \"Arun Kumar\"\n",
    "age = 22\n",
    "\n",
    "print(f\"My name is {name} and I am {age} years old\")"
   ]
  },
  {
   "cell_type": "code",
   "execution_count": 52,
   "id": "4ca98a58-42a4-4256-b34c-d21538daef8f",
   "metadata": {},
   "outputs": [
    {
     "name": "stdout",
     "output_type": "stream",
     "text": [
      "10 + 20 = 30\n",
      "\n",
      "10 + 20 = 30\n"
     ]
    }
   ],
   "source": [
    "x = 10\n",
    "y = 20\n",
    "\n",
    "z = x + y\n",
    "\n",
    "print(\"{} + {} = {}\".format(x,y,x+y))\n",
    "print()\n",
    "print(\"%d + %d = %d\"%(x,y,x+y))"
   ]
  },
  {
   "cell_type": "code",
   "execution_count": 53,
   "id": "1ee03d5e-4804-4ae2-a513-6d30b118bdd0",
   "metadata": {},
   "outputs": [
    {
     "name": "stdin",
     "output_type": "stream",
     "text": [
      "Enter a number 1 :  5\n",
      "Enter a number 2 :  6\n"
     ]
    },
    {
     "name": "stdout",
     "output_type": "stream",
     "text": [
      "Numbers before swapping: 5 , 6\n",
      "Numbers after swapping: 6, 5\n"
     ]
    }
   ],
   "source": [
    "m = int(input(\"Enter a number 1 : \"))\n",
    "n = int(input(\"Enter a number 2 : \"))\n",
    "\n",
    "print(f\"Numbers before swapping: {m} , {n}\")\n",
    "\n",
    "m,n = n,m\n",
    "\n",
    "print(f\"Numbers after swapping: {m}, {n}\")"
   ]
  },
  {
   "cell_type": "code",
   "execution_count": 54,
   "id": "eaf2a01a-3352-4c51-b95a-e633b42d266f",
   "metadata": {},
   "outputs": [
    {
     "name": "stdout",
     "output_type": "stream",
     "text": [
      "Address of 10 is 140732691084360\n"
     ]
    }
   ],
   "source": [
    "# Get the address of the variable\n",
    "\n",
    "x = 10\n",
    "print(f\"Address of {x} is {id(x)}\")\n",
    "\n",
    "# id(), this function will give the address of the variable mentioned in that function."
   ]
  },
  {
   "cell_type": "markdown",
   "id": "4b73b167-6470-46ab-b207-b7a591f85308",
   "metadata": {},
   "source": [
    "# Data Structures\n",
    "## Mutable (can change)\n",
    "### 1. List\n",
    "### 2. Dictionary\n",
    "\n",
    "## Immutable (Cannot change)\n",
    "### 1. String\n",
    "### 2. Tuple"
   ]
  },
  {
   "cell_type": "code",
   "execution_count": 55,
   "id": "4270e9ac-5a98-46c7-a248-7bd524daf509",
   "metadata": {},
   "outputs": [
    {
     "name": "stdout",
     "output_type": "stream",
     "text": [
      "hi\n"
     ]
    }
   ],
   "source": [
    "print(\"hi\")"
   ]
  },
  {
   "cell_type": "code",
   "execution_count": 56,
   "id": "41575f32-02e6-41b7-80f4-ea4cfe3766c0",
   "metadata": {},
   "outputs": [
    {
     "name": "stdout",
     "output_type": "stream",
     "text": [
      "1 2 3\n"
     ]
    }
   ],
   "source": [
    "# In python we can do multiple variable initialization.\n",
    "x,y,z = 1,2,3\n",
    "\n",
    "print(x,y,z)"
   ]
  },
  {
   "cell_type": "code",
   "execution_count": 57,
   "id": "1fcf2ab6-15be-464d-8509-24422276d480",
   "metadata": {},
   "outputs": [
    {
     "ename": "ValueError",
     "evalue": "too many values to unpack (expected 2)",
     "output_type": "error",
     "traceback": [
      "\u001b[1;31m---------------------------------------------------------------------------\u001b[0m",
      "\u001b[1;31mValueError\u001b[0m                                Traceback (most recent call last)",
      "Cell \u001b[1;32mIn[57], line 3\u001b[0m\n\u001b[0;32m      1\u001b[0m \u001b[38;5;66;03m# When we have more values on the right side and less variables on the left side to hold, it will throw an error\u001b[39;00m\n\u001b[1;32m----> 3\u001b[0m a,b \u001b[38;5;241m=\u001b[39m \u001b[38;5;241m1\u001b[39m,\u001b[38;5;241m2\u001b[39m,\u001b[38;5;241m3\u001b[39m\n",
      "\u001b[1;31mValueError\u001b[0m: too many values to unpack (expected 2)"
     ]
    }
   ],
   "source": [
    "# When we have more values on the right side and less variables on the left side to hold, it will throw an error\n",
    "\n",
    "a,b = 1,2,3"
   ]
  },
  {
   "cell_type": "code",
   "execution_count": 58,
   "id": "e35bbcef-5615-4387-844b-eea9fa4949f4",
   "metadata": {},
   "outputs": [
    {
     "name": "stdout",
     "output_type": "stream",
     "text": [
      "1 2 3\n"
     ]
    }
   ],
   "source": [
    "# To avoid the above scenario, we have to use underscore (\"_\").\n",
    "# This underscore will act as a placeholder\n",
    "\n",
    "a,b,_ = 1,2,3\n",
    "print(a,b,_)"
   ]
  },
  {
   "cell_type": "code",
   "execution_count": 59,
   "id": "3cb544f1-0add-4bc3-9a99-26ff7c857fe4",
   "metadata": {},
   "outputs": [
    {
     "name": "stdout",
     "output_type": "stream",
     "text": [
      "List of keywords are :  ['False', 'None', 'True', 'and', 'as', 'assert', 'async', 'await', 'break', 'class', 'continue', 'def', 'del', 'elif', 'else', 'except', 'finally', 'for', 'from', 'global', 'if', 'import', 'in', 'is', 'lambda', 'nonlocal', 'not', 'or', 'pass', 'raise', 'return', 'try', 'while', 'with', 'yield']\n"
     ]
    }
   ],
   "source": [
    "# To see the list of keywords\n",
    "\n",
    "import keyword\n",
    "print(\"List of keywords are : \",keyword.kwlist)"
   ]
  },
  {
   "cell_type": "code",
   "execution_count": 60,
   "id": "bf1a17ce-ef90-4158-a5f7-3abba265c6e2",
   "metadata": {},
   "outputs": [
    {
     "name": "stdout",
     "output_type": "stream",
     "text": [
      "100 100 100\n"
     ]
    }
   ],
   "source": [
    "a=b=c=100\n",
    "print(a,b,c)"
   ]
  },
  {
   "cell_type": "markdown",
   "id": "4846e62d-83ea-428b-9e44-1b063f5be295",
   "metadata": {},
   "source": [
    "## Datatypes"
   ]
  },
  {
   "cell_type": "markdown",
   "id": "0e27ae47-0f44-4bfd-b637-56f9e04d9579",
   "metadata": {},
   "source": [
    "## Integers"
   ]
  },
  {
   "cell_type": "code",
   "execution_count": 61,
   "id": "96b54d96-1b29-450e-973d-c05dcc663429",
   "metadata": {},
   "outputs": [
    {
     "name": "stdout",
     "output_type": "stream",
     "text": [
      "<class 'int'>\n",
      "<class 'float'>\n",
      "(3+5j)\n",
      "<class 'complex'>\n"
     ]
    }
   ],
   "source": [
    "\n",
    "\n",
    "x = 10\n",
    "print(type(x))\n",
    "\n",
    "# In python, there is no concept of double. Irrespective of precession, it is considered as a float.\n",
    "y = 10.5\n",
    "print(type(y))\n",
    "\n",
    "z = complex(3,5)\n",
    "print(z)\n",
    "print(type(z))\n",
    "\n",
    "# Here we don't say signed and unsigned"
   ]
  },
  {
   "cell_type": "markdown",
   "id": "782a27e2-8526-4997-bca1-f47508736106",
   "metadata": {},
   "source": [
    "## Strings"
   ]
  },
  {
   "cell_type": "code",
   "execution_count": 121,
   "id": "5d412350-f9db-4471-9ba7-99b31a2802ac",
   "metadata": {},
   "outputs": [
    {
     "name": "stdout",
     "output_type": "stream",
     "text": [
      "<class 'str'>\n",
      "<class 'str'>\n",
      "<class 'str'>\n"
     ]
    }
   ],
   "source": [
    "\n",
    "\n",
    "# Here we donot have the concept of char. Everything is considered as a string.\n",
    "\n",
    "a = 'Arun'\n",
    "b = \"Arun\"\n",
    "c = '''Arun'''\n",
    "\n",
    "# All the above are considered as strings\n",
    "\n",
    "print(type(a), type(b), type(c), sep = \"\\n\")"
   ]
  },
  {
   "cell_type": "markdown",
   "id": "5ff0d020-b58e-4bcb-90c3-0c036e5b6eab",
   "metadata": {},
   "source": [
    "## Lists"
   ]
  },
  {
   "cell_type": "code",
   "execution_count": 122,
   "id": "03a94975-8883-40d9-b3c1-a01bb84e0f30",
   "metadata": {},
   "outputs": [
    {
     "name": "stdout",
     "output_type": "stream",
     "text": [
      "[1, 2, 3, 4]\n",
      "[1, 2, 'Hello', 12.44, (2+3j)]\n",
      "2026184318528\n",
      "1\n"
     ]
    }
   ],
   "source": [
    "\n",
    "\n",
    "# List is a collection of data and this should be enclosed in square brackets. []\n",
    "# This list can hold data of different datatypes unlike array in C.\n",
    "\n",
    "l1 = [1,2,3,4]\n",
    "print(l1)\n",
    "\n",
    "l2 = [1,2,\"Hello\", 12.44,2+3j]\n",
    "print(l2)\n",
    "\n",
    "# If we use id(<list_variable>) will give the base address of the list.\n",
    "print(id(l2))\n",
    "\n",
    "print(l1[0])"
   ]
  },
  {
   "cell_type": "code",
   "execution_count": 126,
   "id": "862ab7e7-3699-45ab-be75-8744827f6d23",
   "metadata": {},
   "outputs": [
    {
     "name": "stdout",
     "output_type": "stream",
     "text": [
      "[2, 3, 4, 5, 6, 7, 8, 9]\n"
     ]
    }
   ],
   "source": [
    "l1 = [1,2,3,4,5,6,7,8,9]\n",
    "print(l1[1:])"
   ]
  },
  {
   "cell_type": "code",
   "execution_count": 127,
   "id": "b0fcb274-521c-404c-9250-567f5e1cea20",
   "metadata": {},
   "outputs": [
    {
     "data": {
      "text/plain": [
       "[0, 2, 3, 4, 5, 6, 7, 8, 9]"
      ]
     },
     "execution_count": 127,
     "metadata": {},
     "output_type": "execute_result"
    }
   ],
   "source": [
    "l1[0] = 0 # changeble\n",
    "l1"
   ]
  },
  {
   "cell_type": "code",
   "execution_count": 65,
   "id": "5c0962bb-327d-4bcd-8865-3c9ec2d2ef91",
   "metadata": {},
   "outputs": [
    {
     "name": "stdout",
     "output_type": "stream",
     "text": [
      "9\n"
     ]
    }
   ],
   "source": [
    "print(l1[-1])"
   ]
  },
  {
   "cell_type": "code",
   "execution_count": 66,
   "id": "1ab73612-139c-41ab-95dd-00767462dbb7",
   "metadata": {},
   "outputs": [
    {
     "name": "stdout",
     "output_type": "stream",
     "text": [
      "[5, 6, 7, 8, 9]\n"
     ]
    }
   ],
   "source": [
    "print(l1[4:15])"
   ]
  },
  {
   "cell_type": "code",
   "execution_count": 67,
   "id": "8af17187-1472-4a54-a749-b8b668e7d517",
   "metadata": {},
   "outputs": [
    {
     "name": "stdout",
     "output_type": "stream",
     "text": [
      "[8, 9]\n"
     ]
    }
   ],
   "source": [
    "print(l1[-2:]) # it is printing from -2 till the end."
   ]
  },
  {
   "cell_type": "code",
   "execution_count": 68,
   "id": "162c72f7-3ba1-46bb-8ee7-a1b27686cd55",
   "metadata": {},
   "outputs": [
    {
     "name": "stdout",
     "output_type": "stream",
     "text": [
      "[5, 6, 7, 8]\n"
     ]
    },
    {
     "data": {
      "text/plain": [
       "'\\nIf we try giving -1:-5 then this is not possible, it seems like we are telling the control to move from right (from -1)to left (to -5), \\nthis is not allowed.\\n\\n'"
      ]
     },
     "execution_count": 68,
     "metadata": {},
     "output_type": "execute_result"
    }
   ],
   "source": [
    "print(l1[-5:-1]) # The control always move from left to right so we are getting 5,6,7,8 for this input.\n",
    "'''\n",
    "If we try giving -1:-5 then this is not possible, it seems like we are telling the control to move from right (from -1)to left (to -5), \n",
    "this is not allowed.\n",
    "\n",
    "'''"
   ]
  },
  {
   "cell_type": "code",
   "execution_count": 109,
   "id": "2bfda98e-ae96-436f-a4d4-aec5c90987f7",
   "metadata": {},
   "outputs": [
    {
     "data": {
      "text/plain": [
       "[[1, 2, 3, 4, 5], ['Arun', 9.3, 'Kumar', 23]]"
      ]
     },
     "execution_count": 109,
     "metadata": {},
     "output_type": "execute_result"
    }
   ],
   "source": [
    "p1 = [1,2,3,4,5]\n",
    "p2 = [\"Arun\",9.3,\"Kumar\", 23]\n",
    "p3 = [p1,p2]\n",
    "p3"
   ]
  },
  {
   "cell_type": "code",
   "execution_count": 70,
   "id": "8847870a-2b3f-4108-8658-14f3d080366c",
   "metadata": {},
   "outputs": [
    {
     "data": {
      "text/plain": [
       "[1, 2, 3, 4, 5]"
      ]
     },
     "execution_count": 70,
     "metadata": {},
     "output_type": "execute_result"
    }
   ],
   "source": [
    "p3[0]"
   ]
  },
  {
   "cell_type": "code",
   "execution_count": 71,
   "id": "afbc27e0-b92d-4983-b609-cbb69fbca3c9",
   "metadata": {},
   "outputs": [
    {
     "data": {
      "text/plain": [
       "5"
      ]
     },
     "execution_count": 71,
     "metadata": {},
     "output_type": "execute_result"
    }
   ],
   "source": [
    "p3[0][4]"
   ]
  },
  {
   "cell_type": "code",
   "execution_count": 72,
   "id": "981e3231-534a-4ae2-bfcd-2d813f47eb2e",
   "metadata": {},
   "outputs": [
    {
     "data": {
      "text/plain": [
       "'Kumar'"
      ]
     },
     "execution_count": 72,
     "metadata": {},
     "output_type": "execute_result"
    }
   ],
   "source": [
    "p3[1][2]"
   ]
  },
  {
   "cell_type": "code",
   "execution_count": 106,
   "id": "c4a5633c-bcec-4094-a378-1e16c0280fb8",
   "metadata": {},
   "outputs": [
    {
     "data": {
      "text/plain": [
       "[1, 2, 3, 4, 5, 15, 15]"
      ]
     },
     "execution_count": 106,
     "metadata": {},
     "output_type": "execute_result"
    }
   ],
   "source": [
    "# Every time when we use these functions, we need to provide the data not the index. \n",
    "# Only for the insert, we do give the index to tell the control to insert that data \n",
    "# in that particular location only.\n",
    "\n",
    "p1.append(15)\n",
    "p1"
   ]
  },
  {
   "cell_type": "code",
   "execution_count": 74,
   "id": "35bde4b8-e77e-43f4-93fc-6ca04075e5a4",
   "metadata": {},
   "outputs": [
    {
     "data": {
      "text/plain": [
       "['Arun', 9.3, 'Kumar', 23]"
      ]
     },
     "execution_count": 74,
     "metadata": {},
     "output_type": "execute_result"
    }
   ],
   "source": [
    "p2"
   ]
  },
  {
   "cell_type": "code",
   "execution_count": 75,
   "id": "66c975de-1d2d-4bbd-92ce-14cad4667192",
   "metadata": {},
   "outputs": [
    {
     "data": {
      "text/plain": [
       "['Arun', 9.3, 'Hello', 'Kumar', 23]"
      ]
     },
     "execution_count": 75,
     "metadata": {},
     "output_type": "execute_result"
    }
   ],
   "source": [
    "p2.insert(2,\"Hello\")\n",
    "p2"
   ]
  },
  {
   "cell_type": "code",
   "execution_count": 104,
   "id": "6f71ea15-8888-44ad-8488-9f82c013484f",
   "metadata": {},
   "outputs": [
    {
     "data": {
      "text/plain": [
       "['Arun', 9.3, 'Hello', 'Kumar', 23]"
      ]
     },
     "execution_count": 104,
     "metadata": {},
     "output_type": "execute_result"
    }
   ],
   "source": [
    "p2.insert(0,\"Arun\")\n",
    "p2"
   ]
  },
  {
   "cell_type": "code",
   "execution_count": 105,
   "id": "1e8086e5-3d5c-4fe3-981b-08641de79fa8",
   "metadata": {},
   "outputs": [
    {
     "data": {
      "text/plain": [
       "[9.3, 'Hello', 'Kumar', 23]"
      ]
     },
     "execution_count": 105,
     "metadata": {},
     "output_type": "execute_result"
    }
   ],
   "source": [
    "# If you want to remove anything using data, use remove function\n",
    "p2.remove(\"Arun\")\n",
    "p2"
   ]
  },
  {
   "cell_type": "code",
   "execution_count": 110,
   "id": "b7b0fa3e-de9b-4d21-9c1d-ce31a22fff0c",
   "metadata": {},
   "outputs": [
    {
     "data": {
      "text/plain": [
       "23"
      ]
     },
     "execution_count": 110,
     "metadata": {},
     "output_type": "execute_result"
    }
   ],
   "source": [
    "# To remove something using the index, then use pop function.\n",
    "\n",
    "p2.pop(2)\n",
    "p2\n",
    "\n",
    "# when you don't mention the index in pop function, it will remove the last element.\n",
    "p2.pop()"
   ]
  },
  {
   "cell_type": "code",
   "execution_count": 111,
   "id": "19534e4a-cd18-4960-aab7-f703c8c10ea6",
   "metadata": {},
   "outputs": [
    {
     "data": {
      "text/plain": [
       "[1, 2, 3, 'Hello', 'People', 'Arun', 6.43]"
      ]
     },
     "execution_count": 111,
     "metadata": {},
     "output_type": "execute_result"
    }
   ],
   "source": [
    "h1 = [1,2,3,\"Hello\",\"People\",\"Arun\",6.43]\n",
    "h1"
   ]
  },
  {
   "cell_type": "code",
   "execution_count": 112,
   "id": "acdc7429-f16e-4bc9-b8e5-1fe46acb6525",
   "metadata": {},
   "outputs": [
    {
     "data": {
      "text/plain": [
       "[1, 2, 3, 'Hello', 6.43]"
      ]
     },
     "execution_count": 112,
     "metadata": {},
     "output_type": "execute_result"
    }
   ],
   "source": [
    "# to delete the elements, we have to specify the range\n",
    "del h1[4:6] # in python, we always don't consider the upper bound.\n",
    "h1"
   ]
  },
  {
   "cell_type": "code",
   "execution_count": 113,
   "id": "f25ea4cf-2bfd-4fd8-b060-99ade8f50c9c",
   "metadata": {},
   "outputs": [],
   "source": [
    "'''\n",
    "If you want to add a single element, we use append and it adds that element at the end\n",
    "if you use insert, we can insert at a particular location only, but we can add only one element\n",
    "if we want to add multiple elements, then use extend function as shown below.\n",
    "'''\n",
    "\n",
    "h1.extend([\"Hyd\",\"Banglore\",234,324.345])"
   ]
  },
  {
   "cell_type": "code",
   "execution_count": 114,
   "id": "bac5c228-3b54-4046-afa8-dced9075e795",
   "metadata": {},
   "outputs": [
    {
     "data": {
      "text/plain": [
       "[1, 2, 3, 'Hello', 6.43, 'Hyd', 'Banglore', 234, 324.345]"
      ]
     },
     "execution_count": 114,
     "metadata": {},
     "output_type": "execute_result"
    }
   ],
   "source": [
    "h1"
   ]
  },
  {
   "cell_type": "code",
   "execution_count": 119,
   "id": "f1d815cf-83b4-47e6-a840-d392093d4171",
   "metadata": {},
   "outputs": [
    {
     "name": "stdout",
     "output_type": "stream",
     "text": [
      "75\n",
      "2\n",
      "114\n"
     ]
    },
    {
     "data": {
      "text/plain": [
       "[2, 3, 4, 4, 4, 6, 7, 9, 75]"
      ]
     },
     "execution_count": 119,
     "metadata": {},
     "output_type": "execute_result"
    }
   ],
   "source": [
    "# few mathematic shortcuts\n",
    "d1 = [9,3,4,2,4,6,7,75,4]\n",
    "print(max(d1))\n",
    "print(min(d1))\n",
    "print(sum(d1))\n",
    "d1.sort()\n",
    "d1"
   ]
  },
  {
   "cell_type": "markdown",
   "id": "4b8dcf6d-89ac-4714-b9b3-318dd041b53a",
   "metadata": {},
   "source": [
    "## Tuple"
   ]
  },
  {
   "cell_type": "code",
   "execution_count": 76,
   "id": "078528a5-aec8-40ed-a2d5-d57646b147af",
   "metadata": {},
   "outputs": [
    {
     "data": {
      "text/plain": [
       "(1, 2, 3, 4)"
      ]
     },
     "execution_count": 76,
     "metadata": {},
     "output_type": "execute_result"
    }
   ],
   "source": [
    "# This tuple is almost all same like list, but it is not changeble once we make a tuple.\n",
    "# This should be represented in round brackets()\n",
    "# We cannot change the values in the tuple.\n",
    "\n",
    "# we have to use this tuple, when we have a list and we don't want to change the elements in that\n",
    "# list, then we can go for the tuple, as the rest of the features are same as list.\n",
    "\n",
    "# Iterations in the tuple are faster compared to list as it does not allow us to modify.\n",
    "t1 = (1,2,3,4)\n",
    "t1"
   ]
  },
  {
   "cell_type": "code",
   "execution_count": 77,
   "id": "2f9c1c3b-ea0b-43bf-9d35-984cc327579d",
   "metadata": {},
   "outputs": [
    {
     "ename": "TypeError",
     "evalue": "'tuple' object does not support item assignment",
     "output_type": "error",
     "traceback": [
      "\u001b[1;31m---------------------------------------------------------------------------\u001b[0m",
      "\u001b[1;31mTypeError\u001b[0m                                 Traceback (most recent call last)",
      "Cell \u001b[1;32mIn[77], line 1\u001b[0m\n\u001b[1;32m----> 1\u001b[0m \u001b[43mt1\u001b[49m\u001b[43m[\u001b[49m\u001b[38;5;241;43m0\u001b[39;49m\u001b[43m]\u001b[49m \u001b[38;5;241m=\u001b[39m \u001b[38;5;241m6\u001b[39m \u001b[38;5;66;03m# not changeble\u001b[39;00m\n\u001b[0;32m      2\u001b[0m t1 \n",
      "\u001b[1;31mTypeError\u001b[0m: 'tuple' object does not support item assignment"
     ]
    }
   ],
   "source": [
    "t1[0] = 6 # not changeble\n",
    "t1 "
   ]
  },
  {
   "cell_type": "code",
   "execution_count": 78,
   "id": "b19940b0-efb7-4dd9-983e-e26aedb5271d",
   "metadata": {},
   "outputs": [
    {
     "data": {
      "text/plain": [
       "3"
      ]
     },
     "execution_count": 78,
     "metadata": {},
     "output_type": "execute_result"
    }
   ],
   "source": [
    "t1[2] # we can access the tuple, but cannot change it.\n"
   ]
  },
  {
   "cell_type": "code",
   "execution_count": 124,
   "id": "d197801a-8874-4be0-8c39-f9babe8506b4",
   "metadata": {},
   "outputs": [
    {
     "data": {
      "text/plain": [
       "(1, 2.5, 'Arun', (2+7j))"
      ]
     },
     "execution_count": 124,
     "metadata": {},
     "output_type": "execute_result"
    }
   ],
   "source": [
    "t2 = (1,2.5, \"Arun\", 2+7j)\n",
    "t2"
   ]
  },
  {
   "cell_type": "code",
   "execution_count": 130,
   "id": "81010970-0e92-4d9a-a10c-e31ddb7a61a9",
   "metadata": {},
   "outputs": [
    {
     "data": {
      "text/plain": [
       "(1, 2, 3, 'Arun', 4.435, 4435)"
      ]
     },
     "execution_count": 130,
     "metadata": {},
     "output_type": "execute_result"
    }
   ],
   "source": [
    "tup = (1,2,3,\"Arun\",4.435,4435)\n",
    "tup"
   ]
  },
  {
   "cell_type": "code",
   "execution_count": 136,
   "id": "fd106332-3880-4a09-9a98-3cbcc9515b6b",
   "metadata": {},
   "outputs": [
    {
     "data": {
      "text/plain": [
       "3"
      ]
     },
     "execution_count": 136,
     "metadata": {},
     "output_type": "execute_result"
    }
   ],
   "source": [
    "tup.index(\"Arun\") # Just gives the index"
   ]
  },
  {
   "cell_type": "code",
   "execution_count": 135,
   "id": "e9419c6c-aff6-4bce-8c6c-a8187432f831",
   "metadata": {},
   "outputs": [
    {
     "data": {
      "text/plain": [
       "1"
      ]
     },
     "execution_count": 135,
     "metadata": {},
     "output_type": "execute_result"
    }
   ],
   "source": [
    "tup.count(3) # it will give the count of the element present in that tuple."
   ]
  },
  {
   "cell_type": "markdown",
   "id": "0cfd1c9e-dd04-4a8d-9916-11ad746a4cf5",
   "metadata": {},
   "source": [
    "## Set"
   ]
  },
  {
   "cell_type": "code",
   "execution_count": 137,
   "id": "2237c236-ac68-48b5-b3ac-7ea5c6c3986f",
   "metadata": {},
   "outputs": [
    {
     "data": {
      "text/plain": [
       "{1, 2, 3, 4, 5, 6, 7, 8}"
      ]
     },
     "execution_count": 137,
     "metadata": {},
     "output_type": "execute_result"
    }
   ],
   "source": [
    "# Set is a collection of unique elements. It does not allow duplicates.\n",
    "# It is represented using flower brackets {}\n",
    "# Set never follows a sequence.\n",
    "# Indexing is not allowed as it doesn't follows a sequence.\n",
    "# we can add and remove the elements in the set.\n",
    "\n",
    "s = {1,2,2,3,4,5,6,4,5,5,7,8,7}\n",
    "s"
   ]
  },
  {
   "cell_type": "code",
   "execution_count": 10,
   "id": "b4fbbd58-1906-411e-86c3-1a20f1ffc325",
   "metadata": {},
   "outputs": [
    {
     "ename": "NameError",
     "evalue": "name 's' is not defined",
     "output_type": "error",
     "traceback": [
      "\u001b[1;31m---------------------------------------------------------------------------\u001b[0m",
      "\u001b[1;31mNameError\u001b[0m                                 Traceback (most recent call last)",
      "Cell \u001b[1;32mIn[10], line 1\u001b[0m\n\u001b[1;32m----> 1\u001b[0m \u001b[43ms\u001b[49m[\u001b[38;5;241m2\u001b[39m] \u001b[38;5;66;03m# We cannot access elements in set as they do not have indexing.\u001b[39;00m\n",
      "\u001b[1;31mNameError\u001b[0m: name 's' is not defined"
     ]
    }
   ],
   "source": [
    "s[2] # We cannot access elements in set as they do not have indexing."
   ]
  },
  {
   "cell_type": "code",
   "execution_count": 139,
   "id": "0899fff3-a0ca-4c0b-83c3-a850700350a6",
   "metadata": {},
   "outputs": [
    {
     "name": "stdout",
     "output_type": "stream",
     "text": [
      "Union : {0, 1, 2, 3, 4, 5, 6, 8}\n",
      "Intersection : {2, 4}\n",
      "Difference : {0, 8, 6}\n",
      "Symmetric difference : {0, 1, 3, 5, 6, 8}\n"
     ]
    }
   ],
   "source": [
    "# Program to perform different set operations \n",
    "# as we do in mathematics \n",
    "\n",
    "# sets are define \n",
    "A = {0, 2, 4, 6, 8}; \n",
    "B = {1, 2, 3, 4, 5}; \n",
    "\n",
    "# union \n",
    "print(\"Union :\", A | B) \n",
    "\n",
    "# intersection \n",
    "print(\"Intersection :\", A & B) \n",
    "\n",
    "# difference \n",
    "print(\"Difference :\", A - B) \n",
    "\n",
    "# symmetric difference : It excludes the common elements and print rest of the elements.\n",
    "# A ^ B = (A u B) - (A n B)\n",
    "print(\"Symmetric difference :\", A ^ B) \n"
   ]
  },
  {
   "cell_type": "code",
   "execution_count": 31,
   "id": "3b24cced-dba8-4479-9297-84d7c102ee65",
   "metadata": {},
   "outputs": [
    {
     "name": "stdout",
     "output_type": "stream",
     "text": [
      "Set after adding: {'f', 's', 'k', 'e', 'g'}\n",
      "\n",
      "Set after discarding: {'f', 's', 'k', 'e'}\n",
      "\n",
      "Set after removing: {'f', 's', 'k'}\n",
      "\n",
      "Popped element f\n",
      "Set after popping the element: {'s', 'k'}\n",
      "\n",
      "Set after clearing: set()\n"
     ]
    }
   ],
   "source": [
    "# set of letters\n",
    "s = {'g', 'e', 'k', 's'}\n",
    "\n",
    "# adding 's'\n",
    "s.add('f')\n",
    "print('Set after adding:', s)\n",
    "\n",
    "# Discarding element from the set\n",
    "# The discard method is lenient and quietly ignores the operation if the element does not exist.\n",
    "s.discard('g')\n",
    "print('\\nSet after discarding:', s)\n",
    "\n",
    "# Removing element from the set\n",
    "# The remove method is strict and expects the element to exist in the set; otherwise, it raises an error.\n",
    "s.remove('e')\n",
    "print('\\nSet after removing:', s)\n",
    "\n",
    "# Popping elements from the set\n",
    "# pop method removes the random element in the set.\n",
    "print('\\nPopped element', s.pop())\n",
    "print('Set after popping the element:', s)\n",
    "\n",
    "s.clear()\n",
    "print('\\nSet after clearing:', s)\n"
   ]
  },
  {
   "cell_type": "code",
   "execution_count": 29,
   "id": "b72cb421-5ef1-4a4f-bb0e-84504c349e81",
   "metadata": {},
   "outputs": [
    {
     "name": "stdout",
     "output_type": "stream",
     "text": [
      "{'mango', 'apple', 'pineapple', 'cherry', 'banana', 'papaya'}\n"
     ]
    }
   ],
   "source": [
    "thisset = {\"apple\", \"banana\", \"cherry\"}\n",
    "tropical = {\"pineapple\", \"mango\", \"papaya\"}\n",
    "\n",
    "thisset.update(tropical) # this menthod just concatenate the two sets.\n",
    "\n",
    "print(thisset)\n"
   ]
  },
  {
   "cell_type": "code",
   "execution_count": 30,
   "id": "6cb555ac-46ff-4ecf-8516-5ffd357aad78",
   "metadata": {},
   "outputs": [
    {
     "name": "stdout",
     "output_type": "stream",
     "text": [
      "{'apple', 'kiwi', 'orange', 'banana', 'cherry'}\n"
     ]
    }
   ],
   "source": [
    "# The object in the update() method does not have to be a set, it can be any iterable object (tuples, lists, dictionaries etc.).\n",
    "\n",
    "thisset = {\"apple\", \"banana\", \"cherry\"}\n",
    "mylist = [\"kiwi\", \"orange\"]\n",
    "\n",
    "thisset.update(mylist)\n",
    "\n",
    "print(thisset)"
   ]
  },
  {
   "cell_type": "code",
   "execution_count": 1,
   "id": "91c0e90b-4faf-4e1b-94b3-6557a70695f3",
   "metadata": {},
   "outputs": [
    {
     "data": {
      "text/plain": [
       "{1, 2, 3, 34.34, 4, 4535.556, 5, 5.54, 6, 'Hello', 'People', 'arun', 'kumar'}"
      ]
     },
     "execution_count": 1,
     "metadata": {},
     "output_type": "execute_result"
    }
   ],
   "source": [
    "set1 = {1,2,3,4,\"arun\",\"kumar\",5.54,4535.556}\n",
    "set2 = {3,5,6,6,\"Hello\",\"People\",34.34}\n",
    "\n",
    "set3 = set1.union(set2)\n",
    "set3"
   ]
  },
  {
   "cell_type": "code",
   "execution_count": 9,
   "id": "5d8a5603-92e0-4650-b941-bf762146fab6",
   "metadata": {},
   "outputs": [
    {
     "data": {
      "text/plain": [
       "{1, 2, 3, 34.34, 4, 4535.556, 5, 5.54, 6, 'Hello', 'People', 'arun', 'kumar'}"
      ]
     },
     "execution_count": 9,
     "metadata": {},
     "output_type": "execute_result"
    }
   ],
   "source": [
    "set1 = {1,2,3,4,\"arun\",\"kumar\",5.54,4535.556}\n",
    "set2 = {3,5,6,6,\"Hello\",\"People\",34.34}\n",
    "\n",
    "set1.union(set2) # if we use this, then the updated set will not be assigned to set1, it just prints the result.\n"
   ]
  },
  {
   "cell_type": "code",
   "execution_count": 34,
   "id": "163e73fb-8556-43a1-885c-fffe3f4757e0",
   "metadata": {},
   "outputs": [
    {
     "data": {
      "text/plain": [
       "{3, 5, 6}"
      ]
     },
     "execution_count": 34,
     "metadata": {},
     "output_type": "execute_result"
    }
   ],
   "source": [
    "set1 = {1,2,3,5,6,4,\"arun\",\"kumar\",5.54,4535.556}\n",
    "set2 = {3,5,6,6,\"Hello\",\"People\",34.34}\n",
    "\n",
    "set3 = set1.intersection(set2)\n",
    "set3"
   ]
  },
  {
   "cell_type": "code",
   "execution_count": 35,
   "id": "2d074869-cfbf-48ea-9a20-7374ac1c3d9c",
   "metadata": {},
   "outputs": [
    {
     "data": {
      "text/plain": [
       "{1, 2, 4, 4535.556, 5.54, 'arun', 'kumar'}"
      ]
     },
     "execution_count": 35,
     "metadata": {},
     "output_type": "execute_result"
    }
   ],
   "source": [
    "set1 = {1,2,3,5,6,4,\"arun\",\"kumar\",5.54,4535.556}\n",
    "set2 = {3,5,6,6,\"Hello\",\"People\",34.34}\n",
    "\n",
    "set3 = set1.difference(set2)\n",
    "set3"
   ]
  },
  {
   "cell_type": "code",
   "execution_count": 36,
   "id": "9256ed95-b5e4-4a66-be0f-500c73e518ed",
   "metadata": {},
   "outputs": [
    {
     "data": {
      "text/plain": [
       "{1, 2, 4, 4535.556, 5.54, 'arun', 'kumar'}"
      ]
     },
     "execution_count": 36,
     "metadata": {},
     "output_type": "execute_result"
    }
   ],
   "source": [
    "# The difference_update() method will also keep the items from the first set that are not in the other set, but it will change the \n",
    "# original set instead of returning a new set.\n",
    "\n",
    "set1 = {1,2,3,5,6,4,\"arun\",\"kumar\",5.54,4535.556}\n",
    "set2 = {3,5,6,6,\"Hello\",\"People\",34.34}\n",
    "\n",
    "set1.difference_update(set2)\n",
    "set3"
   ]
  },
  {
   "cell_type": "code",
   "execution_count": null,
   "id": "48cba0ed-31b5-4dbf-b1bf-1decb6dd94ee",
   "metadata": {},
   "outputs": [],
   "source": []
  },
  {
   "cell_type": "code",
   "execution_count": null,
   "id": "4f5be5c6-3f86-4a28-a3e4-25e87f5c2add",
   "metadata": {},
   "outputs": [],
   "source": []
  },
  {
   "cell_type": "markdown",
   "id": "74a9de35-d2d4-4702-b72e-89d12f4adde1",
   "metadata": {},
   "source": [
    "## Dictionaries"
   ]
  },
  {
   "cell_type": "code",
   "execution_count": 80,
   "id": "b6dab68e-d9d0-4517-af79-0ca45cd4c6e1",
   "metadata": {},
   "outputs": [
    {
     "name": "stdout",
     "output_type": "stream",
     "text": [
      "{1: 'one', 2: 'Two', 3: 'Three'}\n",
      "one\n",
      "Three\n"
     ]
    }
   ],
   "source": [
    "# Here we represent the data in key and value format in flower brackets. {}\n",
    "\n",
    "d1 = {1:\"one\", 2:\"Two\", 3:\"Three\"}\n",
    "print(d1)\n",
    "print(d1[1])\n",
    "print(d1[3])"
   ]
  },
  {
   "cell_type": "code",
   "execution_count": 1,
   "id": "4b372c3f-db8c-45fd-ad55-0630707a20a6",
   "metadata": {},
   "outputs": [
    {
     "data": {
      "text/plain": [
       "{1: 'three', 2: 'two'}"
      ]
     },
     "execution_count": 1,
     "metadata": {},
     "output_type": "execute_result"
    }
   ],
   "source": [
    "# If there are duplicates in the dictionary then, only the latest values are considered\n",
    "\n",
    "d2 = {1: \"one\", 2: \"two\", 1:\"three\"}\n",
    "d2\n",
    "# The dictionary keys haves to be unique, they do not allow duplicates.\n",
    "# We can have same values for different keys, but cannot have same keys for different values"
   ]
  },
  {
   "cell_type": "code",
   "execution_count": 5,
   "id": "ac5894c6-bd35-4829-b019-955d3268a17f",
   "metadata": {},
   "outputs": [],
   "source": [
    "dict1 = {1:\"one\",2:\"two\",3:\"three\",\"name\":\"arun\",}"
   ]
  },
  {
   "cell_type": "code",
   "execution_count": 6,
   "id": "a9d51112-57c3-4878-a280-f4f77cb6ec8f",
   "metadata": {},
   "outputs": [
    {
     "data": {
      "text/plain": [
       "'one'"
      ]
     },
     "execution_count": 6,
     "metadata": {},
     "output_type": "execute_result"
    }
   ],
   "source": [
    "dict1[1]"
   ]
  },
  {
   "cell_type": "code",
   "execution_count": 8,
   "id": "69e3e1ff-4fc8-4361-9486-3e2ade02a853",
   "metadata": {},
   "outputs": [
    {
     "data": {
      "text/plain": [
       "'one'"
      ]
     },
     "execution_count": 8,
     "metadata": {},
     "output_type": "execute_result"
    }
   ],
   "source": [
    "dict1.get(1)"
   ]
  },
  {
   "cell_type": "code",
   "execution_count": 9,
   "id": "26687a70-ef6b-423a-9e83-027b525226a9",
   "metadata": {},
   "outputs": [
    {
     "data": {
      "text/plain": [
       "'No data found'"
      ]
     },
     "execution_count": 9,
     "metadata": {},
     "output_type": "execute_result"
    }
   ],
   "source": [
    "# When we specify a key, if there is a value then it will print a value for that key\n",
    "# if there is no value for a key, then we can customize what to get as an output.\n",
    "\n",
    "dict1.get(4,\"No data found\")"
   ]
  },
  {
   "cell_type": "code",
   "execution_count": 11,
   "id": "c0d5be62-3d7b-4341-b9c5-a79c7cd08fc1",
   "metadata": {},
   "outputs": [],
   "source": [
    "dict1.get(5) # if we do not specify anything, it will remain idle"
   ]
  },
  {
   "cell_type": "code",
   "execution_count": 13,
   "id": "7e5a163c-4282-4f49-bf00-1ce288c12a89",
   "metadata": {},
   "outputs": [
    {
     "data": {
      "text/plain": [
       "'three'"
      ]
     },
     "execution_count": 13,
     "metadata": {},
     "output_type": "execute_result"
    }
   ],
   "source": [
    "dict1.get(3,\"No data found\") # as we have data, we are not getting that backup data."
   ]
  },
  {
   "cell_type": "code",
   "execution_count": 21,
   "id": "516dc365-f47c-4dd3-bc92-31a8007638cf",
   "metadata": {},
   "outputs": [
    {
     "data": {
      "text/plain": [
       "{1: 'Sun', 2: 'Mon', 3: 'Tue', 4: 'Wed', 5: 'Thurs', 6: 'Fri', 7: 'Sat'}"
      ]
     },
     "execution_count": 21,
     "metadata": {},
     "output_type": "execute_result"
    }
   ],
   "source": [
    "'''\n",
    "There is a possibility to create a dectionary with the help of two lists\n",
    "To do that we need to zip them and then by using the dict() function we can convert it into a\n",
    "dictionary as shown below\n",
    "\n",
    "'''\n",
    "\n",
    "keys = [1,2,3,4,5,6,7]\n",
    "values = [\"Sun\",\"Mon\",\"Tue\",\"Wed\",\"Thurs\",\"Fri\",\"Sat\"]\n",
    "\n",
    "# we have weekdays and the associated intergers which signifies that day number.\n",
    "\n",
    "data = dict(zip(keys,values))\n",
    "\n",
    "data"
   ]
  },
  {
   "cell_type": "code",
   "execution_count": 22,
   "id": "757a8034-bfb8-4628-9b45-ef7918086487",
   "metadata": {},
   "outputs": [
    {
     "data": {
      "text/plain": [
       "{1: 'Sun',\n",
       " 2: 'Mon',\n",
       " 3: 'Tue',\n",
       " 4: 'Wed',\n",
       " 5: 'Thurs',\n",
       " 6: 'Fri',\n",
       " 7: 'Sat',\n",
       " '01': 'Jan'}"
      ]
     },
     "execution_count": 22,
     "metadata": {},
     "output_type": "execute_result"
    }
   ],
   "source": [
    "# we can directly add the data like this if it doesn't exist.\n",
    "# But we need to be careful about the key values. They should not be same.\n",
    "\n",
    "data[\"01\"] = \"Jan\"\n",
    "data"
   ]
  },
  {
   "cell_type": "code",
   "execution_count": 23,
   "id": "b7ac9ba2-870a-4bf6-b5d8-d4a2ff029c85",
   "metadata": {},
   "outputs": [
    {
     "data": {
      "text/plain": [
       "{2: 'Mon', 3: 'Tue', 4: 'Wed', 5: 'Thurs', 6: 'Fri', 7: 'Sat', '01': 'Jan'}"
      ]
     },
     "execution_count": 23,
     "metadata": {},
     "output_type": "execute_result"
    }
   ],
   "source": [
    "# to delete, just mention the key.\n",
    "\n",
    "del data[1]\n",
    "data"
   ]
  },
  {
   "cell_type": "code",
   "execution_count": 25,
   "id": "4a0f9fac-6d75-43b5-bcf0-76a2a816b26a",
   "metadata": {},
   "outputs": [
    {
     "data": {
      "text/plain": [
       "{'JS': 'Atom',\n",
       " 'CS': 'VScode',\n",
       " 'Python': ['Pycharm', 'sublime'],\n",
       " 'Java': {'JSE': 'Netbeans', 'JEE': 'Eclipse'}}"
      ]
     },
     "execution_count": 25,
     "metadata": {},
     "output_type": "execute_result"
    }
   ],
   "source": [
    "'''\n",
    "We can have a list in a dictionary and a dictionary in a dictionary. It is absolutely fine.\n",
    "'''\n",
    "# this dictionary just tells, which ide can be used for which languae.\n",
    "prog = {'JS':'Atom','CS':'VScode','Python':['Pycharm','sublime'],'Java':{'JSE':'Netbeans','JEE':'Eclipse'}}\n",
    "prog"
   ]
  },
  {
   "cell_type": "code",
   "execution_count": 34,
   "id": "3acf6e26-0817-4126-8775-2ff63bef980b",
   "metadata": {},
   "outputs": [
    {
     "data": {
      "text/plain": [
       "'Atom'"
      ]
     },
     "execution_count": 34,
     "metadata": {},
     "output_type": "execute_result"
    }
   ],
   "source": [
    "# These are the ways where we can access this dictionary.\n",
    "\n",
    "prog[\"JS\"]"
   ]
  },
  {
   "cell_type": "code",
   "execution_count": 29,
   "id": "3beb5d94-4329-4fcd-8ba1-6a8cddee5d2b",
   "metadata": {},
   "outputs": [
    {
     "data": {
      "text/plain": [
       "'VScode'"
      ]
     },
     "execution_count": 29,
     "metadata": {},
     "output_type": "execute_result"
    }
   ],
   "source": [
    "prog['CS']"
   ]
  },
  {
   "cell_type": "code",
   "execution_count": 30,
   "id": "09082fa6-252c-498a-8d87-9fad5de599b0",
   "metadata": {},
   "outputs": [
    {
     "data": {
      "text/plain": [
       "['Pycharm', 'sublime']"
      ]
     },
     "execution_count": 30,
     "metadata": {},
     "output_type": "execute_result"
    }
   ],
   "source": [
    "prog['Python']"
   ]
  },
  {
   "cell_type": "code",
   "execution_count": 31,
   "id": "68352798-851c-4de3-b32d-9860702c028d",
   "metadata": {},
   "outputs": [
    {
     "data": {
      "text/plain": [
       "'sublime'"
      ]
     },
     "execution_count": 31,
     "metadata": {},
     "output_type": "execute_result"
    }
   ],
   "source": [
    "prog['Python'][1]"
   ]
  },
  {
   "cell_type": "code",
   "execution_count": 32,
   "id": "faf04148-6f4d-4f2d-bab6-d3045eb3a380",
   "metadata": {},
   "outputs": [
    {
     "data": {
      "text/plain": [
       "{'JSE': 'Netbeans', 'JEE': 'Eclipse'}"
      ]
     },
     "execution_count": 32,
     "metadata": {},
     "output_type": "execute_result"
    }
   ],
   "source": [
    "prog['Java']"
   ]
  },
  {
   "cell_type": "code",
   "execution_count": 33,
   "id": "125c9ec7-8a11-4b9b-a2ec-bedd168bf076",
   "metadata": {},
   "outputs": [
    {
     "data": {
      "text/plain": [
       "'Eclipse'"
      ]
     },
     "execution_count": 33,
     "metadata": {},
     "output_type": "execute_result"
    }
   ],
   "source": [
    "prog['Java']['JEE']"
   ]
  },
  {
   "cell_type": "code",
   "execution_count": null,
   "id": "516ee19a-6640-4ad4-ba39-ea43dee5025c",
   "metadata": {},
   "outputs": [],
   "source": []
  },
  {
   "cell_type": "markdown",
   "id": "a904f432-6f9b-4f5f-881e-dd472d8a4c68",
   "metadata": {},
   "source": [
    "# Operators"
   ]
  },
  {
   "cell_type": "markdown",
   "id": "8d78ebe1-4ba8-47f5-8b46-f42518779557",
   "metadata": {},
   "source": [
    "## Arithmetic operators +,-,/,*,//,**"
   ]
  },
  {
   "cell_type": "code",
   "execution_count": 82,
   "id": "e60c3f5c-77a3-4ac4-b945-5f90ea40c964",
   "metadata": {},
   "outputs": [
    {
     "name": "stdin",
     "output_type": "stream",
     "text": [
      "Enter a number:  4\n",
      "Enter a number:  5\n"
     ]
    },
    {
     "name": "stdout",
     "output_type": "stream",
     "text": [
      "Addition: 4 + 5 = 9\n",
      "Subtraction: 4 - 5 = -1\n",
      "Multiplication: 4 * 5 = 20\n",
      "Division: 4 / 5 = 0.8\n",
      "Power: 4 ** 5 = 1024\n",
      "Floor division: 4 // 5 = 0\n"
     ]
    }
   ],
   "source": [
    "n = int(input(\"Enter a number: \"))\n",
    "m = int(input(\"Enter a number: \"))\n",
    "\n",
    "print(f\"Addition: {n} + {m} = {n+m}\")\n",
    "print(f\"Subtraction: {n} - {m} = {n-m}\")\n",
    "print(f\"Multiplication: {n} * {m} = {n*m}\")\n",
    "print(f\"Division: {n} / {m} = {n/m}\")\n",
    "print(f\"Power: {n} ** {m} = {n**m}\")\n",
    "print(f\"Floor division: {n} // {m} = {n//m}\")\n",
    "\n"
   ]
  },
  {
   "cell_type": "code",
   "execution_count": 83,
   "id": "015fb5af-b12b-40fb-b558-5ac839361dd5",
   "metadata": {},
   "outputs": [
    {
     "name": "stdout",
     "output_type": "stream",
     "text": [
      "Arun Kumar.\n"
     ]
    }
   ],
   "source": [
    "s1 = \"Arun \"\n",
    "s2 = \"Kumar.\"\n",
    "\n",
    "s3 = s1+s2\n",
    "print(s3)"
   ]
  },
  {
   "cell_type": "code",
   "execution_count": 84,
   "id": "27c5eccb-40d3-4d1d-9dd7-8b73083ac24f",
   "metadata": {},
   "outputs": [
    {
     "name": "stdout",
     "output_type": "stream",
     "text": [
      "[2, 3, 4, 5, 3, 5, 4, 8, 9]\n"
     ]
    }
   ],
   "source": [
    "l1 = [2,3,4,5]\n",
    "l2 = [3,5,4,8,9]\n",
    "\n",
    "print(l1+l2)\n",
    "# This will not add the two lists, it just appends the lists"
   ]
  },
  {
   "cell_type": "code",
   "execution_count": 85,
   "id": "220d77de-3267-4bf7-91eb-11c16e08e829",
   "metadata": {},
   "outputs": [
    {
     "name": "stdout",
     "output_type": "stream",
     "text": [
      "(1, 2, 3, 4, 5, 'Hello', 'Hyd', 'People')\n"
     ]
    }
   ],
   "source": [
    "t1 = (1,2,3,4,5)\n",
    "t2 = (\"Hello\",\"Hyd\",\"People\")\n",
    "\n",
    "print(t1+t2)"
   ]
  },
  {
   "cell_type": "code",
   "execution_count": 86,
   "id": "d1e08287-1741-464d-a5fc-7fc5e14f888a",
   "metadata": {},
   "outputs": [
    {
     "data": {
      "text/plain": [
       "(2.3+5j)"
      ]
     },
     "execution_count": 86,
     "metadata": {},
     "output_type": "execute_result"
    }
   ],
   "source": [
    "p = 5j\n",
    "q = 2.3\n",
    "\n",
    "p+q"
   ]
  },
  {
   "cell_type": "code",
   "execution_count": 87,
   "id": "097d6a28-df34-4328-8e42-a63bf1cba16c",
   "metadata": {},
   "outputs": [],
   "source": [
    "## We cannot subtract two lists, tuples, strings"
   ]
  },
  {
   "cell_type": "code",
   "execution_count": 88,
   "id": "6dd797d6-b1a8-4f15-9e21-7d51b7fd75b8",
   "metadata": {},
   "outputs": [
    {
     "data": {
      "text/plain": [
       "[2, 3, 4, 5, 2, 3, 4, 5]"
      ]
     },
     "execution_count": 88,
     "metadata": {},
     "output_type": "execute_result"
    }
   ],
   "source": [
    "l1*2\n",
    "# This list multiplication will append the same list in the list with mentioned number of times."
   ]
  },
  {
   "cell_type": "code",
   "execution_count": 89,
   "id": "10279a9f-5d2b-42e3-89e5-195cbd4a70b8",
   "metadata": {},
   "outputs": [
    {
     "data": {
      "text/plain": [
       "(1, 2, 3, 4, 5, 1, 2, 3, 4, 5, 1, 2, 3, 4, 5)"
      ]
     },
     "execution_count": 89,
     "metadata": {},
     "output_type": "execute_result"
    }
   ],
   "source": [
    "t1*3"
   ]
  },
  {
   "cell_type": "code",
   "execution_count": 90,
   "id": "18cc8e58-1776-4521-afe5-9b9091a59ad6",
   "metadata": {},
   "outputs": [],
   "source": [
    "# The result of 22/7 in python 2 is same as 22//7 in python3"
   ]
  },
  {
   "cell_type": "markdown",
   "id": "bdb1331c-6324-4422-a9a3-7d4e87a40ddc",
   "metadata": {},
   "source": [
    "## Relational Operators: >,<,>=,<=,!=,=="
   ]
  },
  {
   "cell_type": "code",
   "execution_count": 91,
   "id": "9cd32586-4b85-47ce-a8b3-5b9fbfd0188b",
   "metadata": {},
   "outputs": [
    {
     "name": "stdout",
     "output_type": "stream",
     "text": [
      "False\n",
      "True\n",
      "False\n",
      "True\n",
      "True\n",
      "False\n"
     ]
    }
   ],
   "source": [
    "\n",
    "\n",
    "print(2>5)\n",
    "print(2<5)\n",
    "print(2>=5)\n",
    "print(2<=5)\n",
    "print(2!=5)\n",
    "print(2==5)\n",
    "\n"
   ]
  },
  {
   "cell_type": "markdown",
   "id": "65f562b6-3f44-4b48-be8a-75e1b713e24a",
   "metadata": {},
   "source": [
    "## Logical Operators: and, or"
   ]
  },
  {
   "cell_type": "code",
   "execution_count": 92,
   "id": "2b327f49-73d2-445f-82e9-19615452d5af",
   "metadata": {},
   "outputs": [
    {
     "name": "stdout",
     "output_type": "stream",
     "text": [
      "False\n",
      "True\n",
      "False\n",
      "True\n",
      "False\n"
     ]
    }
   ],
   "source": [
    "\n",
    "\n",
    "print(12> 5 and 12< 5)\n",
    "print(12>5 or 12<5) # same like c programming, it is not checking the other condition, compile time optimization.\n",
    "\n",
    "# non zero value will be considered as true and zero is considered as false.\n",
    "\n",
    "print(not 12)\n",
    "print(not 0)\n",
    "print(not -12)"
   ]
  },
  {
   "cell_type": "markdown",
   "id": "0cc77410-120e-465b-b31d-f3b8dfc48783",
   "metadata": {},
   "source": [
    "## Bitwise operators: &,|,^,"
   ]
  },
  {
   "cell_type": "code",
   "execution_count": 93,
   "id": "74591d72-6854-4a13-8206-da2222a95461",
   "metadata": {},
   "outputs": [
    {
     "name": "stdout",
     "output_type": "stream",
     "text": [
      "0\n",
      "15\n",
      "15\n",
      "-13\n",
      "12\n",
      "6\n",
      "24\n"
     ]
    },
    {
     "data": {
      "text/plain": [
       "'\\n    ~x = -(x+1)\\n    eg: ~12 = -(12+1) = -13\\n'"
      ]
     },
     "execution_count": 93,
     "metadata": {},
     "output_type": "execute_result"
    }
   ],
   "source": [
    "\n",
    "\n",
    "# 12  = 1100\n",
    "# 3   = 0011\n",
    "\n",
    "print(12&3) # 0000\n",
    "print(12|3) # 1111\n",
    "print(12^3) # 1111\n",
    "print(~12)               \n",
    "print(~-13)\n",
    "\n",
    "print(12>>1) # right shift will divide the number\n",
    "print(12<<1) # left shift will multiply the number\n",
    "'''\n",
    "    ~x = -(x+1)\n",
    "    eg: ~12 = -(12+1) = -13\n",
    "'''"
   ]
  },
  {
   "cell_type": "markdown",
   "id": "1422794b-2273-4807-9980-18600c43d091",
   "metadata": {},
   "source": [
    "## Equality Operator: +=, -=, *=, /="
   ]
  },
  {
   "cell_type": "code",
   "execution_count": 94,
   "id": "dc5fe302-1df4-43bc-9989-78f7c597922b",
   "metadata": {},
   "outputs": [
    {
     "name": "stdout",
     "output_type": "stream",
     "text": [
      "x = 15\n",
      "p = 10\n",
      "z = 90\n",
      "q = 3.0\n"
     ]
    }
   ],
   "source": [
    "x = 10\n",
    "x+=5\n",
    "print(f\"x = {x}\")\n",
    "\n",
    "p = 20\n",
    "p-=10\n",
    "print(f\"p = {p}\")\n",
    "\n",
    "z = 30\n",
    "z*=3\n",
    "print(f\"z = {z}\")\n",
    "\n",
    "q = 15\n",
    "q/=5\n",
    "print(f\"q = {q}\")"
   ]
  },
  {
   "cell_type": "markdown",
   "id": "4c5579f9-fb40-4e0f-84e2-79fec03f2ad2",
   "metadata": {},
   "source": [
    "## Identity operators : is and is not"
   ]
  },
  {
   "cell_type": "code",
   "execution_count": 95,
   "id": "4aa61545-c1c0-48a4-a7ee-66c096c7b6f1",
   "metadata": {},
   "outputs": [
    {
     "name": "stderr",
     "output_type": "stream",
     "text": [
      "<>:3: SyntaxWarning: \"is\" with a literal. Did you mean \"==\"?\n",
      "<>:3: SyntaxWarning: \"is\" with a literal. Did you mean \"==\"?\n",
      "C:\\Users\\bala_arun_kumar\\AppData\\Local\\Temp\\ipykernel_13308\\2811400926.py:3: SyntaxWarning: \"is\" with a literal. Did you mean \"==\"?\n",
      "  10 is 10\n"
     ]
    },
    {
     "data": {
      "text/plain": [
       "True"
      ]
     },
     "execution_count": 95,
     "metadata": {},
     "output_type": "execute_result"
    }
   ],
   "source": [
    "10 is 10"
   ]
  },
  {
   "cell_type": "code",
   "execution_count": 96,
   "id": "7ef1136a-88d1-4b4b-964e-1278ce8a9e83",
   "metadata": {},
   "outputs": [
    {
     "name": "stderr",
     "output_type": "stream",
     "text": [
      "<>:1: SyntaxWarning: \"is\" with a literal. Did you mean \"==\"?\n",
      "<>:1: SyntaxWarning: \"is\" with a literal. Did you mean \"==\"?\n",
      "C:\\Users\\bala_arun_kumar\\AppData\\Local\\Temp\\ipykernel_13308\\2425154922.py:1: SyntaxWarning: \"is\" with a literal. Did you mean \"==\"?\n",
      "  \"Arun\" is \"Arun\"\n"
     ]
    },
    {
     "data": {
      "text/plain": [
       "True"
      ]
     },
     "execution_count": 96,
     "metadata": {},
     "output_type": "execute_result"
    }
   ],
   "source": [
    "\"Arun\" is \"Arun\""
   ]
  },
  {
   "cell_type": "code",
   "execution_count": 97,
   "id": "a3529530-a4fe-4ef2-a81b-b553a6c680f9",
   "metadata": {},
   "outputs": [
    {
     "name": "stderr",
     "output_type": "stream",
     "text": [
      "<>:1: SyntaxWarning: \"is\" with a literal. Did you mean \"==\"?\n",
      "<>:1: SyntaxWarning: \"is\" with a literal. Did you mean \"==\"?\n",
      "C:\\Users\\bala_arun_kumar\\AppData\\Local\\Temp\\ipykernel_13308\\3084269383.py:1: SyntaxWarning: \"is\" with a literal. Did you mean \"==\"?\n",
      "  \"Arun\" is \"kumar\"\n"
     ]
    },
    {
     "data": {
      "text/plain": [
       "False"
      ]
     },
     "execution_count": 97,
     "metadata": {},
     "output_type": "execute_result"
    }
   ],
   "source": [
    "\"Arun\" is \"kumar\""
   ]
  },
  {
   "cell_type": "code",
   "execution_count": 98,
   "id": "762a7114-d553-44a7-91d6-6bb11740006a",
   "metadata": {},
   "outputs": [
    {
     "name": "stderr",
     "output_type": "stream",
     "text": [
      "<>:1: SyntaxWarning: \"is not\" with a literal. Did you mean \"!=\"?\n",
      "<>:1: SyntaxWarning: \"is not\" with a literal. Did you mean \"!=\"?\n",
      "C:\\Users\\bala_arun_kumar\\AppData\\Local\\Temp\\ipykernel_13308\\2388115820.py:1: SyntaxWarning: \"is not\" with a literal. Did you mean \"!=\"?\n",
      "  \"Arun\" is not \"Kumar\"\n"
     ]
    },
    {
     "data": {
      "text/plain": [
       "True"
      ]
     },
     "execution_count": 98,
     "metadata": {},
     "output_type": "execute_result"
    }
   ],
   "source": [
    "\"Arun\" is not \"Kumar\""
   ]
  },
  {
   "cell_type": "code",
   "execution_count": 99,
   "id": "65dfdc01-36be-4d09-b2ba-0fb21a8d33cc",
   "metadata": {},
   "outputs": [],
   "source": [
    "# sizeof() operator does not exist as we are dealing with objects not with variables\n",
    "# We also not have increment and decrement operators\n",
    "# Does not have conditional operators\n",
    "\n",
    "# Here x++ is not possible, but we can do x+=1"
   ]
  },
  {
   "cell_type": "markdown",
   "id": "9627319e-a93a-43af-9b43-a08d1183429a",
   "metadata": {},
   "source": [
    "## Membership operator: in, not in "
   ]
  },
  {
   "cell_type": "code",
   "execution_count": 100,
   "id": "c151d8f4-caa4-4cb3-910d-fb4b58480837",
   "metadata": {},
   "outputs": [
    {
     "data": {
      "text/plain": [
       "False"
      ]
     },
     "execution_count": 100,
     "metadata": {},
     "output_type": "execute_result"
    }
   ],
   "source": [
    "l = [1,2,3,4,5]\n",
    "20 in l"
   ]
  },
  {
   "cell_type": "code",
   "execution_count": 101,
   "id": "d7cdb3bb-7cf5-4609-ab5c-fb03068b9432",
   "metadata": {},
   "outputs": [
    {
     "data": {
      "text/plain": [
       "True"
      ]
     },
     "execution_count": 101,
     "metadata": {},
     "output_type": "execute_result"
    }
   ],
   "source": [
    "20 not in l"
   ]
  },
  {
   "cell_type": "code",
   "execution_count": 20,
   "id": "3a2e64d0-f572-4c68-8e8a-fcb65c1a6ec7",
   "metadata": {},
   "outputs": [
    {
     "name": "stdout",
     "output_type": "stream",
     "text": [
      "Address of a is 140733222450248\n",
      "Address of b is 140733222450248\n",
      "Address of value 10 is 140733222450248\n",
      "Address of k in 140733222450248\n"
     ]
    },
    {
     "data": {
      "text/plain": [
       "'\\nSuddenly, if all the variables are pointing to different memory locations, then there will be no one to point to the value 10 (in this case), so\\nthis will remain as a garbage as none of the variables are using this memory. This is called trash / garbage collection.\\n'"
      ]
     },
     "execution_count": 20,
     "metadata": {},
     "output_type": "execute_result"
    }
   ],
   "source": [
    "'''\n",
    "Important point on variables.\n",
    "\n",
    "If we have two variables and both are having same value, then two blocks of memory will not be created. Both values will be pointing to the same memory\n",
    "location and if we find the address of these two variables, we get the same address. This is why python language is memory efficient.\n",
    "\n",
    "So, all the variables which are pointing to a particular value will have same address.\n",
    "'''\n",
    "\n",
    "a = 10\n",
    "b = a\n",
    "print(f\"Address of a is {id(a)}\")\n",
    "print(f\"Address of b is {id(b)}\")\n",
    "print(f\"Address of value 10 is {id(10)}\")\n",
    "\n",
    "k = 10\n",
    "print(f\"Address of k in {id(k)}\")\n",
    "\n",
    "'''\n",
    "Suddenly, if all the variables are pointing to different memory locations, then there will be no one to point to the value 10 (in this case), so\n",
    "this will remain as a garbage as none of the variables are using this memory. This is called trash / garbage collection.\n",
    "'''"
   ]
  },
  {
   "cell_type": "code",
   "execution_count": 2,
   "id": "7b5136c6-5b62-4a92-966d-14163bec278a",
   "metadata": {},
   "outputs": [
    {
     "data": {
      "text/plain": [
       "range(0, 10)"
      ]
     },
     "execution_count": 2,
     "metadata": {},
     "output_type": "execute_result"
    }
   ],
   "source": [
    "range(10)"
   ]
  },
  {
   "cell_type": "code",
   "execution_count": 4,
   "id": "eb297280-f952-4f60-b5bc-63b92e1432f6",
   "metadata": {},
   "outputs": [
    {
     "data": {
      "text/plain": [
       "[0, 1, 2, 3, 4, 5, 6, 7, 8, 9]"
      ]
     },
     "execution_count": 4,
     "metadata": {},
     "output_type": "execute_result"
    }
   ],
   "source": [
    "list(range(10))"
   ]
  },
  {
   "cell_type": "code",
   "execution_count": 10,
   "id": "1ff8d201-333b-41d3-a388-16a72d60e552",
   "metadata": {},
   "outputs": [
    {
     "data": {
      "text/plain": [
       "[2, 6, 10, 14, 18, 22, 26, 30, 34, 38, 42, 46]"
      ]
     },
     "execution_count": 10,
     "metadata": {},
     "output_type": "execute_result"
    }
   ],
   "source": [
    "list(range(2,50,4)) # here third field in the range function is step"
   ]
  },
  {
   "cell_type": "markdown",
   "id": "b762dc2e-58c2-4b26-b2ef-9dc1c33e4088",
   "metadata": {},
   "source": [
    "## Numbers System"
   ]
  },
  {
   "cell_type": "code",
   "execution_count": 11,
   "id": "270b4921-4b46-490e-930e-7c90c448f700",
   "metadata": {},
   "outputs": [
    {
     "data": {
      "text/plain": [
       "int"
      ]
     },
     "execution_count": 11,
     "metadata": {},
     "output_type": "execute_result"
    }
   ],
   "source": [
    "## Intergers\n",
    "\n",
    "num = 10\n",
    "type(num)"
   ]
  },
  {
   "cell_type": "code",
   "execution_count": 12,
   "id": "57876868-a500-4d7a-b35f-9bfb81bd388f",
   "metadata": {},
   "outputs": [
    {
     "data": {
      "text/plain": [
       "'0b10100'"
      ]
     },
     "execution_count": 12,
     "metadata": {},
     "output_type": "execute_result"
    }
   ],
   "source": [
    "## Binary\n",
    "\n",
    "num = 20\n",
    "bin(num)"
   ]
  },
  {
   "cell_type": "code",
   "execution_count": 13,
   "id": "f152c0c7-61eb-446d-bb10-44092fb37984",
   "metadata": {},
   "outputs": [
    {
     "data": {
      "text/plain": [
       "5"
      ]
     },
     "execution_count": 13,
     "metadata": {},
     "output_type": "execute_result"
    }
   ],
   "source": [
    "0b0101"
   ]
  },
  {
   "cell_type": "code",
   "execution_count": 14,
   "id": "e848fe0e-d4dd-476d-8c3c-a3bbbb7f0907",
   "metadata": {},
   "outputs": [
    {
     "data": {
      "text/plain": [
       "'0o43'"
      ]
     },
     "execution_count": 14,
     "metadata": {},
     "output_type": "execute_result"
    }
   ],
   "source": [
    "## Octal\n",
    "\n",
    "num  = 35\n",
    "oct(num)"
   ]
  },
  {
   "cell_type": "code",
   "execution_count": 15,
   "id": "b7222cd8-43a3-4e3a-ab7c-a28b6f0bd796",
   "metadata": {},
   "outputs": [
    {
     "data": {
      "text/plain": [
       "35"
      ]
     },
     "execution_count": 15,
     "metadata": {},
     "output_type": "execute_result"
    }
   ],
   "source": [
    "0o43"
   ]
  },
  {
   "cell_type": "code",
   "execution_count": 16,
   "id": "dc7f0e2d-1845-4d1c-aa9f-73accc56445c",
   "metadata": {},
   "outputs": [
    {
     "data": {
      "text/plain": [
       "'0x16'"
      ]
     },
     "execution_count": 16,
     "metadata": {},
     "output_type": "execute_result"
    }
   ],
   "source": [
    "## Hexadecimal\n",
    "\n",
    "num = 22\n",
    "hex(num)"
   ]
  },
  {
   "cell_type": "code",
   "execution_count": 18,
   "id": "ebe0d669-4d6f-4645-9ace-192ea3ab73e9",
   "metadata": {},
   "outputs": [
    {
     "data": {
      "text/plain": [
       "15"
      ]
     },
     "execution_count": 18,
     "metadata": {},
     "output_type": "execute_result"
    }
   ],
   "source": [
    "0xf"
   ]
  },
  {
   "cell_type": "markdown",
   "id": "35056f36-db1d-4404-9d64-f498dc2fb5e8",
   "metadata": {},
   "source": [
    "## Mathematical functions"
   ]
  },
  {
   "cell_type": "code",
   "execution_count": 20,
   "id": "5a80e959-6487-4a1c-b075-8959d7ae4086",
   "metadata": {},
   "outputs": [
    {
     "ename": "NameError",
     "evalue": "name 'srqt' is not defined",
     "output_type": "error",
     "traceback": [
      "\u001b[1;31m---------------------------------------------------------------------------\u001b[0m",
      "\u001b[1;31mNameError\u001b[0m                                 Traceback (most recent call last)",
      "Cell \u001b[1;32mIn[20], line 1\u001b[0m\n\u001b[1;32m----> 1\u001b[0m x \u001b[38;5;241m=\u001b[39m \u001b[43msrqt\u001b[49m(\u001b[38;5;241m25\u001b[39m)\n\u001b[0;32m      2\u001b[0m x\n",
      "\u001b[1;31mNameError\u001b[0m: name 'srqt' is not defined"
     ]
    }
   ],
   "source": [
    "\n",
    "x = srqt(25)\n",
    "x"
   ]
  },
  {
   "cell_type": "code",
   "execution_count": 21,
   "id": "b021d249-16b6-46c8-9df2-d090175898fa",
   "metadata": {},
   "outputs": [
    {
     "data": {
      "text/plain": [
       "5.0"
      ]
     },
     "execution_count": 21,
     "metadata": {},
     "output_type": "execute_result"
    }
   ],
   "source": [
    "import math\n",
    "x = math.sqrt(25)\n",
    "x"
   ]
  },
  {
   "cell_type": "code",
   "execution_count": 25,
   "id": "f3955c3e-71be-4c06-8aff-31b62e223c71",
   "metadata": {},
   "outputs": [
    {
     "data": {
      "text/plain": [
       "3"
      ]
     },
     "execution_count": 25,
     "metadata": {},
     "output_type": "execute_result"
    }
   ],
   "source": [
    "p = 2.543\n",
    "math.ceil(p)"
   ]
  },
  {
   "cell_type": "code",
   "execution_count": 26,
   "id": "096aec8d-a9ca-4d44-bb32-5f46e4df5a14",
   "metadata": {},
   "outputs": [
    {
     "data": {
      "text/plain": [
       "2"
      ]
     },
     "execution_count": 26,
     "metadata": {},
     "output_type": "execute_result"
    }
   ],
   "source": [
    "math.floor(p)"
   ]
  },
  {
   "cell_type": "code",
   "execution_count": 28,
   "id": "2b38e160-0f13-4612-a4ac-aea647b3d582",
   "metadata": {},
   "outputs": [
    {
     "data": {
      "text/plain": [
       "6.466849000000001"
      ]
     },
     "execution_count": 28,
     "metadata": {},
     "output_type": "execute_result"
    }
   ],
   "source": [
    "math.pow(p,2)"
   ]
  },
  {
   "cell_type": "code",
   "execution_count": 29,
   "id": "12949944-0cdb-4ca6-a1ee-28e7217bebaf",
   "metadata": {},
   "outputs": [
    {
     "data": {
      "text/plain": [
       "3.141592653589793"
      ]
     },
     "execution_count": 29,
     "metadata": {},
     "output_type": "execute_result"
    }
   ],
   "source": [
    "math.pi"
   ]
  },
  {
   "cell_type": "code",
   "execution_count": 31,
   "id": "edb3dd1d-4290-429d-9e13-14170115b826",
   "metadata": {},
   "outputs": [
    {
     "data": {
      "text/plain": [
       "2.718281828459045"
      ]
     },
     "execution_count": 31,
     "metadata": {},
     "output_type": "execute_result"
    }
   ],
   "source": [
    "math.e # epsilon"
   ]
  },
  {
   "cell_type": "code",
   "execution_count": 33,
   "id": "14d2afd6-7116-48fb-93fd-15dd7ce60ea2",
   "metadata": {},
   "outputs": [
    {
     "name": "stdout",
     "output_type": "stream",
     "text": [
      "4.0\n",
      "256.0\n"
     ]
    }
   ],
   "source": [
    "# we can import specific things from the library, if we don't need all\n",
    "\n",
    "from math import sqrt, pow\n",
    "n = 16\n",
    "\n",
    "print(sqrt(16)) # as we have imported the direct functions itself, we don't need to use math while using them.\n",
    "print(pow(16,2))"
   ]
  },
  {
   "cell_type": "markdown",
   "id": "008f7645-9adb-484f-9276-016adf924dcb",
   "metadata": {},
   "source": [
    "## user input"
   ]
  },
  {
   "cell_type": "code",
   "execution_count": 34,
   "id": "c6f1e90b-d804-4626-bf56-3362b9484ac9",
   "metadata": {},
   "outputs": [
    {
     "name": "stdin",
     "output_type": "stream",
     "text": [
      "Enter a number for n   4\n",
      "Enter a number for m   3\n"
     ]
    },
    {
     "name": "stdout",
     "output_type": "stream",
     "text": [
      "Sum of nums is 7\n"
     ]
    }
   ],
   "source": [
    "n = int(input(\"Enter a number for n  \"))\n",
    "m = int(input(\"Enter a number for m  \"))\n",
    "\n",
    "p = n+m\n",
    "\n",
    "print(f\"Sum of nums is {p}\")\n"
   ]
  },
  {
   "cell_type": "code",
   "execution_count": 38,
   "id": "9db07a8a-1288-4acc-82dd-57e41526e5f8",
   "metadata": {},
   "outputs": [
    {
     "name": "stdin",
     "output_type": "stream",
     "text": [
      "Enter something:  r4wrff\n"
     ]
    },
    {
     "name": "stdout",
     "output_type": "stream",
     "text": [
      "r4wrff\n"
     ]
    }
   ],
   "source": [
    "ch = input(\"Enter something: \") # though we are expecting character, if you give a string, it will accept.\n",
    "# To avoid that follow the process present in next cell.\n",
    "print(ch)"
   ]
  },
  {
   "cell_type": "code",
   "execution_count": 40,
   "id": "f079a30b-c11c-4051-9c05-4b430b8e8272",
   "metadata": {},
   "outputs": [
    {
     "name": "stdin",
     "output_type": "stream",
     "text": [
      "Enter a character:  fref\n"
     ]
    },
    {
     "name": "stdout",
     "output_type": "stream",
     "text": [
      "f\n"
     ]
    }
   ],
   "source": [
    "ch = input(\"Enter a character: \")[0]\n",
    "# Here, we are restricting the ch to take only one character from the input, that too only the first character.\n",
    "print(ch)"
   ]
  },
  {
   "cell_type": "code",
   "execution_count": 41,
   "id": "24668466-cada-41d0-a445-93a208c12111",
   "metadata": {},
   "outputs": [
    {
     "name": "stdin",
     "output_type": "stream",
     "text": [
      "Enter a string:  arun\n"
     ]
    },
    {
     "name": "stdout",
     "output_type": "stream",
     "text": [
      "n\n"
     ]
    }
   ],
   "source": [
    "ch = input(\"Enter a string: \")[3]\n",
    "print(ch)"
   ]
  },
  {
   "cell_type": "code",
   "execution_count": 43,
   "id": "21d6712b-b333-4651-b21e-7baea4fcdb6e",
   "metadata": {},
   "outputs": [
    {
     "name": "stdin",
     "output_type": "stream",
     "text": [
      "Enter an expression to compute:  2+3+4-1-2\n"
     ]
    },
    {
     "name": "stdout",
     "output_type": "stream",
     "text": [
      "6\n"
     ]
    }
   ],
   "source": [
    "'''\n",
    "When we try to give an expression as an input and ask it to evaluate it, then the input thing\n",
    "may not know like what we are giving.\n",
    "\n",
    "the expression which we are gonna give will consists of numbers and operators which are nothing\n",
    "but characters. \n",
    "\n",
    "So to evaluate this we can use \"eval\" function.\n",
    "'''\n",
    "\n",
    "res = eval(input(\"Enter an expression to compute: \"))\n",
    "\n",
    "print(res)\n"
   ]
  },
  {
   "cell_type": "code",
   "execution_count": 46,
   "id": "56015b23-0a0b-4668-90e7-ff41e9e17121",
   "metadata": {},
   "outputs": [
    {
     "ename": "ValueError",
     "evalue": "invalid literal for int() with base 10: '-f'",
     "output_type": "error",
     "traceback": [
      "\u001b[1;31m---------------------------------------------------------------------------\u001b[0m",
      "\u001b[1;31mValueError\u001b[0m                                Traceback (most recent call last)",
      "Cell \u001b[1;32mIn[46], line 4\u001b[0m\n\u001b[0;32m      1\u001b[0m \u001b[38;5;66;03m# we can take inputs from command line too, using argv \u001b[39;00m\n\u001b[0;32m      3\u001b[0m \u001b[38;5;28;01mimport\u001b[39;00m \u001b[38;5;21;01msys\u001b[39;00m\n\u001b[1;32m----> 4\u001b[0m x \u001b[38;5;241m=\u001b[39m \u001b[38;5;28;43mint\u001b[39;49m\u001b[43m(\u001b[49m\u001b[43msys\u001b[49m\u001b[38;5;241;43m.\u001b[39;49m\u001b[43margv\u001b[49m\u001b[43m[\u001b[49m\u001b[38;5;241;43m1\u001b[39;49m\u001b[43m]\u001b[49m\u001b[43m)\u001b[49m\n\u001b[0;32m      5\u001b[0m y \u001b[38;5;241m=\u001b[39m \u001b[38;5;28mint\u001b[39m(sys\u001b[38;5;241m.\u001b[39margv[\u001b[38;5;241m2\u001b[39m])\n\u001b[0;32m      7\u001b[0m z \u001b[38;5;241m=\u001b[39m x\u001b[38;5;241m+\u001b[39my\n",
      "\u001b[1;31mValueError\u001b[0m: invalid literal for int() with base 10: '-f'"
     ]
    }
   ],
   "source": [
    "# we can take inputs from command line too, using argv \n",
    "\n",
    "import sys\n",
    "x = int(sys.argv[1])\n",
    "y = int(sys.argv[2])\n",
    "\n",
    "z = x+y\n",
    "print(z)\n",
    "\n",
    "# This is possible if you run through cmd line only\n",
    "# as we are running through jupyter notebook and we do run directly, we cannot do this here. "
   ]
  },
  {
   "cell_type": "markdown",
   "id": "a3213b33-b68e-4bdf-893e-58f7cce8bab2",
   "metadata": {},
   "source": [
    "## if elif else"
   ]
  },
  {
   "cell_type": "code",
   "execution_count": 5,
   "id": "20bae5b2-24f2-4897-b6f8-70c1f5aa72c4",
   "metadata": {},
   "outputs": [
    {
     "name": "stdin",
     "output_type": "stream",
     "text": [
      "Enter a number:  4\n"
     ]
    },
    {
     "name": "stdout",
     "output_type": "stream",
     "text": [
      "Even number\n"
     ]
    }
   ],
   "source": [
    "n = int(input(\"Enter a number: \"))\n",
    "if(n%2 == 0):\n",
    "    print(\"Even number\")\n",
    "else:\n",
    "    print(\"odd number\")"
   ]
  },
  {
   "cell_type": "code",
   "execution_count": 11,
   "id": "f56a5877-8299-4e62-9577-a5373b3a38fe",
   "metadata": {},
   "outputs": [
    {
     "name": "stdin",
     "output_type": "stream",
     "text": [
      "Enter a number:  15\n"
     ]
    },
    {
     "name": "stdout",
     "output_type": "stream",
     "text": [
      "Not a prime number\n"
     ]
    }
   ],
   "source": [
    "## Prime number.\n",
    "\n",
    "n = int(input(\"Enter a number: \"))\n",
    "flag = 0\n",
    "for i in range(2,n):\n",
    "    if(n%i == 0):\n",
    "        flag = 1\n",
    "        break\n",
    "if(flag):\n",
    "    print(\"Not a prime number\")\n",
    "else:\n",
    "    print(\"prime number\")"
   ]
  },
  {
   "cell_type": "code",
   "execution_count": 12,
   "id": "6898ec6d-e4dc-4f3d-9a71-b995b09fad11",
   "metadata": {},
   "outputs": [
    {
     "name": "stdin",
     "output_type": "stream",
     "text": [
      "Enter a number 10\n"
     ]
    },
    {
     "name": "stdout",
     "output_type": "stream",
     "text": [
      "2 is a prime number\n",
      "3 is a prime number\n",
      "4 is not a prime number\n",
      "5 is a prime number\n",
      "6 is not a prime number\n",
      "7 is a prime number\n",
      "8 is not a prime number\n",
      "9 is not a prime number\n",
      "10 is not a prime number\n"
     ]
    }
   ],
   "source": [
    "## List of prime numbers\n",
    "\n",
    "n = int(input(\"Enter a number\"))\n",
    "\n",
    "for i in range(2,n+1):\n",
    "    flag = 0\n",
    "    for j in range(2,i):\n",
    "        if(i%j == 0):\n",
    "            flag = 1\n",
    "            break\n",
    "    if(flag):\n",
    "        print(f\"{i} is not a prime number\")\n",
    "    else:\n",
    "        print(f\"{i} is a prime number\")\n",
    "        "
   ]
  },
  {
   "cell_type": "markdown",
   "id": "625d0d37-4eb3-40b9-8c41-414e2a182dd8",
   "metadata": {},
   "source": [
    "## while"
   ]
  },
  {
   "cell_type": "code",
   "execution_count": 3,
   "id": "a4ce57b0-ce3e-466c-993c-9d518f59edd9",
   "metadata": {},
   "outputs": [
    {
     "name": "stdout",
     "output_type": "stream",
     "text": [
      "1.Hello\n",
      "2.Hello\n",
      "3.Hello\n",
      "4.Hello\n",
      "5.Hello\n",
      "6.Hello\n",
      "7.Hello\n",
      "8.Hello\n",
      "9.Hello\n",
      "10.Hello\n"
     ]
    }
   ],
   "source": [
    "n = 1\n",
    "\n",
    "while(n <= 10):\n",
    "    print(f\"{n}.Hello\")\n",
    "    n+=1"
   ]
  },
  {
   "cell_type": "code",
   "execution_count": 9,
   "id": "fb0cd161-1ed6-4f4d-8e01-c3f422703661",
   "metadata": {},
   "outputs": [
    {
     "name": "stdout",
     "output_type": "stream",
     "text": [
      "Arun Rocks Rocks Rocks Rocks \n",
      "Arun Rocks Rocks Rocks Rocks \n",
      "Arun Rocks Rocks Rocks Rocks \n",
      "Arun Rocks Rocks Rocks Rocks \n",
      "Arun Rocks Rocks Rocks Rocks \n"
     ]
    }
   ],
   "source": [
    "i = 1\n",
    "j = 1\n",
    "\n",
    "while(i<=5):\n",
    "    print(\"Arun\",end = \" \")\n",
    "    j = 0\n",
    "    while(j<4):\n",
    "        j+=1\n",
    "        print(\"Rocks\",end = \" \")\n",
    "    print()   \n",
    "    i+=1"
   ]
  },
  {
   "cell_type": "markdown",
   "id": "264472c9-c894-4a75-8ba3-b971f92f8afc",
   "metadata": {},
   "source": [
    "## for loop"
   ]
  },
  {
   "cell_type": "code",
   "execution_count": 12,
   "id": "4b4d7bfb-29f6-41c3-902e-a8be8fd891d4",
   "metadata": {},
   "outputs": [
    {
     "name": "stdout",
     "output_type": "stream",
     "text": [
      "1\n",
      "2\n",
      "3\n",
      "Arun\n",
      "Kumar\n",
      "345.34\n"
     ]
    }
   ],
   "source": [
    "l1 = [1,2,3,\"Arun\",\"Kumar\",345.34]\n",
    "\n",
    "for i in l1:\n",
    "    print (i)"
   ]
  },
  {
   "cell_type": "code",
   "execution_count": 13,
   "id": "aa1fd03f-660a-4d8b-ad18-2cb3805302c6",
   "metadata": {},
   "outputs": [
    {
     "name": "stdout",
     "output_type": "stream",
     "text": [
      "A\n",
      "r\n",
      "u\n",
      "n\n",
      " \n",
      "K\n",
      "u\n",
      "m\n",
      "a\n",
      "r\n"
     ]
    }
   ],
   "source": [
    "p = \"Arun Kumar\"\n",
    "\n",
    "for i in p:\n",
    "    print(i)"
   ]
  },
  {
   "cell_type": "code",
   "execution_count": 14,
   "id": "77254143-4aae-42ee-947c-359906451b55",
   "metadata": {},
   "outputs": [
    {
     "name": "stdout",
     "output_type": "stream",
     "text": [
      "1\n",
      "4\n",
      "7\n",
      "10\n",
      "13\n",
      "16\n",
      "19\n",
      "22\n",
      "25\n",
      "28\n",
      "31\n",
      "34\n",
      "37\n",
      "40\n",
      "43\n",
      "46\n",
      "49\n"
     ]
    }
   ],
   "source": [
    "for i in range(1,50,3):\n",
    "    print(i)"
   ]
  },
  {
   "cell_type": "code",
   "execution_count": 17,
   "id": "dc2ddb1e-3e12-4759-a65e-1ab8cd901a4e",
   "metadata": {},
   "outputs": [
    {
     "name": "stdout",
     "output_type": "stream",
     "text": [
      "20\n",
      "19\n",
      "18\n",
      "17\n",
      "16\n",
      "15\n",
      "14\n",
      "13\n",
      "12\n",
      "11\n"
     ]
    }
   ],
   "source": [
    "for i in range(20,10,-1): # 10 is not included\n",
    "    print(i)"
   ]
  },
  {
   "cell_type": "markdown",
   "id": "327867a6-4ede-414a-9fff-be0829a26604",
   "metadata": {},
   "source": [
    "## break, continue, and pass"
   ]
  },
  {
   "cell_type": "code",
   "execution_count": 27,
   "id": "c27b77e9-f44b-4436-8d20-0ea2d495d5d4",
   "metadata": {},
   "outputs": [
    {
     "name": "stdin",
     "output_type": "stream",
     "text": [
      "Enter a number:  2\n",
      "Enter a number till which you want the multiplication table:  11\n"
     ]
    },
    {
     "name": "stdout",
     "output_type": "stream",
     "text": [
      "2*1 = 2\n",
      "2*2 = 4\n",
      "2*3 = 6\n",
      "2*4 = 8\n",
      "2*5 = 10\n",
      "2*6 = 12\n",
      "2*7 = 14\n",
      "2*8 = 16\n",
      "2*9 = 18\n",
      "2*10 = 20\n"
     ]
    }
   ],
   "source": [
    "## break\n",
    "\n",
    "n = int(input(\"Enter a number: \"))\n",
    "\n",
    "m = int(input(\"Enter a number till which you want the multiplication table: \"))\n",
    "i = 1\n",
    "while(1):\n",
    "    if(m!=i):\n",
    "        print(f\"{n}*{i} = {n*i}\")\n",
    "        i+=1\n",
    "    else:\n",
    "        break"
   ]
  },
  {
   "cell_type": "code",
   "execution_count": 30,
   "id": "90e0d6c6-5cd4-4015-86ec-3ab16103c3d9",
   "metadata": {},
   "outputs": [
    {
     "name": "stdin",
     "output_type": "stream",
     "text": [
      "Enter a number:  20\n"
     ]
    },
    {
     "name": "stdout",
     "output_type": "stream",
     "text": [
      "1\n",
      "3\n",
      "5\n",
      "7\n",
      "9\n",
      "11\n",
      "13\n",
      "15\n",
      "17\n",
      "19\n"
     ]
    }
   ],
   "source": [
    "## Continue\n",
    "\n",
    "## printing the numbers in the given range which are not divisible by 2.\n",
    "\n",
    "n = int(input(\"Enter a number: \"))\n",
    "\n",
    "for i in range(n+1):\n",
    "    if(i%2 == 0):\n",
    "        continue # it will just skip the iteration and does nothing for that iteration.\n",
    "    else:\n",
    "        print(i)"
   ]
  },
  {
   "cell_type": "code",
   "execution_count": 31,
   "id": "47604371-0e55-45e6-be69-6fdf85494a96",
   "metadata": {},
   "outputs": [
    {
     "name": "stdout",
     "output_type": "stream",
     "text": [
      "1\n",
      "3\n",
      "5\n",
      "7\n",
      "9\n",
      "11\n",
      "13\n",
      "15\n",
      "17\n",
      "19\n",
      "21\n",
      "23\n",
      "25\n",
      "27\n",
      "29\n",
      "31\n",
      "33\n",
      "35\n",
      "37\n",
      "39\n",
      "41\n",
      "43\n",
      "45\n",
      "47\n",
      "49\n",
      "51\n",
      "53\n",
      "55\n",
      "57\n",
      "59\n",
      "61\n",
      "63\n",
      "65\n",
      "67\n",
      "69\n",
      "71\n",
      "73\n",
      "75\n",
      "77\n",
      "79\n",
      "81\n",
      "83\n",
      "85\n",
      "87\n",
      "89\n",
      "91\n",
      "93\n",
      "95\n",
      "97\n",
      "99\n"
     ]
    }
   ],
   "source": [
    "## pass\n",
    "\n",
    "## This can be used when you have to check the condition and dont want to do anything and keep\n",
    "## it empty.\n",
    "\n",
    "for i in range(1,101):\n",
    "    if(i%2 == 0):\n",
    "        pass\n",
    "    else:\n",
    "        print(i)"
   ]
  },
  {
   "cell_type": "markdown",
   "id": "dee051aa-cbda-486a-9656-2ec1f114204f",
   "metadata": {},
   "source": [
    "## For else"
   ]
  },
  {
   "cell_type": "code",
   "execution_count": 34,
   "id": "1b1c6ca4-bf2b-45fc-a369-5eb404f8db07",
   "metadata": {},
   "outputs": [
    {
     "name": "stdout",
     "output_type": "stream",
     "text": [
      "not found\n"
     ]
    }
   ],
   "source": [
    "nums = [12,11,18,21,26]\n",
    "\n",
    "for i in range(len(nums)):\n",
    "    if nums[i]%5 == 0:\n",
    "        print(\"Found\")\n",
    "else:\n",
    "    print(\"not found\")"
   ]
  },
  {
   "cell_type": "markdown",
   "id": "7ce59b52-708b-40b8-a114-bef48ca1e5c6",
   "metadata": {},
   "source": [
    "## Arrays"
   ]
  },
  {
   "cell_type": "code",
   "execution_count": 40,
   "id": "a4447455-fa6a-46f3-8587-072c76a0f1d8",
   "metadata": {},
   "outputs": [
    {
     "name": "stdout",
     "output_type": "stream",
     "text": [
      "array('i', [1, 2, 3, 9, 8, 7, 6])\n"
     ]
    }
   ],
   "source": [
    "# Arrays in python does not have specific size.\n",
    "\n",
    "from array import array as a\n",
    "vals = a('i',[1,2,3,9,8,7,6])\n",
    "\n",
    "print(vals)"
   ]
  },
  {
   "cell_type": "code",
   "execution_count": 41,
   "id": "3915cdc6-752b-4a2d-8b9d-c2f02ea7eacd",
   "metadata": {},
   "outputs": [
    {
     "data": {
      "text/plain": [
       "array('i', [6, 7, 8, 9, 3, 2, 1])"
      ]
     },
     "execution_count": 41,
     "metadata": {},
     "output_type": "execute_result"
    }
   ],
   "source": [
    "vals.reverse()\n",
    "vals"
   ]
  },
  {
   "cell_type": "code",
   "execution_count": 47,
   "id": "0ddae7b5-2e63-4497-bbc9-7d6d046d7654",
   "metadata": {},
   "outputs": [
    {
     "data": {
      "text/plain": [
       "(1793474982576, 7)"
      ]
     },
     "execution_count": 47,
     "metadata": {},
     "output_type": "execute_result"
    }
   ],
   "source": [
    "vals.buffer_info()\n",
    "# this method gives the size of the array and the base address"
   ]
  },
  {
   "cell_type": "code",
   "execution_count": 48,
   "id": "3a96190c-cd14-42e1-b10b-2ed1d1e7b05a",
   "metadata": {},
   "outputs": [
    {
     "data": {
      "text/plain": [
       "6"
      ]
     },
     "execution_count": 48,
     "metadata": {},
     "output_type": "execute_result"
    }
   ],
   "source": [
    "vals[0]"
   ]
  },
  {
   "cell_type": "code",
   "execution_count": 50,
   "id": "b3524ea8-490b-4d91-99f4-b7c5a2a6b967",
   "metadata": {},
   "outputs": [
    {
     "name": "stdout",
     "output_type": "stream",
     "text": [
      "6\n",
      "7\n",
      "8\n",
      "9\n",
      "3\n",
      "2\n",
      "1\n"
     ]
    }
   ],
   "source": [
    "for i in range(len(vals)):\n",
    "    print(vals[i])"
   ]
  },
  {
   "cell_type": "code",
   "execution_count": 51,
   "id": "3661739b-116f-4d0f-9c82-aba26a6d8025",
   "metadata": {},
   "outputs": [
    {
     "name": "stdout",
     "output_type": "stream",
     "text": [
      "a\n",
      "e\n",
      "i\n",
      "o\n",
      "u\n"
     ]
    }
   ],
   "source": [
    "from array import *\n",
    "\n",
    "arrc = array('u',['a','e','i','o','u'])\n",
    "\n",
    "for i in range(len(arrc)):\n",
    "    print(arrc[i])"
   ]
  },
  {
   "cell_type": "code",
   "execution_count": 2,
   "id": "ec9e7b69-1d69-4701-9046-56514fc45405",
   "metadata": {},
   "outputs": [
    {
     "name": "stdout",
     "output_type": "stream",
     "text": [
      "1\n",
      "4\n",
      "16\n",
      "4\n",
      "36\n"
     ]
    }
   ],
   "source": [
    "from array import *\n",
    "\n",
    "vals = array('i',[1,2,4,2,6])\n",
    "\n",
    "newarr = array(vals.typecode,(a*a for a in vals))\n",
    "# Instead of  mentioning the typecode specifically, we can take the typecode from the other array using typecode.\n",
    "\n",
    "for i in newarr:\n",
    "    print(i)"
   ]
  },
  {
   "cell_type": "code",
   "execution_count": 6,
   "id": "fe8df03a-b7b6-44d7-a67c-f742369b267b",
   "metadata": {},
   "outputs": [
    {
     "name": "stdin",
     "output_type": "stream",
     "text": [
      "Enter the number of values:  5\n",
      " 2\n",
      " 3\n",
      " 4\n",
      " 5\n",
      " 1\n"
     ]
    },
    {
     "name": "stdout",
     "output_type": "stream",
     "text": [
      "array('i', [2, 3, 4, 5, 1])\n"
     ]
    }
   ],
   "source": [
    "from array import *\n",
    "a=array('i',[]) # since we are expecting integer values from user, we have used 'i' while declaring\n",
    "\n",
    "n = int(input(\"Enter the number of values: \"))\n",
    "\n",
    "for i in range(n):\n",
    "    p = int(input())\n",
    "    a.append(p)\n",
    "print(a)"
   ]
  },
  {
   "cell_type": "code",
   "execution_count": 12,
   "id": "c1fb14e3-4548-4e0b-9700-db19ab14d028",
   "metadata": {},
   "outputs": [
    {
     "name": "stdin",
     "output_type": "stream",
     "text": [
      "Enter the no.of elements:  6\n"
     ]
    },
    {
     "name": "stdout",
     "output_type": "stream",
     "text": [
      "enter elements: \n"
     ]
    },
    {
     "name": "stdin",
     "output_type": "stream",
     "text": [
      " 1\n",
      " 2\n",
      " 3\n",
      " 4\n",
      " 5\n",
      " 6\n"
     ]
    },
    {
     "name": "stdout",
     "output_type": "stream",
     "text": [
      "Enter the element to find: \n"
     ]
    },
    {
     "name": "stdin",
     "output_type": "stream",
     "text": [
      " 7\n"
     ]
    },
    {
     "name": "stdout",
     "output_type": "stream",
     "text": [
      "Not present\n"
     ]
    }
   ],
   "source": [
    "# element search in array\n",
    "\n",
    "from array import *\n",
    "a = array('i',[])\n",
    "\n",
    "n = int(input(\"Enter the no.of elements: \"))\n",
    "\n",
    "print(\"enter elements: \")\n",
    "for i in range(n):\n",
    "    p = int(input())\n",
    "    a.append(p)\n",
    "\n",
    "print(\"Enter the element to find: \")\n",
    "ele = int(input())\n",
    "count =0\n",
    "for i in a:\n",
    "    if ele in a:\n",
    "        print(\"Present\")\n",
    "        print(i)\n",
    "        break\n",
    "    else:\n",
    "        count+=1\n",
    "        \n",
    "if(count == n):\n",
    "    print(\"Not present\")"
   ]
  },
  {
   "cell_type": "code",
   "execution_count": 13,
   "id": "dedb2b3b-8e06-451b-85ca-6b9639bab723",
   "metadata": {},
   "outputs": [
    {
     "ename": "TypeError",
     "evalue": "array() takes at most 2 arguments (3 given)",
     "output_type": "error",
     "traceback": [
      "\u001b[1;31m---------------------------------------------------------------------------\u001b[0m",
      "\u001b[1;31mTypeError\u001b[0m                                 Traceback (most recent call last)",
      "Cell \u001b[1;32mIn[13], line 12\u001b[0m\n\u001b[0;32m      3\u001b[0m \u001b[38;5;124;03m'''\u001b[39;00m\n\u001b[0;32m      4\u001b[0m \u001b[38;5;124;03mWith the usual pyton libraries, we cannot implement multi-dimensional arrays.\u001b[39;00m\n\u001b[0;32m      5\u001b[0m \u001b[38;5;124;03mTo implement them we need to include numpy libraries.\u001b[39;00m\n\u001b[0;32m      6\u001b[0m \n\u001b[0;32m      7\u001b[0m \n\u001b[0;32m      8\u001b[0m \u001b[38;5;124;03m'''\u001b[39;00m\n\u001b[0;32m     10\u001b[0m \u001b[38;5;28;01mfrom\u001b[39;00m \u001b[38;5;21;01marray\u001b[39;00m \u001b[38;5;28;01mimport\u001b[39;00m \u001b[38;5;241m*\u001b[39m\n\u001b[1;32m---> 12\u001b[0m a \u001b[38;5;241m=\u001b[39m \u001b[43marray\u001b[49m\u001b[43m(\u001b[49m\u001b[38;5;124;43m'\u001b[39;49m\u001b[38;5;124;43mi\u001b[39;49m\u001b[38;5;124;43m'\u001b[39;49m\u001b[43m,\u001b[49m\u001b[43m[\u001b[49m\u001b[38;5;241;43m1\u001b[39;49m\u001b[43m,\u001b[49m\u001b[38;5;241;43m2\u001b[39;49m\u001b[43m,\u001b[49m\u001b[38;5;241;43m3\u001b[39;49m\u001b[43m]\u001b[49m\u001b[43m,\u001b[49m\u001b[43m[\u001b[49m\u001b[38;5;241;43m4\u001b[39;49m\u001b[43m,\u001b[49m\u001b[38;5;241;43m5\u001b[39;49m\u001b[43m,\u001b[49m\u001b[38;5;241;43m6\u001b[39;49m\u001b[43m]\u001b[49m\u001b[43m)\u001b[49m\n\u001b[0;32m     14\u001b[0m \u001b[38;5;28mprint\u001b[39m(a)\n",
      "\u001b[1;31mTypeError\u001b[0m: array() takes at most 2 arguments (3 given)"
     ]
    }
   ],
   "source": [
    "# What is Numpy?\n",
    "\n",
    "'''\n",
    "With the usual pyton libraries, we cannot implement multi-dimensional arrays.\n",
    "To implement them we need to include numpy libraries.\n",
    "\n",
    "\n",
    "'''\n",
    "\n",
    "from array import *\n",
    "\n",
    "a = array('i',[1,2,3],[4,5,6])\n",
    "\n",
    "print(a)"
   ]
  },
  {
   "cell_type": "code",
   "execution_count": 22,
   "id": "3ca9d9cc-69a3-4958-9b89-c8817f684c99",
   "metadata": {},
   "outputs": [
    {
     "name": "stdout",
     "output_type": "stream",
     "text": [
      "[[1 2 3]\n",
      " [4 5 6]]\n"
     ]
    }
   ],
   "source": [
    "# if you don't have numpy libraries, use pip install numpy to install the libraries.\n",
    "# When we are using numpy libraries to create arrays, we don't need to mention the typecode.\n",
    "from numpy import *\n",
    "a = array([[1,2,3],[4,5,6]])\n",
    "print(a)\n"
   ]
  },
  {
   "cell_type": "code",
   "execution_count": 32,
   "id": "e5de2afe-bb49-45ba-97e8-641180c1ddca",
   "metadata": {},
   "outputs": [
    {
     "name": "stdout",
     "output_type": "stream",
     "text": [
      "[1 2 3 4 5]\n",
      "int64\n",
      "\n",
      "[1. 2. 3. 4. 5.]\n",
      "float64\n"
     ]
    }
   ],
   "source": [
    "# There are 6 ways to create an array using numpy libraries.\n",
    "\n",
    "'''\n",
    "1. array()\n",
    "2. linspace()\n",
    "3. logspace()\n",
    "4. arange()\n",
    "5. zeros()\n",
    "6. ones()\n",
    "\n",
    "'''\n",
    "\n",
    "from numpy import *\n",
    "\n",
    "arr = array([1,2,3,4,5],int) # here the datatype is optional.\n",
    "print(arr)\n",
    "print(arr.dtype)\n",
    "print()\n",
    "\n",
    "# According to the array definition, we need to have all the elements of same datatype\n",
    "# If there is any different datatype like float, then all the values will be converted to float.\n",
    "# and we get the datatype also as float.\n",
    "# as we are not mentioning the datatype explicity, the implicit conversion will be done by the interpreter.\n",
    "from numpy import *\n",
    "\n",
    "arr = array([1,2,3,4,5.0])\n",
    "\n",
    "print(arr)\n",
    "print(arr.dtype)"
   ]
  },
  {
   "cell_type": "code",
   "execution_count": 42,
   "id": "572081b7-f3dd-4b28-acc5-5532cecd90f5",
   "metadata": {},
   "outputs": [
    {
     "name": "stdout",
     "output_type": "stream",
     "text": [
      "[ 0.          0.78947368  1.57894737  2.36842105  3.15789474  3.94736842\n",
      "  4.73684211  5.52631579  6.31578947  7.10526316  7.89473684  8.68421053\n",
      "  9.47368421 10.26315789 11.05263158 11.84210526 12.63157895 13.42105263\n",
      " 14.21052632 15.        ]\n"
     ]
    }
   ],
   "source": [
    "# linspace(), using this we can create an array.\n",
    "# linspace(,,) - Here 1st field is START\n",
    "#              - 2nd field is STOP\n",
    "#              - 3rd field is no.of parts we need to divide the given range.\n",
    "\n",
    "# Here start and stop values are inclusive.\n",
    "# If we don't specify 3rd field, then by default the range will be divided into 50 parts.\n",
    "from numpy import *\n",
    "\n",
    "arr = linspace(0,15,20)\n",
    "print(arr)"
   ]
  },
  {
   "cell_type": "code",
   "execution_count": 41,
   "id": "46c5158a-2cee-4d1c-9b3a-cd408e869724",
   "metadata": {},
   "outputs": [
    {
     "data": {
      "text/plain": [
       "array([ 1.        ,  1.30612245,  1.6122449 ,  1.91836735,  2.2244898 ,\n",
       "        2.53061224,  2.83673469,  3.14285714,  3.44897959,  3.75510204,\n",
       "        4.06122449,  4.36734694,  4.67346939,  4.97959184,  5.28571429,\n",
       "        5.59183673,  5.89795918,  6.20408163,  6.51020408,  6.81632653,\n",
       "        7.12244898,  7.42857143,  7.73469388,  8.04081633,  8.34693878,\n",
       "        8.65306122,  8.95918367,  9.26530612,  9.57142857,  9.87755102,\n",
       "       10.18367347, 10.48979592, 10.79591837, 11.10204082, 11.40816327,\n",
       "       11.71428571, 12.02040816, 12.32653061, 12.63265306, 12.93877551,\n",
       "       13.24489796, 13.55102041, 13.85714286, 14.16326531, 14.46938776,\n",
       "       14.7755102 , 15.08163265, 15.3877551 , 15.69387755, 16.        ])"
      ]
     },
     "execution_count": 41,
     "metadata": {},
     "output_type": "execute_result"
    }
   ],
   "source": [
    "# 50 parts.\n",
    "\n",
    "arr1 = linspace(1,16)\n",
    "arr1"
   ]
  },
  {
   "cell_type": "code",
   "execution_count": 45,
   "id": "5b01010a-0317-4a6a-949a-c46f055d3c9b",
   "metadata": {},
   "outputs": [
    {
     "data": {
      "text/plain": [
       "array([ 1,  3,  5,  7,  9, 11, 13, 15, 17, 19])"
      ]
     },
     "execution_count": 45,
     "metadata": {},
     "output_type": "execute_result"
    }
   ],
   "source": [
    "## arange() - using this we can acreate an array\n",
    "## arange(,,) - 1st and 2nd fields are start and stop values resp.\n",
    "#             - 3rd field is the STEP value.\n",
    "\n",
    "from numpy import *\n",
    "\n",
    "a = arange(1,20,2)\n",
    "a"
   ]
  },
  {
   "cell_type": "code",
   "execution_count": 50,
   "id": "a88ae993-2e39-471b-92a6-b37fb1157e5a",
   "metadata": {},
   "outputs": [
    {
     "data": {
      "text/plain": [
       "array([ 100.        ,  158.48931925,  251.18864315,  398.10717055,\n",
       "        630.95734448, 1000.        ])"
      ]
     },
     "execution_count": 50,
     "metadata": {},
     "output_type": "execute_result"
    }
   ],
   "source": [
    "## logspace()\n",
    "## logspace(,,) - 1st and 2nd are start and stop values resp.\n",
    "# the range will ve 10**start and 10**stop\n",
    "# 3rd field is Number of samples to generate.\n",
    "# the default value of 3rd field will be 50.\n",
    "\n",
    "# eg: 10**2 and 10**3 are the start and stop values and this range will ve divided into 6 parts\n",
    "\n",
    "from numpy import *\n",
    "\n",
    "arr = logspace(2,3,6)\n",
    "arr"
   ]
  },
  {
   "cell_type": "code",
   "execution_count": 53,
   "id": "dcbc7797-6623-4959-9552-8457a3ffb564",
   "metadata": {},
   "outputs": [
    {
     "data": {
      "text/plain": [
       "array([1, 1, 1, 1, 1])"
      ]
     },
     "execution_count": 53,
     "metadata": {},
     "output_type": "execute_result"
    }
   ],
   "source": [
    "## ones() - it creates an array of ones\n",
    "\n",
    "from numpy import *\n",
    "\n",
    "arr = ones(5,int)\n",
    "arr"
   ]
  },
  {
   "cell_type": "code",
   "execution_count": 54,
   "id": "a8331de6-8cba-4114-94cf-ab3d762727c3",
   "metadata": {},
   "outputs": [
    {
     "data": {
      "text/plain": [
       "array([0, 0, 0, 0, 0, 0, 0, 0, 0, 0])"
      ]
     },
     "execution_count": 54,
     "metadata": {},
     "output_type": "execute_result"
    }
   ],
   "source": [
    "## zeros() - it creates an array of zeros\n",
    "\n",
    "from numpy import *\n",
    "\n",
    "arr = zeros(10,int)\n",
    "arr"
   ]
  },
  {
   "cell_type": "code",
   "execution_count": 1,
   "id": "1d779d8c-0bad-4910-82b5-57cd3bc70255",
   "metadata": {},
   "outputs": [
    {
     "data": {
      "text/plain": [
       "array([0, 0, 0, 0, 0, 0, 0, 0, 0, 0])"
      ]
     },
     "execution_count": 1,
     "metadata": {},
     "output_type": "execute_result"
    }
   ],
   "source": [
    "import numpy as np\n",
    "\n",
    "arr = np.zeros(10,int)\n",
    "arr"
   ]
  },
  {
   "cell_type": "code",
   "execution_count": 2,
   "id": "6cefa632-a29d-470b-8b5e-dfa7808b376e",
   "metadata": {},
   "outputs": [
    {
     "name": "stdout",
     "output_type": "stream",
     "text": [
      "[10 10 10 10 10]\n"
     ]
    }
   ],
   "source": [
    "## operations on arrays\n",
    "\n",
    "import numpy as np\n",
    "arr1 = np.array([1,2,3,4,5])\n",
    "arr2 = np.array([9,8,7,6,5])\n",
    "\n",
    "arr3 = arr1+arr2\n",
    "print(arr3)"
   ]
  },
  {
   "cell_type": "code",
   "execution_count": 3,
   "id": "c10f3d68-55ce-46e1-945a-d4d09331bc11",
   "metadata": {},
   "outputs": [
    {
     "data": {
      "text/plain": [
       "array([ 6,  7,  8,  9, 10])"
      ]
     },
     "execution_count": 3,
     "metadata": {},
     "output_type": "execute_result"
    }
   ],
   "source": [
    "arr1+5"
   ]
  },
  {
   "cell_type": "code",
   "execution_count": 5,
   "id": "32149e3d-c7e2-4ff9-ad52-3b4b5cb65121",
   "metadata": {},
   "outputs": [
    {
     "name": "stdout",
     "output_type": "stream",
     "text": [
      "[-0.54402111  0.91294525 -0.98803162 -0.30481062  0.89399666 -0.80115264]\n"
     ]
    }
   ],
   "source": [
    "import numpy as np\n",
    "\n",
    "arr1 = np.array([10,20,30,60,90,180])\n",
    "p = np.sin(arr1)\n",
    "\n",
    "print(p)"
   ]
  },
  {
   "cell_type": "code",
   "execution_count": 12,
   "id": "9471c57b-1cf4-47d0-88c5-b55702833249",
   "metadata": {},
   "outputs": [
    {
     "name": "stdout",
     "output_type": "stream",
     "text": [
      "sum = 38\n",
      "max = 9\n",
      "min = 2\n",
      "sqrt = [2.         1.41421356 2.23606798 2.44948974 1.41421356 2.\n",
      " 2.44948974 3.        ]\n",
      "sort = [2 2 4 4 5 6 6 9]\n"
     ]
    }
   ],
   "source": [
    "import numpy as np\n",
    "\n",
    "arr1 = np.array([4,2,5,6,2,4,6,9])\n",
    "\n",
    "print(f\"sum = {sum(arr1)}\")\n",
    "print(f\"max = {max(arr1)}\")\n",
    "print(f\"min = {min(arr1)}\")\n",
    "print(f\"sqrt = {np.sqrt(arr1)}\")\n",
    "print(f\"sort = {np.sort(arr1)}\")"
   ]
  },
  {
   "cell_type": "code",
   "execution_count": 25,
   "id": "e011cfd9-8fe9-468b-80c7-06e7dfc6f4fe",
   "metadata": {},
   "outputs": [
    {
     "name": "stdout",
     "output_type": "stream",
     "text": [
      "[1 2 3 4 1 2 3 4]\n",
      "Address =  2585929822832\n",
      "Address =  2585929822832\n"
     ]
    }
   ],
   "source": [
    "'''\n",
    "Here we are copying two arrays, just using the equality operator, this means that we are just doing\n",
    "the aliasing of the old array.\n",
    "So only we are getting the same address.\n",
    "Now the modifications can be done by using arr1 and arr2.\n",
    "'''\n",
    "\n",
    "import numpy as np\n",
    "arr1 = np.array([1,2,3,4])\n",
    "arr2 = arr1\n",
    "\n",
    "print(np.concatenate([arr1,arr2]))\n",
    "\n",
    "print(\"Address = \",id(arr1))\n",
    "print(\"Address = \",id(arr2))\n",
    "\n"
   ]
  },
  {
   "cell_type": "code",
   "execution_count": 34,
   "id": "4169917e-bf10-4f9c-abc8-78a2ac20960d",
   "metadata": {},
   "outputs": [
    {
     "name": "stdout",
     "output_type": "stream",
     "text": [
      "[1 2 3 4]\n",
      "[1 2 3 4]\n",
      "Address =  2585808236784\n",
      "Address =  2585929823504\n"
     ]
    }
   ],
   "source": [
    "'''\n",
    "Here we are copying the array using a special function called view()\n",
    "This will copy the array but with a different memory location.\n",
    "'''\n",
    "\n",
    "import numpy as np\n",
    "arr1 = np.array([1,2,3,4])\n",
    "arr2 = arr1.view()\n",
    "print(arr1)\n",
    "print(arr2)\n",
    "print(\"Address = \",id(arr1))\n",
    "print(\"Address = \",id(arr2))\n"
   ]
  },
  {
   "cell_type": "code",
   "execution_count": 35,
   "id": "c96b6c03-4b2d-48d5-9bb6-d719e523dfa0",
   "metadata": {},
   "outputs": [
    {
     "name": "stdout",
     "output_type": "stream",
     "text": [
      "[1 2 5 4]\n",
      "[1 2 5 4]\n",
      "Address =  2585929823312\n",
      "Address =  2585929823408\n"
     ]
    }
   ],
   "source": [
    "# There are three kinds of copy\n",
    "\n",
    "'''\n",
    "1. Assigning one array to other array.\n",
    "2. Using view function - (a.k.a. Shallow copy)\n",
    "Shallow copy copies the elements of an array in two different memory locations, but changes made in one array will reflect in other array too.\n",
    "3. Using copy function - (a.k.a. Deep copy)\n",
    "Deep copy copies the elements of an array in two different memory locations, but chnages will NOT be reflected in the other array.\n",
    "'''\n",
    "\n",
    "import numpy as np\n",
    "arr1 = np.array([1,2,3,4])\n",
    "arr2 = arr1.view()\n",
    "arr1[2] = 5\n",
    "print(arr1)\n",
    "print(arr2)\n",
    "print(\"Address = \",id(arr1))\n",
    "print(\"Address = \",id(arr2))\n"
   ]
  },
  {
   "cell_type": "code",
   "execution_count": 37,
   "id": "6aca4100-e6f1-4347-b10e-8a159bc53fbb",
   "metadata": {},
   "outputs": [
    {
     "name": "stdout",
     "output_type": "stream",
     "text": [
      "[1 2 5 4]\n",
      "[1 2 3 4]\n",
      "Address =  2585929823216\n",
      "Address =  2585929823504\n"
     ]
    }
   ],
   "source": [
    "# Deep copy\n",
    "\n",
    "import numpy as np\n",
    "arr1 = np.array([1,2,3,4])\n",
    "arr2 = arr1.copy()\n",
    "arr1[2] = 5\n",
    "print(arr1)\n",
    "print(arr2)\n",
    "print(\"Address = \",id(arr1))\n",
    "print(\"Address = \",id(arr2))"
   ]
  },
  {
   "cell_type": "code",
   "execution_count": 48,
   "id": "966fc82d-63eb-4a0d-9a9c-886e90dddc07",
   "metadata": {},
   "outputs": [
    {
     "name": "stdout",
     "output_type": "stream",
     "text": [
      "[[ 1  2  3  4]\n",
      " [ 5  6  7  8]\n",
      " [10 20 30 40]]\n",
      "\n",
      "int64\n",
      "\n",
      "2\n",
      "\n",
      "(3, 4)\n",
      "\n",
      "[ 1  2  3  4  5  6  7  8 10 20 30 40]\n",
      "\n",
      "[[ 1  2]\n",
      " [ 3  4]\n",
      " [ 5  6]\n",
      " [ 7  8]\n",
      " [10 20]\n",
      " [30 40]]\n",
      "\n",
      "[[[ 1  2  3]\n",
      "  [ 4  5  6]]\n",
      "\n",
      " [[ 7  8 10]\n",
      "  [20 30 40]]]\n"
     ]
    }
   ],
   "source": [
    "# multi-dimentional arrays\n",
    "import numpy as np\n",
    "\n",
    "arr1 = np.array([\n",
    "    [1,2,3,4],\n",
    "    [5,6,7,8],\n",
    "    [10,20,30,40]\n",
    "])\n",
    "\n",
    "print(arr1)\n",
    "print()\n",
    "print(arr1.dtype)   # Gives the data type of the data \n",
    "print()\n",
    "print(arr1.ndim)    # Gives the dimension of the data\n",
    "print()\n",
    "print(arr1.shape)   # Gives the order of the matrix. Here 2*4\n",
    "print()\n",
    "print(arr1.flatten()) # Will convert the multi-dimensional data to a single dimension data.\n",
    "print()\n",
    "print(arr1.reshape(6,2)) # Will convert the data into a required ordered matrix.\n",
    "print()\n",
    "print(arr1.reshape(2,2,3)) # Will get two 2D arrays and each array will be ther order of (2,3)"
   ]
  },
  {
   "cell_type": "code",
   "execution_count": 54,
   "id": "3f5ed46a-6166-4be5-a5d1-fac6df0b7359",
   "metadata": {},
   "outputs": [
    {
     "name": "stdout",
     "output_type": "stream",
     "text": [
      "Matrix: [[1 2 3]\n",
      " [4 5 6]\n",
      " [7 8 9]]\n",
      "Diagonal matrix: [1 5 9]\n",
      "Minimum value: 1\n"
     ]
    }
   ],
   "source": [
    "import numpy as np\n",
    "\n",
    "m = np.matrix('1 2 3; 4 5 6 ; 7 8 9')\n",
    "print(f\"Matrix: {m}\")\n",
    "print(f\"Diagonal matrix: {np.diagonal(m)}\")\n",
    "print(f\"Minimum value: {m.min()}\")"
   ]
  },
  {
   "cell_type": "markdown",
   "id": "20da8301-eaae-448b-b200-e9a713d50b83",
   "metadata": {},
   "source": [
    "## Functions"
   ]
  },
  {
   "cell_type": "code",
   "execution_count": 55,
   "id": "47eb7220-8a87-4573-a7fc-a3b319d96fdd",
   "metadata": {},
   "outputs": [
    {
     "name": "stdout",
     "output_type": "stream",
     "text": [
      "Hello all\n",
      "Welcome to the party\n"
     ]
    }
   ],
   "source": [
    "# Functions are used to reduce the number of lines of code.\n",
    "# A certain task can be written as a function and whenever there is a need of that function, then we can call that function.\n",
    "\n",
    "def greet():\n",
    "    print(\"Hello all\")\n",
    "    print(\"Welcome to the party\")\n",
    "\n",
    "greet()"
   ]
  },
  {
   "cell_type": "code",
   "execution_count": 57,
   "id": "d698032b-f73b-41ee-93bc-8617b5a937ac",
   "metadata": {},
   "outputs": [
    {
     "name": "stdin",
     "output_type": "stream",
     "text": [
      "Enter a number:  5\n",
      "Enter a number:  4\n"
     ]
    },
    {
     "name": "stdout",
     "output_type": "stream",
     "text": [
      "Addition:  9\n"
     ]
    }
   ],
   "source": [
    "def add(x,y):\n",
    "    c = x+y\n",
    "    return c\n",
    "\n",
    "x = int(input(\"Enter a number: \"))\n",
    "y = int(input(\"Enter a number: \"))\n",
    "\n",
    "res = add(x,y)\n",
    "print(\"Addition: \",res)"
   ]
  },
  {
   "cell_type": "code",
   "execution_count": 60,
   "id": "f4b1108a-1bf3-4f15-89f4-d641c3adb734",
   "metadata": {},
   "outputs": [
    {
     "name": "stdin",
     "output_type": "stream",
     "text": [
      "Enter a number:  6\n",
      "Enter a number:  5\n"
     ]
    },
    {
     "name": "stdout",
     "output_type": "stream",
     "text": [
      "Addition: 11     Subtraction: 1\n"
     ]
    }
   ],
   "source": [
    "'''\n",
    "Can return multiple values.\n",
    "'''\n",
    "def add_sub(x,y):\n",
    "    c = x+y\n",
    "    d = x-y\n",
    "    return c,d\n",
    "\n",
    "x = int(input(\"Enter a number: \"))\n",
    "y = int(input(\"Enter a number: \"))\n",
    "\n",
    "res1,res2 = add_sub(x,y)\n",
    "print(f\"Addition: {res1}     Subtraction: {res2}\")"
   ]
  },
  {
   "cell_type": "code",
   "execution_count": 61,
   "id": "b1dd44ce-2be8-4aee-9685-9648bd915cf0",
   "metadata": {},
   "outputs": [
    {
     "name": "stdout",
     "output_type": "stream",
     "text": [
      "ID of a is : 140732897457224\n",
      "ID of x before change: 140732897457224\n",
      "ID of x after change: 140732897457160\n",
      "x =  8\n",
      "a =  10\n"
     ]
    }
   ],
   "source": [
    "# In python we doesn't have pass by value or pass by reference.\n",
    "\n",
    "def update(x):\n",
    "    print(f\"ID of x before change: {id(x)}\")\n",
    "    x=8\n",
    "    print(f\"ID of x after change: {id(x)}\")\n",
    "    print(\"x = \",x)\n",
    "\n",
    "a = 10\n",
    "print(f\"ID of a is : {id(a)}\")\n",
    "update(a)\n",
    "\n",
    "print(\"a = \",a)"
   ]
  },
  {
   "cell_type": "code",
   "execution_count": 63,
   "id": "ea554e73-7389-4311-8629-e26304dc8b9c",
   "metadata": {},
   "outputs": [
    {
     "name": "stdout",
     "output_type": "stream",
     "text": [
      "ID of lst is : 2585949037312\n",
      "ID of lst before change: 2585949037312\n",
      "ID of lst after change: 2585949037312\n",
      "x =  [10, 25, 30]\n",
      "lst =  [10, 25, 30]\n"
     ]
    }
   ],
   "source": [
    "# In python we doesn't have pass by value or pass by reference.\n",
    "\n",
    "def update(lst):\n",
    "    print(f\"ID of lst before change: {id(lst)}\")\n",
    "    lst[1] = 25\n",
    "    print(f\"ID of lst after change: {id(lst)}\")\n",
    "    print(\"x = \",lst)\n",
    "\n",
    "p = [10,20,30]\n",
    "print(f\"ID of lst is : {id(p)}\")\n",
    "update(p)\n",
    "\n",
    "print(\"lst = \",p)"
   ]
  },
  {
   "cell_type": "code",
   "execution_count": null,
   "id": "7afc6425-5b6d-410d-a0dc-572c9a3d9b30",
   "metadata": {},
   "outputs": [],
   "source": []
  },
  {
   "cell_type": "code",
   "execution_count": null,
   "id": "259ac213-e9db-4d55-9e49-d7bab2b849a3",
   "metadata": {},
   "outputs": [],
   "source": []
  },
  {
   "cell_type": "code",
   "execution_count": null,
   "id": "4012a494-a51c-4d77-9652-6e5ad65cc196",
   "metadata": {},
   "outputs": [],
   "source": []
  },
  {
   "cell_type": "code",
   "execution_count": null,
   "id": "8b923064-a39b-4fc7-92ef-b890c975cf96",
   "metadata": {},
   "outputs": [],
   "source": []
  },
  {
   "cell_type": "code",
   "execution_count": null,
   "id": "8832a6a5-8bd3-4121-9c69-47b0432f530f",
   "metadata": {},
   "outputs": [],
   "source": []
  },
  {
   "cell_type": "code",
   "execution_count": null,
   "id": "3ca33fea-9b66-4f51-bda2-dcb55bdc98a2",
   "metadata": {},
   "outputs": [],
   "source": []
  },
  {
   "cell_type": "code",
   "execution_count": null,
   "id": "5bce965a-9891-4042-bf45-51fcbde91cc5",
   "metadata": {},
   "outputs": [],
   "source": []
  },
  {
   "cell_type": "code",
   "execution_count": null,
   "id": "461afa98-9a54-44c6-afa4-ceaec09256a3",
   "metadata": {},
   "outputs": [],
   "source": []
  },
  {
   "cell_type": "code",
   "execution_count": null,
   "id": "0521096c-6e90-4f2c-812b-eb8269bf1c50",
   "metadata": {},
   "outputs": [],
   "source": []
  },
  {
   "cell_type": "code",
   "execution_count": null,
   "id": "a40b45e8-4b68-48cb-a0b2-b56f07c887b8",
   "metadata": {},
   "outputs": [],
   "source": []
  }
 ],
 "metadata": {
  "kernelspec": {
   "display_name": "Python 3 (ipykernel)",
   "language": "python",
   "name": "python3"
  },
  "language_info": {
   "codemirror_mode": {
    "name": "ipython",
    "version": 3
   },
   "file_extension": ".py",
   "mimetype": "text/x-python",
   "name": "python",
   "nbconvert_exporter": "python",
   "pygments_lexer": "ipython3",
   "version": "3.11.9"
  }
 },
 "nbformat": 4,
 "nbformat_minor": 5
}
