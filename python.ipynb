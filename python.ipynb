{
 "cells": [
  {
   "cell_type": "code",
   "execution_count": 13,
   "id": "1191ac2e-84f0-4740-98d1-87445ca693e9",
   "metadata": {},
   "outputs": [
    {
     "name": "stdout",
     "output_type": "stream",
     "text": [
      "Hello world\n"
     ]
    }
   ],
   "source": [
    "print (\"Hello world\")\n",
    "\n",
    "#print statement automatically appends a new line, so explicitly no need to give a new line character in python.\n",
    "# If you are using ubuntu to program the python programs, then we need to use $python3 file_name.py to compile the file and see the output."
   ]
  },
  {
   "cell_type": "code",
   "execution_count": 3,
   "id": "ef1c22c0-8674-48c0-a9e5-057a2c29cd64",
   "metadata": {},
   "outputs": [
    {
     "name": "stdout",
     "output_type": "stream",
     "text": [
      "100\n"
     ]
    }
   ],
   "source": [
    "x = 100\n",
    "print(x)"
   ]
  },
  {
   "cell_type": "code",
   "execution_count": 4,
   "id": "78c3647d-52f9-4517-85b7-43e923417871",
   "metadata": {},
   "outputs": [
    {
     "name": "stdout",
     "output_type": "stream",
     "text": [
      "110\n"
     ]
    }
   ],
   "source": [
    "y = 10\n",
    "print(x+y)"
   ]
  },
  {
   "cell_type": "code",
   "execution_count": 16,
   "id": "82c38673-417d-4c9c-962a-8fcd2f9a8528",
   "metadata": {},
   "outputs": [
    {
     "name": "stdout",
     "output_type": "stream",
     "text": [
      "<class 'int'>\n",
      "<class 'float'>\n",
      "<class 'str'>\n",
      "<class 'str'>\n",
      "<class 'float'>\n",
      "<class 'str'>\n"
     ]
    }
   ],
   "source": [
    "# type of a variable\n",
    "\n",
    "x = 20\n",
    "print(type(x))\n",
    "\n",
    "y = 2.3\n",
    "print(type(y))\n",
    "\n",
    "z = \"Hello\"\n",
    "print(type(z))\n",
    "\n",
    "w = 'hello'\n",
    "print(type(w))\n",
    "\n",
    "q = 1E10\n",
    "print(type(q))\n",
    "\n",
    "p = 'a'\n",
    "print(type(p))\n",
    "\n",
    "# In python, everything is considered as an object, so only we are seeing class for every type. \n",
    "# Eg: x is a class of integer \n",
    "# ..."
   ]
  },
  {
   "cell_type": "code",
   "execution_count": 5,
   "id": "7cfa87ee-9ba8-43e7-939c-18a257207702",
   "metadata": {},
   "outputs": [
    {
     "name": "stdout",
     "output_type": "stream",
     "text": [
      "Hallo leute \n",
      "Hallo Leute,   Wie gehts dir?\n",
      "Mir-Gehts-es-gut\n"
     ]
    }
   ],
   "source": [
    "print(\"Hallo leute \")\n",
    "\n",
    "print(\"Hallo Leute, \", end = \"  \")\n",
    "print(\"Wie gehts dir?\")\n",
    "\n",
    "print(\"Mir\", \"Gehts\", \"es\", \"gut\", sep = \"-\")\n",
    "\n",
    "# In python, by default the print statement will go to next line, to avoud it, we can use end = \" \" to keep the control to stay in the same line."
   ]
  },
  {
   "cell_type": "code",
   "execution_count": 10,
   "id": "9f6cacb4-7e6b-44ef-9574-2d813bf30a86",
   "metadata": {},
   "outputs": [
    {
     "name": "stdin",
     "output_type": "stream",
     "text": [
      "Ore number mattum enter pannu, please:  345\n",
      "Seri, innoru number enter pannu, avlodha:  456\n"
     ]
    },
    {
     "name": "stdout",
     "output_type": "stream",
     "text": [
      "\n",
      "OK pa, unakaaga naa rendium add panre: \n",
      "Addition 345 + 456  =  801\n",
      "Ok sure, sir like that only I have added\n"
     ]
    }
   ],
   "source": [
    "m = int(input(\"Ore number mattum enter pannu, please: \"))\n",
    "n = int(input(\"Seri, innoru number enter pannu, avlodha: \"))\n",
    "\n",
    "print()\n",
    "print(\"OK pa, unakaaga naa rendium add panre: \")\n",
    "\n",
    "print(f\"Addition {m} + {n}  = \",m+n)\n",
    "print(\"Ok sure, sir like that only I have added\")"
   ]
  },
  {
   "cell_type": "code",
   "execution_count": 11,
   "id": "0a5b3b31-7055-4694-add3-5cf99523c562",
   "metadata": {},
   "outputs": [
    {
     "name": "stdin",
     "output_type": "stream",
     "text": [
      "Un peru sollu pa:  arun\n"
     ]
    },
    {
     "name": "stdout",
     "output_type": "stream",
     "text": [
      "Un peru:arun \n"
     ]
    },
    {
     "name": "stdin",
     "output_type": "stream",
     "text": [
      "vayasu:  23\n"
     ]
    },
    {
     "name": "stdout",
     "output_type": "stream",
     "text": [
      "Vayasu: 23\n",
      "Sorry, eppo purandha: \n"
     ]
    },
    {
     "name": "stdin",
     "output_type": "stream",
     "text": [
      " july\n"
     ]
    },
    {
     "name": "stdout",
     "output_type": "stream",
     "text": [
      "Date = july\n"
     ]
    }
   ],
   "source": [
    "name = input(\"Un peru sollu pa: \")\n",
    "print(f\"Un peru:{name} \")\n",
    "\n",
    "age = input(\"vayasu: \")\n",
    "print(f\"Vayasu: {age}\")\n",
    "\n",
    "print(\"Sorry, eppo purandha: \")\n",
    "date = input()\n",
    "print(f\"Date = {date}\")"
   ]
  },
  {
   "cell_type": "code",
   "execution_count": 7,
   "id": "52c26984-c7fc-4907-811b-0ab18e34a48e",
   "metadata": {},
   "outputs": [
    {
     "name": "stdout",
     "output_type": "stream",
     "text": [
      "10 20 30\n"
     ]
    }
   ],
   "source": [
    "x = 10\n",
    "y = 20\n",
    "z = 30\n",
    "print(x,y,z)"
   ]
  },
  {
   "cell_type": "code",
   "execution_count": 9,
   "id": "f152b420-1aef-40e5-9ea8-2b2b1509b92c",
   "metadata": {},
   "outputs": [
    {
     "name": "stdout",
     "output_type": "stream",
     "text": [
      "Hello World \n"
     ]
    }
   ],
   "source": [
    "print(\"Hello \" + \"World \")"
   ]
  },
  {
   "cell_type": "code",
   "execution_count": 21,
   "id": "0d10053b-36f8-4c6c-8052-319c395669e8",
   "metadata": {},
   "outputs": [
    {
     "name": "stdout",
     "output_type": "stream",
     "text": [
      "Hello Arun Kumar\n"
     ]
    }
   ],
   "source": [
    "name = \"Arun Kumar\"\n",
    "print(\"Hello \" + name)"
   ]
  },
  {
   "cell_type": "markdown",
   "id": "12f865c5-05eb-45a1-b7ed-19c10d2ec41a",
   "metadata": {},
   "source": [
    "### Follow the same logic that we have used in C programming to print patterns."
   ]
  },
  {
   "cell_type": "code",
   "execution_count": 22,
   "id": "ba719c12-25cf-4a63-8df7-15b0effd82ef",
   "metadata": {},
   "outputs": [
    {
     "name": "stdin",
     "output_type": "stream",
     "text": [
      "Enter a number:  10\n"
     ]
    },
    {
     "name": "stdout",
     "output_type": "stream",
     "text": [
      "*  \n",
      "*  *  \n",
      "*  *  *  \n",
      "*  *  *  *  \n",
      "*  *  *  *  *  \n",
      "*  *  *  *  *  *  \n",
      "*  *  *  *  *  *  *  \n",
      "*  *  *  *  *  *  *  *  \n",
      "*  *  *  *  *  *  *  *  *  \n",
      "*  *  *  *  *  *  *  *  *  *  \n"
     ]
    }
   ],
   "source": [
    "\n",
    "n = int(input(\"Enter a number: \"))\n",
    "for i in range(1,n+1):\n",
    "    for j in range(1,i+1):\n",
    "        print(\"* \", end = \" \")\n",
    "    print()"
   ]
  },
  {
   "cell_type": "code",
   "execution_count": 15,
   "id": "ee27604a-8126-4abe-ad48-c75f924ede80",
   "metadata": {},
   "outputs": [
    {
     "name": "stdin",
     "output_type": "stream",
     "text": [
      "Enter the value of n:  5\n"
     ]
    },
    {
     "name": "stdout",
     "output_type": "stream",
     "text": [
      "*  *  *  *  *  \n",
      "*  *  *  *  \n",
      "*  *  *  \n",
      "*  *  \n",
      "*  \n"
     ]
    }
   ],
   "source": [
    "n = int(input(\"Enter the value of n: \"))\n",
    "for i in range(1,n+1):\n",
    "    for j in range(i,n+1):\n",
    "        print(\"* \", end = \" \")\n",
    "    print()"
   ]
  },
  {
   "cell_type": "code",
   "execution_count": 18,
   "id": "697ee6ec-910a-486f-93c1-e38b596e34b2",
   "metadata": {},
   "outputs": [
    {
     "name": "stdin",
     "output_type": "stream",
     "text": [
      "Enter the value of n:  5\n"
     ]
    },
    {
     "name": "stdout",
     "output_type": "stream",
     "text": [
      "*                          *  \n",
      "*  *                    *  *  \n",
      "*  *  *              *  *  *  \n",
      "*  *  *  *        *  *  *  *  \n",
      "*  *  *  *  *  *  *  *  *  *  \n"
     ]
    }
   ],
   "source": [
    "n = int(input(\"Enter the value of n: \"))\n",
    "for i in range(1,n+1):\n",
    "    for j in range(1,i+1):\n",
    "        print(\"* \", end = \" \")\n",
    "    for j in range(i,n):\n",
    "        print(\"  \", end = \" \")\n",
    "    for j in range(i,n):\n",
    "        print(\"  \", end = \" \")\n",
    "    for j in range(1,i+1):\n",
    "        print(\"* \", end = \" \")\n",
    "    print()"
   ]
  },
  {
   "cell_type": "code",
   "execution_count": 26,
   "id": "d47e8af9-a8f7-4854-a841-0d10a9a5c005",
   "metadata": {},
   "outputs": [
    {
     "name": "stdout",
     "output_type": "stream",
     "text": [
      "Hello \n",
      "World\n",
      "Hello --World\n",
      "Hello ++World\n",
      "Hello \\\\\\\\World\n"
     ]
    }
   ],
   "source": [
    "print(\"Hello \", \"World\", sep = \"\\n\")\n",
    "\n",
    "print(\"Hello \", \"World\", sep = \"--\")\n",
    "\n",
    "print(\"Hello \", \"World\", sep = \"++\")\n",
    "\n",
    "print(\"Hello \", \"World\", sep = \"\\\\\\\\\\\\\\\\\")"
   ]
  },
  {
   "cell_type": "code",
   "execution_count": 1,
   "id": "7a5e4087-a2e6-491d-8e9b-f3177d8b50d5",
   "metadata": {},
   "outputs": [
    {
     "name": "stdout",
     "output_type": "stream",
     "text": [
      "My name is Arun Kumar and I am 22 years old\n"
     ]
    }
   ],
   "source": [
    "name = \"Arun Kumar\"\n",
    "age = 22\n",
    "\n",
    "print(f\"My name is {name} and I am {age} years old\")"
   ]
  },
  {
   "cell_type": "code",
   "execution_count": 1,
   "id": "4ca98a58-42a4-4256-b34c-d21538daef8f",
   "metadata": {},
   "outputs": [
    {
     "name": "stdout",
     "output_type": "stream",
     "text": [
      "10 + 20 = 30\n",
      "\n",
      "10 + 20 = 30\n"
     ]
    }
   ],
   "source": [
    "x = 10\n",
    "y = 20\n",
    "\n",
    "z = x + y\n",
    "\n",
    "print(\"{} + {} = {}\".format(x,y,x+y))\n",
    "print()\n",
    "print(\"%d + %d = %d\"%(x,y,x+y))"
   ]
  },
  {
   "cell_type": "code",
   "execution_count": 3,
   "id": "1ee03d5e-4804-4ae2-a513-6d30b118bdd0",
   "metadata": {},
   "outputs": [
    {
     "name": "stdin",
     "output_type": "stream",
     "text": [
      "Enter a number 1 :  12\n",
      "Enter a number 2 :  23\n"
     ]
    },
    {
     "name": "stdout",
     "output_type": "stream",
     "text": [
      "Numbers before swapping: 12 , 23\n",
      "Numbers after swapping: 23, 12\n"
     ]
    }
   ],
   "source": [
    "m = int(input(\"Enter a number 1 : \"))\n",
    "n = int(input(\"Enter a number 2 : \"))\n",
    "\n",
    "print(f\"Numbers before swapping: {m} , {n}\")\n",
    "\n",
    "m,n = n,m\n",
    "\n",
    "print(f\"Numbers after swapping: {m}, {n}\")"
   ]
  },
  {
   "cell_type": "code",
   "execution_count": 8,
   "id": "eaf2a01a-3352-4c51-b95a-e633b42d266f",
   "metadata": {},
   "outputs": [
    {
     "name": "stdout",
     "output_type": "stream",
     "text": [
      "Address of 10 is 140732343088200\n"
     ]
    }
   ],
   "source": [
    "# Get the address of the variable\n",
    "\n",
    "x = 10\n",
    "print(f\"Address of {x} is {id(x)}\")\n",
    "\n",
    "# id(), this function will give the address of the variable mentioned in that function."
   ]
  },
  {
   "cell_type": "markdown",
   "id": "4b73b167-6470-46ab-b207-b7a591f85308",
   "metadata": {},
   "source": [
    "# Data Structures\n",
    "## Mutable (can change)\n",
    "### 1. List\n",
    "### 2. Dictionary\n",
    "\n",
    "## Immutable (Cannot change)\n",
    "### 1. String\n",
    "### 2. Tuple"
   ]
  },
  {
   "cell_type": "code",
   "execution_count": 9,
   "id": "4270e9ac-5a98-46c7-a248-7bd524daf509",
   "metadata": {},
   "outputs": [
    {
     "name": "stdout",
     "output_type": "stream",
     "text": [
      "hi\n"
     ]
    }
   ],
   "source": [
    "print(\"hi\")"
   ]
  },
  {
   "cell_type": "code",
   "execution_count": 10,
   "id": "41575f32-02e6-41b7-80f4-ea4cfe3766c0",
   "metadata": {},
   "outputs": [
    {
     "name": "stdout",
     "output_type": "stream",
     "text": [
      "1 2 3\n"
     ]
    }
   ],
   "source": [
    "# In python we can do multiple variable initialization.\n",
    "x,y,z = 1,2,3\n",
    "\n",
    "print(x,y,z)"
   ]
  },
  {
   "cell_type": "code",
   "execution_count": 12,
   "id": "1fcf2ab6-15be-464d-8509-24422276d480",
   "metadata": {},
   "outputs": [
    {
     "ename": "ValueError",
     "evalue": "too many values to unpack (expected 2)",
     "output_type": "error",
     "traceback": [
      "\u001b[1;31m---------------------------------------------------------------------------\u001b[0m",
      "\u001b[1;31mValueError\u001b[0m                                Traceback (most recent call last)",
      "Cell \u001b[1;32mIn[12], line 3\u001b[0m\n\u001b[0;32m      1\u001b[0m \u001b[38;5;66;03m# When we have more values on the right side and less variables on the left side to hold, it will throw an error\u001b[39;00m\n\u001b[1;32m----> 3\u001b[0m a,b \u001b[38;5;241m=\u001b[39m \u001b[38;5;241m1\u001b[39m,\u001b[38;5;241m2\u001b[39m,\u001b[38;5;241m3\u001b[39m\n",
      "\u001b[1;31mValueError\u001b[0m: too many values to unpack (expected 2)"
     ]
    }
   ],
   "source": [
    "# When we have more values on the right side and less variables on the left side to hold, it will throw an error\n",
    "\n",
    "a,b = 1,2,3"
   ]
  },
  {
   "cell_type": "code",
   "execution_count": 15,
   "id": "e35bbcef-5615-4387-844b-eea9fa4949f4",
   "metadata": {},
   "outputs": [
    {
     "name": "stdout",
     "output_type": "stream",
     "text": [
      "1 2 3\n"
     ]
    }
   ],
   "source": [
    "# To avoid the above scenario, we have to use underscore (\"_\").\n",
    "# This underscore will act as a placeholder\n",
    "\n",
    "a,b,_ = 1,2,3\n",
    "print(a,b,_)"
   ]
  },
  {
   "cell_type": "code",
   "execution_count": 16,
   "id": "3cb544f1-0add-4bc3-9a99-26ff7c857fe4",
   "metadata": {},
   "outputs": [
    {
     "name": "stdout",
     "output_type": "stream",
     "text": [
      "List of keywords are :  ['False', 'None', 'True', 'and', 'as', 'assert', 'async', 'await', 'break', 'class', 'continue', 'def', 'del', 'elif', 'else', 'except', 'finally', 'for', 'from', 'global', 'if', 'import', 'in', 'is', 'lambda', 'nonlocal', 'not', 'or', 'pass', 'raise', 'return', 'try', 'while', 'with', 'yield']\n"
     ]
    }
   ],
   "source": [
    "# To see the list of keywords\n",
    "\n",
    "import keyword\n",
    "print(\"List of keywords are : \",keyword.kwlist)"
   ]
  },
  {
   "cell_type": "code",
   "execution_count": 17,
   "id": "bf1a17ce-ef90-4158-a5f7-3abba265c6e2",
   "metadata": {},
   "outputs": [
    {
     "name": "stdout",
     "output_type": "stream",
     "text": [
      "100 100 100\n"
     ]
    }
   ],
   "source": [
    "a=b=c=100\n",
    "print(a,b,c)"
   ]
  },
  {
   "cell_type": "markdown",
   "id": "4846e62d-83ea-428b-9e44-1b063f5be295",
   "metadata": {},
   "source": [
    "## Datatypes"
   ]
  },
  {
   "cell_type": "code",
   "execution_count": 20,
   "id": "96b54d96-1b29-450e-973d-c05dcc663429",
   "metadata": {},
   "outputs": [
    {
     "name": "stdout",
     "output_type": "stream",
     "text": [
      "<class 'int'>\n",
      "<class 'float'>\n",
      "(3+5j)\n",
      "<class 'complex'>\n"
     ]
    }
   ],
   "source": [
    "## Integers\n",
    "\n",
    "x = 10\n",
    "print(type(x))\n",
    "\n",
    "# In python, there is no concept of double. Irrespective of precession, it is considered as a float.\n",
    "y = 10.5\n",
    "print(type(y))\n",
    "\n",
    "z = complex(3,5)\n",
    "print(z)\n",
    "print(type(z))\n",
    "\n",
    "# Here we don't say signed and unsigned"
   ]
  },
  {
   "cell_type": "code",
   "execution_count": 22,
   "id": "5d412350-f9db-4471-9ba7-99b31a2802ac",
   "metadata": {},
   "outputs": [
    {
     "name": "stdout",
     "output_type": "stream",
     "text": [
      "<class 'str'>\n",
      "<class 'str'>\n",
      "<class 'str'>\n"
     ]
    }
   ],
   "source": [
    "## Strings\n",
    "\n",
    "# Here we donot have the concept of char. Everything is considered as a string.\n",
    "\n",
    "a = 'Arun'\n",
    "b = \"Arun\"\n",
    "c = '''Arun'''\n",
    "\n",
    "# All the above are considered as strings\n",
    "\n",
    "print(type(a), type(b), type(c), sep = \"\\n\")"
   ]
  },
  {
   "cell_type": "code",
   "execution_count": 26,
   "id": "03a94975-8883-40d9-b3c1-a01bb84e0f30",
   "metadata": {},
   "outputs": [
    {
     "name": "stdout",
     "output_type": "stream",
     "text": [
      "[1, 2, 3, 4]\n",
      "[1, 2, 'Hello', 12.44, (2+3j)]\n",
      "2503673656768\n",
      "1\n"
     ]
    }
   ],
   "source": [
    "## Lists\n",
    "\n",
    "# List is a collection of data and this should be enclosed in square brackets. []\n",
    "# This list can hold data of different datatypes unlike array in C.\n",
    "\n",
    "l1 = [1,2,3,4]\n",
    "print(l1)\n",
    "\n",
    "l2 = [1,2,\"Hello\", 12.44,2+3j]\n",
    "print(l2)\n",
    "\n",
    "# If we use id(<list_variable>) will give the base address of the list.\n",
    "print(id(l2))\n",
    "\n",
    "print(l1[0])"
   ]
  },
  {
   "cell_type": "code",
   "execution_count": 28,
   "id": "078528a5-aec8-40ed-a2d5-d57646b147af",
   "metadata": {},
   "outputs": [
    {
     "data": {
      "text/plain": [
       "(1, 2, 3, 4)"
      ]
     },
     "execution_count": 28,
     "metadata": {},
     "output_type": "execute_result"
    }
   ],
   "source": [
    "## Tuple\n",
    "\n",
    "# This tuple is almost all same like list, but it is not changeble once we make a tuple.\n",
    "# This should be represented in round brackets()\n",
    "\n",
    "t1 = (1,2,3,4)\n",
    "t1"
   ]
  },
  {
   "cell_type": "code",
   "execution_count": 30,
   "id": "2f9c1c3b-ea0b-43bf-9d35-984cc327579d",
   "metadata": {},
   "outputs": [
    {
     "ename": "TypeError",
     "evalue": "'tuple' object does not support item assignment",
     "output_type": "error",
     "traceback": [
      "\u001b[1;31m---------------------------------------------------------------------------\u001b[0m",
      "\u001b[1;31mTypeError\u001b[0m                                 Traceback (most recent call last)",
      "Cell \u001b[1;32mIn[30], line 1\u001b[0m\n\u001b[1;32m----> 1\u001b[0m \u001b[43mt1\u001b[49m\u001b[43m[\u001b[49m\u001b[38;5;241;43m0\u001b[39;49m\u001b[43m]\u001b[49m \u001b[38;5;241m=\u001b[39m \u001b[38;5;241m6\u001b[39m \u001b[38;5;66;03m# not changeble\u001b[39;00m\n\u001b[0;32m      2\u001b[0m t1 \n",
      "\u001b[1;31mTypeError\u001b[0m: 'tuple' object does not support item assignment"
     ]
    }
   ],
   "source": [
    "t1[0] = 6 # not changeble\n",
    "t1 "
   ]
  },
  {
   "cell_type": "code",
   "execution_count": 32,
   "id": "b19940b0-efb7-4dd9-983e-e26aedb5271d",
   "metadata": {},
   "outputs": [
    {
     "data": {
      "text/plain": [
       "3"
      ]
     },
     "execution_count": 32,
     "metadata": {},
     "output_type": "execute_result"
    }
   ],
   "source": [
    "t1[2] # we can access the tuple, but cannot change it.\n"
   ]
  },
  {
   "cell_type": "code",
   "execution_count": 33,
   "id": "d197801a-8874-4be0-8c39-f9babe8506b4",
   "metadata": {},
   "outputs": [
    {
     "data": {
      "text/plain": [
       "(1, 2.5, 'Arun', (2+7j))"
      ]
     },
     "execution_count": 33,
     "metadata": {},
     "output_type": "execute_result"
    }
   ],
   "source": [
    "t2 = (1,2.5, \"Arun\", 2+7j)\n",
    "t2"
   ]
  },
  {
   "cell_type": "code",
   "execution_count": 40,
   "id": "b6dab68e-d9d0-4517-af79-0ca45cd4c6e1",
   "metadata": {},
   "outputs": [
    {
     "name": "stdout",
     "output_type": "stream",
     "text": [
      "{1: 'one', 2: 'Two', 3: 'Three'}\n",
      "one\n",
      "Three\n"
     ]
    }
   ],
   "source": [
    "## Dictionaries\n",
    "\n",
    "# Here we represent the data in key and value format in flower brackets. {}\n",
    "\n",
    "d1 = {1:\"one\", 2:\"Two\", 3:\"Three\"}\n",
    "print(d1)\n",
    "print(d1[1])\n",
    "print(d1[3])"
   ]
  },
  {
   "cell_type": "code",
   "execution_count": 44,
   "id": "4b372c3f-db8c-45fd-ad55-0630707a20a6",
   "metadata": {},
   "outputs": [
    {
     "data": {
      "text/plain": [
       "{1: 'three', 2: 'two'}"
      ]
     },
     "execution_count": 44,
     "metadata": {},
     "output_type": "execute_result"
    }
   ],
   "source": [
    "# If there are duplicates in the dictionary then, only the latest values are considered\n",
    "\n",
    "d2 = {1: \"one\", 2: \"two\", 1:\"three\"}\n",
    "d2\n",
    "# The dictionary keys haves to be unique, they do not allow duplicates.\n",
    "# We can have same values for different keys, but cannot have same keys for different values"
   ]
  },
  {
   "cell_type": "markdown",
   "id": "a904f432-6f9b-4f5f-881e-dd472d8a4c68",
   "metadata": {},
   "source": [
    "## Operators"
   ]
  },
  {
   "cell_type": "code",
   "execution_count": 45,
   "id": "e60c3f5c-77a3-4ac4-b945-5f90ea40c964",
   "metadata": {},
   "outputs": [
    {
     "name": "stdin",
     "output_type": "stream",
     "text": [
      "Enter a number:  5\n",
      "Enter a number:  3\n"
     ]
    },
    {
     "name": "stdout",
     "output_type": "stream",
     "text": [
      "Addition: 5 + 3 = 8\n",
      "Subtraction: 5 - 3 = 2\n",
      "Multiplication: 5 * 3 = 15\n",
      "Division: 5 / 3 = 1.6666666666666667\n",
      "Power: 5 ** 3 = 125\n",
      "Floor division: 5 // 3 = 1\n"
     ]
    }
   ],
   "source": [
    "# Arithmetic operators +,-,/,*,//,**\n",
    "\n",
    "n = int(input(\"Enter a number: \"))\n",
    "m = int(input(\"Enter a number: \"))\n",
    "\n",
    "print(f\"Addition: {n} + {m} = {n+m}\")\n",
    "print(f\"Subtraction: {n} - {m} = {n-m}\")\n",
    "print(f\"Multiplication: {n} * {m} = {n*m}\")\n",
    "print(f\"Division: {n} / {m} = {n/m}\")\n",
    "print(f\"Power: {n} ** {m} = {n**m}\")\n",
    "print(f\"Floor division: {n} // {m} = {n//m}\")\n",
    "\n"
   ]
  },
  {
   "cell_type": "code",
   "execution_count": 46,
   "id": "015fb5af-b12b-40fb-b558-5ac839361dd5",
   "metadata": {},
   "outputs": [
    {
     "name": "stdout",
     "output_type": "stream",
     "text": [
      "Arun Kumar.\n"
     ]
    }
   ],
   "source": [
    "s1 = \"Arun \"\n",
    "s2 = \"Kumar.\"\n",
    "\n",
    "s3 = s1+s2\n",
    "print(s3)"
   ]
  },
  {
   "cell_type": "code",
   "execution_count": 48,
   "id": "27c5eccb-40d3-4d1d-9dd7-8b73083ac24f",
   "metadata": {},
   "outputs": [
    {
     "name": "stdout",
     "output_type": "stream",
     "text": [
      "[2, 3, 4, 5, 3, 5, 4, 8, 9]\n"
     ]
    }
   ],
   "source": [
    "l1 = [2,3,4,5]\n",
    "l2 = [3,5,4,8,9]\n",
    "\n",
    "print(l1+l2)\n",
    "# This will not add the two lists, it just appends the lists"
   ]
  },
  {
   "cell_type": "code",
   "execution_count": 49,
   "id": "220d77de-3267-4bf7-91eb-11c16e08e829",
   "metadata": {},
   "outputs": [
    {
     "name": "stdout",
     "output_type": "stream",
     "text": [
      "(1, 2, 3, 4, 5, 'Hello', 'Hyd', 'People')\n"
     ]
    }
   ],
   "source": [
    "t1 = (1,2,3,4,5)\n",
    "t2 = (\"Hello\",\"Hyd\",\"People\")\n",
    "\n",
    "print(t1+t2)"
   ]
  },
  {
   "cell_type": "code",
   "execution_count": 51,
   "id": "d1e08287-1741-464d-a5fc-7fc5e14f888a",
   "metadata": {},
   "outputs": [
    {
     "data": {
      "text/plain": [
       "(2.3+5j)"
      ]
     },
     "execution_count": 51,
     "metadata": {},
     "output_type": "execute_result"
    }
   ],
   "source": [
    "p = 5j\n",
    "q = 2.3\n",
    "\n",
    "p+q"
   ]
  },
  {
   "cell_type": "code",
   "execution_count": null,
   "id": "097d6a28-df34-4328-8e42-a63bf1cba16c",
   "metadata": {},
   "outputs": [],
   "source": [
    "## We cannot subtract two lists, tuples, strings"
   ]
  },
  {
   "cell_type": "code",
   "execution_count": 53,
   "id": "6dd797d6-b1a8-4f15-9e21-7d51b7fd75b8",
   "metadata": {},
   "outputs": [
    {
     "data": {
      "text/plain": [
       "[2, 3, 4, 5, 2, 3, 4, 5]"
      ]
     },
     "execution_count": 53,
     "metadata": {},
     "output_type": "execute_result"
    }
   ],
   "source": [
    "l1*2\n",
    "# This list multiplication will append the same list in the list with mentioned number of times."
   ]
  },
  {
   "cell_type": "code",
   "execution_count": 54,
   "id": "10279a9f-5d2b-42e3-89e5-195cbd4a70b8",
   "metadata": {},
   "outputs": [
    {
     "data": {
      "text/plain": [
       "(1, 2, 3, 4, 5, 1, 2, 3, 4, 5, 1, 2, 3, 4, 5)"
      ]
     },
     "execution_count": 54,
     "metadata": {},
     "output_type": "execute_result"
    }
   ],
   "source": [
    "t1*3"
   ]
  },
  {
   "cell_type": "code",
   "execution_count": 55,
   "id": "18cc8e58-1776-4521-afe5-9b9091a59ad6",
   "metadata": {},
   "outputs": [],
   "source": [
    "# The result of 22/7 in python 2 is same as 22//7 in python3"
   ]
  },
  {
   "cell_type": "code",
   "execution_count": 56,
   "id": "9cd32586-4b85-47ce-a8b3-5b9fbfd0188b",
   "metadata": {},
   "outputs": [
    {
     "name": "stdout",
     "output_type": "stream",
     "text": [
      "False\n",
      "True\n",
      "False\n",
      "True\n",
      "True\n",
      "False\n"
     ]
    }
   ],
   "source": [
    "# Relational Operators: >,<,>=,<=,!=,==\n",
    "\n",
    "print(2>5)\n",
    "print(2<5)\n",
    "print(2>=5)\n",
    "print(2<=5)\n",
    "print(2!=5)\n",
    "print(2==5)\n",
    "\n"
   ]
  },
  {
   "cell_type": "code",
   "execution_count": 61,
   "id": "2b327f49-73d2-445f-82e9-19615452d5af",
   "metadata": {},
   "outputs": [
    {
     "name": "stdout",
     "output_type": "stream",
     "text": [
      "False\n",
      "True\n",
      "False\n",
      "True\n",
      "False\n"
     ]
    }
   ],
   "source": [
    "# Logical Operators: and, or\n",
    "\n",
    "print(12> 5 and 12< 5)\n",
    "print(12>5 or 12<5) # same like c programming, it is not checking the other condition, compile time optimization.\n",
    "\n",
    "# non zero value will be considered as true and zero is considered as false.\n",
    "\n",
    "print(not 12)\n",
    "print(not 0)\n",
    "print(not -12)"
   ]
  },
  {
   "cell_type": "code",
   "execution_count": 69,
   "id": "74591d72-6854-4a13-8206-da2222a95461",
   "metadata": {},
   "outputs": [
    {
     "name": "stdout",
     "output_type": "stream",
     "text": [
      "0\n",
      "15\n",
      "15\n",
      "-13\n",
      "12\n",
      "6\n",
      "24\n"
     ]
    },
    {
     "data": {
      "text/plain": [
       "'\\n    ~x = -(x+1)\\n    eg: ~12 = -(12+1) = -13\\n'"
      ]
     },
     "execution_count": 69,
     "metadata": {},
     "output_type": "execute_result"
    }
   ],
   "source": [
    "# Bitwise operators: &,|,^,\n",
    "\n",
    "print(12&3) # 0000s\n",
    "print(12|3) # 1111\n",
    "print(12^3) # 1111\n",
    "print(~12)               \n",
    "print(~-13)\n",
    "\n",
    "print(12>>1) # right shift will divide the number\n",
    "print(12<<1) # left shift will multiply the number\n",
    "'''\n",
    "    ~x = -(x+1)\n",
    "    eg: ~12 = -(12+1) = -13\n",
    "'''"
   ]
  },
  {
   "cell_type": "code",
   "execution_count": 3,
   "id": "dc5fe302-1df4-43bc-9989-78f7c597922b",
   "metadata": {},
   "outputs": [
    {
     "name": "stdout",
     "output_type": "stream",
     "text": [
      "x = 15\n",
      "p = 10\n",
      "z = 90\n",
      "q = 3.0\n"
     ]
    }
   ],
   "source": [
    "# Equality Operator: +=, -=, *=, /=\n",
    "\n",
    "\n",
    "x = 10\n",
    "x+=5\n",
    "print(f\"x = {x}\")\n",
    "\n",
    "p = 20\n",
    "p-=10\n",
    "print(f\"p = {p}\")\n",
    "\n",
    "z = 30\n",
    "z*=3\n",
    "print(f\"z = {z}\")\n",
    "\n",
    "q = 15\n",
    "q/=5\n",
    "print(f\"q = {q}\")"
   ]
  },
  {
   "cell_type": "code",
   "execution_count": 11,
   "id": "4aa61545-c1c0-48a4-a7ee-66c096c7b6f1",
   "metadata": {},
   "outputs": [
    {
     "name": "stderr",
     "output_type": "stream",
     "text": [
      "<>:3: SyntaxWarning: \"is\" with a literal. Did you mean \"==\"?\n",
      "<>:3: SyntaxWarning: \"is\" with a literal. Did you mean \"==\"?\n",
      "C:\\Users\\bala_arun_kumar\\AppData\\Local\\Temp\\ipykernel_10956\\2811400926.py:3: SyntaxWarning: \"is\" with a literal. Did you mean \"==\"?\n",
      "  10 is 10\n"
     ]
    },
    {
     "data": {
      "text/plain": [
       "True"
      ]
     },
     "execution_count": 11,
     "metadata": {},
     "output_type": "execute_result"
    }
   ],
   "source": [
    "## Identity operators : is and is not\n",
    "\n",
    "10 is 10"
   ]
  },
  {
   "cell_type": "code",
   "execution_count": 5,
   "id": "7ef1136a-88d1-4b4b-964e-1278ce8a9e83",
   "metadata": {},
   "outputs": [
    {
     "name": "stderr",
     "output_type": "stream",
     "text": [
      "<>:1: SyntaxWarning: \"is\" with a literal. Did you mean \"==\"?\n",
      "<>:1: SyntaxWarning: \"is\" with a literal. Did you mean \"==\"?\n",
      "C:\\Users\\bala_arun_kumar\\AppData\\Local\\Temp\\ipykernel_10956\\2425154922.py:1: SyntaxWarning: \"is\" with a literal. Did you mean \"==\"?\n",
      "  \"Arun\" is \"Arun\"\n"
     ]
    },
    {
     "data": {
      "text/plain": [
       "True"
      ]
     },
     "execution_count": 5,
     "metadata": {},
     "output_type": "execute_result"
    }
   ],
   "source": [
    "\"Arun\" is \"Arun\""
   ]
  },
  {
   "cell_type": "code",
   "execution_count": 8,
   "id": "a3529530-a4fe-4ef2-a81b-b553a6c680f9",
   "metadata": {},
   "outputs": [
    {
     "name": "stderr",
     "output_type": "stream",
     "text": [
      "<>:1: SyntaxWarning: \"is\" with a literal. Did you mean \"==\"?\n",
      "<>:1: SyntaxWarning: \"is\" with a literal. Did you mean \"==\"?\n",
      "C:\\Users\\bala_arun_kumar\\AppData\\Local\\Temp\\ipykernel_10956\\3084269383.py:1: SyntaxWarning: \"is\" with a literal. Did you mean \"==\"?\n",
      "  \"Arun\" is \"kumar\"\n"
     ]
    },
    {
     "data": {
      "text/plain": [
       "False"
      ]
     },
     "execution_count": 8,
     "metadata": {},
     "output_type": "execute_result"
    }
   ],
   "source": [
    "\"Arun\" is \"kumar\""
   ]
  },
  {
   "cell_type": "code",
   "execution_count": 10,
   "id": "762a7114-d553-44a7-91d6-6bb11740006a",
   "metadata": {},
   "outputs": [
    {
     "name": "stderr",
     "output_type": "stream",
     "text": [
      "<>:1: SyntaxWarning: \"is not\" with a literal. Did you mean \"!=\"?\n",
      "<>:1: SyntaxWarning: \"is not\" with a literal. Did you mean \"!=\"?\n",
      "C:\\Users\\bala_arun_kumar\\AppData\\Local\\Temp\\ipykernel_10956\\2388115820.py:1: SyntaxWarning: \"is not\" with a literal. Did you mean \"!=\"?\n",
      "  \"Arun\" is not \"Kumar\"\n"
     ]
    },
    {
     "data": {
      "text/plain": [
       "True"
      ]
     },
     "execution_count": 10,
     "metadata": {},
     "output_type": "execute_result"
    }
   ],
   "source": [
    "\"Arun\" is not \"Kumar\""
   ]
  },
  {
   "cell_type": "code",
   "execution_count": 12,
   "id": "65dfdc01-36be-4d09-b2ba-0fb21a8d33cc",
   "metadata": {},
   "outputs": [],
   "source": [
    "# sizeof() operator does not exist as we are dealing with objects not with variables\n",
    "# We also not have increment and decrement operators\n",
    "# Does not have conditional operators\n",
    "\n",
    "# Here x++ is not possible, but we can do x+=1"
   ]
  },
  {
   "cell_type": "code",
   "execution_count": 14,
   "id": "c151d8f4-caa4-4cb3-910d-fb4b58480837",
   "metadata": {},
   "outputs": [
    {
     "data": {
      "text/plain": [
       "False"
      ]
     },
     "execution_count": 14,
     "metadata": {},
     "output_type": "execute_result"
    }
   ],
   "source": [
    "# Membership operator: in, not in \n",
    "\n",
    "l = [1,2,3,4,5]\n",
    "20 in l"
   ]
  },
  {
   "cell_type": "code",
   "execution_count": 15,
   "id": "d7cdb3bb-7cf5-4609-ab5c-fb03068b9432",
   "metadata": {},
   "outputs": [
    {
     "data": {
      "text/plain": [
       "True"
      ]
     },
     "execution_count": 15,
     "metadata": {},
     "output_type": "execute_result"
    }
   ],
   "source": [
    "20 not in l"
   ]
  },
  {
   "cell_type": "code",
   "execution_count": null,
   "id": "3a2e64d0-f572-4c68-8e8a-fcb65c1a6ec7",
   "metadata": {},
   "outputs": [],
   "source": [
    " "
   ]
  },
  {
   "cell_type": "code",
   "execution_count": null,
   "id": "20bae5b2-24f2-4897-b6f8-70c1f5aa72c4",
   "metadata": {},
   "outputs": [],
   "source": []
  }
 ],
 "metadata": {
  "kernelspec": {
   "display_name": "Python 3 (ipykernel)",
   "language": "python",
   "name": "python3"
  },
  "language_info": {
   "codemirror_mode": {
    "name": "ipython",
    "version": 3
   },
   "file_extension": ".py",
   "mimetype": "text/x-python",
   "name": "python",
   "nbconvert_exporter": "python",
   "pygments_lexer": "ipython3",
   "version": "3.11.9"
  }
 },
 "nbformat": 4,
 "nbformat_minor": 5
}
