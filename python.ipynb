{
 "cells": [
  {
   "cell_type": "code",
   "execution_count": 13,
   "id": "1191ac2e-84f0-4740-98d1-87445ca693e9",
   "metadata": {},
   "outputs": [
    {
     "name": "stdout",
     "output_type": "stream",
     "text": [
      "Hello world\n"
     ]
    }
   ],
   "source": [
    "print (\"Hello world\")\n",
    "\n",
    "#print statement automatically appends a new line, so explicitly no need to give a new line character in python.\n",
    "# If you are using ubuntu to program the python programs, then we need to use $python3 file_name.py to compile the file and see the output."
   ]
  },
  {
   "cell_type": "code",
   "execution_count": 3,
   "id": "ef1c22c0-8674-48c0-a9e5-057a2c29cd64",
   "metadata": {},
   "outputs": [
    {
     "name": "stdout",
     "output_type": "stream",
     "text": [
      "100\n"
     ]
    }
   ],
   "source": [
    "x = 100\n",
    "print(x)"
   ]
  },
  {
   "cell_type": "code",
   "execution_count": 4,
   "id": "78c3647d-52f9-4517-85b7-43e923417871",
   "metadata": {},
   "outputs": [
    {
     "name": "stdout",
     "output_type": "stream",
     "text": [
      "110\n"
     ]
    }
   ],
   "source": [
    "y = 10\n",
    "print(x+y)"
   ]
  },
  {
   "cell_type": "code",
   "execution_count": 16,
   "id": "82c38673-417d-4c9c-962a-8fcd2f9a8528",
   "metadata": {},
   "outputs": [
    {
     "name": "stdout",
     "output_type": "stream",
     "text": [
      "<class 'int'>\n",
      "<class 'float'>\n",
      "<class 'str'>\n",
      "<class 'str'>\n",
      "<class 'float'>\n",
      "<class 'str'>\n"
     ]
    }
   ],
   "source": [
    "# type of a variable\n",
    "\n",
    "x = 20\n",
    "print(type(x))\n",
    "\n",
    "y = 2.3\n",
    "print(type(y))\n",
    "\n",
    "z = \"Hello\"\n",
    "print(type(z))\n",
    "\n",
    "w = 'hello'\n",
    "print(type(w))\n",
    "\n",
    "q = 1E10\n",
    "print(type(q))\n",
    "\n",
    "p = 'a'\n",
    "print(type(p))\n",
    "\n",
    "# In python, everything is considered as an object, so only we are seeing class for every type. \n",
    "# Eg: x is a class of integer \n",
    "# ..."
   ]
  },
  {
   "cell_type": "code",
   "execution_count": 5,
   "id": "7cfa87ee-9ba8-43e7-939c-18a257207702",
   "metadata": {},
   "outputs": [
    {
     "name": "stdout",
     "output_type": "stream",
     "text": [
      "Hallo leute \n",
      "Hallo Leute,   Wie gehts dir?\n",
      "Mir-Gehts-es-gut\n"
     ]
    }
   ],
   "source": [
    "print(\"Hallo leute \")\n",
    "\n",
    "print(\"Hallo Leute, \", end = \"  \")\n",
    "print(\"Wie gehts dir?\")\n",
    "\n",
    "print(\"Mir\", \"Gehts\", \"es\", \"gut\", sep = \"-\")\n",
    "\n",
    "# In python, by default the print statement will go to next line, to avoud it, we can use end = \" \" to keep the control to stay in the same line."
   ]
  },
  {
   "cell_type": "code",
   "execution_count": 10,
   "id": "9f6cacb4-7e6b-44ef-9574-2d813bf30a86",
   "metadata": {},
   "outputs": [
    {
     "name": "stdin",
     "output_type": "stream",
     "text": [
      "Ore number mattum enter pannu, please:  345\n",
      "Seri, innoru number enter pannu, avlodha:  456\n"
     ]
    },
    {
     "name": "stdout",
     "output_type": "stream",
     "text": [
      "\n",
      "OK pa, unakaaga naa rendium add panre: \n",
      "Addition 345 + 456  =  801\n",
      "Ok sure, sir like that only I have added\n"
     ]
    }
   ],
   "source": [
    "m = int(input(\"Ore number mattum enter pannu, please: \"))\n",
    "n = int(input(\"Seri, innoru number enter pannu, avlodha: \"))\n",
    "\n",
    "print()\n",
    "print(\"OK pa, unakaaga naa rendium add panre: \")\n",
    "\n",
    "print(f\"Addition {m} + {n}  = \",m+n)\n",
    "print(\"Ok sure, sir like that only I have added\")"
   ]
  },
  {
   "cell_type": "code",
   "execution_count": 11,
   "id": "0a5b3b31-7055-4694-add3-5cf99523c562",
   "metadata": {},
   "outputs": [
    {
     "name": "stdin",
     "output_type": "stream",
     "text": [
      "Un peru sollu pa:  arun\n"
     ]
    },
    {
     "name": "stdout",
     "output_type": "stream",
     "text": [
      "Un peru:arun \n"
     ]
    },
    {
     "name": "stdin",
     "output_type": "stream",
     "text": [
      "vayasu:  23\n"
     ]
    },
    {
     "name": "stdout",
     "output_type": "stream",
     "text": [
      "Vayasu: 23\n",
      "Sorry, eppo purandha: \n"
     ]
    },
    {
     "name": "stdin",
     "output_type": "stream",
     "text": [
      " july\n"
     ]
    },
    {
     "name": "stdout",
     "output_type": "stream",
     "text": [
      "Date = july\n"
     ]
    }
   ],
   "source": [
    "name = input(\"Un peru sollu pa: \")\n",
    "print(f\"Un peru:{name} \")\n",
    "\n",
    "age = input(\"vayasu: \")\n",
    "print(f\"Vayasu: {age}\")\n",
    "\n",
    "print(\"Sorry, eppo purandha: \")\n",
    "date = input()\n",
    "print(f\"Date = {date}\")"
   ]
  },
  {
   "cell_type": "code",
   "execution_count": 7,
   "id": "52c26984-c7fc-4907-811b-0ab18e34a48e",
   "metadata": {},
   "outputs": [
    {
     "name": "stdout",
     "output_type": "stream",
     "text": [
      "10 20 30\n"
     ]
    }
   ],
   "source": [
    "x = 10\n",
    "y = 20\n",
    "z = 30\n",
    "print(x,y,z)"
   ]
  },
  {
   "cell_type": "code",
   "execution_count": 9,
   "id": "f152b420-1aef-40e5-9ea8-2b2b1509b92c",
   "metadata": {},
   "outputs": [
    {
     "name": "stdout",
     "output_type": "stream",
     "text": [
      "Hello World \n"
     ]
    }
   ],
   "source": [
    "print(\"Hello \" + \"World \")"
   ]
  },
  {
   "cell_type": "code",
   "execution_count": 21,
   "id": "0d10053b-36f8-4c6c-8052-319c395669e8",
   "metadata": {},
   "outputs": [
    {
     "name": "stdout",
     "output_type": "stream",
     "text": [
      "Hello Arun Kumar\n"
     ]
    }
   ],
   "source": [
    "name = \"Arun Kumar\"\n",
    "print(\"Hello \" + name)"
   ]
  },
  {
   "cell_type": "markdown",
   "id": "12f865c5-05eb-45a1-b7ed-19c10d2ec41a",
   "metadata": {},
   "source": [
    "### Follow the same logic that we have used in C programming to print patterns."
   ]
  },
  {
   "cell_type": "code",
   "execution_count": 22,
   "id": "ba719c12-25cf-4a63-8df7-15b0effd82ef",
   "metadata": {},
   "outputs": [
    {
     "name": "stdin",
     "output_type": "stream",
     "text": [
      "Enter a number:  10\n"
     ]
    },
    {
     "name": "stdout",
     "output_type": "stream",
     "text": [
      "*  \n",
      "*  *  \n",
      "*  *  *  \n",
      "*  *  *  *  \n",
      "*  *  *  *  *  \n",
      "*  *  *  *  *  *  \n",
      "*  *  *  *  *  *  *  \n",
      "*  *  *  *  *  *  *  *  \n",
      "*  *  *  *  *  *  *  *  *  \n",
      "*  *  *  *  *  *  *  *  *  *  \n"
     ]
    }
   ],
   "source": [
    "\n",
    "n = int(input(\"Enter a number: \"))\n",
    "for i in range(1,n+1):\n",
    "    for j in range(1,i+1):\n",
    "        print(\"* \", end = \" \")\n",
    "    print()"
   ]
  },
  {
   "cell_type": "code",
   "execution_count": 15,
   "id": "ee27604a-8126-4abe-ad48-c75f924ede80",
   "metadata": {},
   "outputs": [
    {
     "name": "stdin",
     "output_type": "stream",
     "text": [
      "Enter the value of n:  5\n"
     ]
    },
    {
     "name": "stdout",
     "output_type": "stream",
     "text": [
      "*  *  *  *  *  \n",
      "*  *  *  *  \n",
      "*  *  *  \n",
      "*  *  \n",
      "*  \n"
     ]
    }
   ],
   "source": [
    "n = int(input(\"Enter the value of n: \"))\n",
    "for i in range(1,n+1):\n",
    "    for j in range(i,n+1):\n",
    "        print(\"* \", end = \" \")\n",
    "    print()"
   ]
  },
  {
   "cell_type": "code",
   "execution_count": 18,
   "id": "697ee6ec-910a-486f-93c1-e38b596e34b2",
   "metadata": {},
   "outputs": [
    {
     "name": "stdin",
     "output_type": "stream",
     "text": [
      "Enter the value of n:  5\n"
     ]
    },
    {
     "name": "stdout",
     "output_type": "stream",
     "text": [
      "*                          *  \n",
      "*  *                    *  *  \n",
      "*  *  *              *  *  *  \n",
      "*  *  *  *        *  *  *  *  \n",
      "*  *  *  *  *  *  *  *  *  *  \n"
     ]
    }
   ],
   "source": [
    "n = int(input(\"Enter the value of n: \"))\n",
    "for i in range(1,n+1):\n",
    "    for j in range(1,i+1):\n",
    "        print(\"* \", end = \" \")\n",
    "    for j in range(i,n):\n",
    "        print(\"  \", end = \" \")\n",
    "    for j in range(i,n):\n",
    "        print(\"  \", end = \" \")\n",
    "    for j in range(1,i+1):\n",
    "        print(\"* \", end = \" \")\n",
    "    print()"
   ]
  },
  {
   "cell_type": "code",
   "execution_count": 26,
   "id": "d47e8af9-a8f7-4854-a841-0d10a9a5c005",
   "metadata": {},
   "outputs": [
    {
     "name": "stdout",
     "output_type": "stream",
     "text": [
      "Hello \n",
      "World\n",
      "Hello --World\n",
      "Hello ++World\n",
      "Hello \\\\\\\\World\n"
     ]
    }
   ],
   "source": [
    "print(\"Hello \", \"World\", sep = \"\\n\")\n",
    "\n",
    "print(\"Hello \", \"World\", sep = \"--\")\n",
    "\n",
    "print(\"Hello \", \"World\", sep = \"++\")\n",
    "\n",
    "print(\"Hello \", \"World\", sep = \"\\\\\\\\\\\\\\\\\")"
   ]
  },
  {
   "cell_type": "code",
   "execution_count": 1,
   "id": "7a5e4087-a2e6-491d-8e9b-f3177d8b50d5",
   "metadata": {},
   "outputs": [
    {
     "name": "stdout",
     "output_type": "stream",
     "text": [
      "My name is Arun Kumar and I am 22 years old\n"
     ]
    }
   ],
   "source": [
    "name = \"Arun Kumar\"\n",
    "age = 22\n",
    "\n",
    "print(f\"My name is {name} and I am {age} years old\")"
   ]
  },
  {
   "cell_type": "code",
   "execution_count": 1,
   "id": "4ca98a58-42a4-4256-b34c-d21538daef8f",
   "metadata": {},
   "outputs": [
    {
     "name": "stdout",
     "output_type": "stream",
     "text": [
      "10 + 20 = 30\n",
      "\n",
      "10 + 20 = 30\n"
     ]
    }
   ],
   "source": [
    "x = 10\n",
    "y = 20\n",
    "\n",
    "z = x + y\n",
    "\n",
    "print(\"{} + {} = {}\".format(x,y,x+y))\n",
    "print()\n",
    "print(\"%d + %d = %d\"%(x,y,x+y))"
   ]
  },
  {
   "cell_type": "code",
   "execution_count": 3,
   "id": "1ee03d5e-4804-4ae2-a513-6d30b118bdd0",
   "metadata": {},
   "outputs": [
    {
     "name": "stdin",
     "output_type": "stream",
     "text": [
      "Enter a number 1 :  12\n",
      "Enter a number 2 :  23\n"
     ]
    },
    {
     "name": "stdout",
     "output_type": "stream",
     "text": [
      "Numbers before swapping: 12 , 23\n",
      "Numbers after swapping: 23, 12\n"
     ]
    }
   ],
   "source": [
    "m = int(input(\"Enter a number 1 : \"))\n",
    "n = int(input(\"Enter a number 2 : \"))\n",
    "\n",
    "print(f\"Numbers before swapping: {m} , {n}\")\n",
    "\n",
    "m,n = n,m\n",
    "\n",
    "print(f\"Numbers after swapping: {m}, {n}\")"
   ]
  },
  {
   "cell_type": "code",
   "execution_count": 8,
   "id": "eaf2a01a-3352-4c51-b95a-e633b42d266f",
   "metadata": {},
   "outputs": [
    {
     "name": "stdout",
     "output_type": "stream",
     "text": [
      "Address of 10 is 140732343088200\n"
     ]
    }
   ],
   "source": [
    "# Get the address of the variable\n",
    "\n",
    "x = 10\n",
    "print(f\"Address of {x} is {id(x)}\")\n",
    "\n",
    "# id(), this function will give the address of the variable mentioned in that function."
   ]
  },
  {
   "cell_type": "markdown",
   "id": "4b73b167-6470-46ab-b207-b7a591f85308",
   "metadata": {},
   "source": [
    "# Data Structures\n",
    "## Mutable (can change)\n",
    "### 1. List\n",
    "### 2. Dictionary\n",
    "\n",
    "## Immutable (Cannot change)\n",
    "### 1. String\n",
    "### 2. Tuple"
   ]
  },
  {
   "cell_type": "code",
   "execution_count": null,
   "id": "41575f32-02e6-41b7-80f4-ea4cfe3766c0",
   "metadata": {},
   "outputs": [],
   "source": []
  }
 ],
 "metadata": {
  "kernelspec": {
   "display_name": "Python 3 (ipykernel)",
   "language": "python",
   "name": "python3"
  },
  "language_info": {
   "codemirror_mode": {
    "name": "ipython",
    "version": 3
   },
   "file_extension": ".py",
   "mimetype": "text/x-python",
   "name": "python",
   "nbconvert_exporter": "python",
   "pygments_lexer": "ipython3",
   "version": "3.11.9"
  }
 },
 "nbformat": 4,
 "nbformat_minor": 5
}
