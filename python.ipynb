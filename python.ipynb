{
 "cells": [
  {
   "cell_type": "code",
   "execution_count": 37,
   "id": "1191ac2e-84f0-4740-98d1-87445ca693e9",
   "metadata": {},
   "outputs": [
    {
     "name": "stdout",
     "output_type": "stream",
     "text": [
      "Hello world\n"
     ]
    }
   ],
   "source": [
    "print (\"Hello world\")\n",
    "\n",
    "#print statement automatically appends a new line, so explicitly no need to give a new line character in python.\n",
    "# If you are using ubuntu to program the python programs, then we need to use $python3 file_name.py to compile the file and see the output."
   ]
  },
  {
   "cell_type": "code",
   "execution_count": 38,
   "id": "ef1c22c0-8674-48c0-a9e5-057a2c29cd64",
   "metadata": {},
   "outputs": [
    {
     "name": "stdout",
     "output_type": "stream",
     "text": [
      "100\n"
     ]
    }
   ],
   "source": [
    "x = 100\n",
    "print(x)"
   ]
  },
  {
   "cell_type": "code",
   "execution_count": 39,
   "id": "78c3647d-52f9-4517-85b7-43e923417871",
   "metadata": {},
   "outputs": [
    {
     "name": "stdout",
     "output_type": "stream",
     "text": [
      "110\n"
     ]
    }
   ],
   "source": [
    "y = 10\n",
    "print(x+y)"
   ]
  },
  {
   "cell_type": "code",
   "execution_count": 40,
   "id": "82c38673-417d-4c9c-962a-8fcd2f9a8528",
   "metadata": {},
   "outputs": [
    {
     "name": "stdout",
     "output_type": "stream",
     "text": [
      "<class 'int'>\n",
      "<class 'float'>\n",
      "<class 'str'>\n",
      "<class 'str'>\n",
      "<class 'float'>\n",
      "<class 'str'>\n"
     ]
    }
   ],
   "source": [
    "# type of a variable\n",
    "\n",
    "x = 20\n",
    "print(type(x))\n",
    "\n",
    "y = 2.3\n",
    "print(type(y))\n",
    "\n",
    "z = \"Hello\"\n",
    "print(type(z))\n",
    "\n",
    "w = 'hello'\n",
    "print(type(w))\n",
    "\n",
    "q = 1E10\n",
    "print(type(q))\n",
    "\n",
    "p = 'a'\n",
    "print(type(p))\n",
    "\n",
    "# In python, everything is considered as an object, so only we are seeing class for every type. \n",
    "# Eg: x is a class of integer \n",
    "# ..."
   ]
  },
  {
   "cell_type": "code",
   "execution_count": 41,
   "id": "7cfa87ee-9ba8-43e7-939c-18a257207702",
   "metadata": {},
   "outputs": [
    {
     "name": "stdout",
     "output_type": "stream",
     "text": [
      "Hallo leute \n",
      "Hallo Leute,   Wie gehts dir?\n",
      "Mir-Gehts-es-gut\n"
     ]
    }
   ],
   "source": [
    "print(\"Hallo leute \")\n",
    "\n",
    "print(\"Hallo Leute, \", end = \"  \")\n",
    "print(\"Wie gehts dir?\")\n",
    "\n",
    "print(\"Mir\", \"Gehts\", \"es\", \"gut\", sep = \"-\")\n",
    "\n",
    "# In python, by default the print statement will go to next line, to avoud it, we can use end = \" \" to keep the control to stay in the same line."
   ]
  },
  {
   "cell_type": "code",
   "execution_count": 42,
   "id": "9f6cacb4-7e6b-44ef-9574-2d813bf30a86",
   "metadata": {},
   "outputs": [
    {
     "name": "stdin",
     "output_type": "stream",
     "text": [
      "Ore number mattum enter pannu, please:  5\n",
      "Seri, innoru number enter pannu, avlodha:  6\n"
     ]
    },
    {
     "name": "stdout",
     "output_type": "stream",
     "text": [
      "\n",
      "OK pa, unakaaga naa rendium add panre: \n",
      "Addition 5 + 6  =  11\n",
      "Ok sure, sir like that only I have added\n"
     ]
    }
   ],
   "source": [
    "m = int(input(\"Ore number mattum enter pannu, please: \"))\n",
    "n = int(input(\"Seri, innoru number enter pannu, avlodha: \"))\n",
    "\n",
    "print()\n",
    "print(\"OK pa, unakaaga naa rendium add panre: \")\n",
    "\n",
    "print(f\"Addition {m} + {n}  = \",m+n)\n",
    "print(\"Ok sure, sir like that only I have added\")"
   ]
  },
  {
   "cell_type": "markdown",
   "id": "96f44b62-7e89-46b0-ad56-0ab17aefe10e",
   "metadata": {},
   "source": [
    "#### name = input(\"Un peru sollu pa: \")\n",
    "print(f\"Un peru:{name} \")\n",
    "\n",
    "age = input(\"vayasu: \")\n",
    "print(f\"Vayasu: {age}\")\n",
    "\n",
    "print(\"Sorry, eppo purandha: \")\n",
    "date = input()\n",
    "print(f\"Date = {date}\")"
   ]
  },
  {
   "cell_type": "code",
   "execution_count": 44,
   "id": "52c26984-c7fc-4907-811b-0ab18e34a48e",
   "metadata": {},
   "outputs": [
    {
     "name": "stdout",
     "output_type": "stream",
     "text": [
      "10 20 30\n"
     ]
    }
   ],
   "source": [
    "x = 10\n",
    "y = 20\n",
    "z = 30\n",
    "print(x,y,z)"
   ]
  },
  {
   "cell_type": "code",
   "execution_count": 45,
   "id": "f152b420-1aef-40e5-9ea8-2b2b1509b92c",
   "metadata": {},
   "outputs": [
    {
     "name": "stdout",
     "output_type": "stream",
     "text": [
      "Hello World \n"
     ]
    }
   ],
   "source": [
    "print(\"Hello \" + \"World \")"
   ]
  },
  {
   "cell_type": "code",
   "execution_count": 46,
   "id": "0d10053b-36f8-4c6c-8052-319c395669e8",
   "metadata": {},
   "outputs": [
    {
     "name": "stdout",
     "output_type": "stream",
     "text": [
      "Hello Arun Kumar\n"
     ]
    }
   ],
   "source": [
    "name = \"Arun Kumar\"\n",
    "print(\"Hello \" + name)"
   ]
  },
  {
   "cell_type": "markdown",
   "id": "12f865c5-05eb-45a1-b7ed-19c10d2ec41a",
   "metadata": {},
   "source": [
    "### Follow the same logic that we have used in C programming to print patterns."
   ]
  },
  {
   "cell_type": "code",
   "execution_count": 47,
   "id": "ba719c12-25cf-4a63-8df7-15b0effd82ef",
   "metadata": {},
   "outputs": [
    {
     "name": "stdin",
     "output_type": "stream",
     "text": [
      "Enter a number:  5\n"
     ]
    },
    {
     "name": "stdout",
     "output_type": "stream",
     "text": [
      "*  \n",
      "*  *  \n",
      "*  *  *  \n",
      "*  *  *  *  \n",
      "*  *  *  *  *  \n"
     ]
    }
   ],
   "source": [
    "\n",
    "n = int(input(\"Enter a number: \"))\n",
    "for i in range(1,n+1):\n",
    "    for j in range(1,i+1):\n",
    "        print(\"* \", end = \" \")\n",
    "    print()"
   ]
  },
  {
   "cell_type": "code",
   "execution_count": 48,
   "id": "ee27604a-8126-4abe-ad48-c75f924ede80",
   "metadata": {},
   "outputs": [
    {
     "name": "stdin",
     "output_type": "stream",
     "text": [
      "Enter the value of n:  7\n"
     ]
    },
    {
     "name": "stdout",
     "output_type": "stream",
     "text": [
      "*  *  *  *  *  *  *  \n",
      "*  *  *  *  *  *  \n",
      "*  *  *  *  *  \n",
      "*  *  *  *  \n",
      "*  *  *  \n",
      "*  *  \n",
      "*  \n"
     ]
    }
   ],
   "source": [
    "n = int(input(\"Enter the value of n: \"))\n",
    "for i in range(1,n+1):\n",
    "    for j in range(i,n+1):\n",
    "        print(\"* \", end = \" \")\n",
    "    print()"
   ]
  },
  {
   "cell_type": "code",
   "execution_count": 49,
   "id": "697ee6ec-910a-486f-93c1-e38b596e34b2",
   "metadata": {},
   "outputs": [
    {
     "name": "stdin",
     "output_type": "stream",
     "text": [
      "Enter the value of n:  5\n"
     ]
    },
    {
     "name": "stdout",
     "output_type": "stream",
     "text": [
      "*                          *  \n",
      "*  *                    *  *  \n",
      "*  *  *              *  *  *  \n",
      "*  *  *  *        *  *  *  *  \n",
      "*  *  *  *  *  *  *  *  *  *  \n"
     ]
    }
   ],
   "source": [
    "n = int(input(\"Enter the value of n: \"))\n",
    "for i in range(1,n+1):\n",
    "    for j in range(1,i+1):\n",
    "        print(\"* \", end = \" \")\n",
    "    for j in range(i,n):\n",
    "        print(\"  \", end = \" \")\n",
    "    for j in range(i,n):\n",
    "        print(\"  \", end = \" \")\n",
    "    for j in range(1,i+1):\n",
    "        print(\"* \", end = \" \")\n",
    "    print()"
   ]
  },
  {
   "cell_type": "code",
   "execution_count": 50,
   "id": "d47e8af9-a8f7-4854-a841-0d10a9a5c005",
   "metadata": {},
   "outputs": [
    {
     "name": "stdout",
     "output_type": "stream",
     "text": [
      "Hello \n",
      "World\n",
      "Hello --World\n",
      "Hello ++World\n",
      "Hello \\\\\\\\World\n"
     ]
    }
   ],
   "source": [
    "print(\"Hello \", \"World\", sep = \"\\n\")\n",
    "\n",
    "print(\"Hello \", \"World\", sep = \"--\")\n",
    "\n",
    "print(\"Hello \", \"World\", sep = \"++\")\n",
    "\n",
    "print(\"Hello \", \"World\", sep = \"\\\\\\\\\\\\\\\\\")"
   ]
  },
  {
   "cell_type": "code",
   "execution_count": 51,
   "id": "7a5e4087-a2e6-491d-8e9b-f3177d8b50d5",
   "metadata": {},
   "outputs": [
    {
     "name": "stdout",
     "output_type": "stream",
     "text": [
      "My name is Arun Kumar and I am 22 years old\n"
     ]
    }
   ],
   "source": [
    "name = \"Arun Kumar\"\n",
    "age = 22\n",
    "\n",
    "print(f\"My name is {name} and I am {age} years old\")"
   ]
  },
  {
   "cell_type": "code",
   "execution_count": 52,
   "id": "4ca98a58-42a4-4256-b34c-d21538daef8f",
   "metadata": {},
   "outputs": [
    {
     "name": "stdout",
     "output_type": "stream",
     "text": [
      "10 + 20 = 30\n",
      "\n",
      "10 + 20 = 30\n"
     ]
    }
   ],
   "source": [
    "x = 10\n",
    "y = 20\n",
    "\n",
    "z = x + y\n",
    "\n",
    "print(\"{} + {} = {}\".format(x,y,x+y))\n",
    "print()\n",
    "print(\"%d + %d = %d\"%(x,y,x+y))"
   ]
  },
  {
   "cell_type": "code",
   "execution_count": 53,
   "id": "1ee03d5e-4804-4ae2-a513-6d30b118bdd0",
   "metadata": {},
   "outputs": [
    {
     "name": "stdin",
     "output_type": "stream",
     "text": [
      "Enter a number 1 :  5\n",
      "Enter a number 2 :  6\n"
     ]
    },
    {
     "name": "stdout",
     "output_type": "stream",
     "text": [
      "Numbers before swapping: 5 , 6\n",
      "Numbers after swapping: 6, 5\n"
     ]
    }
   ],
   "source": [
    "m = int(input(\"Enter a number 1 : \"))\n",
    "n = int(input(\"Enter a number 2 : \"))\n",
    "\n",
    "print(f\"Numbers before swapping: {m} , {n}\")\n",
    "\n",
    "m,n = n,m\n",
    "\n",
    "print(f\"Numbers after swapping: {m}, {n}\")"
   ]
  },
  {
   "cell_type": "code",
   "execution_count": 54,
   "id": "eaf2a01a-3352-4c51-b95a-e633b42d266f",
   "metadata": {},
   "outputs": [
    {
     "name": "stdout",
     "output_type": "stream",
     "text": [
      "Address of 10 is 140732691084360\n"
     ]
    }
   ],
   "source": [
    "# Get the address of the variable\n",
    "\n",
    "x = 10\n",
    "print(f\"Address of {x} is {id(x)}\")\n",
    "\n",
    "# id(), this function will give the address of the variable mentioned in that function."
   ]
  },
  {
   "cell_type": "markdown",
   "id": "4b73b167-6470-46ab-b207-b7a591f85308",
   "metadata": {},
   "source": [
    "# Data Structures\n",
    "## Mutable (can change)\n",
    "### 1. List\n",
    "### 2. Dictionary\n",
    "\n",
    "## Immutable (Cannot change)\n",
    "### 1. String\n",
    "### 2. Tuple"
   ]
  },
  {
   "cell_type": "code",
   "execution_count": 55,
   "id": "4270e9ac-5a98-46c7-a248-7bd524daf509",
   "metadata": {},
   "outputs": [
    {
     "name": "stdout",
     "output_type": "stream",
     "text": [
      "hi\n"
     ]
    }
   ],
   "source": [
    "print(\"hi\")"
   ]
  },
  {
   "cell_type": "code",
   "execution_count": 56,
   "id": "41575f32-02e6-41b7-80f4-ea4cfe3766c0",
   "metadata": {},
   "outputs": [
    {
     "name": "stdout",
     "output_type": "stream",
     "text": [
      "1 2 3\n"
     ]
    }
   ],
   "source": [
    "# In python we can do multiple variable initialization.\n",
    "x,y,z = 1,2,3\n",
    "\n",
    "print(x,y,z)"
   ]
  },
  {
   "cell_type": "code",
   "execution_count": 57,
   "id": "1fcf2ab6-15be-464d-8509-24422276d480",
   "metadata": {},
   "outputs": [
    {
     "ename": "ValueError",
     "evalue": "too many values to unpack (expected 2)",
     "output_type": "error",
     "traceback": [
      "\u001b[1;31m---------------------------------------------------------------------------\u001b[0m",
      "\u001b[1;31mValueError\u001b[0m                                Traceback (most recent call last)",
      "Cell \u001b[1;32mIn[57], line 3\u001b[0m\n\u001b[0;32m      1\u001b[0m \u001b[38;5;66;03m# When we have more values on the right side and less variables on the left side to hold, it will throw an error\u001b[39;00m\n\u001b[1;32m----> 3\u001b[0m a,b \u001b[38;5;241m=\u001b[39m \u001b[38;5;241m1\u001b[39m,\u001b[38;5;241m2\u001b[39m,\u001b[38;5;241m3\u001b[39m\n",
      "\u001b[1;31mValueError\u001b[0m: too many values to unpack (expected 2)"
     ]
    }
   ],
   "source": [
    "# When we have more values on the right side and less variables on the left side to hold, it will throw an error\n",
    "\n",
    "a,b = 1,2,3"
   ]
  },
  {
   "cell_type": "code",
   "execution_count": 58,
   "id": "e35bbcef-5615-4387-844b-eea9fa4949f4",
   "metadata": {},
   "outputs": [
    {
     "name": "stdout",
     "output_type": "stream",
     "text": [
      "1 2 3\n"
     ]
    }
   ],
   "source": [
    "# To avoid the above scenario, we have to use underscore (\"_\").\n",
    "# This underscore will act as a placeholder\n",
    "\n",
    "a,b,_ = 1,2,3\n",
    "print(a,b,_)"
   ]
  },
  {
   "cell_type": "code",
   "execution_count": 59,
   "id": "3cb544f1-0add-4bc3-9a99-26ff7c857fe4",
   "metadata": {},
   "outputs": [
    {
     "name": "stdout",
     "output_type": "stream",
     "text": [
      "List of keywords are :  ['False', 'None', 'True', 'and', 'as', 'assert', 'async', 'await', 'break', 'class', 'continue', 'def', 'del', 'elif', 'else', 'except', 'finally', 'for', 'from', 'global', 'if', 'import', 'in', 'is', 'lambda', 'nonlocal', 'not', 'or', 'pass', 'raise', 'return', 'try', 'while', 'with', 'yield']\n"
     ]
    }
   ],
   "source": [
    "# To see the list of keywords\n",
    "\n",
    "import keyword\n",
    "print(\"List of keywords are : \",keyword.kwlist)"
   ]
  },
  {
   "cell_type": "code",
   "execution_count": 60,
   "id": "bf1a17ce-ef90-4158-a5f7-3abba265c6e2",
   "metadata": {},
   "outputs": [
    {
     "name": "stdout",
     "output_type": "stream",
     "text": [
      "100 100 100\n"
     ]
    }
   ],
   "source": [
    "a=b=c=100\n",
    "print(a,b,c)"
   ]
  },
  {
   "cell_type": "markdown",
   "id": "4846e62d-83ea-428b-9e44-1b063f5be295",
   "metadata": {},
   "source": [
    "## Datatypes"
   ]
  },
  {
   "cell_type": "markdown",
   "id": "0e27ae47-0f44-4bfd-b637-56f9e04d9579",
   "metadata": {},
   "source": [
    "## Integers"
   ]
  },
  {
   "cell_type": "code",
   "execution_count": 61,
   "id": "96b54d96-1b29-450e-973d-c05dcc663429",
   "metadata": {},
   "outputs": [
    {
     "name": "stdout",
     "output_type": "stream",
     "text": [
      "<class 'int'>\n",
      "<class 'float'>\n",
      "(3+5j)\n",
      "<class 'complex'>\n"
     ]
    }
   ],
   "source": [
    "\n",
    "\n",
    "x = 10\n",
    "print(type(x))\n",
    "\n",
    "# In python, there is no concept of double. Irrespective of precession, it is considered as a float.\n",
    "y = 10.5\n",
    "print(type(y))\n",
    "\n",
    "z = complex(3,5)\n",
    "print(z)\n",
    "print(type(z))\n",
    "\n",
    "# Here we don't say signed and unsigned"
   ]
  },
  {
   "cell_type": "markdown",
   "id": "782a27e2-8526-4997-bca1-f47508736106",
   "metadata": {},
   "source": [
    "## Strings"
   ]
  },
  {
   "cell_type": "code",
   "execution_count": 121,
   "id": "5d412350-f9db-4471-9ba7-99b31a2802ac",
   "metadata": {},
   "outputs": [
    {
     "name": "stdout",
     "output_type": "stream",
     "text": [
      "<class 'str'>\n",
      "<class 'str'>\n",
      "<class 'str'>\n"
     ]
    }
   ],
   "source": [
    "\n",
    "\n",
    "# Here we donot have the concept of char. Everything is considered as a string.\n",
    "\n",
    "a = 'Arun'\n",
    "b = \"Arun\"\n",
    "c = '''Arun'''\n",
    "\n",
    "# All the above are considered as strings\n",
    "\n",
    "print(type(a), type(b), type(c), sep = \"\\n\")"
   ]
  },
  {
   "cell_type": "markdown",
   "id": "5ff0d020-b58e-4bcb-90c3-0c036e5b6eab",
   "metadata": {},
   "source": [
    "## Lists"
   ]
  },
  {
   "cell_type": "code",
   "execution_count": 122,
   "id": "03a94975-8883-40d9-b3c1-a01bb84e0f30",
   "metadata": {},
   "outputs": [
    {
     "name": "stdout",
     "output_type": "stream",
     "text": [
      "[1, 2, 3, 4]\n",
      "[1, 2, 'Hello', 12.44, (2+3j)]\n",
      "2026184318528\n",
      "1\n"
     ]
    }
   ],
   "source": [
    "\n",
    "\n",
    "# List is a collection of data and this should be enclosed in square brackets. []\n",
    "# This list can hold data of different datatypes unlike array in C.\n",
    "\n",
    "l1 = [1,2,3,4]\n",
    "print(l1)\n",
    "\n",
    "l2 = [1,2,\"Hello\", 12.44,2+3j]\n",
    "print(l2)\n",
    "\n",
    "# If we use id(<list_variable>) will give the base address of the list.\n",
    "print(id(l2))\n",
    "\n",
    "print(l1[0])"
   ]
  },
  {
   "cell_type": "code",
   "execution_count": 126,
   "id": "862ab7e7-3699-45ab-be75-8744827f6d23",
   "metadata": {},
   "outputs": [
    {
     "name": "stdout",
     "output_type": "stream",
     "text": [
      "[2, 3, 4, 5, 6, 7, 8, 9]\n"
     ]
    }
   ],
   "source": [
    "l1 = [1,2,3,4,5,6,7,8,9]\n",
    "print(l1[1:])"
   ]
  },
  {
   "cell_type": "code",
   "execution_count": 127,
   "id": "b0fcb274-521c-404c-9250-567f5e1cea20",
   "metadata": {},
   "outputs": [
    {
     "data": {
      "text/plain": [
       "[0, 2, 3, 4, 5, 6, 7, 8, 9]"
      ]
     },
     "execution_count": 127,
     "metadata": {},
     "output_type": "execute_result"
    }
   ],
   "source": [
    "l1[0] = 0 # changeble\n",
    "l1"
   ]
  },
  {
   "cell_type": "code",
   "execution_count": 65,
   "id": "5c0962bb-327d-4bcd-8865-3c9ec2d2ef91",
   "metadata": {},
   "outputs": [
    {
     "name": "stdout",
     "output_type": "stream",
     "text": [
      "9\n"
     ]
    }
   ],
   "source": [
    "print(l1[-1])"
   ]
  },
  {
   "cell_type": "code",
   "execution_count": 66,
   "id": "1ab73612-139c-41ab-95dd-00767462dbb7",
   "metadata": {},
   "outputs": [
    {
     "name": "stdout",
     "output_type": "stream",
     "text": [
      "[5, 6, 7, 8, 9]\n"
     ]
    }
   ],
   "source": [
    "print(l1[4:15])"
   ]
  },
  {
   "cell_type": "code",
   "execution_count": 67,
   "id": "8af17187-1472-4a54-a749-b8b668e7d517",
   "metadata": {},
   "outputs": [
    {
     "name": "stdout",
     "output_type": "stream",
     "text": [
      "[8, 9]\n"
     ]
    }
   ],
   "source": [
    "print(l1[-2:]) # it is printing from -2 till the end."
   ]
  },
  {
   "cell_type": "code",
   "execution_count": 68,
   "id": "162c72f7-3ba1-46bb-8ee7-a1b27686cd55",
   "metadata": {},
   "outputs": [
    {
     "name": "stdout",
     "output_type": "stream",
     "text": [
      "[5, 6, 7, 8]\n"
     ]
    },
    {
     "data": {
      "text/plain": [
       "'\\nIf we try giving -1:-5 then this is not possible, it seems like we are telling the control to move from right (from -1)to left (to -5), \\nthis is not allowed.\\n\\n'"
      ]
     },
     "execution_count": 68,
     "metadata": {},
     "output_type": "execute_result"
    }
   ],
   "source": [
    "print(l1[-5:-1]) # The control always move from left to right so we are getting 5,6,7,8 for this input.\n",
    "'''\n",
    "If we try giving -1:-5 then this is not possible, it seems like we are telling the control to move from right (from -1)to left (to -5), \n",
    "this is not allowed.\n",
    "\n",
    "'''"
   ]
  },
  {
   "cell_type": "code",
   "execution_count": 109,
   "id": "2bfda98e-ae96-436f-a4d4-aec5c90987f7",
   "metadata": {},
   "outputs": [
    {
     "data": {
      "text/plain": [
       "[[1, 2, 3, 4, 5], ['Arun', 9.3, 'Kumar', 23]]"
      ]
     },
     "execution_count": 109,
     "metadata": {},
     "output_type": "execute_result"
    }
   ],
   "source": [
    "p1 = [1,2,3,4,5]\n",
    "p2 = [\"Arun\",9.3,\"Kumar\", 23]\n",
    "p3 = [p1,p2]\n",
    "p3"
   ]
  },
  {
   "cell_type": "code",
   "execution_count": 70,
   "id": "8847870a-2b3f-4108-8658-14f3d080366c",
   "metadata": {},
   "outputs": [
    {
     "data": {
      "text/plain": [
       "[1, 2, 3, 4, 5]"
      ]
     },
     "execution_count": 70,
     "metadata": {},
     "output_type": "execute_result"
    }
   ],
   "source": [
    "p3[0]"
   ]
  },
  {
   "cell_type": "code",
   "execution_count": 71,
   "id": "afbc27e0-b92d-4983-b609-cbb69fbca3c9",
   "metadata": {},
   "outputs": [
    {
     "data": {
      "text/plain": [
       "5"
      ]
     },
     "execution_count": 71,
     "metadata": {},
     "output_type": "execute_result"
    }
   ],
   "source": [
    "p3[0][4]"
   ]
  },
  {
   "cell_type": "code",
   "execution_count": 72,
   "id": "981e3231-534a-4ae2-bfcd-2d813f47eb2e",
   "metadata": {},
   "outputs": [
    {
     "data": {
      "text/plain": [
       "'Kumar'"
      ]
     },
     "execution_count": 72,
     "metadata": {},
     "output_type": "execute_result"
    }
   ],
   "source": [
    "p3[1][2]"
   ]
  },
  {
   "cell_type": "code",
   "execution_count": 106,
   "id": "c4a5633c-bcec-4094-a378-1e16c0280fb8",
   "metadata": {},
   "outputs": [
    {
     "data": {
      "text/plain": [
       "[1, 2, 3, 4, 5, 15, 15]"
      ]
     },
     "execution_count": 106,
     "metadata": {},
     "output_type": "execute_result"
    }
   ],
   "source": [
    "# Every time when we use these functions, we need to provide the data not the index. \n",
    "# Only for the insert, we do give the index to tell the control to insert that data \n",
    "# in that particular location only.\n",
    "\n",
    "p1.append(15)\n",
    "p1"
   ]
  },
  {
   "cell_type": "code",
   "execution_count": 74,
   "id": "35bde4b8-e77e-43f4-93fc-6ca04075e5a4",
   "metadata": {},
   "outputs": [
    {
     "data": {
      "text/plain": [
       "['Arun', 9.3, 'Kumar', 23]"
      ]
     },
     "execution_count": 74,
     "metadata": {},
     "output_type": "execute_result"
    }
   ],
   "source": [
    "p2"
   ]
  },
  {
   "cell_type": "code",
   "execution_count": 75,
   "id": "66c975de-1d2d-4bbd-92ce-14cad4667192",
   "metadata": {},
   "outputs": [
    {
     "data": {
      "text/plain": [
       "['Arun', 9.3, 'Hello', 'Kumar', 23]"
      ]
     },
     "execution_count": 75,
     "metadata": {},
     "output_type": "execute_result"
    }
   ],
   "source": [
    "p2.insert(2,\"Hello\")\n",
    "p2"
   ]
  },
  {
   "cell_type": "code",
   "execution_count": 104,
   "id": "6f71ea15-8888-44ad-8488-9f82c013484f",
   "metadata": {},
   "outputs": [
    {
     "data": {
      "text/plain": [
       "['Arun', 9.3, 'Hello', 'Kumar', 23]"
      ]
     },
     "execution_count": 104,
     "metadata": {},
     "output_type": "execute_result"
    }
   ],
   "source": [
    "p2.insert(0,\"Arun\")\n",
    "p2"
   ]
  },
  {
   "cell_type": "code",
   "execution_count": 105,
   "id": "1e8086e5-3d5c-4fe3-981b-08641de79fa8",
   "metadata": {},
   "outputs": [
    {
     "data": {
      "text/plain": [
       "[9.3, 'Hello', 'Kumar', 23]"
      ]
     },
     "execution_count": 105,
     "metadata": {},
     "output_type": "execute_result"
    }
   ],
   "source": [
    "# If you want to remove anything using data, use remove function\n",
    "p2.remove(\"Arun\")\n",
    "p2"
   ]
  },
  {
   "cell_type": "code",
   "execution_count": 110,
   "id": "b7b0fa3e-de9b-4d21-9c1d-ce31a22fff0c",
   "metadata": {},
   "outputs": [
    {
     "data": {
      "text/plain": [
       "23"
      ]
     },
     "execution_count": 110,
     "metadata": {},
     "output_type": "execute_result"
    }
   ],
   "source": [
    "# To remove something using the index, then use pop function.\n",
    "\n",
    "p2.pop(2)\n",
    "p2\n",
    "\n",
    "# when you don't mention the index in pop function, it will remove the last element.\n",
    "p2.pop()"
   ]
  },
  {
   "cell_type": "code",
   "execution_count": 111,
   "id": "19534e4a-cd18-4960-aab7-f703c8c10ea6",
   "metadata": {},
   "outputs": [
    {
     "data": {
      "text/plain": [
       "[1, 2, 3, 'Hello', 'People', 'Arun', 6.43]"
      ]
     },
     "execution_count": 111,
     "metadata": {},
     "output_type": "execute_result"
    }
   ],
   "source": [
    "h1 = [1,2,3,\"Hello\",\"People\",\"Arun\",6.43]\n",
    "h1"
   ]
  },
  {
   "cell_type": "code",
   "execution_count": 112,
   "id": "acdc7429-f16e-4bc9-b8e5-1fe46acb6525",
   "metadata": {},
   "outputs": [
    {
     "data": {
      "text/plain": [
       "[1, 2, 3, 'Hello', 6.43]"
      ]
     },
     "execution_count": 112,
     "metadata": {},
     "output_type": "execute_result"
    }
   ],
   "source": [
    "# to delete the elements, we have to specify the range\n",
    "del h1[4:6] # in python, we always don't consider the upper bound.\n",
    "h1"
   ]
  },
  {
   "cell_type": "code",
   "execution_count": 113,
   "id": "f25ea4cf-2bfd-4fd8-b060-99ade8f50c9c",
   "metadata": {},
   "outputs": [],
   "source": [
    "'''\n",
    "If you want to add a single element, we use append and it adds that element at the end\n",
    "if you use insert, we can insert at a particular location only, but we can add only one element\n",
    "if we want to add multiple elements, then use extend function as shown below.\n",
    "'''\n",
    "\n",
    "h1.extend([\"Hyd\",\"Banglore\",234,324.345])"
   ]
  },
  {
   "cell_type": "code",
   "execution_count": 114,
   "id": "bac5c228-3b54-4046-afa8-dced9075e795",
   "metadata": {},
   "outputs": [
    {
     "data": {
      "text/plain": [
       "[1, 2, 3, 'Hello', 6.43, 'Hyd', 'Banglore', 234, 324.345]"
      ]
     },
     "execution_count": 114,
     "metadata": {},
     "output_type": "execute_result"
    }
   ],
   "source": [
    "h1"
   ]
  },
  {
   "cell_type": "code",
   "execution_count": 119,
   "id": "f1d815cf-83b4-47e6-a840-d392093d4171",
   "metadata": {},
   "outputs": [
    {
     "name": "stdout",
     "output_type": "stream",
     "text": [
      "75\n",
      "2\n",
      "114\n"
     ]
    },
    {
     "data": {
      "text/plain": [
       "[2, 3, 4, 4, 4, 6, 7, 9, 75]"
      ]
     },
     "execution_count": 119,
     "metadata": {},
     "output_type": "execute_result"
    }
   ],
   "source": [
    "# few mathematic shortcuts\n",
    "d1 = [9,3,4,2,4,6,7,75,4]\n",
    "print(max(d1))\n",
    "print(min(d1))\n",
    "print(sum(d1))\n",
    "d1.sort()\n",
    "d1"
   ]
  },
  {
   "cell_type": "markdown",
   "id": "4b8dcf6d-89ac-4714-b9b3-318dd041b53a",
   "metadata": {},
   "source": [
    "## Tuple"
   ]
  },
  {
   "cell_type": "code",
   "execution_count": 76,
   "id": "078528a5-aec8-40ed-a2d5-d57646b147af",
   "metadata": {},
   "outputs": [
    {
     "data": {
      "text/plain": [
       "(1, 2, 3, 4)"
      ]
     },
     "execution_count": 76,
     "metadata": {},
     "output_type": "execute_result"
    }
   ],
   "source": [
    "# This tuple is almost all same like list, but it is not changeble once we make a tuple.\n",
    "# This should be represented in round brackets()\n",
    "# We cannot change the values in the tuple.\n",
    "\n",
    "# we have to use this tuple, when we have a list and we don't want to change the elements in that\n",
    "# list, then we can go for the tuple, as the rest of the features are same as list.\n",
    "\n",
    "# Iterations in the tuple are faster compared to list as it does not allow us to modify.\n",
    "t1 = (1,2,3,4)\n",
    "t1"
   ]
  },
  {
   "cell_type": "code",
   "execution_count": 77,
   "id": "2f9c1c3b-ea0b-43bf-9d35-984cc327579d",
   "metadata": {},
   "outputs": [
    {
     "ename": "TypeError",
     "evalue": "'tuple' object does not support item assignment",
     "output_type": "error",
     "traceback": [
      "\u001b[1;31m---------------------------------------------------------------------------\u001b[0m",
      "\u001b[1;31mTypeError\u001b[0m                                 Traceback (most recent call last)",
      "Cell \u001b[1;32mIn[77], line 1\u001b[0m\n\u001b[1;32m----> 1\u001b[0m \u001b[43mt1\u001b[49m\u001b[43m[\u001b[49m\u001b[38;5;241;43m0\u001b[39;49m\u001b[43m]\u001b[49m \u001b[38;5;241m=\u001b[39m \u001b[38;5;241m6\u001b[39m \u001b[38;5;66;03m# not changeble\u001b[39;00m\n\u001b[0;32m      2\u001b[0m t1 \n",
      "\u001b[1;31mTypeError\u001b[0m: 'tuple' object does not support item assignment"
     ]
    }
   ],
   "source": [
    "t1[0] = 6 # not changeble\n",
    "t1 "
   ]
  },
  {
   "cell_type": "code",
   "execution_count": 78,
   "id": "b19940b0-efb7-4dd9-983e-e26aedb5271d",
   "metadata": {},
   "outputs": [
    {
     "data": {
      "text/plain": [
       "3"
      ]
     },
     "execution_count": 78,
     "metadata": {},
     "output_type": "execute_result"
    }
   ],
   "source": [
    "t1[2] # we can access the tuple, but cannot change it.\n"
   ]
  },
  {
   "cell_type": "code",
   "execution_count": 124,
   "id": "d197801a-8874-4be0-8c39-f9babe8506b4",
   "metadata": {},
   "outputs": [
    {
     "data": {
      "text/plain": [
       "(1, 2.5, 'Arun', (2+7j))"
      ]
     },
     "execution_count": 124,
     "metadata": {},
     "output_type": "execute_result"
    }
   ],
   "source": [
    "t2 = (1,2.5, \"Arun\", 2+7j)\n",
    "t2"
   ]
  },
  {
   "cell_type": "code",
   "execution_count": 130,
   "id": "81010970-0e92-4d9a-a10c-e31ddb7a61a9",
   "metadata": {},
   "outputs": [
    {
     "data": {
      "text/plain": [
       "(1, 2, 3, 'Arun', 4.435, 4435)"
      ]
     },
     "execution_count": 130,
     "metadata": {},
     "output_type": "execute_result"
    }
   ],
   "source": [
    "tup = (1,2,3,\"Arun\",4.435,4435)\n",
    "tup"
   ]
  },
  {
   "cell_type": "code",
   "execution_count": 136,
   "id": "fd106332-3880-4a09-9a98-3cbcc9515b6b",
   "metadata": {},
   "outputs": [
    {
     "data": {
      "text/plain": [
       "3"
      ]
     },
     "execution_count": 136,
     "metadata": {},
     "output_type": "execute_result"
    }
   ],
   "source": [
    "tup.index(\"Arun\") # Just gives the index"
   ]
  },
  {
   "cell_type": "code",
   "execution_count": 135,
   "id": "e9419c6c-aff6-4bce-8c6c-a8187432f831",
   "metadata": {},
   "outputs": [
    {
     "data": {
      "text/plain": [
       "1"
      ]
     },
     "execution_count": 135,
     "metadata": {},
     "output_type": "execute_result"
    }
   ],
   "source": [
    "tup.count(3) # it will give the count of the element present in that tuple."
   ]
  },
  {
   "cell_type": "markdown",
   "id": "0cfd1c9e-dd04-4a8d-9916-11ad746a4cf5",
   "metadata": {},
   "source": [
    "## Set"
   ]
  },
  {
   "cell_type": "code",
   "execution_count": 137,
   "id": "2237c236-ac68-48b5-b3ac-7ea5c6c3986f",
   "metadata": {},
   "outputs": [
    {
     "data": {
      "text/plain": [
       "{1, 2, 3, 4, 5, 6, 7, 8}"
      ]
     },
     "execution_count": 137,
     "metadata": {},
     "output_type": "execute_result"
    }
   ],
   "source": [
    "# Set is a collection of unique elements. It does not allow duplicates.\n",
    "# It is represented using flower brackets {}\n",
    "# Set never follows a sequence.\n",
    "# Indexing is not allowed as it doesn't follows a sequence.\n",
    "# we can add and remove the elements in the set.\n",
    "\n",
    "s = {1,2,2,3,4,5,6,4,5,5,7,8,7}\n",
    "s"
   ]
  },
  {
   "cell_type": "code",
   "execution_count": 138,
   "id": "b4fbbd58-1906-411e-86c3-1a20f1ffc325",
   "metadata": {},
   "outputs": [
    {
     "ename": "TypeError",
     "evalue": "'set' object is not subscriptable",
     "output_type": "error",
     "traceback": [
      "\u001b[1;31m---------------------------------------------------------------------------\u001b[0m",
      "\u001b[1;31mTypeError\u001b[0m                                 Traceback (most recent call last)",
      "Cell \u001b[1;32mIn[138], line 1\u001b[0m\n\u001b[1;32m----> 1\u001b[0m \u001b[43ms\u001b[49m\u001b[43m[\u001b[49m\u001b[38;5;241;43m2\u001b[39;49m\u001b[43m]\u001b[49m\n",
      "\u001b[1;31mTypeError\u001b[0m: 'set' object is not subscriptable"
     ]
    }
   ],
   "source": [
    "s[2]"
   ]
  },
  {
   "cell_type": "code",
   "execution_count": 139,
   "id": "0899fff3-a0ca-4c0b-83c3-a850700350a6",
   "metadata": {},
   "outputs": [
    {
     "name": "stdout",
     "output_type": "stream",
     "text": [
      "Union : {0, 1, 2, 3, 4, 5, 6, 8}\n",
      "Intersection : {2, 4}\n",
      "Difference : {0, 8, 6}\n",
      "Symmetric difference : {0, 1, 3, 5, 6, 8}\n"
     ]
    }
   ],
   "source": [
    "# Program to perform different set operations \n",
    "# as we do in mathematics \n",
    "\n",
    "# sets are define \n",
    "A = {0, 2, 4, 6, 8}; \n",
    "B = {1, 2, 3, 4, 5}; \n",
    "\n",
    "# union \n",
    "print(\"Union :\", A | B) \n",
    "\n",
    "# intersection \n",
    "print(\"Intersection :\", A & B) \n",
    "\n",
    "# difference \n",
    "print(\"Difference :\", A - B) \n",
    "\n",
    "# symmetric difference : It excludes the common elements and print rest of the elements.\n",
    "# A ^ B = (A u B) - (A n B)\n",
    "print(\"Symmetric difference :\", A ^ B) \n"
   ]
  },
  {
   "cell_type": "code",
   "execution_count": 31,
   "id": "3b24cced-dba8-4479-9297-84d7c102ee65",
   "metadata": {},
   "outputs": [
    {
     "name": "stdout",
     "output_type": "stream",
     "text": [
      "Set after adding: {'f', 's', 'k', 'e', 'g'}\n",
      "\n",
      "Set after discarding: {'f', 's', 'k', 'e'}\n",
      "\n",
      "Set after removing: {'f', 's', 'k'}\n",
      "\n",
      "Popped element f\n",
      "Set after popping the element: {'s', 'k'}\n",
      "\n",
      "Set after clearing: set()\n"
     ]
    }
   ],
   "source": [
    "# set of letters\n",
    "s = {'g', 'e', 'k', 's'}\n",
    "\n",
    "# adding 's'\n",
    "s.add('f')\n",
    "print('Set after adding:', s)\n",
    "\n",
    "# Discarding element from the set\n",
    "# The discard method is lenient and quietly ignores the operation if the element does not exist.\n",
    "s.discard('g')\n",
    "print('\\nSet after discarding:', s)\n",
    "\n",
    "# Removing element from the set\n",
    "# The remove method is strict and expects the element to exist in the set; otherwise, it raises an error.\n",
    "s.remove('e')\n",
    "print('\\nSet after removing:', s)\n",
    "\n",
    "# Popping elements from the set\n",
    "# pop method removes the random element in the set.\n",
    "print('\\nPopped element', s.pop())\n",
    "print('Set after popping the element:', s)\n",
    "\n",
    "s.clear()\n",
    "print('\\nSet after clearing:', s)\n"
   ]
  },
  {
   "cell_type": "code",
   "execution_count": 29,
   "id": "b72cb421-5ef1-4a4f-bb0e-84504c349e81",
   "metadata": {},
   "outputs": [
    {
     "name": "stdout",
     "output_type": "stream",
     "text": [
      "{'mango', 'apple', 'pineapple', 'cherry', 'banana', 'papaya'}\n"
     ]
    }
   ],
   "source": [
    "thisset = {\"apple\", \"banana\", \"cherry\"}\n",
    "tropical = {\"pineapple\", \"mango\", \"papaya\"}\n",
    "\n",
    "thisset.update(tropical) # this menthod just concatenate the two sets.\n",
    "\n",
    "print(thisset)\n"
   ]
  },
  {
   "cell_type": "code",
   "execution_count": 30,
   "id": "6cb555ac-46ff-4ecf-8516-5ffd357aad78",
   "metadata": {},
   "outputs": [
    {
     "name": "stdout",
     "output_type": "stream",
     "text": [
      "{'apple', 'kiwi', 'orange', 'banana', 'cherry'}\n"
     ]
    }
   ],
   "source": [
    "# The object in the update() method does not have to be a set, it can be any iterable object (tuples, lists, dictionaries etc.).\n",
    "\n",
    "thisset = {\"apple\", \"banana\", \"cherry\"}\n",
    "mylist = [\"kiwi\", \"orange\"]\n",
    "\n",
    "thisset.update(mylist)\n",
    "\n",
    "print(thisset)"
   ]
  },
  {
   "cell_type": "code",
   "execution_count": 32,
   "id": "91c0e90b-4faf-4e1b-94b3-6557a70695f3",
   "metadata": {},
   "outputs": [
    {
     "data": {
      "text/plain": [
       "{1, 2, 3, 34.34, 4, 4535.556, 5, 5.54, 6, 'Hello', 'People', 'arun', 'kumar'}"
      ]
     },
     "execution_count": 32,
     "metadata": {},
     "output_type": "execute_result"
    }
   ],
   "source": [
    "set1 = {1,2,3,4,\"arun\",\"kumar\",5.54,4535.556}\n",
    "set2 = {3,5,6,6,\"Hello\",\"People\",34.34}\n",
    "\n",
    "set3 = set1.union(set2)\n",
    "set3"
   ]
  },
  {
   "cell_type": "code",
   "execution_count": 34,
   "id": "163e73fb-8556-43a1-885c-fffe3f4757e0",
   "metadata": {},
   "outputs": [
    {
     "data": {
      "text/plain": [
       "{3, 5, 6}"
      ]
     },
     "execution_count": 34,
     "metadata": {},
     "output_type": "execute_result"
    }
   ],
   "source": [
    "set1 = {1,2,3,5,6,4,\"arun\",\"kumar\",5.54,4535.556}\n",
    "set2 = {3,5,6,6,\"Hello\",\"People\",34.34}\n",
    "\n",
    "set3 = set1.intersection(set2)\n",
    "set3"
   ]
  },
  {
   "cell_type": "code",
   "execution_count": 35,
   "id": "2d074869-cfbf-48ea-9a20-7374ac1c3d9c",
   "metadata": {},
   "outputs": [
    {
     "data": {
      "text/plain": [
       "{1, 2, 4, 4535.556, 5.54, 'arun', 'kumar'}"
      ]
     },
     "execution_count": 35,
     "metadata": {},
     "output_type": "execute_result"
    }
   ],
   "source": [
    "set1 = {1,2,3,5,6,4,\"arun\",\"kumar\",5.54,4535.556}\n",
    "set2 = {3,5,6,6,\"Hello\",\"People\",34.34}\n",
    "\n",
    "set3 = set1.difference(set2)\n",
    "set3"
   ]
  },
  {
   "cell_type": "code",
   "execution_count": 36,
   "id": "9256ed95-b5e4-4a66-be0f-500c73e518ed",
   "metadata": {},
   "outputs": [
    {
     "data": {
      "text/plain": [
       "{1, 2, 4, 4535.556, 5.54, 'arun', 'kumar'}"
      ]
     },
     "execution_count": 36,
     "metadata": {},
     "output_type": "execute_result"
    }
   ],
   "source": [
    "# The difference_update() method will also keep the items from the first set that are not in the other set, but it will change the \n",
    "# original set instead of returning a new set.\n",
    "\n",
    "set1 = {1,2,3,5,6,4,\"arun\",\"kumar\",5.54,4535.556}\n",
    "set2 = {3,5,6,6,\"Hello\",\"People\",34.34}\n",
    "\n",
    "set1.difference_update(set2)\n",
    "set3"
   ]
  },
  {
   "cell_type": "code",
   "execution_count": null,
   "id": "48cba0ed-31b5-4dbf-b1bf-1decb6dd94ee",
   "metadata": {},
   "outputs": [],
   "source": []
  },
  {
   "cell_type": "code",
   "execution_count": null,
   "id": "4f5be5c6-3f86-4a28-a3e4-25e87f5c2add",
   "metadata": {},
   "outputs": [],
   "source": []
  },
  {
   "cell_type": "markdown",
   "id": "74a9de35-d2d4-4702-b72e-89d12f4adde1",
   "metadata": {},
   "source": [
    "## Dictionaries"
   ]
  },
  {
   "cell_type": "code",
   "execution_count": 80,
   "id": "b6dab68e-d9d0-4517-af79-0ca45cd4c6e1",
   "metadata": {},
   "outputs": [
    {
     "name": "stdout",
     "output_type": "stream",
     "text": [
      "{1: 'one', 2: 'Two', 3: 'Three'}\n",
      "one\n",
      "Three\n"
     ]
    }
   ],
   "source": [
    "# Here we represent the data in key and value format in flower brackets. {}\n",
    "\n",
    "d1 = {1:\"one\", 2:\"Two\", 3:\"Three\"}\n",
    "print(d1)\n",
    "print(d1[1])\n",
    "print(d1[3])"
   ]
  },
  {
   "cell_type": "code",
   "execution_count": 1,
   "id": "4b372c3f-db8c-45fd-ad55-0630707a20a6",
   "metadata": {},
   "outputs": [
    {
     "data": {
      "text/plain": [
       "{1: 'three', 2: 'two'}"
      ]
     },
     "execution_count": 1,
     "metadata": {},
     "output_type": "execute_result"
    }
   ],
   "source": [
    "# If there are duplicates in the dictionary then, only the latest values are considered\n",
    "\n",
    "d2 = {1: \"one\", 2: \"two\", 1:\"three\"}\n",
    "d2\n",
    "# The dictionary keys haves to be unique, they do not allow duplicates.\n",
    "# We can have same values for different keys, but cannot have same keys for different values"
   ]
  },
  {
   "cell_type": "code",
   "execution_count": 5,
   "id": "ac5894c6-bd35-4829-b019-955d3268a17f",
   "metadata": {},
   "outputs": [],
   "source": [
    "dict1 = {1:\"one\",2:\"two\",3:\"three\",\"name\":\"arun\",}"
   ]
  },
  {
   "cell_type": "code",
   "execution_count": 6,
   "id": "a9d51112-57c3-4878-a280-f4f77cb6ec8f",
   "metadata": {},
   "outputs": [
    {
     "data": {
      "text/plain": [
       "'one'"
      ]
     },
     "execution_count": 6,
     "metadata": {},
     "output_type": "execute_result"
    }
   ],
   "source": [
    "dict1[1]"
   ]
  },
  {
   "cell_type": "code",
   "execution_count": 8,
   "id": "69e3e1ff-4fc8-4361-9486-3e2ade02a853",
   "metadata": {},
   "outputs": [
    {
     "data": {
      "text/plain": [
       "'one'"
      ]
     },
     "execution_count": 8,
     "metadata": {},
     "output_type": "execute_result"
    }
   ],
   "source": [
    "dict1.get(1)"
   ]
  },
  {
   "cell_type": "code",
   "execution_count": 9,
   "id": "26687a70-ef6b-423a-9e83-027b525226a9",
   "metadata": {},
   "outputs": [
    {
     "data": {
      "text/plain": [
       "'No data found'"
      ]
     },
     "execution_count": 9,
     "metadata": {},
     "output_type": "execute_result"
    }
   ],
   "source": [
    "# When we specify a key, if there is a value then it will print a value for that key\n",
    "# if there is no value for a key, then we can customize what to get as an output.\n",
    "\n",
    "dict1.get(4,\"No data found\")"
   ]
  },
  {
   "cell_type": "code",
   "execution_count": 11,
   "id": "c0d5be62-3d7b-4341-b9c5-a79c7cd08fc1",
   "metadata": {},
   "outputs": [],
   "source": [
    "dict1.get(5) # if we do not specify anything, it will remain idle"
   ]
  },
  {
   "cell_type": "code",
   "execution_count": 13,
   "id": "7e5a163c-4282-4f49-bf00-1ce288c12a89",
   "metadata": {},
   "outputs": [
    {
     "data": {
      "text/plain": [
       "'three'"
      ]
     },
     "execution_count": 13,
     "metadata": {},
     "output_type": "execute_result"
    }
   ],
   "source": [
    "dict1.get(3,\"No data found\") # as we have data, we are not getting that backup data."
   ]
  },
  {
   "cell_type": "code",
   "execution_count": 21,
   "id": "516dc365-f47c-4dd3-bc92-31a8007638cf",
   "metadata": {},
   "outputs": [
    {
     "data": {
      "text/plain": [
       "{1: 'Sun', 2: 'Mon', 3: 'Tue', 4: 'Wed', 5: 'Thurs', 6: 'Fri', 7: 'Sat'}"
      ]
     },
     "execution_count": 21,
     "metadata": {},
     "output_type": "execute_result"
    }
   ],
   "source": [
    "'''\n",
    "There is a possibility to create a dectionary with the help of two lists\n",
    "To do that we need to zip them and then by using the dict() function we can convert it into a\n",
    "dictionary as shown below\n",
    "\n",
    "'''\n",
    "\n",
    "keys = [1,2,3,4,5,6,7]\n",
    "values = [\"Sun\",\"Mon\",\"Tue\",\"Wed\",\"Thurs\",\"Fri\",\"Sat\"]\n",
    "\n",
    "# we have weekdays and the associated intergers which signifies that day number.\n",
    "\n",
    "data = dict(zip(keys,values))\n",
    "\n",
    "data"
   ]
  },
  {
   "cell_type": "code",
   "execution_count": 22,
   "id": "757a8034-bfb8-4628-9b45-ef7918086487",
   "metadata": {},
   "outputs": [
    {
     "data": {
      "text/plain": [
       "{1: 'Sun',\n",
       " 2: 'Mon',\n",
       " 3: 'Tue',\n",
       " 4: 'Wed',\n",
       " 5: 'Thurs',\n",
       " 6: 'Fri',\n",
       " 7: 'Sat',\n",
       " '01': 'Jan'}"
      ]
     },
     "execution_count": 22,
     "metadata": {},
     "output_type": "execute_result"
    }
   ],
   "source": [
    "# we can directly add the data like this if it doesn't exist.\n",
    "# But we need to be careful about the key values. They should not be same.\n",
    "\n",
    "data[\"01\"] = \"Jan\"\n",
    "data"
   ]
  },
  {
   "cell_type": "code",
   "execution_count": 23,
   "id": "b7ac9ba2-870a-4bf6-b5d8-d4a2ff029c85",
   "metadata": {},
   "outputs": [
    {
     "data": {
      "text/plain": [
       "{2: 'Mon', 3: 'Tue', 4: 'Wed', 5: 'Thurs', 6: 'Fri', 7: 'Sat', '01': 'Jan'}"
      ]
     },
     "execution_count": 23,
     "metadata": {},
     "output_type": "execute_result"
    }
   ],
   "source": [
    "# to delete, just mention the key.\n",
    "\n",
    "del data[1]\n",
    "data"
   ]
  },
  {
   "cell_type": "code",
   "execution_count": 25,
   "id": "4a0f9fac-6d75-43b5-bcf0-76a2a816b26a",
   "metadata": {},
   "outputs": [
    {
     "data": {
      "text/plain": [
       "{'JS': 'Atom',\n",
       " 'CS': 'VScode',\n",
       " 'Python': ['Pycharm', 'sublime'],\n",
       " 'Java': {'JSE': 'Netbeans', 'JEE': 'Eclipse'}}"
      ]
     },
     "execution_count": 25,
     "metadata": {},
     "output_type": "execute_result"
    }
   ],
   "source": [
    "'''\n",
    "We can have a list in a dictionary and a dictionary in a dictionary. It is absolutely fine.\n",
    "'''\n",
    "# this dictionary just tells, which ide can be used for which languae.\n",
    "prog = {'JS':'Atom','CS':'VScode','Python':['Pycharm','sublime'],'Java':{'JSE':'Netbeans','JEE':'Eclipse'}}\n",
    "prog"
   ]
  },
  {
   "cell_type": "code",
   "execution_count": 34,
   "id": "3acf6e26-0817-4126-8775-2ff63bef980b",
   "metadata": {},
   "outputs": [
    {
     "data": {
      "text/plain": [
       "'Atom'"
      ]
     },
     "execution_count": 34,
     "metadata": {},
     "output_type": "execute_result"
    }
   ],
   "source": [
    "# These are the ways where we can access this dictionary.\n",
    "\n",
    "prog[\"JS\"]"
   ]
  },
  {
   "cell_type": "code",
   "execution_count": 29,
   "id": "3beb5d94-4329-4fcd-8ba1-6a8cddee5d2b",
   "metadata": {},
   "outputs": [
    {
     "data": {
      "text/plain": [
       "'VScode'"
      ]
     },
     "execution_count": 29,
     "metadata": {},
     "output_type": "execute_result"
    }
   ],
   "source": [
    "prog['CS']"
   ]
  },
  {
   "cell_type": "code",
   "execution_count": 30,
   "id": "09082fa6-252c-498a-8d87-9fad5de599b0",
   "metadata": {},
   "outputs": [
    {
     "data": {
      "text/plain": [
       "['Pycharm', 'sublime']"
      ]
     },
     "execution_count": 30,
     "metadata": {},
     "output_type": "execute_result"
    }
   ],
   "source": [
    "prog['Python']"
   ]
  },
  {
   "cell_type": "code",
   "execution_count": 31,
   "id": "68352798-851c-4de3-b32d-9860702c028d",
   "metadata": {},
   "outputs": [
    {
     "data": {
      "text/plain": [
       "'sublime'"
      ]
     },
     "execution_count": 31,
     "metadata": {},
     "output_type": "execute_result"
    }
   ],
   "source": [
    "prog['Python'][1]"
   ]
  },
  {
   "cell_type": "code",
   "execution_count": 32,
   "id": "faf04148-6f4d-4f2d-bab6-d3045eb3a380",
   "metadata": {},
   "outputs": [
    {
     "data": {
      "text/plain": [
       "{'JSE': 'Netbeans', 'JEE': 'Eclipse'}"
      ]
     },
     "execution_count": 32,
     "metadata": {},
     "output_type": "execute_result"
    }
   ],
   "source": [
    "prog['Java']"
   ]
  },
  {
   "cell_type": "code",
   "execution_count": 33,
   "id": "125c9ec7-8a11-4b9b-a2ec-bedd168bf076",
   "metadata": {},
   "outputs": [
    {
     "data": {
      "text/plain": [
       "'Eclipse'"
      ]
     },
     "execution_count": 33,
     "metadata": {},
     "output_type": "execute_result"
    }
   ],
   "source": [
    "prog['Java']['JEE']"
   ]
  },
  {
   "cell_type": "code",
   "execution_count": null,
   "id": "89610cc5-8f80-499d-a488-8864879b4b71",
   "metadata": {},
   "outputs": [],
   "source": []
  },
  {
   "cell_type": "code",
   "execution_count": null,
   "id": "d383131b-b49f-40a8-8ad5-3dcd48466aa7",
   "metadata": {},
   "outputs": [],
   "source": []
  },
  {
   "cell_type": "code",
   "execution_count": null,
   "id": "1c90ff9d-6b1c-427e-bf3b-bfcd8f0881e0",
   "metadata": {},
   "outputs": [],
   "source": []
  },
  {
   "cell_type": "code",
   "execution_count": null,
   "id": "bd558258-414f-4b03-a54a-9f39582697f2",
   "metadata": {},
   "outputs": [],
   "source": []
  },
  {
   "cell_type": "code",
   "execution_count": null,
   "id": "516ee19a-6640-4ad4-ba39-ea43dee5025c",
   "metadata": {},
   "outputs": [],
   "source": []
  },
  {
   "cell_type": "markdown",
   "id": "a904f432-6f9b-4f5f-881e-dd472d8a4c68",
   "metadata": {},
   "source": [
    "# Operators"
   ]
  },
  {
   "cell_type": "markdown",
   "id": "8d78ebe1-4ba8-47f5-8b46-f42518779557",
   "metadata": {},
   "source": [
    "## Arithmetic operators +,-,/,*,//,**"
   ]
  },
  {
   "cell_type": "code",
   "execution_count": 82,
   "id": "e60c3f5c-77a3-4ac4-b945-5f90ea40c964",
   "metadata": {},
   "outputs": [
    {
     "name": "stdin",
     "output_type": "stream",
     "text": [
      "Enter a number:  4\n",
      "Enter a number:  5\n"
     ]
    },
    {
     "name": "stdout",
     "output_type": "stream",
     "text": [
      "Addition: 4 + 5 = 9\n",
      "Subtraction: 4 - 5 = -1\n",
      "Multiplication: 4 * 5 = 20\n",
      "Division: 4 / 5 = 0.8\n",
      "Power: 4 ** 5 = 1024\n",
      "Floor division: 4 // 5 = 0\n"
     ]
    }
   ],
   "source": [
    "n = int(input(\"Enter a number: \"))\n",
    "m = int(input(\"Enter a number: \"))\n",
    "\n",
    "print(f\"Addition: {n} + {m} = {n+m}\")\n",
    "print(f\"Subtraction: {n} - {m} = {n-m}\")\n",
    "print(f\"Multiplication: {n} * {m} = {n*m}\")\n",
    "print(f\"Division: {n} / {m} = {n/m}\")\n",
    "print(f\"Power: {n} ** {m} = {n**m}\")\n",
    "print(f\"Floor division: {n} // {m} = {n//m}\")\n",
    "\n"
   ]
  },
  {
   "cell_type": "code",
   "execution_count": 83,
   "id": "015fb5af-b12b-40fb-b558-5ac839361dd5",
   "metadata": {},
   "outputs": [
    {
     "name": "stdout",
     "output_type": "stream",
     "text": [
      "Arun Kumar.\n"
     ]
    }
   ],
   "source": [
    "s1 = \"Arun \"\n",
    "s2 = \"Kumar.\"\n",
    "\n",
    "s3 = s1+s2\n",
    "print(s3)"
   ]
  },
  {
   "cell_type": "code",
   "execution_count": 84,
   "id": "27c5eccb-40d3-4d1d-9dd7-8b73083ac24f",
   "metadata": {},
   "outputs": [
    {
     "name": "stdout",
     "output_type": "stream",
     "text": [
      "[2, 3, 4, 5, 3, 5, 4, 8, 9]\n"
     ]
    }
   ],
   "source": [
    "l1 = [2,3,4,5]\n",
    "l2 = [3,5,4,8,9]\n",
    "\n",
    "print(l1+l2)\n",
    "# This will not add the two lists, it just appends the lists"
   ]
  },
  {
   "cell_type": "code",
   "execution_count": 85,
   "id": "220d77de-3267-4bf7-91eb-11c16e08e829",
   "metadata": {},
   "outputs": [
    {
     "name": "stdout",
     "output_type": "stream",
     "text": [
      "(1, 2, 3, 4, 5, 'Hello', 'Hyd', 'People')\n"
     ]
    }
   ],
   "source": [
    "t1 = (1,2,3,4,5)\n",
    "t2 = (\"Hello\",\"Hyd\",\"People\")\n",
    "\n",
    "print(t1+t2)"
   ]
  },
  {
   "cell_type": "code",
   "execution_count": 86,
   "id": "d1e08287-1741-464d-a5fc-7fc5e14f888a",
   "metadata": {},
   "outputs": [
    {
     "data": {
      "text/plain": [
       "(2.3+5j)"
      ]
     },
     "execution_count": 86,
     "metadata": {},
     "output_type": "execute_result"
    }
   ],
   "source": [
    "p = 5j\n",
    "q = 2.3\n",
    "\n",
    "p+q"
   ]
  },
  {
   "cell_type": "code",
   "execution_count": 87,
   "id": "097d6a28-df34-4328-8e42-a63bf1cba16c",
   "metadata": {},
   "outputs": [],
   "source": [
    "## We cannot subtract two lists, tuples, strings"
   ]
  },
  {
   "cell_type": "code",
   "execution_count": 88,
   "id": "6dd797d6-b1a8-4f15-9e21-7d51b7fd75b8",
   "metadata": {},
   "outputs": [
    {
     "data": {
      "text/plain": [
       "[2, 3, 4, 5, 2, 3, 4, 5]"
      ]
     },
     "execution_count": 88,
     "metadata": {},
     "output_type": "execute_result"
    }
   ],
   "source": [
    "l1*2\n",
    "# This list multiplication will append the same list in the list with mentioned number of times."
   ]
  },
  {
   "cell_type": "code",
   "execution_count": 89,
   "id": "10279a9f-5d2b-42e3-89e5-195cbd4a70b8",
   "metadata": {},
   "outputs": [
    {
     "data": {
      "text/plain": [
       "(1, 2, 3, 4, 5, 1, 2, 3, 4, 5, 1, 2, 3, 4, 5)"
      ]
     },
     "execution_count": 89,
     "metadata": {},
     "output_type": "execute_result"
    }
   ],
   "source": [
    "t1*3"
   ]
  },
  {
   "cell_type": "code",
   "execution_count": 90,
   "id": "18cc8e58-1776-4521-afe5-9b9091a59ad6",
   "metadata": {},
   "outputs": [],
   "source": [
    "# The result of 22/7 in python 2 is same as 22//7 in python3"
   ]
  },
  {
   "cell_type": "markdown",
   "id": "bdb1331c-6324-4422-a9a3-7d4e87a40ddc",
   "metadata": {},
   "source": [
    "## Relational Operators: >,<,>=,<=,!=,=="
   ]
  },
  {
   "cell_type": "code",
   "execution_count": 91,
   "id": "9cd32586-4b85-47ce-a8b3-5b9fbfd0188b",
   "metadata": {},
   "outputs": [
    {
     "name": "stdout",
     "output_type": "stream",
     "text": [
      "False\n",
      "True\n",
      "False\n",
      "True\n",
      "True\n",
      "False\n"
     ]
    }
   ],
   "source": [
    "\n",
    "\n",
    "print(2>5)\n",
    "print(2<5)\n",
    "print(2>=5)\n",
    "print(2<=5)\n",
    "print(2!=5)\n",
    "print(2==5)\n",
    "\n"
   ]
  },
  {
   "cell_type": "markdown",
   "id": "65f562b6-3f44-4b48-be8a-75e1b713e24a",
   "metadata": {},
   "source": [
    "## Logical Operators: and, or"
   ]
  },
  {
   "cell_type": "code",
   "execution_count": 92,
   "id": "2b327f49-73d2-445f-82e9-19615452d5af",
   "metadata": {},
   "outputs": [
    {
     "name": "stdout",
     "output_type": "stream",
     "text": [
      "False\n",
      "True\n",
      "False\n",
      "True\n",
      "False\n"
     ]
    }
   ],
   "source": [
    "\n",
    "\n",
    "print(12> 5 and 12< 5)\n",
    "print(12>5 or 12<5) # same like c programming, it is not checking the other condition, compile time optimization.\n",
    "\n",
    "# non zero value will be considered as true and zero is considered as false.\n",
    "\n",
    "print(not 12)\n",
    "print(not 0)\n",
    "print(not -12)"
   ]
  },
  {
   "cell_type": "markdown",
   "id": "0cc77410-120e-465b-b31d-f3b8dfc48783",
   "metadata": {},
   "source": [
    "## Bitwise operators: &,|,^,"
   ]
  },
  {
   "cell_type": "code",
   "execution_count": 93,
   "id": "74591d72-6854-4a13-8206-da2222a95461",
   "metadata": {},
   "outputs": [
    {
     "name": "stdout",
     "output_type": "stream",
     "text": [
      "0\n",
      "15\n",
      "15\n",
      "-13\n",
      "12\n",
      "6\n",
      "24\n"
     ]
    },
    {
     "data": {
      "text/plain": [
       "'\\n    ~x = -(x+1)\\n    eg: ~12 = -(12+1) = -13\\n'"
      ]
     },
     "execution_count": 93,
     "metadata": {},
     "output_type": "execute_result"
    }
   ],
   "source": [
    "\n",
    "\n",
    "# 12  = 1100\n",
    "# 3   = 0011\n",
    "\n",
    "print(12&3) # 0000\n",
    "print(12|3) # 1111\n",
    "print(12^3) # 1111\n",
    "print(~12)               \n",
    "print(~-13)\n",
    "\n",
    "print(12>>1) # right shift will divide the number\n",
    "print(12<<1) # left shift will multiply the number\n",
    "'''\n",
    "    ~x = -(x+1)\n",
    "    eg: ~12 = -(12+1) = -13\n",
    "'''"
   ]
  },
  {
   "cell_type": "markdown",
   "id": "1422794b-2273-4807-9980-18600c43d091",
   "metadata": {},
   "source": [
    "## Equality Operator: +=, -=, *=, /="
   ]
  },
  {
   "cell_type": "code",
   "execution_count": 94,
   "id": "dc5fe302-1df4-43bc-9989-78f7c597922b",
   "metadata": {},
   "outputs": [
    {
     "name": "stdout",
     "output_type": "stream",
     "text": [
      "x = 15\n",
      "p = 10\n",
      "z = 90\n",
      "q = 3.0\n"
     ]
    }
   ],
   "source": [
    "x = 10\n",
    "x+=5\n",
    "print(f\"x = {x}\")\n",
    "\n",
    "p = 20\n",
    "p-=10\n",
    "print(f\"p = {p}\")\n",
    "\n",
    "z = 30\n",
    "z*=3\n",
    "print(f\"z = {z}\")\n",
    "\n",
    "q = 15\n",
    "q/=5\n",
    "print(f\"q = {q}\")"
   ]
  },
  {
   "cell_type": "markdown",
   "id": "4c5579f9-fb40-4e0f-84e2-79fec03f2ad2",
   "metadata": {},
   "source": [
    "## Identity operators : is and is not"
   ]
  },
  {
   "cell_type": "code",
   "execution_count": 95,
   "id": "4aa61545-c1c0-48a4-a7ee-66c096c7b6f1",
   "metadata": {},
   "outputs": [
    {
     "name": "stderr",
     "output_type": "stream",
     "text": [
      "<>:3: SyntaxWarning: \"is\" with a literal. Did you mean \"==\"?\n",
      "<>:3: SyntaxWarning: \"is\" with a literal. Did you mean \"==\"?\n",
      "C:\\Users\\bala_arun_kumar\\AppData\\Local\\Temp\\ipykernel_13308\\2811400926.py:3: SyntaxWarning: \"is\" with a literal. Did you mean \"==\"?\n",
      "  10 is 10\n"
     ]
    },
    {
     "data": {
      "text/plain": [
       "True"
      ]
     },
     "execution_count": 95,
     "metadata": {},
     "output_type": "execute_result"
    }
   ],
   "source": [
    "10 is 10"
   ]
  },
  {
   "cell_type": "code",
   "execution_count": 96,
   "id": "7ef1136a-88d1-4b4b-964e-1278ce8a9e83",
   "metadata": {},
   "outputs": [
    {
     "name": "stderr",
     "output_type": "stream",
     "text": [
      "<>:1: SyntaxWarning: \"is\" with a literal. Did you mean \"==\"?\n",
      "<>:1: SyntaxWarning: \"is\" with a literal. Did you mean \"==\"?\n",
      "C:\\Users\\bala_arun_kumar\\AppData\\Local\\Temp\\ipykernel_13308\\2425154922.py:1: SyntaxWarning: \"is\" with a literal. Did you mean \"==\"?\n",
      "  \"Arun\" is \"Arun\"\n"
     ]
    },
    {
     "data": {
      "text/plain": [
       "True"
      ]
     },
     "execution_count": 96,
     "metadata": {},
     "output_type": "execute_result"
    }
   ],
   "source": [
    "\"Arun\" is \"Arun\""
   ]
  },
  {
   "cell_type": "code",
   "execution_count": 97,
   "id": "a3529530-a4fe-4ef2-a81b-b553a6c680f9",
   "metadata": {},
   "outputs": [
    {
     "name": "stderr",
     "output_type": "stream",
     "text": [
      "<>:1: SyntaxWarning: \"is\" with a literal. Did you mean \"==\"?\n",
      "<>:1: SyntaxWarning: \"is\" with a literal. Did you mean \"==\"?\n",
      "C:\\Users\\bala_arun_kumar\\AppData\\Local\\Temp\\ipykernel_13308\\3084269383.py:1: SyntaxWarning: \"is\" with a literal. Did you mean \"==\"?\n",
      "  \"Arun\" is \"kumar\"\n"
     ]
    },
    {
     "data": {
      "text/plain": [
       "False"
      ]
     },
     "execution_count": 97,
     "metadata": {},
     "output_type": "execute_result"
    }
   ],
   "source": [
    "\"Arun\" is \"kumar\""
   ]
  },
  {
   "cell_type": "code",
   "execution_count": 98,
   "id": "762a7114-d553-44a7-91d6-6bb11740006a",
   "metadata": {},
   "outputs": [
    {
     "name": "stderr",
     "output_type": "stream",
     "text": [
      "<>:1: SyntaxWarning: \"is not\" with a literal. Did you mean \"!=\"?\n",
      "<>:1: SyntaxWarning: \"is not\" with a literal. Did you mean \"!=\"?\n",
      "C:\\Users\\bala_arun_kumar\\AppData\\Local\\Temp\\ipykernel_13308\\2388115820.py:1: SyntaxWarning: \"is not\" with a literal. Did you mean \"!=\"?\n",
      "  \"Arun\" is not \"Kumar\"\n"
     ]
    },
    {
     "data": {
      "text/plain": [
       "True"
      ]
     },
     "execution_count": 98,
     "metadata": {},
     "output_type": "execute_result"
    }
   ],
   "source": [
    "\"Arun\" is not \"Kumar\""
   ]
  },
  {
   "cell_type": "code",
   "execution_count": 99,
   "id": "65dfdc01-36be-4d09-b2ba-0fb21a8d33cc",
   "metadata": {},
   "outputs": [],
   "source": [
    "# sizeof() operator does not exist as we are dealing with objects not with variables\n",
    "# We also not have increment and decrement operators\n",
    "# Does not have conditional operators\n",
    "\n",
    "# Here x++ is not possible, but we can do x+=1"
   ]
  },
  {
   "cell_type": "markdown",
   "id": "9627319e-a93a-43af-9b43-a08d1183429a",
   "metadata": {},
   "source": [
    "## Membership operator: in, not in "
   ]
  },
  {
   "cell_type": "code",
   "execution_count": 100,
   "id": "c151d8f4-caa4-4cb3-910d-fb4b58480837",
   "metadata": {},
   "outputs": [
    {
     "data": {
      "text/plain": [
       "False"
      ]
     },
     "execution_count": 100,
     "metadata": {},
     "output_type": "execute_result"
    }
   ],
   "source": [
    "l = [1,2,3,4,5]\n",
    "20 in l"
   ]
  },
  {
   "cell_type": "code",
   "execution_count": 101,
   "id": "d7cdb3bb-7cf5-4609-ab5c-fb03068b9432",
   "metadata": {},
   "outputs": [
    {
     "data": {
      "text/plain": [
       "True"
      ]
     },
     "execution_count": 101,
     "metadata": {},
     "output_type": "execute_result"
    }
   ],
   "source": [
    "20 not in l"
   ]
  },
  {
   "cell_type": "code",
   "execution_count": null,
   "id": "3a2e64d0-f572-4c68-8e8a-fcb65c1a6ec7",
   "metadata": {},
   "outputs": [],
   "source": []
  },
  {
   "cell_type": "code",
   "execution_count": null,
   "id": "20bae5b2-24f2-4897-b6f8-70c1f5aa72c4",
   "metadata": {},
   "outputs": [],
   "source": []
  },
  {
   "cell_type": "code",
   "execution_count": null,
   "id": "f56a5877-8299-4e62-9577-a5373b3a38fe",
   "metadata": {},
   "outputs": [],
   "source": []
  }
 ],
 "metadata": {
  "kernelspec": {
   "display_name": "Python 3 (ipykernel)",
   "language": "python",
   "name": "python3"
  },
  "language_info": {
   "codemirror_mode": {
    "name": "ipython",
    "version": 3
   },
   "file_extension": ".py",
   "mimetype": "text/x-python",
   "name": "python",
   "nbconvert_exporter": "python",
   "pygments_lexer": "ipython3",
   "version": "3.11.9"
  }
 },
 "nbformat": 4,
 "nbformat_minor": 5
}
